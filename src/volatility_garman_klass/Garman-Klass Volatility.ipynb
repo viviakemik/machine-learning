{
 "cells": [
  {
   "cell_type": "code",
   "execution_count": null,
   "metadata": {},
   "outputs": [],
   "source": [
    "#Garman-Klass Volatility Calculation\n",
    "#https://seekingalpha.com/instablog/10632871-rvarb/5466977-garman-klass-volatility-calculation-volatility-analysis-in-python?gclid=Cj0KCQjw4uaUBhC8ARIsANUuDjVPMAcCO8UBVlM66V1yq1t-DD3vTkE5G06hkiIwtw10bdhAoNS3848aAovFEALw_wcB&internal_promotion=true&utm_campaign=14823831578&utm_medium=cpc&utm_source=google&utm_term=129249428616%5Edsa-1455561509464%5E%5E555659366571%5E%5E%5Eg\n",
    "def GK_volatility(df, open_column, low_column, high_column, last_column, window):\n",
    "    GK_list = []\n",
    "    for i in range(window+1, len(df)):\n",
    "        GK_inter_first = 0\n",
    "        GK_inter_secon = 0\n",
    "        for j in range(i - window, i):\n",
    "            GK_inter_first = GK_inter_first + ((np.log(df[high_column].iloc[j]/df[low_column].iloc[j]))**2)/2\n",
    "            GK_inter_secon = GK_inter_secon + (2*np.log(2)-1)*((np.log(df[last_column].iloc[j]/df[last_column].iloc[j-1]))**2)\n",
    "        GK = np.sqrt((GK_inter_first)/window - (GK_inter_secon)/window)\n",
    "        GK_list.append(GK)\n",
    "        \n",
    "    df_GK = pd.DataFrame()\n",
    "    df_GK['date']   = df['date'].iloc[window+1:]\n",
    "    df_GK['GK_'+str(window)+'D'] = GK_list\n",
    "    df_GK = df_GK.reset_index(drop = True)\n",
    "    \n",
    "    return df_GK"
   ]
  }
 ],
 "metadata": {
  "kernelspec": {
   "display_name": "Python 3",
   "language": "python",
   "name": "python3"
  },
  "language_info": {
   "codemirror_mode": {
    "name": "ipython",
    "version": 3
   },
   "file_extension": ".py",
   "mimetype": "text/x-python",
   "name": "python",
   "nbconvert_exporter": "python",
   "pygments_lexer": "ipython3",
   "version": "3.8.5"
  }
 },
 "nbformat": 4,
 "nbformat_minor": 4
}
