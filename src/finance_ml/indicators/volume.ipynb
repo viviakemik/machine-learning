{
 "cells": [
  {
   "cell_type": "code",
   "execution_count": 3,
   "metadata": {},
   "outputs": [
    {
     "ename": "ModuleNotFoundError",
     "evalue": "No module named 'src'",
     "output_type": "error",
     "traceback": [
      "\u001b[1;31m---------------------------------------------------------------------------\u001b[0m",
      "\u001b[1;31mModuleNotFoundError\u001b[0m                       Traceback (most recent call last)",
      "\u001b[1;32mc:\\Users\\aayya\\Desktop\\Machine Learning in Finance\\ML-in-Finance\\src\\finance_ml\\indicators\\volume.ipynb Cell 1\u001b[0m line \u001b[0;36m8\n\u001b[0;32m      <a href='vscode-notebook-cell:/c%3A/Users/aayya/Desktop/Machine%20Learning%20in%20Finance/ML-in-Finance/src/finance_ml/indicators/volume.ipynb#W0sZmlsZQ%3D%3D?line=4'>5</a>\u001b[0m \u001b[39mfrom\u001b[39;00m \u001b[39mIPython\u001b[39;00m\u001b[39m.\u001b[39;00m\u001b[39mdisplay\u001b[39;00m \u001b[39mimport\u001b[39;00m display, Math, Latex\n\u001b[0;32m      <a href='vscode-notebook-cell:/c%3A/Users/aayya/Desktop/Machine%20Learning%20in%20Finance/ML-in-Finance/src/finance_ml/indicators/volume.ipynb#W0sZmlsZQ%3D%3D?line=6'>7</a>\u001b[0m \u001b[39m# From data_preparation classes\u001b[39;00m\n\u001b[1;32m----> <a href='vscode-notebook-cell:/c%3A/Users/aayya/Desktop/Machine%20Learning%20in%20Finance/ML-in-Finance/src/finance_ml/indicators/volume.ipynb#W0sZmlsZQ%3D%3D?line=7'>8</a>\u001b[0m \u001b[39mfrom\u001b[39;00m \u001b[39msrc\u001b[39;00m\u001b[39m.\u001b[39;00m\u001b[39mfinance_ml\u001b[39;00m\u001b[39m.\u001b[39;00m\u001b[39mdata_preparation\u001b[39;00m\u001b[39m.\u001b[39;00m\u001b[39mdata_preparation\u001b[39;00m \u001b[39mimport\u001b[39;00m DataLoader\n\u001b[0;32m     <a href='vscode-notebook-cell:/c%3A/Users/aayya/Desktop/Machine%20Learning%20in%20Finance/ML-in-Finance/src/finance_ml/indicators/volume.ipynb#W0sZmlsZQ%3D%3D?line=9'>10</a>\u001b[0m \u001b[39mfrom\u001b[39;00m \u001b[39msrc\u001b[39;00m\u001b[39m.\u001b[39;00m\u001b[39mfinance_ml\u001b[39;00m\u001b[39m.\u001b[39;00m\u001b[39mindicators\u001b[39;00m\u001b[39m.\u001b[39;00m\u001b[39mindicators\u001b[39;00m \u001b[39mimport\u001b[39;00m Indicators\n",
      "\u001b[1;31mModuleNotFoundError\u001b[0m: No module named 'src'"
     ]
    }
   ],
   "source": [
    "import sys\n",
    "import importlib\n",
    "sys.path.append('../')\n",
    "\n",
    "from IPython.display import display, Math, Latex\n",
    "\n",
    "# From data_preparation classes\n",
    "from src.finance_ml.data_preparation.data_preparation import DataLoader\n",
    "\n",
    "from src.finance_ml.indicators.indicators import Indicators"
   ]
  }
 ],
 "metadata": {
  "kernelspec": {
   "display_name": "Python 3",
   "language": "python",
   "name": "python3"
  },
  "language_info": {
   "codemirror_mode": {
    "name": "ipython",
    "version": 3
   },
   "file_extension": ".py",
   "mimetype": "text/x-python",
   "name": "python",
   "nbconvert_exporter": "python",
   "pygments_lexer": "ipython3",
   "version": "3.10.9"
  }
 },
 "nbformat": 4,
 "nbformat_minor": 2
}
