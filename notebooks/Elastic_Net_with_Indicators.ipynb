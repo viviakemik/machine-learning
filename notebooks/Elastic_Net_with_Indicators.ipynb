{
 "cells": [
  {
   "cell_type": "markdown",
   "metadata": {},
   "source": [
    "### Implementation of Elastic Net with Indicators"
   ]
  },
  {
   "cell_type": "markdown",
   "metadata": {},
   "source": [
    "### Importing the Libraries"
   ]
  },
  {
   "cell_type": "code",
   "execution_count": 1,
   "metadata": {
    "id": "U4hnNb9HU5Gv"
   },
   "outputs": [],
   "source": [
    "import sys\n",
    "sys.path.append('../')\n",
    "\n",
    "import pandas as pd\n",
    "import numpy as np\n",
    "import matplotlib.pyplot as plt\n",
    "from sklearn.datasets import make_regression\n",
    "from sklearn.model_selection import train_test_split\n",
    "from sklearn.linear_model import ElasticNet\n",
    "from sklearn.metrics import mean_squared_error\n",
    "from sklearn.metrics import mean_absolute_error\n",
    "from sklearn.preprocessing import StandardScaler\n",
    "from sklearn.model_selection import GridSearchCV\n",
    "from src.finance_ml.indicators.indicators import Indicators\n",
    "from src.finance_ml.Elastic_Net_with_Indicators.Elastic_Net_with_Indicators import ElasticNetModel\n"
   ]
  },
  {
   "cell_type": "markdown",
   "metadata": {},
   "source": [
    "### Data Collection and Pre-Processing"
   ]
  },
  {
   "cell_type": "code",
   "execution_count": 2,
   "metadata": {
    "id": "AR5CnEBKb8Ss"
   },
   "outputs": [
    {
     "name": "stdout",
     "output_type": "stream",
     "text": [
      "../data/real_estate/KBWY_2020-04-07_2022-04-06.parquet\n"
     ]
    }
   ],
   "source": [
    "data_file = '../data/real_estate/KBWY_2020-04-07_2022-04-06.parquet'\n",
    "model = ElasticNetModel(data_file)\n",
    "model.load_data()"
   ]
  },
  {
   "cell_type": "code",
   "execution_count": 3,
   "metadata": {},
   "outputs": [
    {
     "data": {
      "text/html": [
       "<div>\n",
       "<style scoped>\n",
       "    .dataframe tbody tr th:only-of-type {\n",
       "        vertical-align: middle;\n",
       "    }\n",
       "\n",
       "    .dataframe tbody tr th {\n",
       "        vertical-align: top;\n",
       "    }\n",
       "\n",
       "    .dataframe thead th {\n",
       "        text-align: right;\n",
       "    }\n",
       "</style>\n",
       "<table border=\"1\" class=\"dataframe\">\n",
       "  <thead>\n",
       "    <tr style=\"text-align: right;\">\n",
       "      <th></th>\n",
       "      <th>VOLUME</th>\n",
       "      <th>VW</th>\n",
       "      <th>OPEN</th>\n",
       "      <th>CLOSE</th>\n",
       "      <th>HIGHT</th>\n",
       "      <th>LOW</th>\n",
       "      <th>t</th>\n",
       "      <th>TRANSACTIONS</th>\n",
       "      <th>a</th>\n",
       "      <th>op</th>\n",
       "      <th>DATE</th>\n",
       "    </tr>\n",
       "  </thead>\n",
       "  <tbody>\n",
       "    <tr>\n",
       "      <th>0</th>\n",
       "      <td>101</td>\n",
       "      <td>15.9531</td>\n",
       "      <td>15.9531</td>\n",
       "      <td>15.9531</td>\n",
       "      <td>15.9531</td>\n",
       "      <td>15.9531</td>\n",
       "      <td>1586283720000</td>\n",
       "      <td>2</td>\n",
       "      <td>NaN</td>\n",
       "      <td>NaN</td>\n",
       "      <td>2020-04-07 18:22:00</td>\n",
       "    </tr>\n",
       "    <tr>\n",
       "      <th>1</th>\n",
       "      <td>642</td>\n",
       "      <td>15.9981</td>\n",
       "      <td>16.0000</td>\n",
       "      <td>15.9950</td>\n",
       "      <td>16.0000</td>\n",
       "      <td>15.9950</td>\n",
       "      <td>1586283840000</td>\n",
       "      <td>3</td>\n",
       "      <td>NaN</td>\n",
       "      <td>NaN</td>\n",
       "      <td>2020-04-07 18:24:00</td>\n",
       "    </tr>\n",
       "    <tr>\n",
       "      <th>2</th>\n",
       "      <td>200</td>\n",
       "      <td>16.0150</td>\n",
       "      <td>16.0150</td>\n",
       "      <td>16.0150</td>\n",
       "      <td>16.0150</td>\n",
       "      <td>16.0150</td>\n",
       "      <td>1586283900000</td>\n",
       "      <td>1</td>\n",
       "      <td>NaN</td>\n",
       "      <td>NaN</td>\n",
       "      <td>2020-04-07 18:25:00</td>\n",
       "    </tr>\n",
       "    <tr>\n",
       "      <th>3</th>\n",
       "      <td>200</td>\n",
       "      <td>16.0393</td>\n",
       "      <td>16.0400</td>\n",
       "      <td>16.0400</td>\n",
       "      <td>16.0400</td>\n",
       "      <td>16.0400</td>\n",
       "      <td>1586284020000</td>\n",
       "      <td>2</td>\n",
       "      <td>NaN</td>\n",
       "      <td>NaN</td>\n",
       "      <td>2020-04-07 18:27:00</td>\n",
       "    </tr>\n",
       "    <tr>\n",
       "      <th>4</th>\n",
       "      <td>130</td>\n",
       "      <td>16.0582</td>\n",
       "      <td>16.0606</td>\n",
       "      <td>16.0606</td>\n",
       "      <td>16.0606</td>\n",
       "      <td>16.0606</td>\n",
       "      <td>1586284080000</td>\n",
       "      <td>3</td>\n",
       "      <td>NaN</td>\n",
       "      <td>NaN</td>\n",
       "      <td>2020-04-07 18:28:00</td>\n",
       "    </tr>\n",
       "  </tbody>\n",
       "</table>\n",
       "</div>"
      ],
      "text/plain": [
       "   VOLUME       VW     OPEN    CLOSE    HIGHT      LOW              t  \\\n",
       "0     101  15.9531  15.9531  15.9531  15.9531  15.9531  1586283720000   \n",
       "1     642  15.9981  16.0000  15.9950  16.0000  15.9950  1586283840000   \n",
       "2     200  16.0150  16.0150  16.0150  16.0150  16.0150  1586283900000   \n",
       "3     200  16.0393  16.0400  16.0400  16.0400  16.0400  1586284020000   \n",
       "4     130  16.0582  16.0606  16.0606  16.0606  16.0606  1586284080000   \n",
       "\n",
       "   TRANSACTIONS   a  op                DATE  \n",
       "0             2 NaN NaN 2020-04-07 18:22:00  \n",
       "1             3 NaN NaN 2020-04-07 18:24:00  \n",
       "2             1 NaN NaN 2020-04-07 18:25:00  \n",
       "3             2 NaN NaN 2020-04-07 18:27:00  \n",
       "4             3 NaN NaN 2020-04-07 18:28:00  "
      ]
     },
     "execution_count": 3,
     "metadata": {},
     "output_type": "execute_result"
    }
   ],
   "source": [
    "model.df.head()"
   ]
  },
  {
   "cell_type": "markdown",
   "metadata": {},
   "source": [
    "### Cleaning Data"
   ]
  },
  {
   "cell_type": "code",
   "execution_count": 4,
   "metadata": {
    "id": "PWN8oOj9wa5C"
   },
   "outputs": [],
   "source": [
    "#dropping unnecessary columns and handling missing values\n",
    "\n",
    "model.clean_data()"
   ]
  },
  {
   "cell_type": "markdown",
   "metadata": {},
   "source": [
    "### Implementing Indicators "
   ]
  },
  {
   "cell_type": "code",
   "execution_count": 5,
   "metadata": {},
   "outputs": [
    {
     "data": {
      "text/html": [
       "<div>\n",
       "<style scoped>\n",
       "    .dataframe tbody tr th:only-of-type {\n",
       "        vertical-align: middle;\n",
       "    }\n",
       "\n",
       "    .dataframe tbody tr th {\n",
       "        vertical-align: top;\n",
       "    }\n",
       "\n",
       "    .dataframe thead th {\n",
       "        text-align: right;\n",
       "    }\n",
       "</style>\n",
       "<table border=\"1\" class=\"dataframe\">\n",
       "  <thead>\n",
       "    <tr style=\"text-align: right;\">\n",
       "      <th></th>\n",
       "      <th>VOLUME</th>\n",
       "      <th>VW</th>\n",
       "      <th>OPEN</th>\n",
       "      <th>CLOSE</th>\n",
       "      <th>HIGHT</th>\n",
       "      <th>LOW</th>\n",
       "      <th>t</th>\n",
       "      <th>TRANSACTIONS</th>\n",
       "      <th>a</th>\n",
       "      <th>op</th>\n",
       "      <th>MFI_w14</th>\n",
       "      <th>VWAP_w14</th>\n",
       "    </tr>\n",
       "  </thead>\n",
       "  <tbody>\n",
       "    <tr>\n",
       "      <th>75596</th>\n",
       "      <td>243</td>\n",
       "      <td>25.1100</td>\n",
       "      <td>25.11</td>\n",
       "      <td>25.11</td>\n",
       "      <td>25.11</td>\n",
       "      <td>25.110</td>\n",
       "      <td>1649274780000</td>\n",
       "      <td>4</td>\n",
       "      <td>25.0225</td>\n",
       "      <td>24.95</td>\n",
       "      <td>71.831921</td>\n",
       "      <td>25.096402</td>\n",
       "    </tr>\n",
       "    <tr>\n",
       "      <th>75597</th>\n",
       "      <td>614</td>\n",
       "      <td>25.0935</td>\n",
       "      <td>25.10</td>\n",
       "      <td>25.09</td>\n",
       "      <td>25.10</td>\n",
       "      <td>25.090</td>\n",
       "      <td>1649274840000</td>\n",
       "      <td>8</td>\n",
       "      <td>25.0229</td>\n",
       "      <td>24.95</td>\n",
       "      <td>54.571254</td>\n",
       "      <td>25.099799</td>\n",
       "    </tr>\n",
       "    <tr>\n",
       "      <th>75598</th>\n",
       "      <td>206</td>\n",
       "      <td>25.1000</td>\n",
       "      <td>25.10</td>\n",
       "      <td>25.10</td>\n",
       "      <td>25.10</td>\n",
       "      <td>25.100</td>\n",
       "      <td>1649275020000</td>\n",
       "      <td>3</td>\n",
       "      <td>25.0230</td>\n",
       "      <td>24.95</td>\n",
       "      <td>54.631210</td>\n",
       "      <td>25.100296</td>\n",
       "    </tr>\n",
       "    <tr>\n",
       "      <th>75599</th>\n",
       "      <td>202</td>\n",
       "      <td>25.1100</td>\n",
       "      <td>25.11</td>\n",
       "      <td>25.11</td>\n",
       "      <td>25.11</td>\n",
       "      <td>25.110</td>\n",
       "      <td>1649275080000</td>\n",
       "      <td>3</td>\n",
       "      <td>25.0232</td>\n",
       "      <td>24.95</td>\n",
       "      <td>56.514163</td>\n",
       "      <td>25.112274</td>\n",
       "    </tr>\n",
       "    <tr>\n",
       "      <th>75600</th>\n",
       "      <td>1025</td>\n",
       "      <td>25.0981</td>\n",
       "      <td>25.10</td>\n",
       "      <td>25.10</td>\n",
       "      <td>25.10</td>\n",
       "      <td>25.095</td>\n",
       "      <td>1649275140000</td>\n",
       "      <td>12</td>\n",
       "      <td>25.0239</td>\n",
       "      <td>24.95</td>\n",
       "      <td>47.532446</td>\n",
       "      <td>25.110645</td>\n",
       "    </tr>\n",
       "  </tbody>\n",
       "</table>\n",
       "</div>"
      ],
      "text/plain": [
       "       VOLUME       VW   OPEN  CLOSE  HIGHT     LOW              t  \\\n",
       "75596     243  25.1100  25.11  25.11  25.11  25.110  1649274780000   \n",
       "75597     614  25.0935  25.10  25.09  25.10  25.090  1649274840000   \n",
       "75598     206  25.1000  25.10  25.10  25.10  25.100  1649275020000   \n",
       "75599     202  25.1100  25.11  25.11  25.11  25.110  1649275080000   \n",
       "75600    1025  25.0981  25.10  25.10  25.10  25.095  1649275140000   \n",
       "\n",
       "       TRANSACTIONS        a     op    MFI_w14   VWAP_w14  \n",
       "75596             4  25.0225  24.95  71.831921  25.096402  \n",
       "75597             8  25.0229  24.95  54.571254  25.099799  \n",
       "75598             3  25.0230  24.95  54.631210  25.100296  \n",
       "75599             3  25.0232  24.95  56.514163  25.112274  \n",
       "75600            12  25.0239  24.95  47.532446  25.110645  "
      ]
     },
     "execution_count": 5,
     "metadata": {},
     "output_type": "execute_result"
    }
   ],
   "source": [
    "#implementing financial indicators VWAP and MFI\n",
    "\n",
    "model.implement_indicators()\n",
    "model.df.tail()"
   ]
  },
  {
   "cell_type": "markdown",
   "metadata": {},
   "source": [
    "### Splitting Data "
   ]
  },
  {
   "cell_type": "code",
   "execution_count": 6,
   "metadata": {
    "id": "vNIVyyToqm71"
   },
   "outputs": [],
   "source": [
    "#Spliting the Data to Train and Test Dataset\n",
    "\n",
    "model.split_data()"
   ]
  },
  {
   "cell_type": "markdown",
   "metadata": {},
   "source": [
    "### Training ElasticNet Model"
   ]
  },
  {
   "cell_type": "code",
   "execution_count": 7,
   "metadata": {
    "colab": {
     "base_uri": "https://localhost:8080/",
     "height": 74
    },
    "id": "OhhUIDQ8t_mt",
    "outputId": "bf000646-6b99-4192-ef34-bd8fc05b4f3b"
   },
   "outputs": [
    {
     "name": "stderr",
     "output_type": "stream",
     "text": [
      "C:\\Users\\Aishwarya\\anaconda3\\lib\\site-packages\\sklearn\\linear_model\\_coordinate_descent.py:647: ConvergenceWarning: Objective did not converge. You might want to increase the number of iterations, check the scale of the features or consider increasing regularisation. Duality gap: 3.069e+03, tolerance: 3.462e+01\n",
      "  model = cd_fast.enet_coordinate_descent(\n"
     ]
    }
   ],
   "source": [
    "#Training the ElasticNet model\n",
    "\n",
    "model.train_model()"
   ]
  },
  {
   "cell_type": "markdown",
   "metadata": {},
   "source": [
    "### Model Evaluation"
   ]
  },
  {
   "cell_type": "code",
   "execution_count": 8,
   "metadata": {
    "id": "fHo8UqOizrA7"
   },
   "outputs": [
    {
     "name": "stdout",
     "output_type": "stream",
     "text": [
      "Evaluation for ElasticNet Model:\n",
      "Mean Squared Error: 0.0034470977384089526\n",
      "Mean Absolute Error: 0.04099734691021624\n",
      "Root Mean Squared Error: 0.058711989733008986\n"
     ]
    }
   ],
   "source": [
    "#Evaluating the performance of the prediction made by ElasticNet model using Performance Metrics such as \n",
    "#Mean Squared Error (MSE)\n",
    "#Mean Absolute Error (MAE)\n",
    "#Root Mean Squared Error (RMSE)\n",
    "\n",
    "mse, mae, rmse = model.evaluate_model()\n",
    "print(\"Evaluation for ElasticNet Model:\")\n",
    "print(\"Mean Squared Error:\", mse)\n",
    "print(\"Mean Absolute Error:\", mae)\n",
    "print(\"Root Mean Squared Error:\", rmse)"
   ]
  },
  {
   "cell_type": "markdown",
   "metadata": {},
   "source": [
    "### Evaluation for best estimation hyperparameters"
   ]
  },
  {
   "cell_type": "code",
   "execution_count": 9,
   "metadata": {
    "colab": {
     "base_uri": "https://localhost:8080/",
     "height": 74
    },
    "id": "103eU_IMAxLQ",
    "outputId": "2cdec91a-ac13-4a6c-a141-3be22e98fd3c"
   },
   "outputs": [
    {
     "name": "stdout",
     "output_type": "stream",
     "text": [
      "Evaluation for best estimation hyperparameters:\n",
      "Mean Squared Error: 0.0015490203538015492\n",
      "Mean Absolute Error: 0.021131218458073205\n",
      "Root Mean Squared Error: 0.03935759588442299\n",
      "Best Estimator: ElasticNet(alpha=0.1, l1_ratio=0.1)\n"
     ]
    },
    {
     "name": "stderr",
     "output_type": "stream",
     "text": [
      "C:\\Users\\Aishwarya\\anaconda3\\lib\\site-packages\\sklearn\\linear_model\\_coordinate_descent.py:647: ConvergenceWarning: Objective did not converge. You might want to increase the number of iterations, check the scale of the features or consider increasing regularisation. Duality gap: 1.100e+03, tolerance: 3.462e+01\n",
      "  model = cd_fast.enet_coordinate_descent(\n"
     ]
    }
   ],
   "source": [
    "#We evaluate for the best estimation hyperparameters using Grid Search approach.\n",
    "#for the comparison\n",
    "\n",
    "mse, mae, rmse, best_estimator = model.hyperparameter_tuning()\n",
    "print(\"Evaluation for best estimation hyperparameters:\")\n",
    "print(\"Mean Squared Error:\", mse)\n",
    "print(\"Mean Absolute Error:\", mae)\n",
    "print(\"Root Mean Squared Error:\", rmse)\n",
    "print(\"Best Estimator:\", best_estimator)"
   ]
  },
  {
   "cell_type": "markdown",
   "metadata": {},
   "source": [
    "### We can derive that the model performs well for alpha=0.1 and l1_ratio=0.1"
   ]
  }
 ],
 "metadata": {
  "colab": {
   "provenance": []
  },
  "kernelspec": {
   "display_name": "Python 3 (ipykernel)",
   "language": "python",
   "name": "python3"
  },
  "language_info": {
   "codemirror_mode": {
    "name": "ipython",
    "version": 3
   },
   "file_extension": ".py",
   "mimetype": "text/x-python",
   "name": "python",
   "nbconvert_exporter": "python",
   "pygments_lexer": "ipython3",
   "version": "3.9.13"
  }
 },
 "nbformat": 4,
 "nbformat_minor": 1
}
