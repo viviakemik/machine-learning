{
 "cells": [
  {
   "cell_type": "markdown",
   "metadata": {},
   "source": [
    "### Implementation of Elastic Net with Indicators"
   ]
  },
  {
   "cell_type": "markdown",
   "metadata": {},
   "source": [
    "### Importing the Libraries"
   ]
  },
  {
   "cell_type": "code",
   "execution_count": 50,
   "metadata": {
    "id": "U4hnNb9HU5Gv"
   },
   "outputs": [],
   "source": [
    "import pandas as pd\n",
    "import numpy as np\n",
    "import matplotlib.pyplot as plt\n",
    "from sklearn.datasets import make_regression\n",
    "from sklearn.model_selection import train_test_split\n",
    "from sklearn.linear_model import ElasticNet\n",
    "from sklearn.metrics import mean_squared_error\n",
    "from sklearn.metrics import mean_absolute_error\n",
    "from sklearn.preprocessing import StandardScaler\n",
    "from sklearn.model_selection import GridSearchCV\n",
    "from indicators import Indicators"
   ]
  },
  {
   "cell_type": "markdown",
   "metadata": {},
   "source": [
    "### Data Collection and Pre-Processing"
   ]
  },
  {
   "cell_type": "code",
   "execution_count": 51,
   "metadata": {
    "id": "AR5CnEBKb8Ss"
   },
   "outputs": [],
   "source": [
    "df = pd.read_parquet('KBWY_2020-04-07_2022-04-06.parquet')"
   ]
  },
  {
   "cell_type": "code",
   "execution_count": 52,
   "metadata": {
    "colab": {
     "base_uri": "https://localhost:8080/"
    },
    "id": "J5vsmDD9cLpZ",
    "outputId": "1a6847f2-4542-4056-f3ce-f438913a2723"
   },
   "outputs": [
    {
     "data": {
      "text/plain": [
       "(75601, 11)"
      ]
     },
     "execution_count": 52,
     "metadata": {},
     "output_type": "execute_result"
    }
   ],
   "source": [
    "df.shape"
   ]
  },
  {
   "cell_type": "code",
   "execution_count": 53,
   "metadata": {
    "colab": {
     "base_uri": "https://localhost:8080/",
     "height": 206
    },
    "id": "DEPTDVQWcqNp",
    "outputId": "deb56bc6-1702-459d-faf0-04413b5142a3",
    "scrolled": true
   },
   "outputs": [
    {
     "data": {
      "text/html": [
       "<div>\n",
       "<style scoped>\n",
       "    .dataframe tbody tr th:only-of-type {\n",
       "        vertical-align: middle;\n",
       "    }\n",
       "\n",
       "    .dataframe tbody tr th {\n",
       "        vertical-align: top;\n",
       "    }\n",
       "\n",
       "    .dataframe thead th {\n",
       "        text-align: right;\n",
       "    }\n",
       "</style>\n",
       "<table border=\"1\" class=\"dataframe\">\n",
       "  <thead>\n",
       "    <tr style=\"text-align: right;\">\n",
       "      <th></th>\n",
       "      <th>VOLUME</th>\n",
       "      <th>VW</th>\n",
       "      <th>OPEN</th>\n",
       "      <th>CLOSE</th>\n",
       "      <th>HIGHT</th>\n",
       "      <th>LOW</th>\n",
       "      <th>t</th>\n",
       "      <th>TRANSACTIONS</th>\n",
       "      <th>a</th>\n",
       "      <th>op</th>\n",
       "      <th>DATE</th>\n",
       "    </tr>\n",
       "  </thead>\n",
       "  <tbody>\n",
       "    <tr>\n",
       "      <th>0</th>\n",
       "      <td>101</td>\n",
       "      <td>15.9531</td>\n",
       "      <td>15.9531</td>\n",
       "      <td>15.9531</td>\n",
       "      <td>15.9531</td>\n",
       "      <td>15.9531</td>\n",
       "      <td>1586283720000</td>\n",
       "      <td>2</td>\n",
       "      <td>NaN</td>\n",
       "      <td>NaN</td>\n",
       "      <td>2020-04-07 18:22:00</td>\n",
       "    </tr>\n",
       "    <tr>\n",
       "      <th>1</th>\n",
       "      <td>642</td>\n",
       "      <td>15.9981</td>\n",
       "      <td>16.0000</td>\n",
       "      <td>15.9950</td>\n",
       "      <td>16.0000</td>\n",
       "      <td>15.9950</td>\n",
       "      <td>1586283840000</td>\n",
       "      <td>3</td>\n",
       "      <td>NaN</td>\n",
       "      <td>NaN</td>\n",
       "      <td>2020-04-07 18:24:00</td>\n",
       "    </tr>\n",
       "    <tr>\n",
       "      <th>2</th>\n",
       "      <td>200</td>\n",
       "      <td>16.0150</td>\n",
       "      <td>16.0150</td>\n",
       "      <td>16.0150</td>\n",
       "      <td>16.0150</td>\n",
       "      <td>16.0150</td>\n",
       "      <td>1586283900000</td>\n",
       "      <td>1</td>\n",
       "      <td>NaN</td>\n",
       "      <td>NaN</td>\n",
       "      <td>2020-04-07 18:25:00</td>\n",
       "    </tr>\n",
       "    <tr>\n",
       "      <th>3</th>\n",
       "      <td>200</td>\n",
       "      <td>16.0393</td>\n",
       "      <td>16.0400</td>\n",
       "      <td>16.0400</td>\n",
       "      <td>16.0400</td>\n",
       "      <td>16.0400</td>\n",
       "      <td>1586284020000</td>\n",
       "      <td>2</td>\n",
       "      <td>NaN</td>\n",
       "      <td>NaN</td>\n",
       "      <td>2020-04-07 18:27:00</td>\n",
       "    </tr>\n",
       "    <tr>\n",
       "      <th>4</th>\n",
       "      <td>130</td>\n",
       "      <td>16.0582</td>\n",
       "      <td>16.0606</td>\n",
       "      <td>16.0606</td>\n",
       "      <td>16.0606</td>\n",
       "      <td>16.0606</td>\n",
       "      <td>1586284080000</td>\n",
       "      <td>3</td>\n",
       "      <td>NaN</td>\n",
       "      <td>NaN</td>\n",
       "      <td>2020-04-07 18:28:00</td>\n",
       "    </tr>\n",
       "  </tbody>\n",
       "</table>\n",
       "</div>"
      ],
      "text/plain": [
       "   VOLUME       VW     OPEN    CLOSE    HIGHT      LOW              t  \\\n",
       "0     101  15.9531  15.9531  15.9531  15.9531  15.9531  1586283720000   \n",
       "1     642  15.9981  16.0000  15.9950  16.0000  15.9950  1586283840000   \n",
       "2     200  16.0150  16.0150  16.0150  16.0150  16.0150  1586283900000   \n",
       "3     200  16.0393  16.0400  16.0400  16.0400  16.0400  1586284020000   \n",
       "4     130  16.0582  16.0606  16.0606  16.0606  16.0606  1586284080000   \n",
       "\n",
       "   TRANSACTIONS   a  op                DATE  \n",
       "0             2 NaN NaN 2020-04-07 18:22:00  \n",
       "1             3 NaN NaN 2020-04-07 18:24:00  \n",
       "2             1 NaN NaN 2020-04-07 18:25:00  \n",
       "3             2 NaN NaN 2020-04-07 18:27:00  \n",
       "4             3 NaN NaN 2020-04-07 18:28:00  "
      ]
     },
     "execution_count": 53,
     "metadata": {},
     "output_type": "execute_result"
    }
   ],
   "source": [
    "df.head()"
   ]
  },
  {
   "cell_type": "markdown",
   "metadata": {},
   "source": [
    "### Cleaning Data"
   ]
  },
  {
   "cell_type": "code",
   "execution_count": 54,
   "metadata": {
    "id": "PWN8oOj9wa5C"
   },
   "outputs": [],
   "source": [
    "df.drop('DATE', axis=1, inplace = True)"
   ]
  },
  {
   "cell_type": "code",
   "execution_count": 55,
   "metadata": {
    "id": "3AisRqYpu6h8"
   },
   "outputs": [],
   "source": [
    "df2 = df.fillna(0)"
   ]
  },
  {
   "cell_type": "markdown",
   "metadata": {},
   "source": [
    "### Implementing Indicators "
   ]
  },
  {
   "cell_type": "code",
   "execution_count": 56,
   "metadata": {},
   "outputs": [],
   "source": [
    "# Process data normalization\n",
    "norm_data = True"
   ]
  },
  {
   "cell_type": "code",
   "execution_count": 57,
   "metadata": {},
   "outputs": [],
   "source": [
    "# Select Indicator transformer\n",
    "ind = Indicators(ticker = '', norm_data = True, calc_all = False, list_ind = [\"VWAP\",\"MFI\"])"
   ]
  },
  {
   "cell_type": "code",
   "execution_count": 58,
   "metadata": {},
   "outputs": [],
   "source": [
    "# Calculate Indicators over input dataframe\n",
    "df2 = ind.fit_transform(df2)"
   ]
  },
  {
   "cell_type": "code",
   "execution_count": 59,
   "metadata": {},
   "outputs": [
    {
     "data": {
      "text/html": [
       "<div>\n",
       "<style scoped>\n",
       "    .dataframe tbody tr th:only-of-type {\n",
       "        vertical-align: middle;\n",
       "    }\n",
       "\n",
       "    .dataframe tbody tr th {\n",
       "        vertical-align: top;\n",
       "    }\n",
       "\n",
       "    .dataframe thead th {\n",
       "        text-align: right;\n",
       "    }\n",
       "</style>\n",
       "<table border=\"1\" class=\"dataframe\">\n",
       "  <thead>\n",
       "    <tr style=\"text-align: right;\">\n",
       "      <th></th>\n",
       "      <th>VOLUME</th>\n",
       "      <th>VW</th>\n",
       "      <th>OPEN</th>\n",
       "      <th>CLOSE</th>\n",
       "      <th>HIGHT</th>\n",
       "      <th>LOW</th>\n",
       "      <th>t</th>\n",
       "      <th>TRANSACTIONS</th>\n",
       "      <th>a</th>\n",
       "      <th>op</th>\n",
       "      <th>MFI_w14</th>\n",
       "      <th>VWAP_w14</th>\n",
       "    </tr>\n",
       "  </thead>\n",
       "  <tbody>\n",
       "    <tr>\n",
       "      <th>0</th>\n",
       "      <td>101</td>\n",
       "      <td>15.9531</td>\n",
       "      <td>15.9531</td>\n",
       "      <td>15.9531</td>\n",
       "      <td>15.9531</td>\n",
       "      <td>15.9531</td>\n",
       "      <td>1586283720000</td>\n",
       "      <td>2</td>\n",
       "      <td>0.0</td>\n",
       "      <td>0.0</td>\n",
       "      <td>NaN</td>\n",
       "      <td>NaN</td>\n",
       "    </tr>\n",
       "    <tr>\n",
       "      <th>1</th>\n",
       "      <td>642</td>\n",
       "      <td>15.9981</td>\n",
       "      <td>16.0000</td>\n",
       "      <td>15.9950</td>\n",
       "      <td>16.0000</td>\n",
       "      <td>15.9950</td>\n",
       "      <td>1586283840000</td>\n",
       "      <td>3</td>\n",
       "      <td>0.0</td>\n",
       "      <td>0.0</td>\n",
       "      <td>NaN</td>\n",
       "      <td>NaN</td>\n",
       "    </tr>\n",
       "    <tr>\n",
       "      <th>2</th>\n",
       "      <td>200</td>\n",
       "      <td>16.0150</td>\n",
       "      <td>16.0150</td>\n",
       "      <td>16.0150</td>\n",
       "      <td>16.0150</td>\n",
       "      <td>16.0150</td>\n",
       "      <td>1586283900000</td>\n",
       "      <td>1</td>\n",
       "      <td>0.0</td>\n",
       "      <td>0.0</td>\n",
       "      <td>NaN</td>\n",
       "      <td>NaN</td>\n",
       "    </tr>\n",
       "    <tr>\n",
       "      <th>3</th>\n",
       "      <td>200</td>\n",
       "      <td>16.0393</td>\n",
       "      <td>16.0400</td>\n",
       "      <td>16.0400</td>\n",
       "      <td>16.0400</td>\n",
       "      <td>16.0400</td>\n",
       "      <td>1586284020000</td>\n",
       "      <td>2</td>\n",
       "      <td>0.0</td>\n",
       "      <td>0.0</td>\n",
       "      <td>NaN</td>\n",
       "      <td>NaN</td>\n",
       "    </tr>\n",
       "    <tr>\n",
       "      <th>4</th>\n",
       "      <td>130</td>\n",
       "      <td>16.0582</td>\n",
       "      <td>16.0606</td>\n",
       "      <td>16.0606</td>\n",
       "      <td>16.0606</td>\n",
       "      <td>16.0606</td>\n",
       "      <td>1586284080000</td>\n",
       "      <td>3</td>\n",
       "      <td>0.0</td>\n",
       "      <td>0.0</td>\n",
       "      <td>NaN</td>\n",
       "      <td>NaN</td>\n",
       "    </tr>\n",
       "  </tbody>\n",
       "</table>\n",
       "</div>"
      ],
      "text/plain": [
       "   VOLUME       VW     OPEN    CLOSE    HIGHT      LOW              t  \\\n",
       "0     101  15.9531  15.9531  15.9531  15.9531  15.9531  1586283720000   \n",
       "1     642  15.9981  16.0000  15.9950  16.0000  15.9950  1586283840000   \n",
       "2     200  16.0150  16.0150  16.0150  16.0150  16.0150  1586283900000   \n",
       "3     200  16.0393  16.0400  16.0400  16.0400  16.0400  1586284020000   \n",
       "4     130  16.0582  16.0606  16.0606  16.0606  16.0606  1586284080000   \n",
       "\n",
       "   TRANSACTIONS    a   op  MFI_w14  VWAP_w14  \n",
       "0             2  0.0  0.0      NaN       NaN  \n",
       "1             3  0.0  0.0      NaN       NaN  \n",
       "2             1  0.0  0.0      NaN       NaN  \n",
       "3             2  0.0  0.0      NaN       NaN  \n",
       "4             3  0.0  0.0      NaN       NaN  "
      ]
     },
     "execution_count": 59,
     "metadata": {},
     "output_type": "execute_result"
    }
   ],
   "source": [
    "df2.head()"
   ]
  },
  {
   "cell_type": "code",
   "execution_count": 60,
   "metadata": {},
   "outputs": [
    {
     "data": {
      "text/plain": [
       "(75601, 12)"
      ]
     },
     "execution_count": 60,
     "metadata": {},
     "output_type": "execute_result"
    }
   ],
   "source": [
    "df2.shape"
   ]
  },
  {
   "cell_type": "code",
   "execution_count": 61,
   "metadata": {},
   "outputs": [
    {
     "data": {
      "text/plain": [
       "31"
      ]
     },
     "execution_count": 61,
     "metadata": {},
     "output_type": "execute_result"
    }
   ],
   "source": [
    "df2.isnull().sum().sum()"
   ]
  },
  {
   "cell_type": "code",
   "execution_count": 62,
   "metadata": {},
   "outputs": [],
   "source": [
    "df2 = df2.fillna(0)"
   ]
  },
  {
   "cell_type": "code",
   "execution_count": 63,
   "metadata": {},
   "outputs": [
    {
     "data": {
      "text/html": [
       "<div>\n",
       "<style scoped>\n",
       "    .dataframe tbody tr th:only-of-type {\n",
       "        vertical-align: middle;\n",
       "    }\n",
       "\n",
       "    .dataframe tbody tr th {\n",
       "        vertical-align: top;\n",
       "    }\n",
       "\n",
       "    .dataframe thead th {\n",
       "        text-align: right;\n",
       "    }\n",
       "</style>\n",
       "<table border=\"1\" class=\"dataframe\">\n",
       "  <thead>\n",
       "    <tr style=\"text-align: right;\">\n",
       "      <th></th>\n",
       "      <th>VOLUME</th>\n",
       "      <th>VW</th>\n",
       "      <th>OPEN</th>\n",
       "      <th>CLOSE</th>\n",
       "      <th>HIGHT</th>\n",
       "      <th>LOW</th>\n",
       "      <th>t</th>\n",
       "      <th>TRANSACTIONS</th>\n",
       "      <th>a</th>\n",
       "      <th>op</th>\n",
       "      <th>MFI_w14</th>\n",
       "      <th>VWAP_w14</th>\n",
       "    </tr>\n",
       "  </thead>\n",
       "  <tbody>\n",
       "    <tr>\n",
       "      <th>75596</th>\n",
       "      <td>243</td>\n",
       "      <td>25.1100</td>\n",
       "      <td>25.11</td>\n",
       "      <td>25.11</td>\n",
       "      <td>25.11</td>\n",
       "      <td>25.110</td>\n",
       "      <td>1649274780000</td>\n",
       "      <td>4</td>\n",
       "      <td>25.0225</td>\n",
       "      <td>24.95</td>\n",
       "      <td>71.831921</td>\n",
       "      <td>25.096402</td>\n",
       "    </tr>\n",
       "    <tr>\n",
       "      <th>75597</th>\n",
       "      <td>614</td>\n",
       "      <td>25.0935</td>\n",
       "      <td>25.10</td>\n",
       "      <td>25.09</td>\n",
       "      <td>25.10</td>\n",
       "      <td>25.090</td>\n",
       "      <td>1649274840000</td>\n",
       "      <td>8</td>\n",
       "      <td>25.0229</td>\n",
       "      <td>24.95</td>\n",
       "      <td>54.571254</td>\n",
       "      <td>25.099799</td>\n",
       "    </tr>\n",
       "    <tr>\n",
       "      <th>75598</th>\n",
       "      <td>206</td>\n",
       "      <td>25.1000</td>\n",
       "      <td>25.10</td>\n",
       "      <td>25.10</td>\n",
       "      <td>25.10</td>\n",
       "      <td>25.100</td>\n",
       "      <td>1649275020000</td>\n",
       "      <td>3</td>\n",
       "      <td>25.0230</td>\n",
       "      <td>24.95</td>\n",
       "      <td>54.631210</td>\n",
       "      <td>25.100296</td>\n",
       "    </tr>\n",
       "    <tr>\n",
       "      <th>75599</th>\n",
       "      <td>202</td>\n",
       "      <td>25.1100</td>\n",
       "      <td>25.11</td>\n",
       "      <td>25.11</td>\n",
       "      <td>25.11</td>\n",
       "      <td>25.110</td>\n",
       "      <td>1649275080000</td>\n",
       "      <td>3</td>\n",
       "      <td>25.0232</td>\n",
       "      <td>24.95</td>\n",
       "      <td>56.514163</td>\n",
       "      <td>25.112274</td>\n",
       "    </tr>\n",
       "    <tr>\n",
       "      <th>75600</th>\n",
       "      <td>1025</td>\n",
       "      <td>25.0981</td>\n",
       "      <td>25.10</td>\n",
       "      <td>25.10</td>\n",
       "      <td>25.10</td>\n",
       "      <td>25.095</td>\n",
       "      <td>1649275140000</td>\n",
       "      <td>12</td>\n",
       "      <td>25.0239</td>\n",
       "      <td>24.95</td>\n",
       "      <td>47.532446</td>\n",
       "      <td>25.110645</td>\n",
       "    </tr>\n",
       "  </tbody>\n",
       "</table>\n",
       "</div>"
      ],
      "text/plain": [
       "       VOLUME       VW   OPEN  CLOSE  HIGHT     LOW              t  \\\n",
       "75596     243  25.1100  25.11  25.11  25.11  25.110  1649274780000   \n",
       "75597     614  25.0935  25.10  25.09  25.10  25.090  1649274840000   \n",
       "75598     206  25.1000  25.10  25.10  25.10  25.100  1649275020000   \n",
       "75599     202  25.1100  25.11  25.11  25.11  25.110  1649275080000   \n",
       "75600    1025  25.0981  25.10  25.10  25.10  25.095  1649275140000   \n",
       "\n",
       "       TRANSACTIONS        a     op    MFI_w14   VWAP_w14  \n",
       "75596             4  25.0225  24.95  71.831921  25.096402  \n",
       "75597             8  25.0229  24.95  54.571254  25.099799  \n",
       "75598             3  25.0230  24.95  54.631210  25.100296  \n",
       "75599             3  25.0232  24.95  56.514163  25.112274  \n",
       "75600            12  25.0239  24.95  47.532446  25.110645  "
      ]
     },
     "execution_count": 63,
     "metadata": {},
     "output_type": "execute_result"
    }
   ],
   "source": [
    "df2.tail()"
   ]
  },
  {
   "cell_type": "markdown",
   "metadata": {},
   "source": [
    "### Splitting Data "
   ]
  },
  {
   "cell_type": "code",
   "execution_count": 64,
   "metadata": {
    "id": "vNIVyyToqm71"
   },
   "outputs": [],
   "source": [
    "x = df2.iloc[:, [col for col in range(len(df2.columns)) if col != 3]]\n",
    "y = df2.iloc[:, 3]"
   ]
  },
  {
   "cell_type": "code",
   "execution_count": 65,
   "metadata": {
    "colab": {
     "base_uri": "https://localhost:8080/"
    },
    "id": "4B1qk4EKs5Aw",
    "outputId": "79e26594-be93-4b0c-a120-8c02cff540a2"
   },
   "outputs": [
    {
     "name": "stdout",
     "output_type": "stream",
     "text": [
      "       VOLUME       VW     OPEN    HIGHT      LOW              t  \\\n",
      "0         101  15.9531  15.9531  15.9531  15.9531  1586283720000   \n",
      "1         642  15.9981  16.0000  16.0000  15.9950  1586283840000   \n",
      "2         200  16.0150  16.0150  16.0150  16.0150  1586283900000   \n",
      "3         200  16.0393  16.0400  16.0400  16.0400  1586284020000   \n",
      "4         130  16.0582  16.0606  16.0606  16.0606  1586284080000   \n",
      "...       ...      ...      ...      ...      ...            ...   \n",
      "75596     243  25.1100  25.1100  25.1100  25.1100  1649274780000   \n",
      "75597     614  25.0935  25.1000  25.1000  25.0900  1649274840000   \n",
      "75598     206  25.1000  25.1000  25.1000  25.1000  1649275020000   \n",
      "75599     202  25.1100  25.1100  25.1100  25.1100  1649275080000   \n",
      "75600    1025  25.0981  25.1000  25.1000  25.0950  1649275140000   \n",
      "\n",
      "       TRANSACTIONS        a     op    MFI_w14   VWAP_w14  \n",
      "0                 2   0.0000   0.00   0.000000   0.000000  \n",
      "1                 3   0.0000   0.00   0.000000   0.000000  \n",
      "2                 1   0.0000   0.00   0.000000   0.000000  \n",
      "3                 2   0.0000   0.00   0.000000   0.000000  \n",
      "4                 3   0.0000   0.00   0.000000   0.000000  \n",
      "...             ...      ...    ...        ...        ...  \n",
      "75596             4  25.0225  24.95  71.831921  25.096402  \n",
      "75597             8  25.0229  24.95  54.571254  25.099799  \n",
      "75598             3  25.0230  24.95  54.631210  25.100296  \n",
      "75599             3  25.0232  24.95  56.514163  25.112274  \n",
      "75600            12  25.0239  24.95  47.532446  25.110645  \n",
      "\n",
      "[75601 rows x 11 columns]\n",
      "0        15.9531\n",
      "1        15.9950\n",
      "2        16.0150\n",
      "3        16.0400\n",
      "4        16.0606\n",
      "          ...   \n",
      "75596    25.1100\n",
      "75597    25.0900\n",
      "75598    25.1000\n",
      "75599    25.1100\n",
      "75600    25.1000\n",
      "Name: CLOSE, Length: 75601, dtype: float64\n"
     ]
    }
   ],
   "source": [
    "print(x)\n",
    "print(y)"
   ]
  },
  {
   "cell_type": "code",
   "execution_count": 66,
   "metadata": {
    "id": "F48Cyli0tRGn"
   },
   "outputs": [],
   "source": [
    "x_train, x_test, y_train, y_test = train_test_split(x,y, random_state=42)"
   ]
  },
  {
   "cell_type": "markdown",
   "metadata": {},
   "source": [
    "### Training ElasticNet Model"
   ]
  },
  {
   "cell_type": "code",
   "execution_count": 67,
   "metadata": {
    "id": "Jmb0aMMUtkon"
   },
   "outputs": [],
   "source": [
    "enet = ElasticNet(alpha=0.1, l1_ratio=0.5)"
   ]
  },
  {
   "cell_type": "code",
   "execution_count": 68,
   "metadata": {
    "colab": {
     "base_uri": "https://localhost:8080/",
     "height": 74
    },
    "id": "OhhUIDQ8t_mt",
    "outputId": "bf000646-6b99-4192-ef34-bd8fc05b4f3b"
   },
   "outputs": [
    {
     "name": "stderr",
     "output_type": "stream",
     "text": [
      "C:\\Users\\Aishwarya\\anaconda3\\lib\\site-packages\\sklearn\\linear_model\\_coordinate_descent.py:647: ConvergenceWarning: Objective did not converge. You might want to increase the number of iterations, check the scale of the features or consider increasing regularisation. Duality gap: 3.069e+03, tolerance: 3.462e+01\n",
      "  model = cd_fast.enet_coordinate_descent(\n"
     ]
    },
    {
     "data": {
      "text/plain": [
       "ElasticNet(alpha=0.1)"
      ]
     },
     "execution_count": 68,
     "metadata": {},
     "output_type": "execute_result"
    }
   ],
   "source": [
    "enet.fit(x_train, y_train)"
   ]
  },
  {
   "cell_type": "markdown",
   "metadata": {},
   "source": [
    "### Model Evaluation"
   ]
  },
  {
   "cell_type": "code",
   "execution_count": 69,
   "metadata": {
    "id": "fHo8UqOizrA7"
   },
   "outputs": [],
   "source": [
    "y_pred = enet.predict(x_test)"
   ]
  },
  {
   "cell_type": "code",
   "execution_count": 70,
   "metadata": {
    "colab": {
     "base_uri": "https://localhost:8080/"
    },
    "id": "aB6h0Ykvz2Xm",
    "outputId": "4040ffd9-80e2-4586-f975-a974c8606c84"
   },
   "outputs": [
    {
     "data": {
      "text/plain": [
       "array([22.24007037, 23.54117456, 24.01331404, ..., 25.73215362,\n",
       "       18.47985285, 19.13316548])"
      ]
     },
     "execution_count": 70,
     "metadata": {},
     "output_type": "execute_result"
    }
   ],
   "source": [
    "y_pred"
   ]
  },
  {
   "cell_type": "code",
   "execution_count": 71,
   "metadata": {
    "colab": {
     "base_uri": "https://localhost:8080/"
    },
    "id": "y1l_1JgD0Nwy",
    "outputId": "f56fc596-9fff-403b-bbe0-af81005e9727"
   },
   "outputs": [
    {
     "data": {
      "text/plain": [
       "0.0034470977384089526"
      ]
     },
     "execution_count": 71,
     "metadata": {},
     "output_type": "execute_result"
    }
   ],
   "source": [
    "mean_squared_error(y_test, y_pred)"
   ]
  },
  {
   "cell_type": "code",
   "execution_count": 72,
   "metadata": {
    "colab": {
     "base_uri": "https://localhost:8080/"
    },
    "id": "KgaTri7iCFQB",
    "outputId": "89affe8e-30db-4141-a072-1e9d8a45ee66"
   },
   "outputs": [
    {
     "data": {
      "text/plain": [
       "0.04099734691021624"
      ]
     },
     "execution_count": 72,
     "metadata": {},
     "output_type": "execute_result"
    }
   ],
   "source": [
    "mean_absolute_error(y_test,y_pred)"
   ]
  },
  {
   "cell_type": "code",
   "execution_count": 73,
   "metadata": {},
   "outputs": [
    {
     "data": {
      "text/plain": [
       "0.058711989733008986"
      ]
     },
     "execution_count": 73,
     "metadata": {},
     "output_type": "execute_result"
    }
   ],
   "source": [
    "root_mean_squared_error = np.sqrt(mean_squared_error(y_test, y_pred))\n",
    "root_mean_squared_error"
   ]
  },
  {
   "cell_type": "markdown",
   "metadata": {},
   "source": [
    "### Evaluation for best estimation hyperparameters"
   ]
  },
  {
   "cell_type": "code",
   "execution_count": 74,
   "metadata": {
    "id": "lkk0EUty-f-8"
   },
   "outputs": [],
   "source": [
    "el_net_grid = {\n",
    "    'alpha': [0.1, 0.3, 0.5, 0.7, 0.9, 1.0],\n",
    "    'l1_ratio': [0.1, 0.3, 0.5, 0.7, 0.9, 1.0],\n",
    "}"
   ]
  },
  {
   "cell_type": "code",
   "execution_count": 75,
   "metadata": {
    "id": "GrAxyawe_F3I"
   },
   "outputs": [],
   "source": [
    "elastic_cv = GridSearchCV(enet, el_net_grid, cv=3, scoring= 'neg_mean_squared_error',n_jobs=-1)"
   ]
  },
  {
   "cell_type": "code",
   "execution_count": 76,
   "metadata": {
    "colab": {
     "base_uri": "https://localhost:8080/",
     "height": 117
    },
    "id": "UpOIaWOw_bWS",
    "outputId": "ffceaea6-57d7-47f2-844a-86b8fc112ada"
   },
   "outputs": [
    {
     "name": "stderr",
     "output_type": "stream",
     "text": [
      "C:\\Users\\Aishwarya\\anaconda3\\lib\\site-packages\\sklearn\\linear_model\\_coordinate_descent.py:647: ConvergenceWarning: Objective did not converge. You might want to increase the number of iterations, check the scale of the features or consider increasing regularisation. Duality gap: 1.100e+03, tolerance: 3.462e+01\n",
      "  model = cd_fast.enet_coordinate_descent(\n"
     ]
    },
    {
     "data": {
      "text/plain": [
       "GridSearchCV(cv=3, estimator=ElasticNet(alpha=0.1), n_jobs=-1,\n",
       "             param_grid={'alpha': [0.1, 0.3, 0.5, 0.7, 0.9, 1.0],\n",
       "                         'l1_ratio': [0.1, 0.3, 0.5, 0.7, 0.9, 1.0]},\n",
       "             scoring='neg_mean_squared_error')"
      ]
     },
     "execution_count": 76,
     "metadata": {},
     "output_type": "execute_result"
    }
   ],
   "source": [
    "elastic_cv.fit(x_train, y_train)"
   ]
  },
  {
   "cell_type": "code",
   "execution_count": 77,
   "metadata": {
    "id": "VYo3DAuCAJgx"
   },
   "outputs": [],
   "source": [
    "y_pred2 = elastic_cv.predict(x_test)"
   ]
  },
  {
   "cell_type": "code",
   "execution_count": 78,
   "metadata": {
    "colab": {
     "base_uri": "https://localhost:8080/"
    },
    "id": "_grKUJLBAR9F",
    "outputId": "c5805ad9-0601-4bea-a224-944c544a3a07"
   },
   "outputs": [
    {
     "data": {
      "text/plain": [
       "array([22.26254227, 23.55752846, 23.99146065, ..., 25.73155614,\n",
       "       18.45365374, 19.10610455])"
      ]
     },
     "execution_count": 78,
     "metadata": {},
     "output_type": "execute_result"
    }
   ],
   "source": [
    "y_pred2"
   ]
  },
  {
   "cell_type": "code",
   "execution_count": 79,
   "metadata": {
    "colab": {
     "base_uri": "https://localhost:8080/"
    },
    "id": "uB4saRsaAXzo",
    "outputId": "b6534c71-a1bc-4feb-d3d3-a692705866ff"
   },
   "outputs": [
    {
     "data": {
      "text/plain": [
       "0.0015490203538015492"
      ]
     },
     "execution_count": 79,
     "metadata": {},
     "output_type": "execute_result"
    }
   ],
   "source": [
    "mean_squared_error(y_test, y_pred2)"
   ]
  },
  {
   "cell_type": "code",
   "execution_count": 80,
   "metadata": {
    "colab": {
     "base_uri": "https://localhost:8080/"
    },
    "id": "kCnqnTm0CVif",
    "outputId": "d139221d-248e-48f1-eec6-aa323a235bdb"
   },
   "outputs": [
    {
     "data": {
      "text/plain": [
       "0.021131218458073205"
      ]
     },
     "execution_count": 80,
     "metadata": {},
     "output_type": "execute_result"
    }
   ],
   "source": [
    "mean_absolute_error(y_test,y_pred2)"
   ]
  },
  {
   "cell_type": "code",
   "execution_count": 81,
   "metadata": {},
   "outputs": [
    {
     "data": {
      "text/plain": [
       "0.03935759588442299"
      ]
     },
     "execution_count": 81,
     "metadata": {},
     "output_type": "execute_result"
    }
   ],
   "source": [
    "root_mean_squared_error = np.sqrt(mean_squared_error(y_test, y_pred2))\n",
    "root_mean_squared_error"
   ]
  },
  {
   "cell_type": "code",
   "execution_count": 82,
   "metadata": {
    "colab": {
     "base_uri": "https://localhost:8080/",
     "height": 74
    },
    "id": "103eU_IMAxLQ",
    "outputId": "2cdec91a-ac13-4a6c-a141-3be22e98fd3c"
   },
   "outputs": [
    {
     "data": {
      "text/plain": [
       "ElasticNet(alpha=0.1, l1_ratio=0.1)"
      ]
     },
     "execution_count": 82,
     "metadata": {},
     "output_type": "execute_result"
    }
   ],
   "source": [
    "elastic_cv.best_estimator_"
   ]
  },
  {
   "cell_type": "markdown",
   "metadata": {},
   "source": [
    "### We can derive that the model performs well for alpha=0.1 and l1_ratio=0.1"
   ]
  }
 ],
 "metadata": {
  "colab": {
   "provenance": []
  },
  "kernelspec": {
   "display_name": "Python 3 (ipykernel)",
   "language": "python",
   "name": "python3"
  },
  "language_info": {
   "codemirror_mode": {
    "name": "ipython",
    "version": 3
   },
   "file_extension": ".py",
   "mimetype": "text/x-python",
   "name": "python",
   "nbconvert_exporter": "python",
   "pygments_lexer": "ipython3",
   "version": "3.9.13"
  }
 },
 "nbformat": 4,
 "nbformat_minor": 1
}
