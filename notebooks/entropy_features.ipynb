{
 "cells": [
  {
   "cell_type": "markdown",
   "metadata": {},
   "source": [
    "$\\textbf{*** This version uses the }\\texttt{Dataloader, Asset, Portfolio}\\textbf{ classes to load data}$"
   ]
  },
  {
   "cell_type": "code",
   "execution_count": 20,
   "metadata": {
    "ExecuteTime": {
     "end_time": "2024-01-15T20:59:54.257699400Z",
     "start_time": "2024-01-15T20:59:53.720137700Z"
    }
   },
   "outputs": [],
   "source": [
    "%load_ext autoreload\n",
    "%autoreload 2"
   ]
  },
  {
   "cell_type": "code",
   "execution_count": 21,
   "metadata": {
    "ExecuteTime": {
     "end_time": "2024-01-15T21:00:05.058088300Z",
     "start_time": "2024-01-15T20:59:58.764249500Z"
    }
   },
   "outputs": [],
   "source": [
    "import sys\n",
    "import importlib\n",
    "sys.path.append('../')\n",
    "from IPython.display import display, Math, Latex\n",
    "# From data_preparation classes\n",
    "from src.finance_ml.data_preparation.data_preparation import DataLoader\n",
    "from src.finance_ml.entropy_features.entropy_features import EntropyFeatures"
   ]
  },
  {
   "cell_type": "code",
   "execution_count": 22,
   "metadata": {
    "ExecuteTime": {
     "end_time": "2024-01-15T21:04:55.098586700Z",
     "start_time": "2024-01-15T21:04:54.499563200Z"
    }
   },
   "outputs": [],
   "source": [
    "# Import required packages\n",
    "import pandas as pd\n",
    "import numpy as np\n",
    "import matplotlib.pyplot as plt\n",
    "import seaborn as sns"
   ]
  },
  {
   "cell_type": "markdown",
   "metadata": {},
   "source": [
    "## Reading the Data File"
   ]
  },
  {
   "cell_type": "code",
   "execution_count": 23,
   "metadata": {
    "ExecuteTime": {
     "end_time": "2024-01-15T21:04:57.280792800Z",
     "start_time": "2024-01-15T21:04:56.725825600Z"
    }
   },
   "outputs": [],
   "source": [
    "# Defining time_index_col (must be the same column in all inputs) and keep_cols refering to the columns that will remain in the dataset\n",
    "dataloader = DataLoader(time_index_col='DATE',\n",
    "                        keep_cols=['VOLUME', 'OPEN', 'HIGHT', 'LOW', 'CLOSE', 'VW', 'TRANSACTIONS'])\n",
    "\n",
    "entropyfeatures = EntropyFeatures()"
   ]
  },
  {
   "cell_type": "markdown",
   "metadata": {},
   "source": [
    "Here we will select $N=15,000$ ticks from our database for simplicity. We also select the equity $\\textbf{TSLA}-Apple$ from  the data available."
   ]
  },
  {
   "cell_type": "code",
   "execution_count": 24,
   "metadata": {
    "ExecuteTime": {
     "end_time": "2024-01-15T21:04:58.779268700Z",
     "start_time": "2024-01-15T21:04:58.540239200Z"
    }
   },
   "outputs": [],
   "source": [
    "# Example Files\n",
    "fname_RUBEUR = 'FX/RUBEUR_2020-04-07_2022-04-06.parquet'\n",
    "fname_USDBRL = 'FX/USDBRL_2020-04-07_2022-04-06.parquet'\n",
    "fname_AAPL = 'equities/AAPL_2020-04-07_2022-04-06.parquet'\n",
    "fname_TSLA = 'equities/TSLA_2020-04-07_2022-04-06.parquet'\n",
    "\n",
    "# No. of Records from example dataset\n",
    "N = 15000"
   ]
  },
  {
   "cell_type": "code",
   "execution_count": 25,
   "metadata": {
    "ExecuteTime": {
     "end_time": "2024-01-15T21:05:00.006051900Z",
     "start_time": "2024-01-15T21:04:59.562776200Z"
    }
   },
   "outputs": [],
   "source": [
    "# Dataset chosen in this simulation\n",
    "ticker = 'RUBEUR'\n",
    "fname = fname_RUBEUR"
   ]
  },
  {
   "cell_type": "code",
   "execution_count": 26,
   "metadata": {
    "ExecuteTime": {
     "end_time": "2024-01-15T21:05:05.601177300Z",
     "start_time": "2024-01-15T21:05:00.445794200Z"
    }
   },
   "outputs": [
    {
     "data": {
      "text/html": [
       "<div>\n",
       "<style scoped>\n",
       "    .dataframe tbody tr th:only-of-type {\n",
       "        vertical-align: middle;\n",
       "    }\n",
       "\n",
       "    .dataframe tbody tr th {\n",
       "        vertical-align: top;\n",
       "    }\n",
       "\n",
       "    .dataframe thead th {\n",
       "        text-align: right;\n",
       "    }\n",
       "</style>\n",
       "<table border=\"1\" class=\"dataframe\">\n",
       "  <thead>\n",
       "    <tr style=\"text-align: right;\">\n",
       "      <th></th>\n",
       "      <th>RUBEUR_VOLUME</th>\n",
       "      <th>RUBEUR_OPEN</th>\n",
       "      <th>RUBEUR_HIGHT</th>\n",
       "      <th>RUBEUR_LOW</th>\n",
       "      <th>RUBEUR_CLOSE</th>\n",
       "      <th>RUBEUR_VW</th>\n",
       "      <th>RUBEUR_TRANSACTIONS</th>\n",
       "    </tr>\n",
       "    <tr>\n",
       "      <th>DATE</th>\n",
       "      <th></th>\n",
       "      <th></th>\n",
       "      <th></th>\n",
       "      <th></th>\n",
       "      <th></th>\n",
       "      <th></th>\n",
       "      <th></th>\n",
       "    </tr>\n",
       "  </thead>\n",
       "  <tbody>\n",
       "    <tr>\n",
       "      <th>2020-04-07 19:07:00</th>\n",
       "      <td>1</td>\n",
       "      <td>0.012170</td>\n",
       "      <td>0.012170</td>\n",
       "      <td>0.012170</td>\n",
       "      <td>0.012170</td>\n",
       "      <td>0.0122</td>\n",
       "      <td>1</td>\n",
       "    </tr>\n",
       "    <tr>\n",
       "      <th>2020-04-07 19:10:00</th>\n",
       "      <td>1</td>\n",
       "      <td>0.012170</td>\n",
       "      <td>0.012170</td>\n",
       "      <td>0.012170</td>\n",
       "      <td>0.012170</td>\n",
       "      <td>0.0122</td>\n",
       "      <td>1</td>\n",
       "    </tr>\n",
       "    <tr>\n",
       "      <th>2020-04-07 19:11:00</th>\n",
       "      <td>2</td>\n",
       "      <td>0.012170</td>\n",
       "      <td>0.012170</td>\n",
       "      <td>0.012170</td>\n",
       "      <td>0.012170</td>\n",
       "      <td>0.0122</td>\n",
       "      <td>2</td>\n",
       "    </tr>\n",
       "    <tr>\n",
       "      <th>2020-04-07 19:14:00</th>\n",
       "      <td>2</td>\n",
       "      <td>0.012180</td>\n",
       "      <td>0.012180</td>\n",
       "      <td>0.012170</td>\n",
       "      <td>0.012170</td>\n",
       "      <td>0.0122</td>\n",
       "      <td>2</td>\n",
       "    </tr>\n",
       "    <tr>\n",
       "      <th>2020-04-07 19:15:00</th>\n",
       "      <td>2</td>\n",
       "      <td>0.012170</td>\n",
       "      <td>0.012170</td>\n",
       "      <td>0.012170</td>\n",
       "      <td>0.012170</td>\n",
       "      <td>0.0122</td>\n",
       "      <td>2</td>\n",
       "    </tr>\n",
       "    <tr>\n",
       "      <th>...</th>\n",
       "      <td>...</td>\n",
       "      <td>...</td>\n",
       "      <td>...</td>\n",
       "      <td>...</td>\n",
       "      <td>...</td>\n",
       "      <td>...</td>\n",
       "      <td>...</td>\n",
       "    </tr>\n",
       "    <tr>\n",
       "      <th>2021-10-20 23:59:00</th>\n",
       "      <td>2</td>\n",
       "      <td>0.012115</td>\n",
       "      <td>0.012115</td>\n",
       "      <td>0.012111</td>\n",
       "      <td>0.012111</td>\n",
       "      <td>0.0121</td>\n",
       "      <td>2</td>\n",
       "    </tr>\n",
       "    <tr>\n",
       "      <th>2022-04-05 11:05:00</th>\n",
       "      <td>1</td>\n",
       "      <td>0.010611</td>\n",
       "      <td>0.010611</td>\n",
       "      <td>0.010611</td>\n",
       "      <td>0.010611</td>\n",
       "      <td>0.0106</td>\n",
       "      <td>1</td>\n",
       "    </tr>\n",
       "    <tr>\n",
       "      <th>2022-04-05 21:00:00</th>\n",
       "      <td>1</td>\n",
       "      <td>0.010611</td>\n",
       "      <td>0.010611</td>\n",
       "      <td>0.010611</td>\n",
       "      <td>0.010611</td>\n",
       "      <td>0.0106</td>\n",
       "      <td>1</td>\n",
       "    </tr>\n",
       "    <tr>\n",
       "      <th>2022-04-06 11:14:00</th>\n",
       "      <td>1</td>\n",
       "      <td>0.010080</td>\n",
       "      <td>0.010080</td>\n",
       "      <td>0.010080</td>\n",
       "      <td>0.010080</td>\n",
       "      <td>0.0101</td>\n",
       "      <td>1</td>\n",
       "    </tr>\n",
       "    <tr>\n",
       "      <th>2022-04-06 21:00:00</th>\n",
       "      <td>1</td>\n",
       "      <td>0.010080</td>\n",
       "      <td>0.010080</td>\n",
       "      <td>0.010080</td>\n",
       "      <td>0.010080</td>\n",
       "      <td>0.0101</td>\n",
       "      <td>1</td>\n",
       "    </tr>\n",
       "  </tbody>\n",
       "</table>\n",
       "<p>444548 rows × 7 columns</p>\n",
       "</div>"
      ],
      "text/plain": [
       "                     RUBEUR_VOLUME  RUBEUR_OPEN  RUBEUR_HIGHT  RUBEUR_LOW  \\\n",
       "DATE                                                                        \n",
       "2020-04-07 19:07:00              1     0.012170      0.012170    0.012170   \n",
       "2020-04-07 19:10:00              1     0.012170      0.012170    0.012170   \n",
       "2020-04-07 19:11:00              2     0.012170      0.012170    0.012170   \n",
       "2020-04-07 19:14:00              2     0.012180      0.012180    0.012170   \n",
       "2020-04-07 19:15:00              2     0.012170      0.012170    0.012170   \n",
       "...                            ...          ...           ...         ...   \n",
       "2021-10-20 23:59:00              2     0.012115      0.012115    0.012111   \n",
       "2022-04-05 11:05:00              1     0.010611      0.010611    0.010611   \n",
       "2022-04-05 21:00:00              1     0.010611      0.010611    0.010611   \n",
       "2022-04-06 11:14:00              1     0.010080      0.010080    0.010080   \n",
       "2022-04-06 21:00:00              1     0.010080      0.010080    0.010080   \n",
       "\n",
       "                     RUBEUR_CLOSE  RUBEUR_VW  RUBEUR_TRANSACTIONS  \n",
       "DATE                                                               \n",
       "2020-04-07 19:07:00      0.012170     0.0122                    1  \n",
       "2020-04-07 19:10:00      0.012170     0.0122                    1  \n",
       "2020-04-07 19:11:00      0.012170     0.0122                    2  \n",
       "2020-04-07 19:14:00      0.012170     0.0122                    2  \n",
       "2020-04-07 19:15:00      0.012170     0.0122                    2  \n",
       "...                           ...        ...                  ...  \n",
       "2021-10-20 23:59:00      0.012111     0.0121                    2  \n",
       "2022-04-05 11:05:00      0.010611     0.0106                    1  \n",
       "2022-04-05 21:00:00      0.010611     0.0106                    1  \n",
       "2022-04-06 11:14:00      0.010080     0.0101                    1  \n",
       "2022-04-06 21:00:00      0.010080     0.0101                    1  \n",
       "\n",
       "[444548 rows x 7 columns]"
      ]
     },
     "metadata": {},
     "output_type": "display_data"
    }
   ],
   "source": [
    "# loading assets into to an unique df\n",
    "df = dataloader.load_dataset({ticker: '../data/' + fname})#.iloc[:N]\n",
    "display(df)"
   ]
  },
  {
   "cell_type": "code",
   "execution_count": 27,
   "metadata": {},
   "outputs": [
    {
     "name": "stdout",
     "output_type": "stream",
     "text": [
      "RUBEUR_VOLUME: 1.8614150163882377\n",
      "RUBEUR_TRANSACTIONS: 1.8614150163882377\n",
      "RUBEUR_HIGHT: 2.659000458037651\n",
      "RUBEUR_CLOSE: 2.6594116538386467\n",
      "RUBEUR_OPEN: 2.668433087956592\n",
      "RUBEUR_LOW: 2.6794209342263136\n",
      "RUBEUR_VW: 2.6954622498359937\n"
     ]
    }
   ],
   "source": [
    "\n",
    "\n",
    "# Example usage:\n",
    "# Assuming 'financial_data' is a pandas DataFrame with various features\n",
    "# Make sure to preprocess your data accordingly (handle missing values, etc.)\n",
    "# You can replace 'financial_data' with your actual financial dataset\n",
    "plugin_entropy_values = entropyfeatures.plugin_entropy_estimator(df)\n",
    "plugin_entropy_values = dict(sorted(plugin_entropy_values.items(), key=lambda item: item[1]))\n",
    "# Display the calculated entropies for each feature\n",
    "for feature, entropy_value in plugin_entropy_values.items():\n",
    "    print(f\"{feature}: {entropy_value}\")"
   ]
  },
  {
   "cell_type": "code",
   "execution_count": 28,
   "metadata": {
    "scrolled": false
   },
   "outputs": [
    {
     "data": {
      "image/png": "[encoded data removed]",
      "text/plain": [
       "<Figure size 432x288 with 1 Axes>"
      ]
     },
     "metadata": {
      "needs_background": "light"
     },
     "output_type": "display_data"
    }
   ],
   "source": [
    "import matplotlib.pyplot as plt\n",
    "\n",
    "# Visualize the entropies using a bar plot\n",
    "plt.bar(plugin_entropy_values.keys(), plugin_entropy_values.values(), color='black')\n",
    "plt.xlabel('Features')\n",
    "plt.ylabel('Entropy')\n",
    "plt.title('Feature Entropies in Financial Dataset')\n",
    "plt.xticks(rotation=90, ha='right')\n",
    "plt.show()"
   ]
  },
  {
   "cell_type": "code",
   "execution_count": 29,
   "metadata": {},
   "outputs": [
    {
     "name": "stdout",
     "output_type": "stream",
     "text": [
      "RUBEUR_VOLUME: 24\n",
      "RUBEUR_TRANSACTIONS: 24\n",
      "RUBEUR_VW: 43\n",
      "RUBEUR_OPEN: 49\n",
      "RUBEUR_HIGHT: 49\n",
      "RUBEUR_LOW: 49\n",
      "RUBEUR_CLOSE: 49\n"
     ]
    }
   ],
   "source": [
    "\n",
    "\n",
    "# Example usage:\n",
    "# Assuming 'financial_data' is a pandas DataFrame with various features\n",
    "# Make sure to preprocess your data accordingly (handle missing values, etc.)\n",
    "lempel_ziv_values = entropyfeatures.lempel_ziv_estimator(df)\n",
    "lempel_ziv_values = dict(sorted(lempel_ziv_values.items(), key=lambda item: item[1]))\n",
    "# Display the calculated entropies for each feature\n",
    "for feature, entropy_value in lempel_ziv_values.items():\n",
    "    print(f\"{feature}: {entropy_value}\")"
   ]
  },
  {
   "cell_type": "code",
   "execution_count": 30,
   "metadata": {},
   "outputs": [
    {
     "data": {
      "image/png": "[encoded data removed]",
      "text/plain": [
       "<Figure size 432x288 with 1 Axes>"
      ]
     },
     "metadata": {
      "needs_background": "light"
     },
     "output_type": "display_data"
    }
   ],
   "source": [
    "# Visualize the entropies using a bar plot\n",
    "plt.bar(lempel_ziv_values.keys(), lempel_ziv_values.values(), color='black')\n",
    "plt.xlabel('Features')\n",
    "plt.ylabel('Entropy')\n",
    "plt.title('Feature Entropies in Financial Dataset')\n",
    "plt.xticks(rotation=90, ha='right')\n",
    "plt.show()"
   ]
  },
  {
   "cell_type": "code",
   "execution_count": 31,
   "metadata": {},
   "outputs": [
    {
     "name": "stdout",
     "output_type": "stream",
     "text": [
      "Entropy Features:\n",
      "RUBEUR_VOLUME: 3.7139943098865125\n",
      "RUBEUR_OPEN: 4.458178912782003\n",
      "RUBEUR_HIGHT: 4.455597972776609\n",
      "RUBEUR_LOW: 4.4571994378687005\n",
      "RUBEUR_CLOSE: 4.456272231264956\n",
      "RUBEUR_VW: 2.851993856294041\n",
      "RUBEUR_TRANSACTIONS: 3.7139943098865125\n"
     ]
    }
   ],
   "source": [
    "#Example 1: Entropy Features Calculation\n",
    "import pandas as pd\n",
    "import numpy as np\n",
    "from scipy.stats import entropy\n",
    "\n",
    "\n",
    "# Calculate entropy for each column\n",
    "entropy_feats = {}\n",
    "for column in df.columns:\n",
    "    values = df[column].values\n",
    "    entropy_value = entropy(np.histogram(values, bins='auto')[0])\n",
    "    entropy_feats[column] = entropy_value\n",
    "\n",
    "# Display entropy values for each column\n",
    "print(\"Entropy Features:\")\n",
    "for column, entropy_value in entropy_feats.items():\n",
    "    print(f\"{column}: {entropy_value}\")"
   ]
  },
  {
   "cell_type": "code",
   "execution_count": 32,
   "metadata": {},
   "outputs": [
    {
     "name": "stdout",
     "output_type": "stream",
     "text": [
      "Mutual Information with Target (Close):\n",
      "RUBEUR_VOLUME: 0.2843841777363001\n",
      "RUBEUR_TRANSACTIONS: 0.2851398502072149\n",
      "RUBEUR_VW: 2.805640092856787\n",
      "RUBEUR_OPEN: 5.271363076355284\n",
      "RUBEUR_HIGHT: 5.798414975774971\n",
      "RUBEUR_LOW: 5.918698478488368\n"
     ]
    }
   ],
   "source": [
    "#Example 2: Entropy Estimation\n",
    "from sklearn.feature_selection import mutual_info_regression\n",
    "\n",
    "\n",
    "# Extract features and target variable\n",
    "X = df.drop(['RUBEUR_CLOSE'], axis=1)  # Assuming 'Close' is the target variable\n",
    "y = df['RUBEUR_CLOSE']\n",
    "\n",
    "# Calculate mutual information between each feature and the target variable\n",
    "mutual_info = {}\n",
    "for column in X.columns:\n",
    "    mutual_info[column] = mutual_info_regression(X[[column]], y)[0]\n",
    "mutual_info = dict(sorted(mutual_info.items(), key=lambda item: item[1]))\n",
    "# Display mutual information values for each feature\n",
    "print(\"Mutual Information with Target (Close):\")\n",
    "for column, mi_value in mutual_info.items():\n",
    "    print(f\"{column}: {mi_value}\")"
   ]
  },
  {
   "cell_type": "code",
   "execution_count": 33,
   "metadata": {},
   "outputs": [
    {
     "data": {
      "image/png": "[encoded data removed]",
      "text/plain": [
       "<Figure size 432x288 with 1 Axes>"
      ]
     },
     "metadata": {
      "needs_background": "light"
     },
     "output_type": "display_data"
    }
   ],
   "source": [
    "# Visualize the entropies using a bar plot\n",
    "plt.bar(mutual_info.keys(), mutual_info.values(), color='black')\n",
    "plt.xlabel('Features')\n",
    "plt.ylabel('Entropy')\n",
    "plt.title('Feature Entropies in Financial Dataset')\n",
    "plt.xticks(rotation=90, ha='right')\n",
    "plt.show()"
   ]
  },
  {
   "cell_type": "code",
   "execution_count": null,
   "metadata": {},
   "outputs": [],
   "source": []
  }
 ],
 "metadata": {
  "kernelspec": {
   "display_name": "Python 3 (ipykernel)",
   "language": "python",
   "name": "python3"
  },
  "language_info": {
   "codemirror_mode": {
    "name": "ipython",
    "version": 3
   },
   "file_extension": ".py",
   "mimetype": "text/x-python",
   "name": "python",
   "nbconvert_exporter": "python",
   "pygments_lexer": "ipython3",
   "version": "3.10.4"
  }
 },
 "nbformat": 4,
 "nbformat_minor": 2
}
