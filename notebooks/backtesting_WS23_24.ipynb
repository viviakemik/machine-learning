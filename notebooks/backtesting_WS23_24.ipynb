{
 "cells": [
  {
   "cell_type": "code",
   "execution_count": 1,
   "metadata": {},
   "outputs": [],
   "source": [
    "import sys\n",
    "sys.path.append('../')\n",
    "import plotly.graph_objects as go\n",
    "import plotly.express as px\n",
    "import numpy as np\n",
    "import pandas as pd\n",
    "from src.finance_ml.data_preparation.data_preparation import DataLoader\n",
    "from src.finance_ml.data_preparation.asset_class import Asset\n",
    "import warnings\n",
    "warnings.filterwarnings('ignore')"
   ]
  },
  {
   "cell_type": "code",
   "execution_count": 2,
   "metadata": {},
   "outputs": [
    {
     "data": {
      "text/html": [
       "<div>\n",
       "<style scoped>\n",
       "    .dataframe tbody tr th:only-of-type {\n",
       "        vertical-align: middle;\n",
       "    }\n",
       "\n",
       "    .dataframe tbody tr th {\n",
       "        vertical-align: top;\n",
       "    }\n",
       "\n",
       "    .dataframe thead th {\n",
       "        text-align: right;\n",
       "    }\n",
       "</style>\n",
       "<table border=\"1\" class=\"dataframe\">\n",
       "  <thead>\n",
       "    <tr style=\"text-align: right;\">\n",
       "      <th></th>\n",
       "      <th>ETHUSD_VOLUME</th>\n",
       "      <th>ETHUSD_OPEN</th>\n",
       "      <th>ETHUSD_HIGHT</th>\n",
       "      <th>ETHUSD_CLOSE</th>\n",
       "      <th>ETHUSD_LOW</th>\n",
       "      <th>ETHUSD_TRANSACTIONS</th>\n",
       "    </tr>\n",
       "    <tr>\n",
       "      <th>DATE</th>\n",
       "      <th></th>\n",
       "      <th></th>\n",
       "      <th></th>\n",
       "      <th></th>\n",
       "      <th></th>\n",
       "      <th></th>\n",
       "    </tr>\n",
       "  </thead>\n",
       "  <tbody>\n",
       "    <tr>\n",
       "      <th>2020-04-07 17:58:00</th>\n",
       "      <td>6509.138870</td>\n",
       "      <td>172.270</td>\n",
       "      <td>172.290000</td>\n",
       "      <td>172.220000</td>\n",
       "      <td>171.953</td>\n",
       "      <td>34</td>\n",
       "    </tr>\n",
       "    <tr>\n",
       "      <th>2020-04-07 17:59:00</th>\n",
       "      <td>2030.296178</td>\n",
       "      <td>172.280</td>\n",
       "      <td>172.400000</td>\n",
       "      <td>172.310000</td>\n",
       "      <td>171.928</td>\n",
       "      <td>39</td>\n",
       "    </tr>\n",
       "    <tr>\n",
       "      <th>2020-04-07 18:00:00</th>\n",
       "      <td>1379.195752</td>\n",
       "      <td>171.974</td>\n",
       "      <td>172.440000</td>\n",
       "      <td>172.224027</td>\n",
       "      <td>171.974</td>\n",
       "      <td>64</td>\n",
       "    </tr>\n",
       "    <tr>\n",
       "      <th>2020-04-07 18:01:00</th>\n",
       "      <td>1070.755580</td>\n",
       "      <td>172.041</td>\n",
       "      <td>172.270000</td>\n",
       "      <td>172.260000</td>\n",
       "      <td>171.930</td>\n",
       "      <td>66</td>\n",
       "    </tr>\n",
       "    <tr>\n",
       "      <th>2020-04-07 18:02:00</th>\n",
       "      <td>323.613345</td>\n",
       "      <td>172.250</td>\n",
       "      <td>172.250000</td>\n",
       "      <td>171.980000</td>\n",
       "      <td>171.840</td>\n",
       "      <td>31</td>\n",
       "    </tr>\n",
       "    <tr>\n",
       "      <th>...</th>\n",
       "      <td>...</td>\n",
       "      <td>...</td>\n",
       "      <td>...</td>\n",
       "      <td>...</td>\n",
       "      <td>...</td>\n",
       "      <td>...</td>\n",
       "    </tr>\n",
       "    <tr>\n",
       "      <th>2022-04-06 23:54:00</th>\n",
       "      <td>256.869062</td>\n",
       "      <td>3166.900</td>\n",
       "      <td>3168.300000</td>\n",
       "      <td>3164.100000</td>\n",
       "      <td>3163.340</td>\n",
       "      <td>661</td>\n",
       "    </tr>\n",
       "    <tr>\n",
       "      <th>2022-04-06 23:55:00</th>\n",
       "      <td>1315.909782</td>\n",
       "      <td>3164.100</td>\n",
       "      <td>3176.485925</td>\n",
       "      <td>3169.950000</td>\n",
       "      <td>3162.730</td>\n",
       "      <td>1020</td>\n",
       "    </tr>\n",
       "    <tr>\n",
       "      <th>2022-04-06 23:56:00</th>\n",
       "      <td>272.323250</td>\n",
       "      <td>3170.050</td>\n",
       "      <td>3174.442301</td>\n",
       "      <td>3162.330000</td>\n",
       "      <td>3162.200</td>\n",
       "      <td>775</td>\n",
       "    </tr>\n",
       "    <tr>\n",
       "      <th>2022-04-06 23:57:00</th>\n",
       "      <td>305.533719</td>\n",
       "      <td>3163.120</td>\n",
       "      <td>3169.800000</td>\n",
       "      <td>3168.840000</td>\n",
       "      <td>3161.640</td>\n",
       "      <td>613</td>\n",
       "    </tr>\n",
       "    <tr>\n",
       "      <th>2022-04-06 23:58:00</th>\n",
       "      <td>448.049227</td>\n",
       "      <td>3169.080</td>\n",
       "      <td>3172.600000</td>\n",
       "      <td>3169.970000</td>\n",
       "      <td>3166.390</td>\n",
       "      <td>651</td>\n",
       "    </tr>\n",
       "  </tbody>\n",
       "</table>\n",
       "<p>1047230 rows × 6 columns</p>\n",
       "</div>"
      ],
      "text/plain": [
       "                     ETHUSD_VOLUME  ETHUSD_OPEN  ETHUSD_HIGHT  ETHUSD_CLOSE  \\\n",
       "DATE                                                                          \n",
       "2020-04-07 17:58:00    6509.138870      172.270    172.290000    172.220000   \n",
       "2020-04-07 17:59:00    2030.296178      172.280    172.400000    172.310000   \n",
       "2020-04-07 18:00:00    1379.195752      171.974    172.440000    172.224027   \n",
       "2020-04-07 18:01:00    1070.755580      172.041    172.270000    172.260000   \n",
       "2020-04-07 18:02:00     323.613345      172.250    172.250000    171.980000   \n",
       "...                            ...          ...           ...           ...   \n",
       "2022-04-06 23:54:00     256.869062     3166.900   3168.300000   3164.100000   \n",
       "2022-04-06 23:55:00    1315.909782     3164.100   3176.485925   3169.950000   \n",
       "2022-04-06 23:56:00     272.323250     3170.050   3174.442301   3162.330000   \n",
       "2022-04-06 23:57:00     305.533719     3163.120   3169.800000   3168.840000   \n",
       "2022-04-06 23:58:00     448.049227     3169.080   3172.600000   3169.970000   \n",
       "\n",
       "                     ETHUSD_LOW  ETHUSD_TRANSACTIONS  \n",
       "DATE                                                  \n",
       "2020-04-07 17:58:00     171.953                   34  \n",
       "2020-04-07 17:59:00     171.928                   39  \n",
       "2020-04-07 18:00:00     171.974                   64  \n",
       "2020-04-07 18:01:00     171.930                   66  \n",
       "2020-04-07 18:02:00     171.840                   31  \n",
       "...                         ...                  ...  \n",
       "2022-04-06 23:54:00    3163.340                  661  \n",
       "2022-04-06 23:55:00    3162.730                 1020  \n",
       "2022-04-06 23:56:00    3162.200                  775  \n",
       "2022-04-06 23:57:00    3161.640                  613  \n",
       "2022-04-06 23:58:00    3166.390                  651  \n",
       "\n",
       "[1047230 rows x 6 columns]"
      ]
     },
     "execution_count": 2,
     "metadata": {},
     "output_type": "execute_result"
    }
   ],
   "source": [
    "dataloader = DataLoader(time_index_col= 'DATE', keep_cols = ['VOLUME','OPEN', \"HIGHT\",'CLOSE', 'LOW', 'TRANSACTIONS'])\n",
    "assets = {'ETHUSD':'../data/cryptos/ETHUSD_2020-04-07_2022-04-06.parquet'}\n",
    "ETHUSD_main_df = dataloader.load_dataset(assets)\n",
    "ETHUSD_main_df"
   ]
  },
  {
   "cell_type": "code",
   "execution_count": 3,
   "metadata": {},
   "outputs": [
    {
     "data": {
      "text/html": [
       "<div>\n",
       "<style scoped>\n",
       "    .dataframe tbody tr th:only-of-type {\n",
       "        vertical-align: middle;\n",
       "    }\n",
       "\n",
       "    .dataframe tbody tr th {\n",
       "        vertical-align: top;\n",
       "    }\n",
       "\n",
       "    .dataframe thead th {\n",
       "        text-align: right;\n",
       "    }\n",
       "</style>\n",
       "<table border=\"1\" class=\"dataframe\">\n",
       "  <thead>\n",
       "    <tr style=\"text-align: right;\">\n",
       "      <th></th>\n",
       "      <th>DATE</th>\n",
       "      <th>ETHUSD_VOLUME</th>\n",
       "      <th>ETHUSD_OPEN</th>\n",
       "      <th>ETHUSD_HIGHT</th>\n",
       "      <th>ETHUSD_CLOSE</th>\n",
       "      <th>ETHUSD_LOW</th>\n",
       "      <th>ETHUSD_TRANSACTIONS</th>\n",
       "    </tr>\n",
       "  </thead>\n",
       "  <tbody>\n",
       "    <tr>\n",
       "      <th>0</th>\n",
       "      <td>2020-04-07 17:58:00</td>\n",
       "      <td>6509.138870</td>\n",
       "      <td>172.270</td>\n",
       "      <td>172.290000</td>\n",
       "      <td>172.220000</td>\n",
       "      <td>171.953</td>\n",
       "      <td>34</td>\n",
       "    </tr>\n",
       "    <tr>\n",
       "      <th>1</th>\n",
       "      <td>2020-04-07 17:59:00</td>\n",
       "      <td>2030.296178</td>\n",
       "      <td>172.280</td>\n",
       "      <td>172.400000</td>\n",
       "      <td>172.310000</td>\n",
       "      <td>171.928</td>\n",
       "      <td>39</td>\n",
       "    </tr>\n",
       "    <tr>\n",
       "      <th>2</th>\n",
       "      <td>2020-04-07 18:00:00</td>\n",
       "      <td>1379.195752</td>\n",
       "      <td>171.974</td>\n",
       "      <td>172.440000</td>\n",
       "      <td>172.224027</td>\n",
       "      <td>171.974</td>\n",
       "      <td>64</td>\n",
       "    </tr>\n",
       "    <tr>\n",
       "      <th>3</th>\n",
       "      <td>2020-04-07 18:01:00</td>\n",
       "      <td>1070.755580</td>\n",
       "      <td>172.041</td>\n",
       "      <td>172.270000</td>\n",
       "      <td>172.260000</td>\n",
       "      <td>171.930</td>\n",
       "      <td>66</td>\n",
       "    </tr>\n",
       "    <tr>\n",
       "      <th>4</th>\n",
       "      <td>2020-04-07 18:02:00</td>\n",
       "      <td>323.613345</td>\n",
       "      <td>172.250</td>\n",
       "      <td>172.250000</td>\n",
       "      <td>171.980000</td>\n",
       "      <td>171.840</td>\n",
       "      <td>31</td>\n",
       "    </tr>\n",
       "    <tr>\n",
       "      <th>...</th>\n",
       "      <td>...</td>\n",
       "      <td>...</td>\n",
       "      <td>...</td>\n",
       "      <td>...</td>\n",
       "      <td>...</td>\n",
       "      <td>...</td>\n",
       "      <td>...</td>\n",
       "    </tr>\n",
       "    <tr>\n",
       "      <th>1047225</th>\n",
       "      <td>2022-04-06 23:54:00</td>\n",
       "      <td>256.869062</td>\n",
       "      <td>3166.900</td>\n",
       "      <td>3168.300000</td>\n",
       "      <td>3164.100000</td>\n",
       "      <td>3163.340</td>\n",
       "      <td>661</td>\n",
       "    </tr>\n",
       "    <tr>\n",
       "      <th>1047226</th>\n",
       "      <td>2022-04-06 23:55:00</td>\n",
       "      <td>1315.909782</td>\n",
       "      <td>3164.100</td>\n",
       "      <td>3176.485925</td>\n",
       "      <td>3169.950000</td>\n",
       "      <td>3162.730</td>\n",
       "      <td>1020</td>\n",
       "    </tr>\n",
       "    <tr>\n",
       "      <th>1047227</th>\n",
       "      <td>2022-04-06 23:56:00</td>\n",
       "      <td>272.323250</td>\n",
       "      <td>3170.050</td>\n",
       "      <td>3174.442301</td>\n",
       "      <td>3162.330000</td>\n",
       "      <td>3162.200</td>\n",
       "      <td>775</td>\n",
       "    </tr>\n",
       "    <tr>\n",
       "      <th>1047228</th>\n",
       "      <td>2022-04-06 23:57:00</td>\n",
       "      <td>305.533719</td>\n",
       "      <td>3163.120</td>\n",
       "      <td>3169.800000</td>\n",
       "      <td>3168.840000</td>\n",
       "      <td>3161.640</td>\n",
       "      <td>613</td>\n",
       "    </tr>\n",
       "    <tr>\n",
       "      <th>1047229</th>\n",
       "      <td>2022-04-06 23:58:00</td>\n",
       "      <td>448.049227</td>\n",
       "      <td>3169.080</td>\n",
       "      <td>3172.600000</td>\n",
       "      <td>3169.970000</td>\n",
       "      <td>3166.390</td>\n",
       "      <td>651</td>\n",
       "    </tr>\n",
       "  </tbody>\n",
       "</table>\n",
       "<p>1047230 rows × 7 columns</p>\n",
       "</div>"
      ],
      "text/plain": [
       "                       DATE  ETHUSD_VOLUME  ETHUSD_OPEN  ETHUSD_HIGHT  \\\n",
       "0       2020-04-07 17:58:00    6509.138870      172.270    172.290000   \n",
       "1       2020-04-07 17:59:00    2030.296178      172.280    172.400000   \n",
       "2       2020-04-07 18:00:00    1379.195752      171.974    172.440000   \n",
       "3       2020-04-07 18:01:00    1070.755580      172.041    172.270000   \n",
       "4       2020-04-07 18:02:00     323.613345      172.250    172.250000   \n",
       "...                     ...            ...          ...           ...   \n",
       "1047225 2022-04-06 23:54:00     256.869062     3166.900   3168.300000   \n",
       "1047226 2022-04-06 23:55:00    1315.909782     3164.100   3176.485925   \n",
       "1047227 2022-04-06 23:56:00     272.323250     3170.050   3174.442301   \n",
       "1047228 2022-04-06 23:57:00     305.533719     3163.120   3169.800000   \n",
       "1047229 2022-04-06 23:58:00     448.049227     3169.080   3172.600000   \n",
       "\n",
       "         ETHUSD_CLOSE  ETHUSD_LOW  ETHUSD_TRANSACTIONS  \n",
       "0          172.220000     171.953                   34  \n",
       "1          172.310000     171.928                   39  \n",
       "2          172.224027     171.974                   64  \n",
       "3          172.260000     171.930                   66  \n",
       "4          171.980000     171.840                   31  \n",
       "...               ...         ...                  ...  \n",
       "1047225   3164.100000    3163.340                  661  \n",
       "1047226   3169.950000    3162.730                 1020  \n",
       "1047227   3162.330000    3162.200                  775  \n",
       "1047228   3168.840000    3161.640                  613  \n",
       "1047229   3169.970000    3166.390                  651  \n",
       "\n",
       "[1047230 rows x 7 columns]"
      ]
     },
     "execution_count": 3,
     "metadata": {},
     "output_type": "execute_result"
    }
   ],
   "source": [
    "ETHUSD_df = ETHUSD_main_df.reset_index()\n",
    "ETHUSD_df"
   ]
  },
  {
   "cell_type": "code",
   "execution_count": 4,
   "metadata": {},
   "outputs": [
    {
     "name": "stdout",
     "output_type": "stream",
     "text": [
      "<class 'pandas.core.frame.DataFrame'>\n",
      "RangeIndex: 1047230 entries, 0 to 1047229\n",
      "Data columns (total 7 columns):\n",
      " #   Column               Non-Null Count    Dtype         \n",
      "---  ------               --------------    -----         \n",
      " 0   DATE                 1047230 non-null  datetime64[us]\n",
      " 1   ETHUSD_VOLUME        1047230 non-null  float64       \n",
      " 2   ETHUSD_OPEN          1047230 non-null  float64       \n",
      " 3   ETHUSD_HIGHT         1047230 non-null  float64       \n",
      " 4   ETHUSD_CLOSE         1047230 non-null  float64       \n",
      " 5   ETHUSD_LOW           1047230 non-null  float64       \n",
      " 6   ETHUSD_TRANSACTIONS  1047230 non-null  int64         \n",
      "dtypes: datetime64[us](1), float64(5), int64(1)\n",
      "memory usage: 55.9 MB\n"
     ]
    }
   ],
   "source": [
    "ETHUSD_df.info()"
   ]
  },
  {
   "cell_type": "code",
   "execution_count": 5,
   "metadata": {},
   "outputs": [],
   "source": [
    "summary_stats = ETHUSD_df.describe()"
   ]
  },
  {
   "cell_type": "code",
   "execution_count": 6,
   "metadata": {},
   "outputs": [],
   "source": [
    "correlation_matrix = ETHUSD_df.corr()"
   ]
  },
  {
   "cell_type": "code",
   "execution_count": 7,
   "metadata": {},
   "outputs": [
    {
     "name": "stdout",
     "output_type": "stream",
     "text": [
      "Summary Statistics:\n",
      "                             DATE  ETHUSD_VOLUME   ETHUSD_OPEN  ETHUSD_HIGHT  \\\n",
      "count                     1047230   1.047230e+06  1.047230e+06  1.047230e+06   \n",
      "mean   2021-04-06 13:26:20.346705   4.195454e+02  1.903268e+03  1.905380e+03   \n",
      "min           2020-04-07 17:58:00   5.000000e-04  1.486900e+02  1.496000e+02   \n",
      "25%           2020-10-06 13:33:15   7.235071e+01  3.919150e+02  3.923200e+02   \n",
      "50%           2021-04-06 09:02:30   1.700089e+02  1.915640e+03  1.918300e+03   \n",
      "75%           2021-10-05 04:29:45   4.400195e+02  3.109210e+03  3.111700e+03   \n",
      "max           2022-04-06 23:58:00   6.134199e+04  4.864970e+03  4.868790e+03   \n",
      "std                           NaN   7.916565e+02  1.400886e+03  1.402051e+03   \n",
      "\n",
      "       ETHUSD_CLOSE    ETHUSD_LOW  ETHUSD_TRANSACTIONS  \n",
      "count  1.047230e+06  1.047230e+06         1.047230e+06  \n",
      "mean   1.903275e+03  1.900886e+03         2.582546e+02  \n",
      "min    1.488600e+02  1.470000e+02         1.000000e+00  \n",
      "25%    3.918900e+02  3.914282e+02         7.400000e+01  \n",
      "50%    1.915750e+03  1.912980e+03         1.840000e+02  \n",
      "75%    3.109180e+03  3.106450e+03         3.330000e+02  \n",
      "max    4.864890e+03  4.859400e+03         1.063500e+04  \n",
      "std    1.400889e+03  1.399585e+03         2.995234e+02  \n",
      "\n",
      "Correlation Matrix:\n",
      "                         DATE  ETHUSD_VOLUME  ETHUSD_OPEN  ETHUSD_HIGHT  \\\n",
      "DATE                 1.000000      -0.180259     0.897307      0.897292   \n",
      "ETHUSD_VOLUME       -0.180259       1.000000    -0.160750     -0.160153   \n",
      "ETHUSD_OPEN          0.897307      -0.160750     1.000000      0.999997   \n",
      "ETHUSD_HIGHT         0.897292      -0.160153     0.999997      1.000000   \n",
      "ETHUSD_CLOSE         0.897308      -0.160783     0.999997      0.999998   \n",
      "ETHUSD_LOW           0.897405      -0.161585     0.999996      0.999992   \n",
      "ETHUSD_TRANSACTIONS  0.416912       0.481639     0.411922      0.412941   \n",
      "\n",
      "                     ETHUSD_CLOSE  ETHUSD_LOW  ETHUSD_TRANSACTIONS  \n",
      "DATE                     0.897308    0.897405             0.416912  \n",
      "ETHUSD_VOLUME           -0.160783   -0.161585             0.481639  \n",
      "ETHUSD_OPEN              0.999997    0.999996             0.411922  \n",
      "ETHUSD_HIGHT             0.999998    0.999992             0.412941  \n",
      "ETHUSD_CLOSE             1.000000    0.999996             0.411897  \n",
      "ETHUSD_LOW               0.999996    1.000000             0.410619  \n",
      "ETHUSD_TRANSACTIONS      0.411897    0.410619             1.000000  \n"
     ]
    }
   ],
   "source": [
    "print(\"Summary Statistics:\")\n",
    "print(summary_stats)\n",
    "print(\"\\nCorrelation Matrix:\")\n",
    "print(correlation_matrix)"
   ]
  },
  {
   "cell_type": "code",
   "execution_count": 8,
   "metadata": {},
   "outputs": [
    {
     "data": {
      "text/html": [
       "<div>\n",
       "<style scoped>\n",
       "    .dataframe tbody tr th:only-of-type {\n",
       "        vertical-align: middle;\n",
       "    }\n",
       "\n",
       "    .dataframe tbody tr th {\n",
       "        vertical-align: top;\n",
       "    }\n",
       "\n",
       "    .dataframe thead th {\n",
       "        text-align: right;\n",
       "    }\n",
       "</style>\n",
       "<table border=\"1\" class=\"dataframe\">\n",
       "  <thead>\n",
       "    <tr style=\"text-align: right;\">\n",
       "      <th></th>\n",
       "      <th>DATE</th>\n",
       "      <th>ETHUSD_VOLUME</th>\n",
       "      <th>ETHUSD_OPEN</th>\n",
       "      <th>ETHUSD_HIGHT</th>\n",
       "      <th>ETHUSD_CLOSE</th>\n",
       "      <th>ETHUSD_LOW</th>\n",
       "      <th>ETHUSD_TRANSACTIONS</th>\n",
       "    </tr>\n",
       "    <tr>\n",
       "      <th>DATE</th>\n",
       "      <th></th>\n",
       "      <th></th>\n",
       "      <th></th>\n",
       "      <th></th>\n",
       "      <th></th>\n",
       "      <th></th>\n",
       "      <th></th>\n",
       "    </tr>\n",
       "  </thead>\n",
       "  <tbody>\n",
       "    <tr>\n",
       "      <th>2020-04-07</th>\n",
       "      <td>2020-04-07 23:59:00</td>\n",
       "      <td>6050.274097</td>\n",
       "      <td>164.787</td>\n",
       "      <td>164.898021</td>\n",
       "      <td>164.64500</td>\n",
       "      <td>164.560000</td>\n",
       "      <td>47</td>\n",
       "    </tr>\n",
       "    <tr>\n",
       "      <th>2020-04-08</th>\n",
       "      <td>2020-04-08 23:59:00</td>\n",
       "      <td>835.208537</td>\n",
       "      <td>173.300</td>\n",
       "      <td>173.780000</td>\n",
       "      <td>173.78000</td>\n",
       "      <td>173.096000</td>\n",
       "      <td>69</td>\n",
       "    </tr>\n",
       "    <tr>\n",
       "      <th>2020-04-09</th>\n",
       "      <td>2020-04-09 23:59:00</td>\n",
       "      <td>1405.588180</td>\n",
       "      <td>169.825</td>\n",
       "      <td>170.070000</td>\n",
       "      <td>170.00000</td>\n",
       "      <td>169.697000</td>\n",
       "      <td>60</td>\n",
       "    </tr>\n",
       "    <tr>\n",
       "      <th>2020-04-10</th>\n",
       "      <td>2020-04-10 23:59:00</td>\n",
       "      <td>588.018139</td>\n",
       "      <td>158.180</td>\n",
       "      <td>158.200000</td>\n",
       "      <td>158.16999</td>\n",
       "      <td>157.828000</td>\n",
       "      <td>30</td>\n",
       "    </tr>\n",
       "    <tr>\n",
       "      <th>2020-04-11</th>\n",
       "      <td>2020-04-11 23:59:00</td>\n",
       "      <td>5.016882</td>\n",
       "      <td>158.650</td>\n",
       "      <td>158.790000</td>\n",
       "      <td>158.58000</td>\n",
       "      <td>158.410000</td>\n",
       "      <td>23</td>\n",
       "    </tr>\n",
       "    <tr>\n",
       "      <th>...</th>\n",
       "      <td>...</td>\n",
       "      <td>...</td>\n",
       "      <td>...</td>\n",
       "      <td>...</td>\n",
       "      <td>...</td>\n",
       "      <td>...</td>\n",
       "      <td>...</td>\n",
       "    </tr>\n",
       "    <tr>\n",
       "      <th>2022-04-02</th>\n",
       "      <td>2022-04-02 23:59:00</td>\n",
       "      <td>24.062936</td>\n",
       "      <td>3444.550</td>\n",
       "      <td>3445.950000</td>\n",
       "      <td>3445.37000</td>\n",
       "      <td>3442.555228</td>\n",
       "      <td>276</td>\n",
       "    </tr>\n",
       "    <tr>\n",
       "      <th>2022-04-03</th>\n",
       "      <td>2022-04-03 23:59:00</td>\n",
       "      <td>47.206842</td>\n",
       "      <td>3521.020</td>\n",
       "      <td>3523.190000</td>\n",
       "      <td>3522.79000</td>\n",
       "      <td>3518.637406</td>\n",
       "      <td>269</td>\n",
       "    </tr>\n",
       "    <tr>\n",
       "      <th>2022-04-04</th>\n",
       "      <td>2022-04-04 23:59:00</td>\n",
       "      <td>50.290972</td>\n",
       "      <td>3521.460</td>\n",
       "      <td>3523.000000</td>\n",
       "      <td>3520.40000</td>\n",
       "      <td>3519.200000</td>\n",
       "      <td>339</td>\n",
       "    </tr>\n",
       "    <tr>\n",
       "      <th>2022-04-05</th>\n",
       "      <td>2022-04-05 23:58:00</td>\n",
       "      <td>412.878174</td>\n",
       "      <td>3409.680</td>\n",
       "      <td>3413.480000</td>\n",
       "      <td>3409.23000</td>\n",
       "      <td>3406.100000</td>\n",
       "      <td>762</td>\n",
       "    </tr>\n",
       "    <tr>\n",
       "      <th>2022-04-06</th>\n",
       "      <td>2022-04-06 23:58:00</td>\n",
       "      <td>448.049227</td>\n",
       "      <td>3169.080</td>\n",
       "      <td>3172.600000</td>\n",
       "      <td>3169.97000</td>\n",
       "      <td>3166.390000</td>\n",
       "      <td>651</td>\n",
       "    </tr>\n",
       "  </tbody>\n",
       "</table>\n",
       "<p>728 rows × 7 columns</p>\n",
       "</div>"
      ],
      "text/plain": [
       "                          DATE  ETHUSD_VOLUME  ETHUSD_OPEN  ETHUSD_HIGHT  \\\n",
       "DATE                                                                       \n",
       "2020-04-07 2020-04-07 23:59:00    6050.274097      164.787    164.898021   \n",
       "2020-04-08 2020-04-08 23:59:00     835.208537      173.300    173.780000   \n",
       "2020-04-09 2020-04-09 23:59:00    1405.588180      169.825    170.070000   \n",
       "2020-04-10 2020-04-10 23:59:00     588.018139      158.180    158.200000   \n",
       "2020-04-11 2020-04-11 23:59:00       5.016882      158.650    158.790000   \n",
       "...                        ...            ...          ...           ...   \n",
       "2022-04-02 2022-04-02 23:59:00      24.062936     3444.550   3445.950000   \n",
       "2022-04-03 2022-04-03 23:59:00      47.206842     3521.020   3523.190000   \n",
       "2022-04-04 2022-04-04 23:59:00      50.290972     3521.460   3523.000000   \n",
       "2022-04-05 2022-04-05 23:58:00     412.878174     3409.680   3413.480000   \n",
       "2022-04-06 2022-04-06 23:58:00     448.049227     3169.080   3172.600000   \n",
       "\n",
       "            ETHUSD_CLOSE   ETHUSD_LOW  ETHUSD_TRANSACTIONS  \n",
       "DATE                                                        \n",
       "2020-04-07     164.64500   164.560000                   47  \n",
       "2020-04-08     173.78000   173.096000                   69  \n",
       "2020-04-09     170.00000   169.697000                   60  \n",
       "2020-04-10     158.16999   157.828000                   30  \n",
       "2020-04-11     158.58000   158.410000                   23  \n",
       "...                  ...          ...                  ...  \n",
       "2022-04-02    3445.37000  3442.555228                  276  \n",
       "2022-04-03    3522.79000  3518.637406                  269  \n",
       "2022-04-04    3520.40000  3519.200000                  339  \n",
       "2022-04-05    3409.23000  3406.100000                  762  \n",
       "2022-04-06    3169.97000  3166.390000                  651  \n",
       "\n",
       "[728 rows x 7 columns]"
      ]
     },
     "execution_count": 8,
     "metadata": {},
     "output_type": "execute_result"
    }
   ],
   "source": [
    "ETHUSD_df['DATE']\n",
    "\n",
    "# Group by date and keep the last entry for each date\n",
    "ETHUSD_df = ETHUSD_df.groupby(ETHUSD_df['DATE'].dt.date).last()\n",
    "ETHUSD_df"
   ]
  },
  {
   "cell_type": "code",
   "execution_count": 9,
   "metadata": {},
   "outputs": [
    {
     "name": "stdout",
     "output_type": "stream",
     "text": [
      "Total Days: 728\n",
      "Total Years: 1.9931553730321698\n"
     ]
    }
   ],
   "source": [
    "total_days = ETHUSD_df['DATE'].dt.date.nunique()\n",
    "total_years = total_days / 365.25  # Accounting for leap years\n",
    "\n",
    "# Display the result\n",
    "print(\"Total Days:\", total_days)\n",
    "print(\"Total Years:\", total_years)"
   ]
  },
  {
   "cell_type": "code",
   "execution_count": 10,
   "metadata": {},
   "outputs": [
    {
     "data": {
      "text/html": [
       "<div>\n",
       "<style scoped>\n",
       "    .dataframe tbody tr th:only-of-type {\n",
       "        vertical-align: middle;\n",
       "    }\n",
       "\n",
       "    .dataframe tbody tr th {\n",
       "        vertical-align: top;\n",
       "    }\n",
       "\n",
       "    .dataframe thead th {\n",
       "        text-align: right;\n",
       "    }\n",
       "</style>\n",
       "<table border=\"1\" class=\"dataframe\">\n",
       "  <thead>\n",
       "    <tr style=\"text-align: right;\">\n",
       "      <th></th>\n",
       "      <th>DATE</th>\n",
       "      <th>ETHUSD_VOLUME</th>\n",
       "      <th>ETHUSD_OPEN</th>\n",
       "      <th>ETHUSD_HIGHT</th>\n",
       "      <th>ETHUSD_CLOSE</th>\n",
       "      <th>ETHUSD_LOW</th>\n",
       "      <th>ETHUSD_TRANSACTIONS</th>\n",
       "    </tr>\n",
       "  </thead>\n",
       "  <tbody>\n",
       "    <tr>\n",
       "      <th>0</th>\n",
       "      <td>2020-04-07 23:59:00</td>\n",
       "      <td>6050.274097</td>\n",
       "      <td>164.787</td>\n",
       "      <td>164.898021</td>\n",
       "      <td>164.64500</td>\n",
       "      <td>164.560000</td>\n",
       "      <td>47</td>\n",
       "    </tr>\n",
       "    <tr>\n",
       "      <th>1</th>\n",
       "      <td>2020-04-08 23:59:00</td>\n",
       "      <td>835.208537</td>\n",
       "      <td>173.300</td>\n",
       "      <td>173.780000</td>\n",
       "      <td>173.78000</td>\n",
       "      <td>173.096000</td>\n",
       "      <td>69</td>\n",
       "    </tr>\n",
       "    <tr>\n",
       "      <th>2</th>\n",
       "      <td>2020-04-09 23:59:00</td>\n",
       "      <td>1405.588180</td>\n",
       "      <td>169.825</td>\n",
       "      <td>170.070000</td>\n",
       "      <td>170.00000</td>\n",
       "      <td>169.697000</td>\n",
       "      <td>60</td>\n",
       "    </tr>\n",
       "    <tr>\n",
       "      <th>3</th>\n",
       "      <td>2020-04-10 23:59:00</td>\n",
       "      <td>588.018139</td>\n",
       "      <td>158.180</td>\n",
       "      <td>158.200000</td>\n",
       "      <td>158.16999</td>\n",
       "      <td>157.828000</td>\n",
       "      <td>30</td>\n",
       "    </tr>\n",
       "    <tr>\n",
       "      <th>4</th>\n",
       "      <td>2020-04-11 23:59:00</td>\n",
       "      <td>5.016882</td>\n",
       "      <td>158.650</td>\n",
       "      <td>158.790000</td>\n",
       "      <td>158.58000</td>\n",
       "      <td>158.410000</td>\n",
       "      <td>23</td>\n",
       "    </tr>\n",
       "    <tr>\n",
       "      <th>...</th>\n",
       "      <td>...</td>\n",
       "      <td>...</td>\n",
       "      <td>...</td>\n",
       "      <td>...</td>\n",
       "      <td>...</td>\n",
       "      <td>...</td>\n",
       "      <td>...</td>\n",
       "    </tr>\n",
       "    <tr>\n",
       "      <th>723</th>\n",
       "      <td>2022-04-02 23:59:00</td>\n",
       "      <td>24.062936</td>\n",
       "      <td>3444.550</td>\n",
       "      <td>3445.950000</td>\n",
       "      <td>3445.37000</td>\n",
       "      <td>3442.555228</td>\n",
       "      <td>276</td>\n",
       "    </tr>\n",
       "    <tr>\n",
       "      <th>724</th>\n",
       "      <td>2022-04-03 23:59:00</td>\n",
       "      <td>47.206842</td>\n",
       "      <td>3521.020</td>\n",
       "      <td>3523.190000</td>\n",
       "      <td>3522.79000</td>\n",
       "      <td>3518.637406</td>\n",
       "      <td>269</td>\n",
       "    </tr>\n",
       "    <tr>\n",
       "      <th>725</th>\n",
       "      <td>2022-04-04 23:59:00</td>\n",
       "      <td>50.290972</td>\n",
       "      <td>3521.460</td>\n",
       "      <td>3523.000000</td>\n",
       "      <td>3520.40000</td>\n",
       "      <td>3519.200000</td>\n",
       "      <td>339</td>\n",
       "    </tr>\n",
       "    <tr>\n",
       "      <th>726</th>\n",
       "      <td>2022-04-05 23:58:00</td>\n",
       "      <td>412.878174</td>\n",
       "      <td>3409.680</td>\n",
       "      <td>3413.480000</td>\n",
       "      <td>3409.23000</td>\n",
       "      <td>3406.100000</td>\n",
       "      <td>762</td>\n",
       "    </tr>\n",
       "    <tr>\n",
       "      <th>727</th>\n",
       "      <td>2022-04-06 23:58:00</td>\n",
       "      <td>448.049227</td>\n",
       "      <td>3169.080</td>\n",
       "      <td>3172.600000</td>\n",
       "      <td>3169.97000</td>\n",
       "      <td>3166.390000</td>\n",
       "      <td>651</td>\n",
       "    </tr>\n",
       "  </tbody>\n",
       "</table>\n",
       "<p>728 rows × 7 columns</p>\n",
       "</div>"
      ],
      "text/plain": [
       "                   DATE  ETHUSD_VOLUME  ETHUSD_OPEN  ETHUSD_HIGHT  \\\n",
       "0   2020-04-07 23:59:00    6050.274097      164.787    164.898021   \n",
       "1   2020-04-08 23:59:00     835.208537      173.300    173.780000   \n",
       "2   2020-04-09 23:59:00    1405.588180      169.825    170.070000   \n",
       "3   2020-04-10 23:59:00     588.018139      158.180    158.200000   \n",
       "4   2020-04-11 23:59:00       5.016882      158.650    158.790000   \n",
       "..                  ...            ...          ...           ...   \n",
       "723 2022-04-02 23:59:00      24.062936     3444.550   3445.950000   \n",
       "724 2022-04-03 23:59:00      47.206842     3521.020   3523.190000   \n",
       "725 2022-04-04 23:59:00      50.290972     3521.460   3523.000000   \n",
       "726 2022-04-05 23:58:00     412.878174     3409.680   3413.480000   \n",
       "727 2022-04-06 23:58:00     448.049227     3169.080   3172.600000   \n",
       "\n",
       "     ETHUSD_CLOSE   ETHUSD_LOW  ETHUSD_TRANSACTIONS  \n",
       "0       164.64500   164.560000                   47  \n",
       "1       173.78000   173.096000                   69  \n",
       "2       170.00000   169.697000                   60  \n",
       "3       158.16999   157.828000                   30  \n",
       "4       158.58000   158.410000                   23  \n",
       "..            ...          ...                  ...  \n",
       "723    3445.37000  3442.555228                  276  \n",
       "724    3522.79000  3518.637406                  269  \n",
       "725    3520.40000  3519.200000                  339  \n",
       "726    3409.23000  3406.100000                  762  \n",
       "727    3169.97000  3166.390000                  651  \n",
       "\n",
       "[728 rows x 7 columns]"
      ]
     },
     "execution_count": 10,
     "metadata": {},
     "output_type": "execute_result"
    }
   ],
   "source": [
    "ETHUSD_df=ETHUSD_df[ETHUSD_df['ETHUSD_VOLUME']!=0]\n",
    "ETHUSD_df.reset_index(drop=True, inplace=True)\n",
    "ETHUSD_df"
   ]
  },
  {
   "cell_type": "code",
   "execution_count": 11,
   "metadata": {},
   "outputs": [],
   "source": [
    "ETHUSD_df1 = ETHUSD_df.rename(columns={\n",
    "    'DATE': 'Date',\n",
    "    'ETHUSD_VOLUME': 'volume',\n",
    "    'ETHUSD_OPEN': 'open',\n",
    "    'ETHUSD_HIGHT': 'high',\n",
    "    'ETHUSD_CLOSE': 'close',\n",
    "    'ETHUSD_LOW': 'low',\n",
    "    'ETHUSD_TRANSACTIONS': 'transactions'\n",
    "})"
   ]
  },
  {
   "cell_type": "markdown",
   "metadata": {},
   "source": [
    "# Resistance/Support Detection"
   ]
  },
  {
   "cell_type": "code",
   "execution_count": 12,
   "metadata": {},
   "outputs": [],
   "source": [
    "def support(df1, l, n1, n2): #n1 n2 before and after candle l\n",
    "    for i in range(l-n1+1, l+1):\n",
    "        if(df1.low[i]>df1.low[i-1]):\n",
    "            return 0\n",
    "    for i in range(l+1,l+n2+1):\n",
    "        if(df1.low[i]<df1.low[i-1]):\n",
    "            return 0\n",
    "    return 1\n",
    "\n",
    "def resistance(df1, l, n1, n2): #n1 n2 before and after candle l\n",
    "    for i in range(l-n1+1, l+1):\n",
    "        if(df1.high[i]<df1.high[i-1]):\n",
    "            return 0\n",
    "    for i in range(l+1,l+n2+1):\n",
    "        if(df1.high[i]>df1.high[i-1]):\n",
    "            return 0\n",
    "    return 1"
   ]
  },
  {
   "cell_type": "code",
   "execution_count": 74,
   "metadata": {},
   "outputs": [
    {
     "name": "stdout",
     "output_type": "stream",
     "text": [
      "Collecting nbformat\n",
      "  Downloading nbformat-5.9.2-py3-none-any.whl (77 kB)\n",
      "\u001b[2K     \u001b[90m━━━━━━━━━━━━━━━━━━━━━━━━━━━━━━━━━━━━━━━━\u001b[0m \u001b[32m77.6/77.6 kB\u001b[0m \u001b[31m4.8 MB/s\u001b[0m eta \u001b[36m0:00:00\u001b[0m\n",
      "\u001b[?25hCollecting fastjsonschema\n",
      "  Downloading fastjsonschema-2.19.0-py3-none-any.whl (23 kB)\n",
      "Collecting jsonschema>=2.6\n",
      "  Downloading jsonschema-4.20.0-py3-none-any.whl (84 kB)\n",
      "\u001b[2K     \u001b[90m━━━━━━━━━━━━━━━━━━━━━━━━━━━━━━━━━━━━━━━━\u001b[0m \u001b[32m84.7/84.7 kB\u001b[0m \u001b[31m13.6 MB/s\u001b[0m eta \u001b[36m0:00:00\u001b[0m\n",
      "\u001b[?25hRequirement already satisfied: jupyter-core in /Users/ekram/Study/ML-in-Finance/financeml_env/lib/python3.10/site-packages (from nbformat) (5.5.1)\n",
      "Requirement already satisfied: traitlets>=5.1 in /Users/ekram/Study/ML-in-Finance/financeml_env/lib/python3.10/site-packages (from nbformat) (5.14.0)\n",
      "Collecting jsonschema-specifications>=2023.03.6\n",
      "  Downloading jsonschema_specifications-2023.11.2-py3-none-any.whl (17 kB)\n",
      "Collecting attrs>=22.2.0\n",
      "  Downloading attrs-23.1.0-py3-none-any.whl (61 kB)\n",
      "\u001b[2K     \u001b[90m━━━━━━━━━━━━━━━━━━━━━━━━━━━━━━━━━━━━━━━━\u001b[0m \u001b[32m61.2/61.2 kB\u001b[0m \u001b[31m11.5 MB/s\u001b[0m eta \u001b[36m0:00:00\u001b[0m\n",
      "\u001b[?25hCollecting referencing>=0.28.4\n",
      "  Downloading referencing-0.32.0-py3-none-any.whl (26 kB)\n",
      "Collecting rpds-py>=0.7.1\n",
      "  Downloading rpds_py-0.15.2-cp310-cp310-macosx_11_0_arm64.whl (336 kB)\n",
      "\u001b[2K     \u001b[90m━━━━━━━━━━━━━━━━━━━━━━━━━━━━━━━━━━━━━━\u001b[0m \u001b[32m336.5/336.5 kB\u001b[0m \u001b[31m12.5 MB/s\u001b[0m eta \u001b[36m0:00:00\u001b[0m\n",
      "\u001b[?25hRequirement already satisfied: platformdirs>=2.5 in /Users/ekram/Study/ML-in-Finance/financeml_env/lib/python3.10/site-packages (from jupyter-core->nbformat) (4.1.0)\n",
      "Installing collected packages: fastjsonschema, rpds-py, attrs, referencing, jsonschema-specifications, jsonschema, nbformat\n",
      "Successfully installed attrs-23.1.0 fastjsonschema-2.19.0 jsonschema-4.20.0 jsonschema-specifications-2023.11.2 nbformat-5.9.2 referencing-0.32.0 rpds-py-0.15.2\n",
      "\u001b[33mWARNING: There was an error checking the latest version of pip.\u001b[0m\u001b[33m\n",
      "\u001b[0mNote: you may need to restart the kernel to use updated packages.\n"
     ]
    }
   ],
   "source": [
    "pip install nbformat"
   ]
  },
  {
   "cell_type": "code",
   "execution_count": 16,
   "metadata": {},
   "outputs": [
    {
     "data": {
      "application/vnd.plotly.v1+json": {
       "config": {
        "plotlyServerURL": "https://plot.ly"
       },
       "data": [
        {
         "close": [
          233.41,
          233.18,
          236.19024638,
          239.24,
          236.08,
          245.558,
          264.28,
          275.66,
          279.59,
          305.66,
          311.44,
          321.987,
          316.752,
          318.46,
          335.018,
          346.86,
          387.15,
          371.87,
          386.22,
          389.83,
          401.21,
          394.775,
          379.75,
          397.381,
          390.087,
          395.9,
          378.88,
          387.23,
          424.434,
          438.132,
          432.55,
          433.7,
          431.61,
          422.31,
          407.215,
          415.92,
          388.09,
          395.86926344,
          390.86,
          407.92,
          383.33,
          386.1,
          383.16,
          395.47,
          398.58,
          428.94,
          433.775,
          475.345,
          439.496,
          382.55,
          385.82,
          335.26,
          352.51,
          353.71,
          337.215,
          351.29,
          368.06,
          373.93,
          388.1,
          366.25,
          377.43,
          364.2,
          365.23,
          389.45,
          384.45,
          385.117,
          371.04,
          340.11,
          344.26,
          320.63,
          349.14,
          351.9,
          353.7,
          357.55,
          354.57459566,
          359.9,
          359.883,
          353,
          346.03,
          346.18,
          352.48,
          354.23,
          340.78,
          341.68,
          351.5,
          365.36,
          370.75,
          374.61,
          387,
          381.37,
          379.08,
          377.88,
          365.21,
          368.48,
          378.58,
          379.63,
          368.81,
          390.198,
          414.31,
          409.52
         ],
         "high": [
          233.99397614,
          233.18,
          236.2,
          239.58,
          236.47661858,
          246.01,
          264.99917285,
          275.97,
          280.06,
          306.01,
          311.74,
          322.86,
          317.72,
          318.51,
          335.51901517,
          347.04,
          388.19,
          372.629,
          386.41,
          390,
          401.25,
          395.34,
          380.01,
          400.06,
          390.64,
          396,
          378.98,
          387.41,
          425.52,
          438.83,
          433.42,
          434.48,
          431.61,
          422.84,
          408.67,
          416.79,
          388.13,
          396.22,
          391.61227059,
          408.5,
          383.69,
          386.31142688,
          383.43,
          395.94,
          399.47516268,
          429.95,
          434.6657209,
          477.05,
          440.59,
          383.36,
          386.94,
          336.43,
          353.35,
          354.34,
          338.17,
          351.75,
          368.39435373,
          374.42770948,
          388.1,
          366.58,
          377.63,
          364.2,
          365.69,
          390.1,
          385,
          386.24,
          371.77892437,
          341.28,
          344.65,
          321.26,
          349.5,
          352.65,
          354.62936345,
          358.48,
          354.71,
          360.62,
          360.43,
          353.56,
          346.31,
          346.54,
          353.12,
          354.23,
          341.09,
          342.46,
          351.66,
          365.79,
          371.31114251,
          374.74144524,
          387.5738248,
          381.78,
          379.40936416,
          377.96,
          365.94,
          368.56,
          378.74,
          379.73,
          368.85,
          392.09,
          414.86,
          409.97
         ],
         "low": [
          233.41,
          232.66,
          235.77,
          238.734,
          235.98,
          245.469,
          263.417,
          275.269,
          279.068,
          305.255,
          310.713,
          321.475,
          316.752,
          317.846,
          334.744,
          346.564,
          386.865,
          371.2,
          385.31,
          389.05115139,
          400.72,
          394.63167939,
          378.91753554,
          396.02,
          390.015,
          395.341,
          378.429,
          386.88,
          423.503,
          437.764,
          431.914,
          433.526,
          429.748,
          421.866,
          405.459,
          415.639,
          387.115,
          395.224,
          390.52,
          407.755,
          382.91,
          385.204,
          381.837,
          395.27,
          398.32,
          428.289,
          433.698,
          475.345,
          439.28,
          380.592,
          385.238,
          334.804,
          352.29,
          353.1,
          336.631,
          350.355,
          367.59,
          373.528,
          387.331,
          365.86,
          376.81,
          364.01,
          364.662,
          389.085,
          384.093,
          385.097,
          370.64,
          339.33,
          344.05,
          319.48,
          348.8,
          351.764,
          353.7,
          357.211,
          353.58,
          359.7,
          359.24,
          352.9,
          345.68,
          345.896,
          352.41,
          353.379,
          340.2,
          341.646,
          350.95,
          364.763,
          370.574,
          374.37,
          386.43,
          380.747,
          378.85,
          377.369,
          365.016,
          368.369,
          377.679,
          379.064,
          367.859,
          390.198,
          413.645,
          409.153
         ],
         "open": [
          233.51,
          232.66,
          236.2,
          239.08,
          236.062,
          245.97,
          264.6,
          275.64,
          279.89,
          305.64,
          311.25,
          322.59,
          317.55,
          318.015,
          335.3,
          346.82,
          388.11,
          371.87,
          386.08,
          389.05115139,
          401.19,
          395.3,
          379.88,
          396.31,
          390.015,
          395.99,
          378.543,
          386.92,
          424.37,
          438.29,
          433.19,
          433.71,
          430.33,
          422.31,
          405.78,
          415.983,
          387.2,
          395.98,
          391.61227059,
          408.22,
          383.4,
          385.98,
          381.84,
          395.67,
          399.03,
          429.13,
          433.83,
          475.99,
          440.21,
          382.32,
          385.7,
          335.33,
          353.35,
          353.51,
          337.3,
          351.05,
          368.11,
          374.02,
          387.77,
          366.21,
          377.29,
          364.03,
          364.684,
          389.085,
          384.75,
          385.32,
          371.77892437,
          340.32,
          344.62,
          319.538,
          348.94,
          351.91,
          354.08,
          357.39,
          354.05,
          359.89,
          359.28,
          353.12,
          345.83,
          345.955,
          352.5,
          353.47,
          340.5,
          342.44,
          351.12,
          364.77,
          371.28,
          374.37,
          386.96,
          381.37,
          378.91,
          377.369,
          365.94,
          368.369,
          378.24,
          379.31,
          368.74,
          391.77,
          414.54,
          409.9
         ],
         "type": "candlestick",
         "x": [
          100,
          101,
          102,
          103,
          104,
          105,
          106,
          107,
          108,
          109,
          110,
          111,
          112,
          113,
          114,
          115,
          116,
          117,
          118,
          119,
          120,
          121,
          122,
          123,
          124,
          125,
          126,
          127,
          128,
          129,
          130,
          131,
          132,
          133,
          134,
          135,
          136,
          137,
          138,
          139,
          140,
          141,
          142,
          143,
          144,
          145,
          146,
          147,
          148,
          149,
          150,
          151,
          152,
          153,
          154,
          155,
          156,
          157,
          158,
          159,
          160,
          161,
          162,
          163,
          164,
          165,
          166,
          167,
          168,
          169,
          170,
          171,
          172,
          173,
          174,
          175,
          176,
          177,
          178,
          179,
          180,
          181,
          182,
          183,
          184,
          185,
          186,
          187,
          188,
          189,
          190,
          191,
          192,
          193,
          194,
          195,
          196,
          197,
          198,
          199
         ]
        }
       ],
       "layout": {
        "template": {
         "data": {
          "bar": [
           {
            "error_x": {
             "color": "#2a3f5f"
            },
            "error_y": {
             "color": "#2a3f5f"
            },
            "marker": {
             "line": {
              "color": "#E5ECF6",
              "width": 0.5
             },
             "pattern": {
              "fillmode": "overlay",
              "size": 10,
              "solidity": 0.2
             }
            },
            "type": "bar"
           }
          ],
          "barpolar": [
           {
            "marker": {
             "line": {
              "color": "#E5ECF6",
              "width": 0.5
             },
             "pattern": {
              "fillmode": "overlay",
              "size": 10,
              "solidity": 0.2
             }
            },
            "type": "barpolar"
           }
          ],
          "carpet": [
           {
            "aaxis": {
             "endlinecolor": "#2a3f5f",
             "gridcolor": "white",
             "linecolor": "white",
             "minorgridcolor": "white",
             "startlinecolor": "#2a3f5f"
            },
            "baxis": {
             "endlinecolor": "#2a3f5f",
             "gridcolor": "white",
             "linecolor": "white",
             "minorgridcolor": "white",
             "startlinecolor": "#2a3f5f"
            },
            "type": "carpet"
           }
          ],
          "choropleth": [
           {
            "colorbar": {
             "outlinewidth": 0,
             "ticks": ""
            },
            "type": "choropleth"
           }
          ],
          "contour": [
           {
            "colorbar": {
             "outlinewidth": 0,
             "ticks": ""
            },
            "colorscale": [
             [
              0,
              "#0d0887"
             ],
             [
              0.1111111111111111,
              "#46039f"
             ],
             [
              0.2222222222222222,
              "#7201a8"
             ],
             [
              0.3333333333333333,
              "#9c179e"
             ],
             [
              0.4444444444444444,
              "#bd3786"
             ],
             [
              0.5555555555555556,
              "#d8576b"
             ],
             [
              0.6666666666666666,
              "#ed7953"
             ],
             [
              0.7777777777777778,
              "#fb9f3a"
             ],
             [
              0.8888888888888888,
              "#fdca26"
             ],
             [
              1,
              "#f0f921"
             ]
            ],
            "type": "contour"
           }
          ],
          "contourcarpet": [
           {
            "colorbar": {
             "outlinewidth": 0,
             "ticks": ""
            },
            "type": "contourcarpet"
           }
          ],
          "heatmap": [
           {
            "colorbar": {
             "outlinewidth": 0,
             "ticks": ""
            },
            "colorscale": [
             [
              0,
              "#0d0887"
             ],
             [
              0.1111111111111111,
              "#46039f"
             ],
             [
              0.2222222222222222,
              "#7201a8"
             ],
             [
              0.3333333333333333,
              "#9c179e"
             ],
             [
              0.4444444444444444,
              "#bd3786"
             ],
             [
              0.5555555555555556,
              "#d8576b"
             ],
             [
              0.6666666666666666,
              "#ed7953"
             ],
             [
              0.7777777777777778,
              "#fb9f3a"
             ],
             [
              0.8888888888888888,
              "#fdca26"
             ],
             [
              1,
              "#f0f921"
             ]
            ],
            "type": "heatmap"
           }
          ],
          "heatmapgl": [
           {
            "colorbar": {
             "outlinewidth": 0,
             "ticks": ""
            },
            "colorscale": [
             [
              0,
              "#0d0887"
             ],
             [
              0.1111111111111111,
              "#46039f"
             ],
             [
              0.2222222222222222,
              "#7201a8"
             ],
             [
              0.3333333333333333,
              "#9c179e"
             ],
             [
              0.4444444444444444,
              "#bd3786"
             ],
             [
              0.5555555555555556,
              "#d8576b"
             ],
             [
              0.6666666666666666,
              "#ed7953"
             ],
             [
              0.7777777777777778,
              "#fb9f3a"
             ],
             [
              0.8888888888888888,
              "#fdca26"
             ],
             [
              1,
              "#f0f921"
             ]
            ],
            "type": "heatmapgl"
           }
          ],
          "histogram": [
           {
            "marker": {
             "pattern": {
              "fillmode": "overlay",
              "size": 10,
              "solidity": 0.2
             }
            },
            "type": "histogram"
           }
          ],
          "histogram2d": [
           {
            "colorbar": {
             "outlinewidth": 0,
             "ticks": ""
            },
            "colorscale": [
             [
              0,
              "#0d0887"
             ],
             [
              0.1111111111111111,
              "#46039f"
             ],
             [
              0.2222222222222222,
              "#7201a8"
             ],
             [
              0.3333333333333333,
              "#9c179e"
             ],
             [
              0.4444444444444444,
              "#bd3786"
             ],
             [
              0.5555555555555556,
              "#d8576b"
             ],
             [
              0.6666666666666666,
              "#ed7953"
             ],
             [
              0.7777777777777778,
              "#fb9f3a"
             ],
             [
              0.8888888888888888,
              "#fdca26"
             ],
             [
              1,
              "#f0f921"
             ]
            ],
            "type": "histogram2d"
           }
          ],
          "histogram2dcontour": [
           {
            "colorbar": {
             "outlinewidth": 0,
             "ticks": ""
            },
            "colorscale": [
             [
              0,
              "#0d0887"
             ],
             [
              0.1111111111111111,
              "#46039f"
             ],
             [
              0.2222222222222222,
              "#7201a8"
             ],
             [
              0.3333333333333333,
              "#9c179e"
             ],
             [
              0.4444444444444444,
              "#bd3786"
             ],
             [
              0.5555555555555556,
              "#d8576b"
             ],
             [
              0.6666666666666666,
              "#ed7953"
             ],
             [
              0.7777777777777778,
              "#fb9f3a"
             ],
             [
              0.8888888888888888,
              "#fdca26"
             ],
             [
              1,
              "#f0f921"
             ]
            ],
            "type": "histogram2dcontour"
           }
          ],
          "mesh3d": [
           {
            "colorbar": {
             "outlinewidth": 0,
             "ticks": ""
            },
            "type": "mesh3d"
           }
          ],
          "parcoords": [
           {
            "line": {
             "colorbar": {
              "outlinewidth": 0,
              "ticks": ""
             }
            },
            "type": "parcoords"
           }
          ],
          "pie": [
           {
            "automargin": true,
            "type": "pie"
           }
          ],
          "scatter": [
           {
            "fillpattern": {
             "fillmode": "overlay",
             "size": 10,
             "solidity": 0.2
            },
            "type": "scatter"
           }
          ],
          "scatter3d": [
           {
            "line": {
             "colorbar": {
              "outlinewidth": 0,
              "ticks": ""
             }
            },
            "marker": {
             "colorbar": {
              "outlinewidth": 0,
              "ticks": ""
             }
            },
            "type": "scatter3d"
           }
          ],
          "scattercarpet": [
           {
            "marker": {
             "colorbar": {
              "outlinewidth": 0,
              "ticks": ""
             }
            },
            "type": "scattercarpet"
           }
          ],
          "scattergeo": [
           {
            "marker": {
             "colorbar": {
              "outlinewidth": 0,
              "ticks": ""
             }
            },
            "type": "scattergeo"
           }
          ],
          "scattergl": [
           {
            "marker": {
             "colorbar": {
              "outlinewidth": 0,
              "ticks": ""
             }
            },
            "type": "scattergl"
           }
          ],
          "scattermapbox": [
           {
            "marker": {
             "colorbar": {
              "outlinewidth": 0,
              "ticks": ""
             }
            },
            "type": "scattermapbox"
           }
          ],
          "scatterpolar": [
           {
            "marker": {
             "colorbar": {
              "outlinewidth": 0,
              "ticks": ""
             }
            },
            "type": "scatterpolar"
           }
          ],
          "scatterpolargl": [
           {
            "marker": {
             "colorbar": {
              "outlinewidth": 0,
              "ticks": ""
             }
            },
            "type": "scatterpolargl"
           }
          ],
          "scatterternary": [
           {
            "marker": {
             "colorbar": {
              "outlinewidth": 0,
              "ticks": ""
             }
            },
            "type": "scatterternary"
           }
          ],
          "surface": [
           {
            "colorbar": {
             "outlinewidth": 0,
             "ticks": ""
            },
            "colorscale": [
             [
              0,
              "#0d0887"
             ],
             [
              0.1111111111111111,
              "#46039f"
             ],
             [
              0.2222222222222222,
              "#7201a8"
             ],
             [
              0.3333333333333333,
              "#9c179e"
             ],
             [
              0.4444444444444444,
              "#bd3786"
             ],
             [
              0.5555555555555556,
              "#d8576b"
             ],
             [
              0.6666666666666666,
              "#ed7953"
             ],
             [
              0.7777777777777778,
              "#fb9f3a"
             ],
             [
              0.8888888888888888,
              "#fdca26"
             ],
             [
              1,
              "#f0f921"
             ]
            ],
            "type": "surface"
           }
          ],
          "table": [
           {
            "cells": {
             "fill": {
              "color": "#EBF0F8"
             },
             "line": {
              "color": "white"
             }
            },
            "header": {
             "fill": {
              "color": "#C8D4E3"
             },
             "line": {
              "color": "white"
             }
            },
            "type": "table"
           }
          ]
         },
         "layout": {
          "annotationdefaults": {
           "arrowcolor": "#2a3f5f",
           "arrowhead": 0,
           "arrowwidth": 1
          },
          "autotypenumbers": "strict",
          "coloraxis": {
           "colorbar": {
            "outlinewidth": 0,
            "ticks": ""
           }
          },
          "colorscale": {
           "diverging": [
            [
             0,
             "#8e0152"
            ],
            [
             0.1,
             "#c51b7d"
            ],
            [
             0.2,
             "#de77ae"
            ],
            [
             0.3,
             "#f1b6da"
            ],
            [
             0.4,
             "#fde0ef"
            ],
            [
             0.5,
             "#f7f7f7"
            ],
            [
             0.6,
             "#e6f5d0"
            ],
            [
             0.7,
             "#b8e186"
            ],
            [
             0.8,
             "#7fbc41"
            ],
            [
             0.9,
             "#4d9221"
            ],
            [
             1,
             "#276419"
            ]
           ],
           "sequential": [
            [
             0,
             "#0d0887"
            ],
            [
             0.1111111111111111,
             "#46039f"
            ],
            [
             0.2222222222222222,
             "#7201a8"
            ],
            [
             0.3333333333333333,
             "#9c179e"
            ],
            [
             0.4444444444444444,
             "#bd3786"
            ],
            [
             0.5555555555555556,
             "#d8576b"
            ],
            [
             0.6666666666666666,
             "#ed7953"
            ],
            [
             0.7777777777777778,
             "#fb9f3a"
            ],
            [
             0.8888888888888888,
             "#fdca26"
            ],
            [
             1,
             "#f0f921"
            ]
           ],
           "sequentialminus": [
            [
             0,
             "#0d0887"
            ],
            [
             0.1111111111111111,
             "#46039f"
            ],
            [
             0.2222222222222222,
             "#7201a8"
            ],
            [
             0.3333333333333333,
             "#9c179e"
            ],
            [
             0.4444444444444444,
             "#bd3786"
            ],
            [
             0.5555555555555556,
             "#d8576b"
            ],
            [
             0.6666666666666666,
             "#ed7953"
            ],
            [
             0.7777777777777778,
             "#fb9f3a"
            ],
            [
             0.8888888888888888,
             "#fdca26"
            ],
            [
             1,
             "#f0f921"
            ]
           ]
          },
          "colorway": [
           "#636efa",
           "#EF553B",
           "#00cc96",
           "#ab63fa",
           "#FFA15A",
           "#19d3f3",
           "#FF6692",
           "#B6E880",
           "#FF97FF",
           "#FECB52"
          ],
          "font": {
           "color": "#2a3f5f"
          },
          "geo": {
           "bgcolor": "white",
           "lakecolor": "white",
           "landcolor": "#E5ECF6",
           "showlakes": true,
           "showland": true,
           "subunitcolor": "white"
          },
          "hoverlabel": {
           "align": "left"
          },
          "hovermode": "closest",
          "mapbox": {
           "style": "light"
          },
          "paper_bgcolor": "white",
          "plot_bgcolor": "#E5ECF6",
          "polar": {
           "angularaxis": {
            "gridcolor": "white",
            "linecolor": "white",
            "ticks": ""
           },
           "bgcolor": "#E5ECF6",
           "radialaxis": {
            "gridcolor": "white",
            "linecolor": "white",
            "ticks": ""
           }
          },
          "scene": {
           "xaxis": {
            "backgroundcolor": "#E5ECF6",
            "gridcolor": "white",
            "gridwidth": 2,
            "linecolor": "white",
            "showbackground": true,
            "ticks": "",
            "zerolinecolor": "white"
           },
           "yaxis": {
            "backgroundcolor": "#E5ECF6",
            "gridcolor": "white",
            "gridwidth": 2,
            "linecolor": "white",
            "showbackground": true,
            "ticks": "",
            "zerolinecolor": "white"
           },
           "zaxis": {
            "backgroundcolor": "#E5ECF6",
            "gridcolor": "white",
            "gridwidth": 2,
            "linecolor": "white",
            "showbackground": true,
            "ticks": "",
            "zerolinecolor": "white"
           }
          },
          "shapedefaults": {
           "line": {
            "color": "#2a3f5f"
           }
          },
          "ternary": {
           "aaxis": {
            "gridcolor": "white",
            "linecolor": "white",
            "ticks": ""
           },
           "baxis": {
            "gridcolor": "white",
            "linecolor": "white",
            "ticks": ""
           },
           "bgcolor": "#E5ECF6",
           "caxis": {
            "gridcolor": "white",
            "linecolor": "white",
            "ticks": ""
           }
          },
          "title": {
           "x": 0.05
          },
          "xaxis": {
           "automargin": true,
           "gridcolor": "white",
           "linecolor": "white",
           "ticks": "",
           "title": {
            "standoff": 15
           },
           "zerolinecolor": "white",
           "zerolinewidth": 2
          },
          "yaxis": {
           "automargin": true,
           "gridcolor": "white",
           "linecolor": "white",
           "ticks": "",
           "title": {
            "standoff": 15
           },
           "zerolinecolor": "white",
           "zerolinewidth": 2
          }
         }
        }
       }
      }
     },
     "metadata": {},
     "output_type": "display_data"
    }
   ],
   "source": [
    "dfpl = ETHUSD_df1[100:200]\n",
    "import plotly.graph_objects as go\n",
    "from datetime import datetime\n",
    "\n",
    "fig = go.Figure(data=[go.Candlestick(x=dfpl.index,\n",
    "                open=dfpl['open'],\n",
    "                high=dfpl['high'],\n",
    "                low=dfpl['low'],\n",
    "                close=dfpl['close'])])\n",
    "\n",
    "fig.show()"
   ]
  },
  {
   "cell_type": "code",
   "execution_count": 17,
   "metadata": {},
   "outputs": [
    {
     "name": "stdout",
     "output_type": "stream",
     "text": [
      "[(34, 185.49, 1), (42, 215.0, 2), (81, 220.63, 1), (101, 232.66, 1), (120, 401.25, 2), (147, 477.05, 2), (178, 345.68, 1), (188, 387.5738248, 2), (192, 365.016, 1)]\n"
     ]
    }
   ],
   "source": [
    "sr = []\n",
    "n1=3\n",
    "n2=2\n",
    "for row in range(3, 205): #len(df)-n2\n",
    "    if support(ETHUSD_df1, row, n1, n2):\n",
    "        sr.append((row,ETHUSD_df1.low[row],1))\n",
    "    if resistance(ETHUSD_df1, row, n1, n2):\n",
    "        sr.append((row,ETHUSD_df1.high[row],2))\n",
    "print(sr)"
   ]
  },
  {
   "cell_type": "code",
   "execution_count": 18,
   "metadata": {},
   "outputs": [
    {
     "data": {
      "text/plain": [
       "[215.0, 387.5738248, 401.25, 477.05]"
      ]
     },
     "execution_count": 18,
     "metadata": {},
     "output_type": "execute_result"
    }
   ],
   "source": [
    "plotlist1 = [x[1] for x in sr if x[2]==1]\n",
    "plotlist2 = [x[1] for x in sr if x[2]==2]\n",
    "plotlist1.sort()\n",
    "plotlist2.sort()\n",
    "\n",
    "for i in range(1,len(plotlist1)):\n",
    "    if(i>=len(plotlist1)):\n",
    "        break\n",
    "    if abs(plotlist1[i]-plotlist1[i-1])<=0.005:\n",
    "        plotlist1.pop(i)\n",
    "\n",
    "for i in range(1,len(plotlist2)):\n",
    "    if(i>=len(plotlist2)):\n",
    "        break\n",
    "    if abs(plotlist2[i]-plotlist2[i-1])<=0.005:\n",
    "        plotlist2.pop(i)\n",
    "plotlist2\n",
    "#plt.hist(plotlist, bins=10, alpha=0.5)"
   ]
  },
  {
   "cell_type": "code",
   "execution_count": 20,
   "metadata": {},
   "outputs": [
    {
     "data": {
      "application/vnd.plotly.v1+json": {
       "config": {
        "plotlyServerURL": "https://plot.ly"
       },
       "data": [
        {
         "close": [
          164.645,
          173.78,
          170,
          158.16999,
          158.58,
          159.03935858,
          156.76,
          158.65,
          152.77,
          172.5,
          170.89,
          187.87,
          180.22,
          170.5,
          171.07,
          183.11,
          185.66,
          187.72,
          194.42,
          197.5,
          196.78,
          196.55,
          215.66,
          206.23,
          212.031,
          213.835,
          210.24,
          206.86,
          205.43,
          199.13,
          212.004,
          211.62,
          210.069,
          187.616,
          185.6,
          189.755,
          199.92,
          203.335,
          194.7,
          200.53,
          207.05,
          214.56,
          214.69,
          209.96,
          198.798,
          207.32,
          206.66,
          199.63,
          204.126,
          200.909,
          208.41,
          220.65,
          220.62,
          243.678,
          231.54,
          248.82,
          237.55,
          244.54,
          243.18,
          240.04,
          241.925,
          244.81,
          246.55,
          243.897,
          248.02,
          230.41,
          237.53,
          238.17,
          231.34,
          230.98,
          235.293,
          233.71,
          231.05,
          228.66,
          229.23,
          227.8,
          243.33,
          243.12,
          234.614,
          232.69737117,
          229.44,
          221.001,
          224.91,
          227.81,
          225.48,
          230.944,
          226.48,
          225.06,
          229.151,
          227.66,
          242.13,
          239.37,
          247.14,
          241.89,
          241.55,
          239.17,
          242.616,
          239.9,
          240.396,
          238.547,
          233.41,
          233.18,
          236.19024638,
          239.24,
          236.08,
          245.558,
          264.28,
          275.66,
          279.59,
          305.66,
          311.44,
          321.987,
          316.752,
          318.46,
          335.018,
          346.86,
          387.15,
          371.87,
          386.22,
          389.83,
          401.21,
          394.775,
          379.75,
          397.381,
          390.087,
          395.9,
          378.88,
          387.23,
          424.434,
          438.132,
          432.55,
          433.7,
          431.61,
          422.31,
          407.215,
          415.92,
          388.09,
          395.86926344,
          390.86,
          407.92,
          383.33,
          386.1,
          383.16,
          395.47,
          398.58,
          428.94,
          433.775,
          475.345,
          439.496,
          382.55,
          385.82,
          335.26,
          352.51,
          353.71,
          337.215,
          351.29,
          368.06,
          373.93,
          388.1,
          366.25,
          377.43,
          364.2,
          365.23,
          389.45,
          384.45,
          385.117,
          371.04,
          340.11,
          344.26,
          320.63,
          349.14,
          351.9,
          353.7,
          357.55,
          354.57459566,
          359.9,
          359.883,
          353,
          346.03,
          346.18,
          352.48,
          354.23,
          340.78,
          341.68,
          351.5,
          365.36,
          370.75,
          374.61,
          387,
          381.37,
          379.08,
          377.88,
          365.21,
          368.48,
          378.58,
          379.63,
          368.81,
          390.198,
          414.31,
          409.52
         ],
         "high": [
          164.89802109,
          173.78,
          170.07,
          158.2,
          158.79,
          159.03935858,
          156.94,
          158.65,
          153.01,
          172.89,
          171.27,
          188.03,
          180.59,
          170.77,
          171.08,
          183.25,
          185.9,
          187.84,
          194.52,
          197.99,
          196.99,
          197.18,
          215.75,
          206.89,
          212.24,
          214.31,
          210.3,
          207.02,
          205.82,
          199.54,
          212.56,
          211.67,
          210.38,
          188.06,
          186.68,
          190.12,
          200.07,
          203.43,
          194.886,
          200.6,
          207.07,
          214.91,
          215,
          210.1,
          198.896,
          207.51,
          206.82412758,
          200.85,
          204.16,
          201.23,
          208.55,
          220.65,
          220.664,
          243.84,
          231.76,
          248.82,
          238.09,
          244.8289431,
          243.4,
          240.08,
          242.21,
          245.04,
          246.82,
          244.05,
          248.23,
          230.976,
          237.65,
          238.48,
          232.05,
          230.98,
          235.69,
          234.23,
          231.71,
          229.09,
          229.23,
          228.033,
          243.42,
          243.49,
          235.006,
          232.69737117,
          229.82,
          221.03,
          225.32,
          228.05,
          226,
          231.11,
          226.56897154,
          225.33,
          229.6,
          228.36232933,
          242.13,
          239.63055724,
          247.41,
          242.43,
          241.58,
          239.52163428,
          243.37,
          239.9,
          240.45,
          238.559,
          233.99397614,
          233.18,
          236.2,
          239.58,
          236.47661858,
          246.01,
          264.99917285,
          275.97,
          280.06,
          306.01,
          311.74,
          322.86,
          317.72,
          318.51,
          335.51901517,
          347.04,
          388.19,
          372.629,
          386.41,
          390,
          401.25,
          395.34,
          380.01,
          400.06,
          390.64,
          396,
          378.98,
          387.41,
          425.52,
          438.83,
          433.42,
          434.48,
          431.61,
          422.84,
          408.67,
          416.79,
          388.13,
          396.22,
          391.61227059,
          408.5,
          383.69,
          386.31142688,
          383.43,
          395.94,
          399.47516268,
          429.95,
          434.6657209,
          477.05,
          440.59,
          383.36,
          386.94,
          336.43,
          353.35,
          354.34,
          338.17,
          351.75,
          368.39435373,
          374.42770948,
          388.1,
          366.58,
          377.63,
          364.2,
          365.69,
          390.1,
          385,
          386.24,
          371.77892437,
          341.28,
          344.65,
          321.26,
          349.5,
          352.65,
          354.62936345,
          358.48,
          354.71,
          360.62,
          360.43,
          353.56,
          346.31,
          346.54,
          353.12,
          354.23,
          341.09,
          342.46,
          351.66,
          365.79,
          371.31114251,
          374.74144524,
          387.5738248,
          381.78,
          379.40936416,
          377.96,
          365.94,
          368.56,
          378.74,
          379.73,
          368.85,
          392.09,
          414.86,
          409.97
         ],
         "low": [
          164.56,
          173.096,
          169.697,
          157.828,
          158.41,
          158.379,
          156.359,
          158.287,
          152.49,
          172.37,
          170.452,
          187.433,
          180.09,
          170.281,
          170.732,
          182.7,
          185.417,
          187.42,
          194.1,
          197.3402299,
          196.304,
          196.471,
          215.3,
          206.109,
          211.6932216,
          213.834,
          209.74,
          206.608,
          205.191,
          198.306,
          211.796,
          211.12,
          209.82,
          187.533,
          185.49,
          189.755,
          199.379,
          203.14,
          194.59,
          200.46,
          206.9,
          214.55,
          214.38522668,
          209.63,
          198.05,
          207.12,
          206.45,
          199.3,
          203.95,
          200.86,
          208.019,
          219.769,
          220.57,
          243.27,
          231.47,
          247.86,
          237.55,
          244.32,
          243.18,
          240.0152715,
          241.925,
          244.564,
          246.164,
          243.73742911,
          247.632,
          229.91,
          237.5,
          237.92,
          231.33,
          230.97,
          235.21,
          233.25,
          231.05,
          228.53,
          228.79,
          227.77,
          243.086,
          243.08,
          234.12,
          232.25,
          229.4,
          220.63,
          224.76,
          227.79,
          225.37,
          230.824,
          226.366,
          224.824,
          229,
          227.596,
          241.53,
          239.276,
          246.916,
          241.89,
          241.106,
          239.15,
          242.327,
          239.42,
          240.335,
          238.24,
          233.41,
          232.66,
          235.77,
          238.734,
          235.98,
          245.469,
          263.417,
          275.269,
          279.068,
          305.255,
          310.713,
          321.475,
          316.752,
          317.846,
          334.744,
          346.564,
          386.865,
          371.2,
          385.31,
          389.05115139,
          400.72,
          394.63167939,
          378.91753554,
          396.02,
          390.015,
          395.341,
          378.429,
          386.88,
          423.503,
          437.764,
          431.914,
          433.526,
          429.748,
          421.866,
          405.459,
          415.639,
          387.115,
          395.224,
          390.52,
          407.755,
          382.91,
          385.204,
          381.837,
          395.27,
          398.32,
          428.289,
          433.698,
          475.345,
          439.28,
          380.592,
          385.238,
          334.804,
          352.29,
          353.1,
          336.631,
          350.355,
          367.59,
          373.528,
          387.331,
          365.86,
          376.81,
          364.01,
          364.662,
          389.085,
          384.093,
          385.097,
          370.64,
          339.33,
          344.05,
          319.48,
          348.8,
          351.764,
          353.7,
          357.211,
          353.58,
          359.7,
          359.24,
          352.9,
          345.68,
          345.896,
          352.41,
          353.379,
          340.2,
          341.646,
          350.95,
          364.763,
          370.574,
          374.37,
          386.43,
          380.747,
          378.85,
          377.369,
          365.016,
          368.369,
          377.679,
          379.064,
          367.859,
          390.198,
          413.645,
          409.153
         ],
         "open": [
          164.787,
          173.3,
          169.825,
          158.18,
          158.65,
          158.86,
          156.94,
          158.47,
          153.01,
          172.51,
          170.574,
          187.87,
          180.3,
          170.6,
          171.01,
          182.84,
          185.54,
          187.78,
          194.43,
          197.34092353,
          196.85,
          197.08,
          215.62,
          206.82,
          212.17,
          214.01,
          210.012,
          206.88,
          205.67,
          199.02,
          212.34,
          211.5,
          210,
          187.867,
          186.68,
          190,
          199.379,
          203.26,
          194.64,
          200.56,
          207.07,
          214.712,
          214.57,
          210.055,
          198.26,
          207.241,
          206.45,
          200.799,
          203.95,
          201.23,
          208.03,
          219.77,
          220.6,
          243.5,
          231.67,
          248.39,
          237.89,
          244.5,
          243.29,
          240.02,
          241.98,
          244.585,
          246.203,
          244.05,
          247.96,
          230.975,
          237.621,
          238.03,
          231.48,
          230.97,
          235.43,
          234.23,
          231.308,
          228.96,
          228.82,
          227.83,
          243.24,
          243.12,
          234.967,
          232.29,
          229.45,
          220.63,
          225,
          227.856,
          225.564,
          231.07,
          226.367,
          225.17,
          229.15,
          228.19,
          241.58,
          239.276,
          246.948,
          241.918,
          241.11,
          239.178,
          243.20716795,
          239.47,
          240.36,
          238.31,
          233.51,
          232.66,
          236.2,
          239.08,
          236.062,
          245.97,
          264.6,
          275.64,
          279.89,
          305.64,
          311.25,
          322.59,
          317.55,
          318.015,
          335.3,
          346.82,
          388.11,
          371.87,
          386.08,
          389.05115139,
          401.19,
          395.3,
          379.88,
          396.31,
          390.015,
          395.99,
          378.543,
          386.92,
          424.37,
          438.29,
          433.19,
          433.71,
          430.33,
          422.31,
          405.78,
          415.983,
          387.2,
          395.98,
          391.61227059,
          408.22,
          383.4,
          385.98,
          381.84,
          395.67,
          399.03,
          429.13,
          433.83,
          475.99,
          440.21,
          382.32,
          385.7,
          335.33,
          353.35,
          353.51,
          337.3,
          351.05,
          368.11,
          374.02,
          387.77,
          366.21,
          377.29,
          364.03,
          364.684,
          389.085,
          384.75,
          385.32,
          371.77892437,
          340.32,
          344.62,
          319.538,
          348.94,
          351.91,
          354.08,
          357.39,
          354.05,
          359.89,
          359.28,
          353.12,
          345.83,
          345.955,
          352.5,
          353.47,
          340.5,
          342.44,
          351.12,
          364.77,
          371.28,
          374.37,
          386.96,
          381.37,
          378.91,
          377.369,
          365.94,
          368.369,
          378.24,
          379.31,
          368.74,
          391.77,
          414.54,
          409.9
         ],
         "type": "candlestick",
         "x": [
          0,
          1,
          2,
          3,
          4,
          5,
          6,
          7,
          8,
          9,
          10,
          11,
          12,
          13,
          14,
          15,
          16,
          17,
          18,
          19,
          20,
          21,
          22,
          23,
          24,
          25,
          26,
          27,
          28,
          29,
          30,
          31,
          32,
          33,
          34,
          35,
          36,
          37,
          38,
          39,
          40,
          41,
          42,
          43,
          44,
          45,
          46,
          47,
          48,
          49,
          50,
          51,
          52,
          53,
          54,
          55,
          56,
          57,
          58,
          59,
          60,
          61,
          62,
          63,
          64,
          65,
          66,
          67,
          68,
          69,
          70,
          71,
          72,
          73,
          74,
          75,
          76,
          77,
          78,
          79,
          80,
          81,
          82,
          83,
          84,
          85,
          86,
          87,
          88,
          89,
          90,
          91,
          92,
          93,
          94,
          95,
          96,
          97,
          98,
          99,
          100,
          101,
          102,
          103,
          104,
          105,
          106,
          107,
          108,
          109,
          110,
          111,
          112,
          113,
          114,
          115,
          116,
          117,
          118,
          119,
          120,
          121,
          122,
          123,
          124,
          125,
          126,
          127,
          128,
          129,
          130,
          131,
          132,
          133,
          134,
          135,
          136,
          137,
          138,
          139,
          140,
          141,
          142,
          143,
          144,
          145,
          146,
          147,
          148,
          149,
          150,
          151,
          152,
          153,
          154,
          155,
          156,
          157,
          158,
          159,
          160,
          161,
          162,
          163,
          164,
          165,
          166,
          167,
          168,
          169,
          170,
          171,
          172,
          173,
          174,
          175,
          176,
          177,
          178,
          179,
          180,
          181,
          182,
          183,
          184,
          185,
          186,
          187,
          188,
          189,
          190,
          191,
          192,
          193,
          194,
          195,
          196,
          197,
          198,
          199
         ]
        }
       ],
       "layout": {
        "shapes": [
         {
          "line": {
           "color": "MediumPurple",
           "width": 3
          },
          "type": "line",
          "x0": 0,
          "x1": 200,
          "y0": 185.49,
          "y1": 185.49
         },
         {
          "line": {
           "color": "MediumPurple",
           "width": 3
          },
          "type": "line",
          "x0": 0,
          "x1": 200,
          "y0": 220.63,
          "y1": 220.63
         },
         {
          "line": {
           "color": "MediumPurple",
           "width": 3
          },
          "type": "line",
          "x0": 0,
          "x1": 200,
          "y0": 232.66,
          "y1": 232.66
         },
         {
          "line": {
           "color": "MediumPurple",
           "width": 3
          },
          "type": "line",
          "x0": 0,
          "x1": 200,
          "y0": 345.68,
          "y1": 345.68
         },
         {
          "line": {
           "color": "MediumPurple",
           "width": 3
          },
          "type": "line",
          "x0": 0,
          "x1": 200,
          "y0": 365.016,
          "y1": 365.016
         },
         {
          "line": {
           "color": "RoyalBlue",
           "width": 1
          },
          "type": "line",
          "x0": 0,
          "x1": 200,
          "y0": 215,
          "y1": 215
         },
         {
          "line": {
           "color": "RoyalBlue",
           "width": 1
          },
          "type": "line",
          "x0": 0,
          "x1": 200,
          "y0": 387.5738248,
          "y1": 387.5738248
         },
         {
          "line": {
           "color": "RoyalBlue",
           "width": 1
          },
          "type": "line",
          "x0": 0,
          "x1": 200,
          "y0": 401.25,
          "y1": 401.25
         },
         {
          "line": {
           "color": "RoyalBlue",
           "width": 1
          },
          "type": "line",
          "x0": 0,
          "x1": 200,
          "y0": 477.05,
          "y1": 477.05
         }
        ],
        "template": {
         "data": {
          "bar": [
           {
            "error_x": {
             "color": "#2a3f5f"
            },
            "error_y": {
             "color": "#2a3f5f"
            },
            "marker": {
             "line": {
              "color": "#E5ECF6",
              "width": 0.5
             },
             "pattern": {
              "fillmode": "overlay",
              "size": 10,
              "solidity": 0.2
             }
            },
            "type": "bar"
           }
          ],
          "barpolar": [
           {
            "marker": {
             "line": {
              "color": "#E5ECF6",
              "width": 0.5
             },
             "pattern": {
              "fillmode": "overlay",
              "size": 10,
              "solidity": 0.2
             }
            },
            "type": "barpolar"
           }
          ],
          "carpet": [
           {
            "aaxis": {
             "endlinecolor": "#2a3f5f",
             "gridcolor": "white",
             "linecolor": "white",
             "minorgridcolor": "white",
             "startlinecolor": "#2a3f5f"
            },
            "baxis": {
             "endlinecolor": "#2a3f5f",
             "gridcolor": "white",
             "linecolor": "white",
             "minorgridcolor": "white",
             "startlinecolor": "#2a3f5f"
            },
            "type": "carpet"
           }
          ],
          "choropleth": [
           {
            "colorbar": {
             "outlinewidth": 0,
             "ticks": ""
            },
            "type": "choropleth"
           }
          ],
          "contour": [
           {
            "colorbar": {
             "outlinewidth": 0,
             "ticks": ""
            },
            "colorscale": [
             [
              0,
              "#0d0887"
             ],
             [
              0.1111111111111111,
              "#46039f"
             ],
             [
              0.2222222222222222,
              "#7201a8"
             ],
             [
              0.3333333333333333,
              "#9c179e"
             ],
             [
              0.4444444444444444,
              "#bd3786"
             ],
             [
              0.5555555555555556,
              "#d8576b"
             ],
             [
              0.6666666666666666,
              "#ed7953"
             ],
             [
              0.7777777777777778,
              "#fb9f3a"
             ],
             [
              0.8888888888888888,
              "#fdca26"
             ],
             [
              1,
              "#f0f921"
             ]
            ],
            "type": "contour"
           }
          ],
          "contourcarpet": [
           {
            "colorbar": {
             "outlinewidth": 0,
             "ticks": ""
            },
            "type": "contourcarpet"
           }
          ],
          "heatmap": [
           {
            "colorbar": {
             "outlinewidth": 0,
             "ticks": ""
            },
            "colorscale": [
             [
              0,
              "#0d0887"
             ],
             [
              0.1111111111111111,
              "#46039f"
             ],
             [
              0.2222222222222222,
              "#7201a8"
             ],
             [
              0.3333333333333333,
              "#9c179e"
             ],
             [
              0.4444444444444444,
              "#bd3786"
             ],
             [
              0.5555555555555556,
              "#d8576b"
             ],
             [
              0.6666666666666666,
              "#ed7953"
             ],
             [
              0.7777777777777778,
              "#fb9f3a"
             ],
             [
              0.8888888888888888,
              "#fdca26"
             ],
             [
              1,
              "#f0f921"
             ]
            ],
            "type": "heatmap"
           }
          ],
          "heatmapgl": [
           {
            "colorbar": {
             "outlinewidth": 0,
             "ticks": ""
            },
            "colorscale": [
             [
              0,
              "#0d0887"
             ],
             [
              0.1111111111111111,
              "#46039f"
             ],
             [
              0.2222222222222222,
              "#7201a8"
             ],
             [
              0.3333333333333333,
              "#9c179e"
             ],
             [
              0.4444444444444444,
              "#bd3786"
             ],
             [
              0.5555555555555556,
              "#d8576b"
             ],
             [
              0.6666666666666666,
              "#ed7953"
             ],
             [
              0.7777777777777778,
              "#fb9f3a"
             ],
             [
              0.8888888888888888,
              "#fdca26"
             ],
             [
              1,
              "#f0f921"
             ]
            ],
            "type": "heatmapgl"
           }
          ],
          "histogram": [
           {
            "marker": {
             "pattern": {
              "fillmode": "overlay",
              "size": 10,
              "solidity": 0.2
             }
            },
            "type": "histogram"
           }
          ],
          "histogram2d": [
           {
            "colorbar": {
             "outlinewidth": 0,
             "ticks": ""
            },
            "colorscale": [
             [
              0,
              "#0d0887"
             ],
             [
              0.1111111111111111,
              "#46039f"
             ],
             [
              0.2222222222222222,
              "#7201a8"
             ],
             [
              0.3333333333333333,
              "#9c179e"
             ],
             [
              0.4444444444444444,
              "#bd3786"
             ],
             [
              0.5555555555555556,
              "#d8576b"
             ],
             [
              0.6666666666666666,
              "#ed7953"
             ],
             [
              0.7777777777777778,
              "#fb9f3a"
             ],
             [
              0.8888888888888888,
              "#fdca26"
             ],
             [
              1,
              "#f0f921"
             ]
            ],
            "type": "histogram2d"
           }
          ],
          "histogram2dcontour": [
           {
            "colorbar": {
             "outlinewidth": 0,
             "ticks": ""
            },
            "colorscale": [
             [
              0,
              "#0d0887"
             ],
             [
              0.1111111111111111,
              "#46039f"
             ],
             [
              0.2222222222222222,
              "#7201a8"
             ],
             [
              0.3333333333333333,
              "#9c179e"
             ],
             [
              0.4444444444444444,
              "#bd3786"
             ],
             [
              0.5555555555555556,
              "#d8576b"
             ],
             [
              0.6666666666666666,
              "#ed7953"
             ],
             [
              0.7777777777777778,
              "#fb9f3a"
             ],
             [
              0.8888888888888888,
              "#fdca26"
             ],
             [
              1,
              "#f0f921"
             ]
            ],
            "type": "histogram2dcontour"
           }
          ],
          "mesh3d": [
           {
            "colorbar": {
             "outlinewidth": 0,
             "ticks": ""
            },
            "type": "mesh3d"
           }
          ],
          "parcoords": [
           {
            "line": {
             "colorbar": {
              "outlinewidth": 0,
              "ticks": ""
             }
            },
            "type": "parcoords"
           }
          ],
          "pie": [
           {
            "automargin": true,
            "type": "pie"
           }
          ],
          "scatter": [
           {
            "fillpattern": {
             "fillmode": "overlay",
             "size": 10,
             "solidity": 0.2
            },
            "type": "scatter"
           }
          ],
          "scatter3d": [
           {
            "line": {
             "colorbar": {
              "outlinewidth": 0,
              "ticks": ""
             }
            },
            "marker": {
             "colorbar": {
              "outlinewidth": 0,
              "ticks": ""
             }
            },
            "type": "scatter3d"
           }
          ],
          "scattercarpet": [
           {
            "marker": {
             "colorbar": {
              "outlinewidth": 0,
              "ticks": ""
             }
            },
            "type": "scattercarpet"
           }
          ],
          "scattergeo": [
           {
            "marker": {
             "colorbar": {
              "outlinewidth": 0,
              "ticks": ""
             }
            },
            "type": "scattergeo"
           }
          ],
          "scattergl": [
           {
            "marker": {
             "colorbar": {
              "outlinewidth": 0,
              "ticks": ""
             }
            },
            "type": "scattergl"
           }
          ],
          "scattermapbox": [
           {
            "marker": {
             "colorbar": {
              "outlinewidth": 0,
              "ticks": ""
             }
            },
            "type": "scattermapbox"
           }
          ],
          "scatterpolar": [
           {
            "marker": {
             "colorbar": {
              "outlinewidth": 0,
              "ticks": ""
             }
            },
            "type": "scatterpolar"
           }
          ],
          "scatterpolargl": [
           {
            "marker": {
             "colorbar": {
              "outlinewidth": 0,
              "ticks": ""
             }
            },
            "type": "scatterpolargl"
           }
          ],
          "scatterternary": [
           {
            "marker": {
             "colorbar": {
              "outlinewidth": 0,
              "ticks": ""
             }
            },
            "type": "scatterternary"
           }
          ],
          "surface": [
           {
            "colorbar": {
             "outlinewidth": 0,
             "ticks": ""
            },
            "colorscale": [
             [
              0,
              "#0d0887"
             ],
             [
              0.1111111111111111,
              "#46039f"
             ],
             [
              0.2222222222222222,
              "#7201a8"
             ],
             [
              0.3333333333333333,
              "#9c179e"
             ],
             [
              0.4444444444444444,
              "#bd3786"
             ],
             [
              0.5555555555555556,
              "#d8576b"
             ],
             [
              0.6666666666666666,
              "#ed7953"
             ],
             [
              0.7777777777777778,
              "#fb9f3a"
             ],
             [
              0.8888888888888888,
              "#fdca26"
             ],
             [
              1,
              "#f0f921"
             ]
            ],
            "type": "surface"
           }
          ],
          "table": [
           {
            "cells": {
             "fill": {
              "color": "#EBF0F8"
             },
             "line": {
              "color": "white"
             }
            },
            "header": {
             "fill": {
              "color": "#C8D4E3"
             },
             "line": {
              "color": "white"
             }
            },
            "type": "table"
           }
          ]
         },
         "layout": {
          "annotationdefaults": {
           "arrowcolor": "#2a3f5f",
           "arrowhead": 0,
           "arrowwidth": 1
          },
          "autotypenumbers": "strict",
          "coloraxis": {
           "colorbar": {
            "outlinewidth": 0,
            "ticks": ""
           }
          },
          "colorscale": {
           "diverging": [
            [
             0,
             "#8e0152"
            ],
            [
             0.1,
             "#c51b7d"
            ],
            [
             0.2,
             "#de77ae"
            ],
            [
             0.3,
             "#f1b6da"
            ],
            [
             0.4,
             "#fde0ef"
            ],
            [
             0.5,
             "#f7f7f7"
            ],
            [
             0.6,
             "#e6f5d0"
            ],
            [
             0.7,
             "#b8e186"
            ],
            [
             0.8,
             "#7fbc41"
            ],
            [
             0.9,
             "#4d9221"
            ],
            [
             1,
             "#276419"
            ]
           ],
           "sequential": [
            [
             0,
             "#0d0887"
            ],
            [
             0.1111111111111111,
             "#46039f"
            ],
            [
             0.2222222222222222,
             "#7201a8"
            ],
            [
             0.3333333333333333,
             "#9c179e"
            ],
            [
             0.4444444444444444,
             "#bd3786"
            ],
            [
             0.5555555555555556,
             "#d8576b"
            ],
            [
             0.6666666666666666,
             "#ed7953"
            ],
            [
             0.7777777777777778,
             "#fb9f3a"
            ],
            [
             0.8888888888888888,
             "#fdca26"
            ],
            [
             1,
             "#f0f921"
            ]
           ],
           "sequentialminus": [
            [
             0,
             "#0d0887"
            ],
            [
             0.1111111111111111,
             "#46039f"
            ],
            [
             0.2222222222222222,
             "#7201a8"
            ],
            [
             0.3333333333333333,
             "#9c179e"
            ],
            [
             0.4444444444444444,
             "#bd3786"
            ],
            [
             0.5555555555555556,
             "#d8576b"
            ],
            [
             0.6666666666666666,
             "#ed7953"
            ],
            [
             0.7777777777777778,
             "#fb9f3a"
            ],
            [
             0.8888888888888888,
             "#fdca26"
            ],
            [
             1,
             "#f0f921"
            ]
           ]
          },
          "colorway": [
           "#636efa",
           "#EF553B",
           "#00cc96",
           "#ab63fa",
           "#FFA15A",
           "#19d3f3",
           "#FF6692",
           "#B6E880",
           "#FF97FF",
           "#FECB52"
          ],
          "font": {
           "color": "#2a3f5f"
          },
          "geo": {
           "bgcolor": "white",
           "lakecolor": "white",
           "landcolor": "#E5ECF6",
           "showlakes": true,
           "showland": true,
           "subunitcolor": "white"
          },
          "hoverlabel": {
           "align": "left"
          },
          "hovermode": "closest",
          "mapbox": {
           "style": "light"
          },
          "paper_bgcolor": "white",
          "plot_bgcolor": "#E5ECF6",
          "polar": {
           "angularaxis": {
            "gridcolor": "white",
            "linecolor": "white",
            "ticks": ""
           },
           "bgcolor": "#E5ECF6",
           "radialaxis": {
            "gridcolor": "white",
            "linecolor": "white",
            "ticks": ""
           }
          },
          "scene": {
           "xaxis": {
            "backgroundcolor": "#E5ECF6",
            "gridcolor": "white",
            "gridwidth": 2,
            "linecolor": "white",
            "showbackground": true,
            "ticks": "",
            "zerolinecolor": "white"
           },
           "yaxis": {
            "backgroundcolor": "#E5ECF6",
            "gridcolor": "white",
            "gridwidth": 2,
            "linecolor": "white",
            "showbackground": true,
            "ticks": "",
            "zerolinecolor": "white"
           },
           "zaxis": {
            "backgroundcolor": "#E5ECF6",
            "gridcolor": "white",
            "gridwidth": 2,
            "linecolor": "white",
            "showbackground": true,
            "ticks": "",
            "zerolinecolor": "white"
           }
          },
          "shapedefaults": {
           "line": {
            "color": "#2a3f5f"
           }
          },
          "ternary": {
           "aaxis": {
            "gridcolor": "white",
            "linecolor": "white",
            "ticks": ""
           },
           "baxis": {
            "gridcolor": "white",
            "linecolor": "white",
            "ticks": ""
           },
           "bgcolor": "#E5ECF6",
           "caxis": {
            "gridcolor": "white",
            "linecolor": "white",
            "ticks": ""
           }
          },
          "title": {
           "x": 0.05
          },
          "xaxis": {
           "automargin": true,
           "gridcolor": "white",
           "linecolor": "white",
           "ticks": "",
           "title": {
            "standoff": 15
           },
           "zerolinecolor": "white",
           "zerolinewidth": 2
          },
          "yaxis": {
           "automargin": true,
           "gridcolor": "white",
           "linecolor": "white",
           "ticks": "",
           "title": {
            "standoff": 15
           },
           "zerolinecolor": "white",
           "zerolinewidth": 2
          }
         }
        }
       }
      }
     },
     "metadata": {},
     "output_type": "display_data"
    }
   ],
   "source": [
    "s = 0\n",
    "e = 200\n",
    "dfpl = ETHUSD_df1[s:e]\n",
    "import plotly.graph_objects as go\n",
    "from datetime import datetime\n",
    "import matplotlib.pyplot as plt\n",
    "\n",
    "fig = go.Figure(data=[go.Candlestick(x=dfpl.index,\n",
    "                open=dfpl['open'],\n",
    "                high=dfpl['high'],\n",
    "                low=dfpl['low'],\n",
    "                close=dfpl['close'])])\n",
    "\n",
    "c=0\n",
    "while (1):\n",
    "    if(c>len(plotlist1)-1 ):#or sr[c][0]>e\n",
    "        break\n",
    "    fig.add_shape(type='line', x0=s, y0=plotlist1[c],\n",
    "                  x1=e,\n",
    "                  y1=plotlist1[c],\n",
    "                  line=dict(color=\"MediumPurple\",width=3)\n",
    "                  )\n",
    "    c+=1\n",
    "\n",
    "c=0\n",
    "while (1):\n",
    "    if(c>len(plotlist2)-1 ):#or sr[c][0]>e\n",
    "        break\n",
    "    fig.add_shape(type='line', x0=s, y0=plotlist2[c],\n",
    "                  x1=e,\n",
    "                  y1=plotlist2[c],\n",
    "                  line=dict(color=\"RoyalBlue\",width=1)\n",
    "                  )\n",
    "    c+=1    \n",
    "\n",
    "fig.show()"
   ]
  },
  {
   "cell_type": "code",
   "execution_count": 24,
   "metadata": {},
   "outputs": [],
   "source": [
    "ss = []\n",
    "rr = []\n",
    "n1=2\n",
    "n2=2\n",
    "for row in range(400, 603): #len(df)-n2\n",
    "    if support(ETHUSD_df1, row, n1, n2):\n",
    "        ss.append((row,ETHUSD_df1.low[row]))\n",
    "    if resistance(ETHUSD_df1, row, n1, n2):\n",
    "        rr.append((row,ETHUSD_df1.high[row]))"
   ]
  },
  {
   "cell_type": "code",
   "execution_count": 25,
   "metadata": {},
   "outputs": [
    {
     "data": {
      "application/vnd.plotly.v1+json": {
       "config": {
        "plotlyServerURL": "https://plot.ly"
       },
       "data": [
        {
         "close": [
          3826.37,
          3719.23,
          4080.51,
          3649.54,
          3585.62,
          3283.29,
          3375.96,
          2441.6,
          2775.07,
          2439.8,
          2292.814,
          2097.6,
          2651.24,
          2707.9,
          2889.61,
          2745.51,
          2413.27,
          2272.7,
          2387.66,
          2705.39785315,
          2634.42,
          2706.64,
          2856.68,
          2690.68,
          2629.75,
          2710.97,
          2592.47,
          2509.11,
          2611.27,
          2471.59,
          2355.27,
          2371.2,
          2508.49058317,
          2582.86,
          2543.58,
          2368,
          2373.29,
          2234.5,
          2166.27,
          2246.8385046,
          1885.67,
          1881.65,
          1968.37,
          1988.81,
          1809.07,
          1830.01,
          1984.71,
          2083.98,
          2166.18,
          2276.72,
          2107.01,
          2156,
          2226.94,
          2323.15,
          2195.20588584,
          2321.84,
          2316.83,
          2116.95,
          2147.38,
          2110.55,
          2139.6,
          2030.72,
          1940.38,
          1994.11,
          1918.06,
          1877.22,
          1899.75,
          1891.46,
          1818.44,
          1786.61,
          1995.82,
          2024.75,
          2125.52,
          2185.95,
          2193.95,
          2228.7,
          2300.6,
          2300.42,
          2383.32,
          2463.82,
          2533.74,
          2557.3,
          2609.6,
          2508.31,
          2724.71,
          2829.35,
          2892.98,
          3163.09,
          3012.95,
          3162.34,
          3142.09,
          3163.3,
          3047.21,
          3324.51,
          3266.52,
          3310.93,
          3146.6,
          3011.01,
          3014.37,
          3184.67,
          3286.58,
          3226.73,
          3241.42,
          3323.12,
          3171.53,
          3228.51,
          3092.74,
          3275.92,
          3247.99,
          3226.46,
          3229.01,
          3430.23,
          3827.2,
          3787.97,
          3940.06,
          3887.53,
          3952.17,
          3928.89,
          3432.33,
          3500.2,
          3424.95,
          3209.82,
          3266.77,
          3404.9,
          3286.2,
          3436.29,
          3615.65,
          3568.66,
          3400,
          3435.83,
          3328.59,
          2976.48,
          2765.69,
          3078.43,
          3154.62,
          2930.61,
          2924.01,
          3060.71,
          2926.26,
          2805.65,
          2850.14,
          3000.46,
          3311.16,
          3387.81,
          3420.07,
          3387.2,
          3515.7,
          3575.85,
          3587.3,
          3563.95,
          3575.83,
          3415.01,
          3543.07,
          3490.61,
          3608.21,
          3791.66,
          3869.73,
          3829.66,
          3847.18,
          3745.48,
          3878.17,
          4161.94,
          4053.9,
          3972.9,
          4168.56,
          4082.64,
          4220.93,
          4128,
          3922.5,
          4288.26,
          4416.36,
          4322.9,
          4290.19,
          4322.89,
          4594.27,
          4606.07,
          4537.15,
          4479.47,
          4523.16,
          4617.02,
          4811.9,
          4731.59,
          4632.22,
          4721.88,
          4667.34,
          4644.44,
          4627.03,
          4565.06,
          4209.5,
          4289.4,
          3998.24,
          4299.55,
          4416.69,
          4262.99,
          4089.16,
          4341.62,
          4270.74,
          4527.3,
          4043.67,
          4098.31,
          4298.38,
          4449.42,
          4630.31
         ],
         "high": [
          3858.91,
          3727.9,
          4085.93,
          3651.9,
          3596.9,
          3285.1,
          3382.51,
          2460.89,
          2793.67,
          2441.9,
          2302.9,
          2107.41,
          2651.99,
          2713.01,
          2892.07,
          2745.58,
          2422.15,
          2284.29,
          2392.99,
          2715.99,
          2634.89,
          2708,
          2856.72,
          2693.13,
          2632.84,
          2714.06,
          2595.41,
          2515.79,
          2612.39,
          2472.27,
          2356.79,
          2371.49,
          2510.58,
          2584,
          2546.9,
          2370.45,
          2373.33,
          2234.61,
          2176.87139398,
          2248.86990952,
          1901.1,
          1881.67,
          1970.32286547,
          1990.9,
          1812.51,
          1838.2,
          1988.62,
          2083.99,
          2166.31,
          2276.99,
          2113.73,
          2157.82,
          2228.3,
          2324.87,
          2199.86,
          2325.7,
          2318.4,
          2119.96,
          2147.92,
          2111.19,
          2140.85,
          2037.76,
          1940.81,
          1995,
          1922.8,
          1880.2,
          1900.9,
          1895.1,
          1820,
          1788.2,
          1996.18,
          2025.80263819,
          2126.2,
          2188.31,
          2194,
          2233.6,
          2304.62,
          2301.69,
          2384.4,
          2472.18,
          2539.07,
          2562.1,
          2610.2,
          2509.13,
          2726.18,
          2830.57,
          2893.61,
          3171.03,
          3017.08,
          3169.18,
          3142.92,
          3166.94,
          3048.8,
          3326.2,
          3268.27,
          3313.94,
          3157.44,
          3015.9,
          3019.8,
          3187.64,
          3288.55,
          3229.99,
          3243.12,
          3325.32,
          3175.68,
          3230.85,
          3099.9,
          3277.03,
          3248,
          3227.04,
          3230.88339915,
          3433.6,
          3841.14,
          3791.01,
          3940.83,
          3888.74,
          3954.03,
          3932.24,
          3436.97,
          3501.74,
          3426.11,
          3211,
          3268.26,
          3409.81,
          3286.39,
          3439.7,
          3616.57,
          3571.88,
          3400.1,
          3441.02,
          3329.74,
          2978.5,
          2766.65,
          3079.99,
          3157.1,
          2933,
          2927.52,
          3065.91,
          2933.9,
          2809.21,
          2854.04,
          3003.27,
          3311.72,
          3395.5,
          3420.95,
          3390.37,
          3521.75,
          3579.86,
          3588.51,
          3565.52,
          3579.7,
          3423.81,
          3546.16,
          3492.44,
          3609.54,
          3792.25,
          3870.47018893,
          3830.61,
          3848.2,
          3748.83,
          3879.26,
          4164.4,
          4057.35,
          3972.9,
          4172.37,
          4085.53,
          4221.48,
          4133.07,
          3932.96,
          4289.81,
          4421.23,
          4326.51,
          4291.64,
          4325.9,
          4595.58,
          4607.74,
          4540.16,
          4483.04,
          4523.92,
          4620.45,
          4815.46,
          4736,
          4638.8,
          4724.58,
          4672.43,
          4647.1,
          4628,
          4565.27,
          4213.68,
          4294.4,
          4009.57,
          4303.6,
          4416.98,
          4281.7,
          4094.64,
          4344,
          4275.76,
          4527.3,
          4048.4,
          4101.72,
          4300.86,
          4449.55,
          4638.96
         ],
         "low": [
          3700,
          3711.965,
          4074.445,
          3635,
          3568.899,
          3277.66615736,
          3373.702,
          2425.2,
          2763.957,
          2423.236,
          2286.541,
          2095.246,
          2641.461,
          2700.85,
          2883.346,
          2732.9,
          2408.96,
          2270.5,
          2381.4,
          2704.7,
          2631.3,
          2704.15,
          2851.68,
          2686.28,
          2627.73,
          2709.29996264,
          2586.71,
          2507.49,
          2606,
          2468.6,
          2350.51,
          2365.97,
          2507.3,
          2580.4,
          2541.6,
          2366.26,
          2368.86,
          2227.1,
          2164.72,
          2242.01,
          1885.66,
          1873.71,
          1967.01,
          1987.24,
          1808.3,
          1827.52,
          1978.18,
          2080.7,
          2158.08,
          2274.33,
          2106.7,
          2154.25,
          2226.21,
          2321.4,
          2193.58310002,
          2321.62,
          2315.47,
          2112.6,
          2141.8,
          2109.76,
          2138.7,
          2029.65,
          1938.58,
          1993.56,
          1911.27,
          1874.56,
          1897.16,
          1890.76,
          1816.4,
          1785.01,
          1990,
          2024.14,
          2122.29,
          2185.15,
          2190.69,
          2228,
          2297.5,
          2293.82,
          2379.66,
          2458.8203558,
          2523.4,
          2555.43,
          2607.13,
          2501.3,
          2723.49,
          2828.86,
          2889.09,
          3153.2,
          3009.2,
          3162.33,
          3141.05,
          3160.8,
          3041.04,
          3323.47,
          3264.92808922,
          3310.43,
          3146.26,
          3010.36,
          3010.47,
          3184.18,
          3283.31,
          3225,
          3240.08,
          3318,
          3171.06,
          3224,
          3088.88,
          3269.4,
          3245,
          3224.17,
          3222.33,
          3430,
          3827.1,
          3786.56,
          3935.1,
          3884.4,
          3951.44,
          3927.1,
          3422.4,
          3492.64,
          3422.02,
          3206.62,
          3263.65,
          3403.38,
          3282.74,
          3428.6,
          3610.1,
          3568.03,
          3397.29,
          3434.41,
          3326.63,
          2956.75,
          2753.9,
          3072.5,
          3152.8,
          2928.98,
          2922.28,
          3059.99,
          2922.5,
          2802.48,
          2849.13,
          2997.98,
          3308.7,
          3387.38,
          3417.01,
          3382.37,
          3515.3,
          3575.25,
          3586,
          3558.58,
          3572.01,
          3415,
          3541.42,
          3486.05,
          3604.99,
          3785.8,
          3861.41,
          3824.22,
          3844.1,
          3744.75,
          3875.5,
          4157.34,
          4053.15,
          3969.44,
          4166.99,
          4080.4,
          4217.41,
          4126.8,
          3921.8,
          4285,
          4413.14412555,
          4318.1,
          4287.3,
          4321.3,
          4583.19,
          4600.4,
          4535.1,
          4479.2,
          4518.7,
          4613.6,
          4807.3,
          4730.54,
          4629.8,
          4721.4,
          4667.34,
          4644.43,
          4624.43273625,
          4554.8,
          4207,
          4285.82686516,
          3996.02,
          4297.67,
          4411.62,
          4261.25,
          4087.39,
          4338.72,
          4270.67,
          4517,
          4030,
          4094.4,
          4289.97,
          4445.77,
          4623.9
         ],
         "open": [
          3755,
          3715.69,
          4083.78,
          3642.04,
          3588.36,
          3284.26,
          3378.83,
          2455.18233962,
          2788.13,
          2423.458,
          2293.68,
          2106.6,
          2646.87,
          2706.61,
          2888.25,
          2735.95,
          2421.61,
          2284.11,
          2392.98,
          2713.5,
          2633.95,
          2705.84,
          2853,
          2687.13,
          2627.73,
          2713.34,
          2588,
          2515.79,
          2607.44,
          2470.01,
          2352.61,
          2367.75,
          2509.8,
          2583.28,
          2545.17,
          2366.26,
          2370.72,
          2228.87,
          2173.85,
          2242.94,
          1889.67,
          1874.42,
          1967.98,
          1988.34,
          1812.03,
          1827.52,
          1979.17,
          2081.57,
          2162,
          2275.68,
          2113.65,
          2156.27,
          2226.21,
          2323.82,
          2195.96,
          2324.8,
          2315.73,
          2119.53,
          2141.9,
          2111.19,
          2139.6,
          2035.57,
          1939.07,
          1994,
          1912.88,
          1879.32,
          1897.84,
          1893.31,
          1816.51,
          1786.37,
          1991.24,
          2025.27,
          2125.95,
          2188.2,
          2192.06,
          2231.81,
          2299.21,
          2296.5,
          2380.77,
          2468.34,
          2536.41,
          2561.73,
          2608.39,
          2501.64,
          2725.17,
          2829.48,
          2891.28,
          3156.78,
          3014.02,
          3167,
          3141.05,
          3163.62,
          3041.38,
          3324.05,
          3266.76,
          3311.6,
          3155.49,
          3013.64,
          3016.02,
          3184.18,
          3287.13,
          3227.23,
          3242.61,
          3318.09,
          3172.05,
          3225.87,
          3099.33,
          3270,
          3245.71,
          3225.56,
          3228.6,
          3433.5,
          3834.24,
          3790.51,
          3940.33,
          3885.4,
          3952.89,
          3932.23,
          3427.41,
          3496.29,
          3425.39,
          3208.62,
          3267.3,
          3409.81,
          3283.99,
          3429.26,
          3616.12,
          3571.47,
          3399.99,
          3435,
          3327.03,
          2958.3,
          2765.01,
          3075.41,
          3155.71,
          2930.68,
          2922.28,
          3060.64,
          2933.12,
          2804.32,
          2852.71,
          3000.7,
          3311.24,
          3391.38,
          3418.85,
          3385.15,
          3519.49,
          3579.17,
          3586.01,
          3564.81,
          3575.32,
          3423.8,
          3542.3,
          3491.13,
          3607.09,
          3786.22,
          3864,
          3828.04,
          3845.66,
          3748.1,
          3878.06,
          4158.62,
          4053.63,
          3969.44,
          4168.81,
          4084.3,
          4217.41,
          4130.83,
          3925.87404905,
          4288.36,
          4415.69,
          4325.87,
          4289.36,
          4325.15,
          4586.65,
          4606.07,
          4536.82,
          4481.52,
          4521.03,
          4620.45,
          4812.78,
          4733.78,
          4638.51,
          4724.58,
          4672.1,
          4646.83,
          4627.8,
          4559.97,
          4212.68,
          4287.49,
          4003.58,
          4300.62,
          4413.05,
          4271.87,
          4088.72,
          4341.59,
          4274.62,
          4519.94,
          4032.35,
          4095.56,
          4294.26,
          4447.04,
          4635.25
         ],
         "type": "candlestick",
         "x": [
          400,
          401,
          402,
          403,
          404,
          405,
          406,
          407,
          408,
          409,
          410,
          411,
          412,
          413,
          414,
          415,
          416,
          417,
          418,
          419,
          420,
          421,
          422,
          423,
          424,
          425,
          426,
          427,
          428,
          429,
          430,
          431,
          432,
          433,
          434,
          435,
          436,
          437,
          438,
          439,
          440,
          441,
          442,
          443,
          444,
          445,
          446,
          447,
          448,
          449,
          450,
          451,
          452,
          453,
          454,
          455,
          456,
          457,
          458,
          459,
          460,
          461,
          462,
          463,
          464,
          465,
          466,
          467,
          468,
          469,
          470,
          471,
          472,
          473,
          474,
          475,
          476,
          477,
          478,
          479,
          480,
          481,
          482,
          483,
          484,
          485,
          486,
          487,
          488,
          489,
          490,
          491,
          492,
          493,
          494,
          495,
          496,
          497,
          498,
          499,
          500,
          501,
          502,
          503,
          504,
          505,
          506,
          507,
          508,
          509,
          510,
          511,
          512,
          513,
          514,
          515,
          516,
          517,
          518,
          519,
          520,
          521,
          522,
          523,
          524,
          525,
          526,
          527,
          528,
          529,
          530,
          531,
          532,
          533,
          534,
          535,
          536,
          537,
          538,
          539,
          540,
          541,
          542,
          543,
          544,
          545,
          546,
          547,
          548,
          549,
          550,
          551,
          552,
          553,
          554,
          555,
          556,
          557,
          558,
          559,
          560,
          561,
          562,
          563,
          564,
          565,
          566,
          567,
          568,
          569,
          570,
          571,
          572,
          573,
          574,
          575,
          576,
          577,
          578,
          579,
          580,
          581,
          582,
          583,
          584,
          585,
          586,
          587,
          588,
          589,
          590,
          591,
          592,
          593,
          594,
          595,
          596,
          597,
          598,
          599,
          600,
          601,
          602
         ]
        }
       ],
       "layout": {
        "shapes": [
         {
          "line": {
           "color": "MediumPurple",
           "width": 3
          },
          "type": "line",
          "x0": 411,
          "x1": 603,
          "y0": 2095.246,
          "y1": 2095.246
         },
         {
          "line": {
           "color": "MediumPurple",
           "width": 3
          },
          "type": "line",
          "x0": 417,
          "x1": 603,
          "y0": 2270.5,
          "y1": 2270.5
         },
         {
          "line": {
           "color": "MediumPurple",
           "width": 3
          },
          "type": "line",
          "x0": 430,
          "x1": 603,
          "y0": 2350.51,
          "y1": 2350.51
         },
         {
          "line": {
           "color": "MediumPurple",
           "width": 3
          },
          "type": "line",
          "x0": 441,
          "x1": 603,
          "y0": 1873.71,
          "y1": 1873.71
         },
         {
          "line": {
           "color": "MediumPurple",
           "width": 3
          },
          "type": "line",
          "x0": 469,
          "x1": 603,
          "y0": 1785.01,
          "y1": 1785.01
         },
         {
          "line": {
           "color": "MediumPurple",
           "width": 3
          },
          "type": "line",
          "x0": 497,
          "x1": 603,
          "y0": 3010.36,
          "y1": 3010.36
         },
         {
          "line": {
           "color": "MediumPurple",
           "width": 3
          },
          "type": "line",
          "x0": 510,
          "x1": 603,
          "y0": 3222.33,
          "y1": 3222.33
         },
         {
          "line": {
           "color": "MediumPurple",
           "width": 3
          },
          "type": "line",
          "x0": 521,
          "x1": 603,
          "y0": 3206.62,
          "y1": 3206.62
         },
         {
          "line": {
           "color": "MediumPurple",
           "width": 3
          },
          "type": "line",
          "x0": 532,
          "x1": 603,
          "y0": 2753.9,
          "y1": 2753.9
         },
         {
          "line": {
           "color": "MediumPurple",
           "width": 3
          },
          "type": "line",
          "x0": 539,
          "x1": 603,
          "y0": 2802.48,
          "y1": 2802.48
         },
         {
          "line": {
           "color": "MediumPurple",
           "width": 3
          },
          "type": "line",
          "x0": 568,
          "x1": 603,
          "y0": 3921.8,
          "y1": 3921.8
         },
         {
          "line": {
           "color": "MediumPurple",
           "width": 3
          },
          "type": "line",
          "x0": 572,
          "x1": 603,
          "y0": 4287.3,
          "y1": 4287.3
         },
         {
          "line": {
           "color": "MediumPurple",
           "width": 3
          },
          "type": "line",
          "x0": 577,
          "x1": 603,
          "y0": 4479.2,
          "y1": 4479.2
         },
         {
          "line": {
           "color": "RoyalBlue",
           "width": 1
          },
          "type": "line",
          "x0": 414,
          "x1": 603,
          "y0": 2892.07,
          "y1": 2892.07
         },
         {
          "line": {
           "color": "RoyalBlue",
           "width": 1
          },
          "type": "line",
          "x0": 422,
          "x1": 603,
          "y0": 2856.72,
          "y1": 2856.72
         },
         {
          "line": {
           "color": "RoyalBlue",
           "width": 1
          },
          "type": "line",
          "x0": 433,
          "x1": 603,
          "y0": 2584,
          "y1": 2584
         },
         {
          "line": {
           "color": "RoyalBlue",
           "width": 1
          },
          "type": "line",
          "x0": 526,
          "x1": 603,
          "y0": 3616.57,
          "y1": 3616.57
         },
         {
          "line": {
           "color": "RoyalBlue",
           "width": 1
          },
          "type": "line",
          "x0": 534,
          "x1": 603,
          "y0": 3157.1,
          "y1": 3157.1
         },
         {
          "line": {
           "color": "RoyalBlue",
           "width": 1
          },
          "type": "line",
          "x0": 561,
          "x1": 603,
          "y0": 4164.4,
          "y1": 4164.4
         },
         {
          "line": {
           "color": "RoyalBlue",
           "width": 1
          },
          "type": "line",
          "x0": 570,
          "x1": 603,
          "y0": 4421.23,
          "y1": 4421.23
         },
         {
          "line": {
           "color": "RoyalBlue",
           "width": 1
          },
          "type": "line",
          "x0": 575,
          "x1": 603,
          "y0": 4607.74,
          "y1": 4607.74
         },
         {
          "line": {
           "color": "RoyalBlue",
           "width": 1
          },
          "type": "line",
          "x0": 580,
          "x1": 603,
          "y0": 4815.46,
          "y1": 4815.46
         },
         {
          "line": {
           "color": "RoyalBlue",
           "width": 1
          },
          "type": "line",
          "x0": 592,
          "x1": 603,
          "y0": 4416.98,
          "y1": 4416.98
         },
         {
          "line": {
           "color": "RoyalBlue",
           "width": 1
          },
          "type": "line",
          "x0": 602,
          "x1": 603,
          "y0": 4638.96,
          "y1": 4638.96
         }
        ],
        "template": {
         "data": {
          "bar": [
           {
            "error_x": {
             "color": "#2a3f5f"
            },
            "error_y": {
             "color": "#2a3f5f"
            },
            "marker": {
             "line": {
              "color": "#E5ECF6",
              "width": 0.5
             },
             "pattern": {
              "fillmode": "overlay",
              "size": 10,
              "solidity": 0.2
             }
            },
            "type": "bar"
           }
          ],
          "barpolar": [
           {
            "marker": {
             "line": {
              "color": "#E5ECF6",
              "width": 0.5
             },
             "pattern": {
              "fillmode": "overlay",
              "size": 10,
              "solidity": 0.2
             }
            },
            "type": "barpolar"
           }
          ],
          "carpet": [
           {
            "aaxis": {
             "endlinecolor": "#2a3f5f",
             "gridcolor": "white",
             "linecolor": "white",
             "minorgridcolor": "white",
             "startlinecolor": "#2a3f5f"
            },
            "baxis": {
             "endlinecolor": "#2a3f5f",
             "gridcolor": "white",
             "linecolor": "white",
             "minorgridcolor": "white",
             "startlinecolor": "#2a3f5f"
            },
            "type": "carpet"
           }
          ],
          "choropleth": [
           {
            "colorbar": {
             "outlinewidth": 0,
             "ticks": ""
            },
            "type": "choropleth"
           }
          ],
          "contour": [
           {
            "colorbar": {
             "outlinewidth": 0,
             "ticks": ""
            },
            "colorscale": [
             [
              0,
              "#0d0887"
             ],
             [
              0.1111111111111111,
              "#46039f"
             ],
             [
              0.2222222222222222,
              "#7201a8"
             ],
             [
              0.3333333333333333,
              "#9c179e"
             ],
             [
              0.4444444444444444,
              "#bd3786"
             ],
             [
              0.5555555555555556,
              "#d8576b"
             ],
             [
              0.6666666666666666,
              "#ed7953"
             ],
             [
              0.7777777777777778,
              "#fb9f3a"
             ],
             [
              0.8888888888888888,
              "#fdca26"
             ],
             [
              1,
              "#f0f921"
             ]
            ],
            "type": "contour"
           }
          ],
          "contourcarpet": [
           {
            "colorbar": {
             "outlinewidth": 0,
             "ticks": ""
            },
            "type": "contourcarpet"
           }
          ],
          "heatmap": [
           {
            "colorbar": {
             "outlinewidth": 0,
             "ticks": ""
            },
            "colorscale": [
             [
              0,
              "#0d0887"
             ],
             [
              0.1111111111111111,
              "#46039f"
             ],
             [
              0.2222222222222222,
              "#7201a8"
             ],
             [
              0.3333333333333333,
              "#9c179e"
             ],
             [
              0.4444444444444444,
              "#bd3786"
             ],
             [
              0.5555555555555556,
              "#d8576b"
             ],
             [
              0.6666666666666666,
              "#ed7953"
             ],
             [
              0.7777777777777778,
              "#fb9f3a"
             ],
             [
              0.8888888888888888,
              "#fdca26"
             ],
             [
              1,
              "#f0f921"
             ]
            ],
            "type": "heatmap"
           }
          ],
          "heatmapgl": [
           {
            "colorbar": {
             "outlinewidth": 0,
             "ticks": ""
            },
            "colorscale": [
             [
              0,
              "#0d0887"
             ],
             [
              0.1111111111111111,
              "#46039f"
             ],
             [
              0.2222222222222222,
              "#7201a8"
             ],
             [
              0.3333333333333333,
              "#9c179e"
             ],
             [
              0.4444444444444444,
              "#bd3786"
             ],
             [
              0.5555555555555556,
              "#d8576b"
             ],
             [
              0.6666666666666666,
              "#ed7953"
             ],
             [
              0.7777777777777778,
              "#fb9f3a"
             ],
             [
              0.8888888888888888,
              "#fdca26"
             ],
             [
              1,
              "#f0f921"
             ]
            ],
            "type": "heatmapgl"
           }
          ],
          "histogram": [
           {
            "marker": {
             "pattern": {
              "fillmode": "overlay",
              "size": 10,
              "solidity": 0.2
             }
            },
            "type": "histogram"
           }
          ],
          "histogram2d": [
           {
            "colorbar": {
             "outlinewidth": 0,
             "ticks": ""
            },
            "colorscale": [
             [
              0,
              "#0d0887"
             ],
             [
              0.1111111111111111,
              "#46039f"
             ],
             [
              0.2222222222222222,
              "#7201a8"
             ],
             [
              0.3333333333333333,
              "#9c179e"
             ],
             [
              0.4444444444444444,
              "#bd3786"
             ],
             [
              0.5555555555555556,
              "#d8576b"
             ],
             [
              0.6666666666666666,
              "#ed7953"
             ],
             [
              0.7777777777777778,
              "#fb9f3a"
             ],
             [
              0.8888888888888888,
              "#fdca26"
             ],
             [
              1,
              "#f0f921"
             ]
            ],
            "type": "histogram2d"
           }
          ],
          "histogram2dcontour": [
           {
            "colorbar": {
             "outlinewidth": 0,
             "ticks": ""
            },
            "colorscale": [
             [
              0,
              "#0d0887"
             ],
             [
              0.1111111111111111,
              "#46039f"
             ],
             [
              0.2222222222222222,
              "#7201a8"
             ],
             [
              0.3333333333333333,
              "#9c179e"
             ],
             [
              0.4444444444444444,
              "#bd3786"
             ],
             [
              0.5555555555555556,
              "#d8576b"
             ],
             [
              0.6666666666666666,
              "#ed7953"
             ],
             [
              0.7777777777777778,
              "#fb9f3a"
             ],
             [
              0.8888888888888888,
              "#fdca26"
             ],
             [
              1,
              "#f0f921"
             ]
            ],
            "type": "histogram2dcontour"
           }
          ],
          "mesh3d": [
           {
            "colorbar": {
             "outlinewidth": 0,
             "ticks": ""
            },
            "type": "mesh3d"
           }
          ],
          "parcoords": [
           {
            "line": {
             "colorbar": {
              "outlinewidth": 0,
              "ticks": ""
             }
            },
            "type": "parcoords"
           }
          ],
          "pie": [
           {
            "automargin": true,
            "type": "pie"
           }
          ],
          "scatter": [
           {
            "fillpattern": {
             "fillmode": "overlay",
             "size": 10,
             "solidity": 0.2
            },
            "type": "scatter"
           }
          ],
          "scatter3d": [
           {
            "line": {
             "colorbar": {
              "outlinewidth": 0,
              "ticks": ""
             }
            },
            "marker": {
             "colorbar": {
              "outlinewidth": 0,
              "ticks": ""
             }
            },
            "type": "scatter3d"
           }
          ],
          "scattercarpet": [
           {
            "marker": {
             "colorbar": {
              "outlinewidth": 0,
              "ticks": ""
             }
            },
            "type": "scattercarpet"
           }
          ],
          "scattergeo": [
           {
            "marker": {
             "colorbar": {
              "outlinewidth": 0,
              "ticks": ""
             }
            },
            "type": "scattergeo"
           }
          ],
          "scattergl": [
           {
            "marker": {
             "colorbar": {
              "outlinewidth": 0,
              "ticks": ""
             }
            },
            "type": "scattergl"
           }
          ],
          "scattermapbox": [
           {
            "marker": {
             "colorbar": {
              "outlinewidth": 0,
              "ticks": ""
             }
            },
            "type": "scattermapbox"
           }
          ],
          "scatterpolar": [
           {
            "marker": {
             "colorbar": {
              "outlinewidth": 0,
              "ticks": ""
             }
            },
            "type": "scatterpolar"
           }
          ],
          "scatterpolargl": [
           {
            "marker": {
             "colorbar": {
              "outlinewidth": 0,
              "ticks": ""
             }
            },
            "type": "scatterpolargl"
           }
          ],
          "scatterternary": [
           {
            "marker": {
             "colorbar": {
              "outlinewidth": 0,
              "ticks": ""
             }
            },
            "type": "scatterternary"
           }
          ],
          "surface": [
           {
            "colorbar": {
             "outlinewidth": 0,
             "ticks": ""
            },
            "colorscale": [
             [
              0,
              "#0d0887"
             ],
             [
              0.1111111111111111,
              "#46039f"
             ],
             [
              0.2222222222222222,
              "#7201a8"
             ],
             [
              0.3333333333333333,
              "#9c179e"
             ],
             [
              0.4444444444444444,
              "#bd3786"
             ],
             [
              0.5555555555555556,
              "#d8576b"
             ],
             [
              0.6666666666666666,
              "#ed7953"
             ],
             [
              0.7777777777777778,
              "#fb9f3a"
             ],
             [
              0.8888888888888888,
              "#fdca26"
             ],
             [
              1,
              "#f0f921"
             ]
            ],
            "type": "surface"
           }
          ],
          "table": [
           {
            "cells": {
             "fill": {
              "color": "#EBF0F8"
             },
             "line": {
              "color": "white"
             }
            },
            "header": {
             "fill": {
              "color": "#C8D4E3"
             },
             "line": {
              "color": "white"
             }
            },
            "type": "table"
           }
          ]
         },
         "layout": {
          "annotationdefaults": {
           "arrowcolor": "#2a3f5f",
           "arrowhead": 0,
           "arrowwidth": 1
          },
          "autotypenumbers": "strict",
          "coloraxis": {
           "colorbar": {
            "outlinewidth": 0,
            "ticks": ""
           }
          },
          "colorscale": {
           "diverging": [
            [
             0,
             "#8e0152"
            ],
            [
             0.1,
             "#c51b7d"
            ],
            [
             0.2,
             "#de77ae"
            ],
            [
             0.3,
             "#f1b6da"
            ],
            [
             0.4,
             "#fde0ef"
            ],
            [
             0.5,
             "#f7f7f7"
            ],
            [
             0.6,
             "#e6f5d0"
            ],
            [
             0.7,
             "#b8e186"
            ],
            [
             0.8,
             "#7fbc41"
            ],
            [
             0.9,
             "#4d9221"
            ],
            [
             1,
             "#276419"
            ]
           ],
           "sequential": [
            [
             0,
             "#0d0887"
            ],
            [
             0.1111111111111111,
             "#46039f"
            ],
            [
             0.2222222222222222,
             "#7201a8"
            ],
            [
             0.3333333333333333,
             "#9c179e"
            ],
            [
             0.4444444444444444,
             "#bd3786"
            ],
            [
             0.5555555555555556,
             "#d8576b"
            ],
            [
             0.6666666666666666,
             "#ed7953"
            ],
            [
             0.7777777777777778,
             "#fb9f3a"
            ],
            [
             0.8888888888888888,
             "#fdca26"
            ],
            [
             1,
             "#f0f921"
            ]
           ],
           "sequentialminus": [
            [
             0,
             "#0d0887"
            ],
            [
             0.1111111111111111,
             "#46039f"
            ],
            [
             0.2222222222222222,
             "#7201a8"
            ],
            [
             0.3333333333333333,
             "#9c179e"
            ],
            [
             0.4444444444444444,
             "#bd3786"
            ],
            [
             0.5555555555555556,
             "#d8576b"
            ],
            [
             0.6666666666666666,
             "#ed7953"
            ],
            [
             0.7777777777777778,
             "#fb9f3a"
            ],
            [
             0.8888888888888888,
             "#fdca26"
            ],
            [
             1,
             "#f0f921"
            ]
           ]
          },
          "colorway": [
           "#636efa",
           "#EF553B",
           "#00cc96",
           "#ab63fa",
           "#FFA15A",
           "#19d3f3",
           "#FF6692",
           "#B6E880",
           "#FF97FF",
           "#FECB52"
          ],
          "font": {
           "color": "#2a3f5f"
          },
          "geo": {
           "bgcolor": "white",
           "lakecolor": "white",
           "landcolor": "#E5ECF6",
           "showlakes": true,
           "showland": true,
           "subunitcolor": "white"
          },
          "hoverlabel": {
           "align": "left"
          },
          "hovermode": "closest",
          "mapbox": {
           "style": "light"
          },
          "paper_bgcolor": "white",
          "plot_bgcolor": "#E5ECF6",
          "polar": {
           "angularaxis": {
            "gridcolor": "white",
            "linecolor": "white",
            "ticks": ""
           },
           "bgcolor": "#E5ECF6",
           "radialaxis": {
            "gridcolor": "white",
            "linecolor": "white",
            "ticks": ""
           }
          },
          "scene": {
           "xaxis": {
            "backgroundcolor": "#E5ECF6",
            "gridcolor": "white",
            "gridwidth": 2,
            "linecolor": "white",
            "showbackground": true,
            "ticks": "",
            "zerolinecolor": "white"
           },
           "yaxis": {
            "backgroundcolor": "#E5ECF6",
            "gridcolor": "white",
            "gridwidth": 2,
            "linecolor": "white",
            "showbackground": true,
            "ticks": "",
            "zerolinecolor": "white"
           },
           "zaxis": {
            "backgroundcolor": "#E5ECF6",
            "gridcolor": "white",
            "gridwidth": 2,
            "linecolor": "white",
            "showbackground": true,
            "ticks": "",
            "zerolinecolor": "white"
           }
          },
          "shapedefaults": {
           "line": {
            "color": "#2a3f5f"
           }
          },
          "ternary": {
           "aaxis": {
            "gridcolor": "white",
            "linecolor": "white",
            "ticks": ""
           },
           "baxis": {
            "gridcolor": "white",
            "linecolor": "white",
            "ticks": ""
           },
           "bgcolor": "#E5ECF6",
           "caxis": {
            "gridcolor": "white",
            "linecolor": "white",
            "ticks": ""
           }
          },
          "title": {
           "x": 0.05
          },
          "xaxis": {
           "automargin": true,
           "gridcolor": "white",
           "linecolor": "white",
           "ticks": "",
           "title": {
            "standoff": 15
           },
           "zerolinecolor": "white",
           "zerolinewidth": 2
          },
          "yaxis": {
           "automargin": true,
           "gridcolor": "white",
           "linecolor": "white",
           "ticks": "",
           "title": {
            "standoff": 15
           },
           "zerolinecolor": "white",
           "zerolinewidth": 2
          }
         }
        }
       }
      }
     },
     "metadata": {},
     "output_type": "display_data"
    }
   ],
   "source": [
    "s = 400\n",
    "e = 603\n",
    "dfpl = ETHUSD_df1[s:e]\n",
    "import plotly.graph_objects as go\n",
    "from datetime import datetime\n",
    "import matplotlib.pyplot as plt\n",
    "\n",
    "fig = go.Figure(data=[go.Candlestick(x=dfpl.index,\n",
    "                open=dfpl['open'],\n",
    "                high=dfpl['high'],\n",
    "                low=dfpl['low'],\n",
    "                close=dfpl['close'])])\n",
    "\n",
    "c=0\n",
    "while (1):\n",
    "    if(c>len(ss)-1 ):\n",
    "        break\n",
    "    fig.add_shape(type='line', x0=ss[c][0], y0=ss[c][1],\n",
    "                  x1=e,\n",
    "                  y1=ss[c][1],\n",
    "                  line=dict(color=\"MediumPurple\",width=3)\n",
    "                  )\n",
    "    c+=1\n",
    "\n",
    "c=0\n",
    "while (1):\n",
    "    if(c>len(rr)-1 ):\n",
    "        break\n",
    "    fig.add_shape(type='line', x0=rr[c][0], y0=rr[c][1],\n",
    "                  x1=e,\n",
    "                  y1=rr[c][1],\n",
    "                  line=dict(color=\"RoyalBlue\",width=1)\n",
    "                  )\n",
    "    c+=1    \n",
    "\n",
    "fig.show()"
   ]
  },
  {
   "cell_type": "code",
   "execution_count": 32,
   "metadata": {},
   "outputs": [],
   "source": [
    "length = len(ETHUSD_df1)\n",
    "high = list(ETHUSD_df1['high'])\n",
    "low = list(ETHUSD_df1['low'])\n",
    "close = list(ETHUSD_df1['close'])\n",
    "open = list(ETHUSD_df1['open'])\n",
    "bodydiff = [0] * length\n",
    "\n",
    "highdiff = [0] * length\n",
    "lowdiff = [0] * length\n",
    "ratio1 = [0] * length\n",
    "ratio2 = [0] * length\n",
    "\n",
    "def isEngulfing(l):\n",
    "    row=l\n",
    "    bodydiff[row] = abs(open[row]-close[row])\n",
    "    if bodydiff[row]<0.000001:\n",
    "        bodydiff[row]=0.000001      \n",
    "\n",
    "    bodydiffmin = 0.002\n",
    "    if (bodydiff[row]>bodydiffmin and bodydiff[row-1]>bodydiffmin and\n",
    "        open[row-1]<close[row-1] and\n",
    "        open[row]>close[row] and \n",
    "        (open[row]-close[row-1])>=-0e-5 and close[row]<open[row-1]): #+0e-5 -5e-5\n",
    "        return 1\n",
    "\n",
    "    elif(bodydiff[row]>bodydiffmin and bodydiff[row-1]>bodydiffmin and\n",
    "        open[row-1]>close[row-1] and\n",
    "        open[row]<close[row] and \n",
    "        (open[row]-close[row-1])<=+0e-5 and close[row]>open[row-1]):#-0e-5 +5e-5\n",
    "        return 2\n",
    "    else:\n",
    "        return 0\n",
    "       \n",
    "def isStar(l):\n",
    "    bodydiffmin = 0.0020\n",
    "    row=l\n",
    "    highdiff[row] = high[row]-max(open[row],close[row])\n",
    "    lowdiff[row] = min(open[row],close[row])-low[row]\n",
    "    bodydiff[row] = abs(open[row]-close[row])\n",
    "    if bodydiff[row]<0.000001:\n",
    "        bodydiff[row]=0.000001\n",
    "    ratio1[row] = highdiff[row]/bodydiff[row]\n",
    "    ratio2[row] = lowdiff[row]/bodydiff[row]\n",
    "\n",
    "    if (ratio1[row]>1 and lowdiff[row]<0.2*highdiff[row] and bodydiff[row]>bodydiffmin):# and open[row]>close[row]):\n",
    "        return 1\n",
    "    elif (ratio2[row]>1 and highdiff[row]<0.2*lowdiff[row] and bodydiff[row]>bodydiffmin):# and open[row]<close[row]):\n",
    "        return 2\n",
    "    else:\n",
    "        return 0\n",
    "    \n",
    "def closeResistance(l,levels,lim):\n",
    "    if len(levels)==0:\n",
    "        return 0\n",
    "    c1 = abs(ETHUSD_df1.high[l]-min(levels, key=lambda x:abs(x-ETHUSD_df1.high[l])))<=lim\n",
    "    c2 = abs(max(ETHUSD_df1.open[l],ETHUSD_df1.close[l])-min(levels, key=lambda x:abs(x-ETHUSD_df1.high[l])))<=lim\n",
    "    c3 = min(ETHUSD_df1.open[l],ETHUSD_df1.close[l])<min(levels, key=lambda x:abs(x-ETHUSD_df1.high[l]))\n",
    "    c4 = ETHUSD_df1.low[l]<min(levels, key=lambda x:abs(x-ETHUSD_df1.high[l]))\n",
    "    if( (c1 or c2) and c3 and c4 ):\n",
    "        return 1\n",
    "    else:\n",
    "        return 0\n",
    "    \n",
    "def closeSupport(l,levels,lim):\n",
    "    if len(levels)==0:\n",
    "        return 0\n",
    "    c1 = abs(ETHUSD_df1.low[l]-min(levels, key=lambda x:abs(x-ETHUSD_df1.low[l])))<=lim\n",
    "    c2 = abs(min(ETHUSD_df1.open[l],ETHUSD_df1.close[l])-min(levels, key=lambda x:abs(x-ETHUSD_df1.low[l])))<=lim\n",
    "    c3 = max(ETHUSD_df1.open[l],ETHUSD_df1.close[l])>min(levels, key=lambda x:abs(x-ETHUSD_df1.low[l]))\n",
    "    c4 = ETHUSD_df1.high[l]>min(levels, key=lambda x:abs(x-ETHUSD_df1.low[l]))\n",
    "    if( (c1 or c2) and c3 and c4 ):\n",
    "        return 1\n",
    "    else:\n",
    "        return 0"
   ]
  },
  {
   "cell_type": "code",
   "execution_count": 33,
   "metadata": {},
   "outputs": [],
   "source": [
    "n1=1\n",
    "n2=1\n",
    "backCandles=20\n",
    "signal = [0] * length\n",
    "\n",
    "for row in range(backCandles, len(ETHUSD_df1)-n2):\n",
    "    ss = []\n",
    "    rr = []\n",
    "    for subrow in range(row-backCandles+n1, row+1):\n",
    "        if support(ETHUSD_df1, subrow, n1, n2):\n",
    "            ss.append(ETHUSD_df1.low[subrow])\n",
    "        if resistance(ETHUSD_df1, subrow, n1, n2):\n",
    "            rr.append(ETHUSD_df1.high[subrow])\n",
    "    #!!!! parameters\n",
    "    if ((isEngulfing(row)==1 or isStar(row)==1) and closeResistance(row, rr, 150e-5) ):#and df.RSI[row]<30\n",
    "        signal[row] = 1\n",
    "    elif((isEngulfing(row)==2 or isStar(row)==2) and closeSupport(row, ss, 150e-5)):#and df.RSI[row]>70\n",
    "        signal[row] = 2\n",
    "    else:\n",
    "        signal[row] = 0\n",
    "\n"
   ]
  },
  {
   "cell_type": "code",
   "execution_count": 34,
   "metadata": {},
   "outputs": [],
   "source": [
    "ETHUSD_df1['signal']=signal"
   ]
  },
  {
   "cell_type": "code",
   "execution_count": 35,
   "metadata": {},
   "outputs": [
    {
     "data": {
      "text/plain": [
       "Date            21\n",
       "volume          21\n",
       "open            21\n",
       "high            21\n",
       "close           21\n",
       "low             21\n",
       "transactions    21\n",
       "signal          21\n",
       "dtype: int64"
      ]
     },
     "execution_count": 35,
     "metadata": {},
     "output_type": "execute_result"
    }
   ],
   "source": [
    "ETHUSD_df1[ETHUSD_df1['signal']==2].count()"
   ]
  },
  {
   "cell_type": "code",
   "execution_count": 36,
   "metadata": {},
   "outputs": [
    {
     "data": {
      "text/html": [
       "<div>\n",
       "<style scoped>\n",
       "    .dataframe tbody tr th:only-of-type {\n",
       "        vertical-align: middle;\n",
       "    }\n",
       "\n",
       "    .dataframe tbody tr th {\n",
       "        vertical-align: top;\n",
       "    }\n",
       "\n",
       "    .dataframe thead th {\n",
       "        text-align: right;\n",
       "    }\n",
       "</style>\n",
       "<table border=\"1\" class=\"dataframe\">\n",
       "  <thead>\n",
       "    <tr style=\"text-align: right;\">\n",
       "      <th></th>\n",
       "      <th>Local time</th>\n",
       "      <th>Volume</th>\n",
       "      <th>Open</th>\n",
       "      <th>High</th>\n",
       "      <th>Close</th>\n",
       "      <th>Low</th>\n",
       "      <th>transactions</th>\n",
       "      <th>signal</th>\n",
       "    </tr>\n",
       "  </thead>\n",
       "  <tbody>\n",
       "    <tr>\n",
       "      <th>0</th>\n",
       "      <td>2020-04-07 23:59:00</td>\n",
       "      <td>6050.274097</td>\n",
       "      <td>164.787</td>\n",
       "      <td>164.898021</td>\n",
       "      <td>164.64500</td>\n",
       "      <td>164.560000</td>\n",
       "      <td>47</td>\n",
       "      <td>0</td>\n",
       "    </tr>\n",
       "    <tr>\n",
       "      <th>1</th>\n",
       "      <td>2020-04-08 23:59:00</td>\n",
       "      <td>835.208537</td>\n",
       "      <td>173.300</td>\n",
       "      <td>173.780000</td>\n",
       "      <td>173.78000</td>\n",
       "      <td>173.096000</td>\n",
       "      <td>69</td>\n",
       "      <td>0</td>\n",
       "    </tr>\n",
       "    <tr>\n",
       "      <th>2</th>\n",
       "      <td>2020-04-09 23:59:00</td>\n",
       "      <td>1405.588180</td>\n",
       "      <td>169.825</td>\n",
       "      <td>170.070000</td>\n",
       "      <td>170.00000</td>\n",
       "      <td>169.697000</td>\n",
       "      <td>60</td>\n",
       "      <td>0</td>\n",
       "    </tr>\n",
       "    <tr>\n",
       "      <th>3</th>\n",
       "      <td>2020-04-10 23:59:00</td>\n",
       "      <td>588.018139</td>\n",
       "      <td>158.180</td>\n",
       "      <td>158.200000</td>\n",
       "      <td>158.16999</td>\n",
       "      <td>157.828000</td>\n",
       "      <td>30</td>\n",
       "      <td>0</td>\n",
       "    </tr>\n",
       "    <tr>\n",
       "      <th>4</th>\n",
       "      <td>2020-04-11 23:59:00</td>\n",
       "      <td>5.016882</td>\n",
       "      <td>158.650</td>\n",
       "      <td>158.790000</td>\n",
       "      <td>158.58000</td>\n",
       "      <td>158.410000</td>\n",
       "      <td>23</td>\n",
       "      <td>0</td>\n",
       "    </tr>\n",
       "    <tr>\n",
       "      <th>...</th>\n",
       "      <td>...</td>\n",
       "      <td>...</td>\n",
       "      <td>...</td>\n",
       "      <td>...</td>\n",
       "      <td>...</td>\n",
       "      <td>...</td>\n",
       "      <td>...</td>\n",
       "      <td>...</td>\n",
       "    </tr>\n",
       "    <tr>\n",
       "      <th>723</th>\n",
       "      <td>2022-04-02 23:59:00</td>\n",
       "      <td>24.062936</td>\n",
       "      <td>3444.550</td>\n",
       "      <td>3445.950000</td>\n",
       "      <td>3445.37000</td>\n",
       "      <td>3442.555228</td>\n",
       "      <td>276</td>\n",
       "      <td>0</td>\n",
       "    </tr>\n",
       "    <tr>\n",
       "      <th>724</th>\n",
       "      <td>2022-04-03 23:59:00</td>\n",
       "      <td>47.206842</td>\n",
       "      <td>3521.020</td>\n",
       "      <td>3523.190000</td>\n",
       "      <td>3522.79000</td>\n",
       "      <td>3518.637406</td>\n",
       "      <td>269</td>\n",
       "      <td>0</td>\n",
       "    </tr>\n",
       "    <tr>\n",
       "      <th>725</th>\n",
       "      <td>2022-04-04 23:59:00</td>\n",
       "      <td>50.290972</td>\n",
       "      <td>3521.460</td>\n",
       "      <td>3523.000000</td>\n",
       "      <td>3520.40000</td>\n",
       "      <td>3519.200000</td>\n",
       "      <td>339</td>\n",
       "      <td>0</td>\n",
       "    </tr>\n",
       "    <tr>\n",
       "      <th>726</th>\n",
       "      <td>2022-04-05 23:58:00</td>\n",
       "      <td>412.878174</td>\n",
       "      <td>3409.680</td>\n",
       "      <td>3413.480000</td>\n",
       "      <td>3409.23000</td>\n",
       "      <td>3406.100000</td>\n",
       "      <td>762</td>\n",
       "      <td>0</td>\n",
       "    </tr>\n",
       "    <tr>\n",
       "      <th>727</th>\n",
       "      <td>2022-04-06 23:58:00</td>\n",
       "      <td>448.049227</td>\n",
       "      <td>3169.080</td>\n",
       "      <td>3172.600000</td>\n",
       "      <td>3169.97000</td>\n",
       "      <td>3166.390000</td>\n",
       "      <td>651</td>\n",
       "      <td>0</td>\n",
       "    </tr>\n",
       "  </tbody>\n",
       "</table>\n",
       "<p>728 rows × 8 columns</p>\n",
       "</div>"
      ],
      "text/plain": [
       "             Local time       Volume      Open         High       Close  \\\n",
       "0   2020-04-07 23:59:00  6050.274097   164.787   164.898021   164.64500   \n",
       "1   2020-04-08 23:59:00   835.208537   173.300   173.780000   173.78000   \n",
       "2   2020-04-09 23:59:00  1405.588180   169.825   170.070000   170.00000   \n",
       "3   2020-04-10 23:59:00   588.018139   158.180   158.200000   158.16999   \n",
       "4   2020-04-11 23:59:00     5.016882   158.650   158.790000   158.58000   \n",
       "..                  ...          ...       ...          ...         ...   \n",
       "723 2022-04-02 23:59:00    24.062936  3444.550  3445.950000  3445.37000   \n",
       "724 2022-04-03 23:59:00    47.206842  3521.020  3523.190000  3522.79000   \n",
       "725 2022-04-04 23:59:00    50.290972  3521.460  3523.000000  3520.40000   \n",
       "726 2022-04-05 23:58:00   412.878174  3409.680  3413.480000  3409.23000   \n",
       "727 2022-04-06 23:58:00   448.049227  3169.080  3172.600000  3169.97000   \n",
       "\n",
       "             Low  transactions  signal  \n",
       "0     164.560000            47       0  \n",
       "1     173.096000            69       0  \n",
       "2     169.697000            60       0  \n",
       "3     157.828000            30       0  \n",
       "4     158.410000            23       0  \n",
       "..           ...           ...     ...  \n",
       "723  3442.555228           276       0  \n",
       "724  3518.637406           269       0  \n",
       "725  3519.200000           339       0  \n",
       "726  3406.100000           762       0  \n",
       "727  3166.390000           651       0  \n",
       "\n",
       "[728 rows x 8 columns]"
      ]
     },
     "execution_count": 36,
     "metadata": {},
     "output_type": "execute_result"
    }
   ],
   "source": [
    "ETHUSD_df1.columns = ['Local time', 'Volume', 'Open', 'High', 'Close','Low', \"transactions\" , 'signal']\n",
    "ETHUSD_candle_df=ETHUSD_df1.iloc[100:200]\n",
    "ETHUSD_candle_df"
   ]
  },
  {
   "cell_type": "code",
   "execution_count": 37,
   "metadata": {},
   "outputs": [],
   "source": [
    "def SIGNAL():\n",
    "    return ETHUSD_candle_df.signal"
   ]
  },
  {
   "cell_type": "code",
   "execution_count": 38,
   "metadata": {},
   "outputs": [],
   "source": [
    "from backtesting import Strategy\n",
    "\n",
    "class MyCandlesStrat(Strategy):  \n",
    "    def init(self):\n",
    "        super().init()\n",
    "        self.signal1 = self.I(SIGNAL)\n",
    "\n",
    "    def next(self):\n",
    "        super().next() \n",
    "        if self.signal1==2:\n",
    "            sl1 = self.data.Close[-1] - 730e-1\n",
    "            tp1 = self.data.Close[-1] + 600e-1\n",
    "            self.buy(sl=sl1, tp=tp1)\n",
    "        elif self.signal1==1:\n",
    "            sl1 = self.data.Close[-1] + 730e-1\n",
    "            tp1 = self.data.Close[-1] - 600e-1\n",
    "            self.sell(sl=sl1, tp=tp1)"
   ]
  },
  {
   "cell_type": "code",
   "execution_count": 39,
   "metadata": {},
   "outputs": [
    {
     "data": {
      "text/plain": [
       "Start                                   100.0\n",
       "End                                     199.0\n",
       "Duration                                 99.0\n",
       "Exposure Time [%]                        59.0\n",
       "Equity Final [$]                 13381.368993\n",
       "Equity Peak [$]                  16422.648993\n",
       "Return [%]                           33.81369\n",
       "Buy & Hold Return [%]               75.450923\n",
       "Return (Ann.) [%]                         0.0\n",
       "Volatility (Ann.) [%]                     NaN\n",
       "Sharpe Ratio                              NaN\n",
       "Sortino Ratio                             NaN\n",
       "Calmar Ratio                              0.0\n",
       "Max. Drawdown [%]                  -19.700354\n",
       "Avg. Drawdown [%]                   -5.272707\n",
       "Max. Drawdown Duration                   18.0\n",
       "Avg. Drawdown Duration                  6.875\n",
       "# Trades                                  5.0\n",
       "Win Rate [%]                             80.0\n",
       "Best Trade [%]                      19.865742\n",
       "Worst Trade [%]                    -16.006621\n",
       "Avg. Trade [%]                       8.630154\n",
       "Max. Trade Duration                      25.0\n",
       "Avg. Trade Duration                      11.6\n",
       "Profit Factor                        3.967381\n",
       "Expectancy [%]                       9.499547\n",
       "SQN                                  0.774141\n",
       "_strategy                      MyCandlesStrat\n",
       "_equity_curve                        Equit...\n",
       "_trades                      Size  EntryBa...\n",
       "dtype: object"
      ]
     },
     "execution_count": 39,
     "metadata": {},
     "output_type": "execute_result"
    }
   ],
   "source": [
    "from backtesting import Backtest\n",
    "\n",
    "bt = Backtest(ETHUSD_candle_df, MyCandlesStrat, cash=10_000, commission=.002)\n",
    "stat = bt.run()\n",
    "stat"
   ]
  },
  {
   "cell_type": "markdown",
   "metadata": {},
   "source": [
    "#Another way to do it"
   ]
  },
  {
   "cell_type": "code",
   "execution_count": 47,
   "metadata": {},
   "outputs": [],
   "source": [
    "df= ETHUSD_df1"
   ]
  },
  {
   "cell_type": "code",
   "execution_count": 50,
   "metadata": {},
   "outputs": [
    {
     "data": {
      "text/plain": [
       "<matplotlib.legend.Legend at 0x177702980>"
      ]
     },
     "execution_count": 50,
     "metadata": {},
     "output_type": "execute_result"
    },
    {
     "data": {
      "image/png": "[encoded data removed]",
      "text/plain": [
       "<Figure size 1000x500 with 1 Axes>"
      ]
     },
     "metadata": {},
     "output_type": "display_data"
    }
   ],
   "source": [
    "from matplotlib import pyplot as plt\n",
    "short_window = 30\n",
    "long_window = 100\n",
    "\n",
    "# Calculate moving averages\n",
    "df['short_mavg'] = df['Close'].rolling(short_window).mean()\n",
    "df['long_mavg'] = df['Close'].rolling(long_window).mean()\n",
    "\n",
    "# Plot close price and moving averages\n",
    "plot_data = df[-500:]\n",
    "plt.figure(figsize=(10, 5))\n",
    "plt.title('Long and Short Moving Averages', fontsize=14)\n",
    "plt.xlabel('Date')\n",
    "plt.ylabel('Price')\n",
    "plt.plot(plot_data['Close'], label='Close')\n",
    "plt.plot(plot_data['short_mavg'], label='30-Day Moving Average')\n",
    "plt.plot(plot_data['long_mavg'], label='100-Day Moving Average')\n",
    "plt.legend()"
   ]
  },
  {
   "cell_type": "code",
   "execution_count": 51,
   "metadata": {},
   "outputs": [
    {
     "data": {
      "image/png": "[encoded data removed]",
      "text/plain": [
       "<Figure size 1000x700 with 1 Axes>"
      ]
     },
     "metadata": {},
     "output_type": "display_data"
    }
   ],
   "source": [
    "\n",
    "df['long_positions'] = np.where(df['short_mavg'] > df['long_mavg'], 1, 0)\n",
    "\n",
    "# Take short positions\n",
    "df['short_positions'] = np.where(df['short_mavg'] < df['long_mavg'], -1, 0)\n",
    "df['positions'] = df['long_positions'] + df['short_positions']\n",
    "\n",
    "# Plot close price and moving averages\n",
    "plot_data = df[-3000:]\n",
    "plt.figure(figsize=(10, 7))\n",
    "plt.title('Long and Short Signal', fontsize=14)\n",
    "plt.xlabel('Date')\n",
    "plt.ylabel('Price')\n",
    "plt.plot(plot_data['Close'], label='Close')\n",
    "plt.plot(plot_data['short_mavg'], label='30-Day Moving Average')\n",
    "plt.plot(plot_data['long_mavg'], label='100-day Moving Average')\n",
    "plt.plot(plot_data[(plot_data['long_positions'] == 1) &\n",
    "(plot_data['long_positions'].shift(1) == 0)]['short_mavg'],\n",
    "'^', ms=15, label='Buy Signal', color='green')\n",
    "plt.plot(plot_data[(plot_data['short_positions'] == -1) &\n",
    "(plot_data['short_positions'].shift(1) == 0)]['short_mavg'],\n",
    "'^', ms=15, label='Sell Signal', color='red')\n",
    "plt.legend()\n",
    "plt.show()"
   ]
  },
  {
   "cell_type": "code",
   "execution_count": 53,
   "metadata": {},
   "outputs": [
    {
     "data": {
      "image/png": "[encoded data removed]",
      "text/plain": [
       "<Figure size 1000x700 with 1 Axes>"
      ]
     },
     "metadata": {},
     "output_type": "display_data"
    }
   ],
   "source": [
    "# Calculate daily returns\n",
    "df['returns'] = df['Close'].pct_change()\n",
    "\n",
    "# Calculate strategy returns\n",
    "df['strategy_returns'] = df['returns'] * df['positions'].shift(1)\n",
    "\n",
    "# Plot cumulative returns\n",
    "cumulative_returns = (df['strategy_returns'] + 1).cumprod()\n",
    "cumulative_returns.plot(figsize=(10, 7))\n",
    "plt.title('Cumulative Strategy Returns')\n",
    "plt.show()"
   ]
  },
  {
   "cell_type": "code",
   "execution_count": 54,
   "metadata": {},
   "outputs": [
    {
     "name": "stdout",
     "output_type": "stream",
     "text": [
      "The annualised returns of strategy is 55.40%\n",
      "The annualised_volatility is 75.86102574377234\n",
      "The risk free rate is 3.968253968253968e-05\n",
      "The sharpe ratio is 0.949535221583122\n",
      "The maximum drawdown is -80.85479613132867\n",
      "The Calmar ratio is 0.6851833881825318\n",
      "The Sortino ratio is 0.0052956748763983786\n",
      "The average gain is 0.03887959063487453\n",
      "The average loss is -0.03726186679779635\n",
      "The winning percentage is 46.02%\n"
     ]
    }
   ],
   "source": [
    " #Total number of trading days\n",
    "days = len(cumulative_returns)\n",
    "\n",
    "# Calculate compounded annual growth rate\n",
    "# We will use 252 instead of 365, as the number of trading days in a year is 252\n",
    "annualised_returns = (cumulative_returns.iloc[-1]**(252/days)-1)*100\n",
    "\n",
    "# Calculate annualised volatility\n",
    "annualised_volatility = np.std(df.strategy_returns)*(252**0.5)*100\n",
    "\n",
    "# Assume an average annual risk-free rate is 1%\n",
    "risk_free_rate = 0.01/252\n",
    "sharpe_ratio = np.sqrt(252)*(np.mean(df.strategy_returns) -\n",
    "(risk_free_rate))/np.std(df.strategy_returns)\n",
    "\n",
    "# Calculate the running maximum\n",
    "running_max = np.maximum.accumulate(cumulative_returns.dropna())\n",
    "\n",
    "# Ensure the value never drops below 1\n",
    "running_max[running_max < 1] = 1\n",
    "\n",
    "# Calculate the percentage drawdown\n",
    "drawdown = (cumulative_returns)/running_max - 1\n",
    "max_dd = drawdown.min()*100\n",
    "print('The annualised returns of strategy is %.2f' % annualised_returns + '%')\n",
    "print('The annualised_volatility is', annualised_volatility)\n",
    "print('The risk free rate is', risk_free_rate)\n",
    "print('The sharpe ratio is', sharpe_ratio)\n",
    "print('The maximum drawdown is', max_dd)\n",
    "calmar_ratio = annualised_returns / abs(max_dd)\n",
    "print('The Calmar ratio is', calmar_ratio)\n",
    "downside_returns = df.strategy_returns[df.strategy_returns < 0]\n",
    "downside_volatility = np.std(downside_returns) * np.sqrt(252)\n",
    "sortino_ratio = (np.mean(df.strategy_returns) - risk_free_rate) / downside_volatility\n",
    "print('The Sortino ratio is', sortino_ratio)\n",
    "average_gain = np.mean(df.strategy_returns[df.strategy_returns > 0])\n",
    "average_loss = np.mean(df.strategy_returns[df.strategy_returns < 0])\n",
    "print('The average gain is', average_gain)\n",
    "print('The average loss is', average_loss)\n",
    "winning_percentage = (len(df.strategy_returns[df.strategy_returns > 0]) / len(df.strategy_returns)) * 100\n",
    "print('The winning percentage is %.2f%%' % winning_percentage)\n"
   ]
  },
  {
   "cell_type": "code",
   "execution_count": null,
   "metadata": {},
   "outputs": [],
   "source": []
  }
 ],
 "metadata": {
  "kernelspec": {
   "display_name": "base",
   "language": "python",
   "name": "python3"
  },
  "language_info": {
   "codemirror_mode": {
    "name": "ipython",
    "version": 3
   },
   "file_extension": ".py",
   "mimetype": "text/x-python",
   "name": "python",
   "nbconvert_exporter": "python",
   "pygments_lexer": "ipython3",
   "version": "3.10.9"
  }
 },
 "nbformat": 4,
 "nbformat_minor": 2
}
