{
 "cells": [
  {
   "cell_type": "code",
   "execution_count": 1,
   "metadata": {},
   "outputs": [],
   "source": [
    "import sys\n",
    "import importlib\n",
    "sys.path.append('../')\n",
    "\n",
    "from IPython.display import display, Math, Latex\n",
    "\n",
    "# From data_preparation classes\n",
    "from src.finance_ml.data_preparation.data_preparation import DataLoader\n",
    "\n",
    "from src.finance_ml.denoising.denoising import Denoising\n",
    "from src.finance_ml.indicators.indicators import Indicators\n",
    "from src.finance_ml.volatility.volatility import Volatility\n",
    "\n",
    "# Import required packages\n",
    "import pandas as pd\n",
    "import numpy as np\n",
    "\n",
    "import matplotlib.pyplot as plt\n",
    "import seaborn as sns\n",
    "\n",
    "import math"
   ]
  },
  {
   "cell_type": "code",
   "execution_count": 2,
   "metadata": {},
   "outputs": [],
   "source": [
    "data=np.random.normal(0, 1, size=(6,6))"
   ]
  },
  {
   "cell_type": "code",
   "execution_count": 3,
   "metadata": {},
   "outputs": [
    {
     "data": {
      "text/plain": [
       "array([[ 1.53572554,  0.0667005 ,  1.8234282 ,  0.07305898, -1.10695953,\n",
       "         1.01001688],\n",
       "       [-0.26925907,  0.74008919,  0.52182369,  0.54209408, -0.85096945,\n",
       "         0.03074859],\n",
       "       [ 0.26888693,  0.53971422,  0.78754307, -0.73511047,  0.23840526,\n",
       "         0.3441936 ],\n",
       "       [-0.17907365, -0.52701678, -0.60309171,  0.61496152,  0.28109283,\n",
       "         1.37465629],\n",
       "       [-0.50306857,  0.88440266, -1.7722701 , -0.66637137, -0.45389501,\n",
       "        -0.6669001 ],\n",
       "       [ 0.49903174, -0.39587281,  0.85160639,  2.06751851,  0.06111044,\n",
       "        -0.59058588]])"
      ]
     },
     "execution_count": 3,
     "metadata": {},
     "output_type": "execute_result"
    }
   ],
   "source": [
    "data"
   ]
  },
  {
   "cell_type": "code",
   "execution_count": 4,
   "metadata": {},
   "outputs": [],
   "source": [
    "# Instanciate the Denoising transformer\n",
    "# 'fit_transform()' calculates Correlation, Covariance, EigenValues and \n",
    "#     EigenVectors of denoised covariance matrix\n",
    "denoise_processor = Denoising(detoning=False)\n",
    "\n",
    "denoised_obj = denoise_processor.run_denoising(data)"
   ]
  },
  {
   "cell_type": "code",
   "execution_count": 5,
   "metadata": {},
   "outputs": [],
   "source": [
    "# Retrieves non-denoised Covariance and Correlation Matrices\n",
    "cov0 = denoised_obj.get_cov_original\n",
    "corr0 = denoised_obj.get_corr_original\n",
    "corr1 = denoised_obj.get_corr_denoised\n",
    "np.set_printoptions(formatter={'float_kind':'{:f}'.format})"
   ]
  },
  {
   "cell_type": "code",
   "execution_count": 6,
   "metadata": {},
   "outputs": [
    {
     "data": {
      "text/plain": [
       "array([[0.546534, -0.158921, 0.786691, 0.119619, -0.157109, 0.218290],\n",
       "       [-0.158921, 0.354990, -0.200919, -0.427191, -0.149901, -0.226411],\n",
       "       [0.786691, -0.200919, 1.603161, 0.379898, -0.219348, 0.315182],\n",
       "       [0.119619, -0.427191, 0.379898, 1.067444, 0.092590, -0.113711],\n",
       "       [-0.157109, -0.149901, -0.219348, 0.092590, 0.347244, 0.009863],\n",
       "       [0.218290, -0.226411, 0.315182, -0.113711, 0.009863, 0.689342]])"
      ]
     },
     "execution_count": 6,
     "metadata": {},
     "output_type": "execute_result"
    }
   ],
   "source": [
    "cov0"
   ]
  },
  {
   "cell_type": "code",
   "execution_count": 7,
   "metadata": {},
   "outputs": [
    {
     "data": {
      "text/plain": [
       "array([[1.000000, -0.360799, 0.840440, 0.156610, -0.360640, 0.355637],\n",
       "       [-0.360799, 1.000000, -0.266333, -0.693971, -0.426952, -0.457691],\n",
       "       [0.840440, -0.266333, 1.000000, 0.290406, -0.293986, 0.299817],\n",
       "       [0.156610, -0.693971, 0.290406, 1.000000, 0.152080, -0.132560],\n",
       "       [-0.360640, -0.426952, -0.293986, 0.152080, 1.000000, 0.020159],\n",
       "       [0.355637, -0.457691, 0.299817, -0.132560, 0.020159, 1.000000]])"
      ]
     },
     "execution_count": 7,
     "metadata": {},
     "output_type": "execute_result"
    }
   ],
   "source": [
    "corr0"
   ]
  },
  {
   "cell_type": "code",
   "execution_count": 8,
   "metadata": {},
   "outputs": [
    {
     "data": {
      "text/plain": [
       "array([[1.000000, -0.260032, 0.611276, 0.191281, -0.310529, 0.432516],\n",
       "       [-0.260032, 1.000000, -0.276328, -0.563766, -0.321969, -0.344337],\n",
       "       [0.611276, -0.276328, 1.000000, 0.207096, -0.289061, 0.432823],\n",
       "       [0.191281, -0.563766, 0.207096, 1.000000, 0.324085, 0.284712],\n",
       "       [-0.310529, -0.321969, -0.289061, 0.324085, 1.000000, -0.075279],\n",
       "       [0.432516, -0.344337, 0.432823, 0.284712, -0.075279, 1.000000]])"
      ]
     },
     "execution_count": 8,
     "metadata": {},
     "output_type": "execute_result"
    }
   ],
   "source": [
    "corr1"
   ]
  },
  {
   "cell_type": "code",
   "execution_count": 9,
   "metadata": {},
   "outputs": [],
   "source": [
    "# Instanciate the Denoising transformer\n",
    "# 'fit_transform()' calculates Correlation, Covariance, EigenValues and \n",
    "#     EigenVectors of denoised covariance matrix\n",
    "denoise_processor = Denoising(detoning=True,market_component=2)\n",
    "\n",
    "detoned_and_denoised_obj = denoise_processor.run_denoising(data)"
   ]
  },
  {
   "cell_type": "code",
   "execution_count": 10,
   "metadata": {},
   "outputs": [],
   "source": [
    "# Retrieves non-denoised Covariance and Correlation Matrices\n",
    "detoned_and_denoised_cov0 = detoned_and_denoised_obj.get_cov_original\n",
    "detoned_and_denoised_corr0 = detoned_and_denoised_obj.get_corr_original\n",
    "detoned_and_denoised_corr1 = detoned_and_denoised_obj.get_corr_denoised\n",
    "np.set_printoptions(formatter={'float_kind':'{:f}'.format})"
   ]
  },
  {
   "cell_type": "code",
   "execution_count": 11,
   "metadata": {},
   "outputs": [
    {
     "data": {
      "text/plain": [
       "array([[0.546534, -0.158921, 0.786691, 0.119619, -0.157109, 0.218290],\n",
       "       [-0.158921, 0.354990, -0.200919, -0.427191, -0.149901, -0.226411],\n",
       "       [0.786691, -0.200919, 1.603161, 0.379898, -0.219348, 0.315182],\n",
       "       [0.119619, -0.427191, 0.379898, 1.067444, 0.092590, -0.113711],\n",
       "       [-0.157109, -0.149901, -0.219348, 0.092590, 0.347244, 0.009863],\n",
       "       [0.218290, -0.226411, 0.315182, -0.113711, 0.009863, 0.689342]])"
      ]
     },
     "execution_count": 11,
     "metadata": {},
     "output_type": "execute_result"
    }
   ],
   "source": [
    "detoned_and_denoised_cov0"
   ]
  },
  {
   "cell_type": "code",
   "execution_count": 12,
   "metadata": {},
   "outputs": [
    {
     "data": {
      "text/plain": [
       "array([[1.000000, -0.360799, 0.840440, 0.156610, -0.360640, 0.355637],\n",
       "       [-0.360799, 1.000000, -0.266333, -0.693971, -0.426952, -0.457691],\n",
       "       [0.840440, -0.266333, 1.000000, 0.290406, -0.293986, 0.299817],\n",
       "       [0.156610, -0.693971, 0.290406, 1.000000, 0.152080, -0.132560],\n",
       "       [-0.360640, -0.426952, -0.293986, 0.152080, 1.000000, 0.020159],\n",
       "       [0.355637, -0.457691, 0.299817, -0.132560, 0.020159, 1.000000]])"
      ]
     },
     "execution_count": 12,
     "metadata": {},
     "output_type": "execute_result"
    }
   ],
   "source": [
    "detoned_and_denoised_corr0"
   ]
  },
  {
   "cell_type": "code",
   "execution_count": 13,
   "metadata": {},
   "outputs": [
    {
     "data": {
      "text/plain": [
       "array([[1.000000, 0.067445, -0.374489, -0.045483, 0.354963, -0.387290],\n",
       "       [0.067445, 1.000000, 0.083866, 0.495584, 0.383128, 0.272447],\n",
       "       [-0.374489, 0.083866, 1.000000, -0.064997, 0.341521, -0.393288],\n",
       "       [-0.045483, 0.495584, -0.064997, 1.000000, -0.521498, -0.263125],\n",
       "       [0.354963, 0.383128, 0.341521, -0.521498, 1.000000, 0.119742],\n",
       "       [-0.387290, 0.272447, -0.393288, -0.263125, 0.119742, 1.000000]])"
      ]
     },
     "execution_count": 13,
     "metadata": {},
     "output_type": "execute_result"
    }
   ],
   "source": [
    "detoned_and_denoised_corr1"
   ]
  },
  {
   "cell_type": "code",
   "execution_count": 14,
   "metadata": {},
   "outputs": [
    {
     "ename": "ValueError",
     "evalue": "Parameter market_component must less than number of features in denoised correlation matrix",
     "output_type": "error",
     "traceback": [
      "\u001b[1;31m---------------------------------------------------------------------------\u001b[0m",
      "\u001b[1;31mValueError\u001b[0m                                Traceback (most recent call last)",
      "\u001b[1;32m~\\AppData\\Local\\Temp/ipykernel_14340/4018879819.py\u001b[0m in \u001b[0;36m<module>\u001b[1;34m\u001b[0m\n\u001b[0;32m      2\u001b[0m \u001b[0mdenoise_processor\u001b[0m \u001b[1;33m=\u001b[0m \u001b[0mDenoising\u001b[0m\u001b[1;33m(\u001b[0m\u001b[0mdetoning\u001b[0m\u001b[1;33m=\u001b[0m\u001b[1;32mTrue\u001b[0m\u001b[1;33m,\u001b[0m\u001b[0mmarket_component\u001b[0m\u001b[1;33m=\u001b[0m\u001b[1;36m7\u001b[0m\u001b[1;33m)\u001b[0m\u001b[1;33m\u001b[0m\u001b[1;33m\u001b[0m\u001b[0m\n\u001b[0;32m      3\u001b[0m \u001b[1;33m\u001b[0m\u001b[0m\n\u001b[1;32m----> 4\u001b[1;33m \u001b[0mdenoised_obj\u001b[0m \u001b[1;33m=\u001b[0m \u001b[0mdenoise_processor\u001b[0m\u001b[1;33m.\u001b[0m\u001b[0mrun_denoising\u001b[0m\u001b[1;33m(\u001b[0m\u001b[0mdata\u001b[0m\u001b[1;33m)\u001b[0m\u001b[1;33m\u001b[0m\u001b[1;33m\u001b[0m\u001b[0m\n\u001b[0m",
      "\u001b[1;32mc:\\Users\\Ramiscan\\Desktop\\master\\3third_semester\\ML in Finance\\github\\ML-in-Finance\\notebooks\\..\\src\\finance_ml\\denoising\\denoising.py\u001b[0m in \u001b[0;36mrun_denoising\u001b[1;34m(self, X)\u001b[0m\n\u001b[0;32m    455\u001b[0m             \u001b[0mself\u001b[0m\u001b[1;33m.\u001b[0m\u001b[0m__eVal1\u001b[0m\u001b[1;33m,\u001b[0m \u001b[0mself\u001b[0m\u001b[1;33m.\u001b[0m\u001b[0m__eVec1\u001b[0m \u001b[1;33m=\u001b[0m \u001b[0mself\u001b[0m\u001b[1;33m.\u001b[0m\u001b[0mcalc_PCA\u001b[0m\u001b[1;33m(\u001b[0m\u001b[0mself\u001b[0m\u001b[1;33m.\u001b[0m\u001b[0m__corr1\u001b[0m\u001b[1;33m)\u001b[0m\u001b[1;33m\u001b[0m\u001b[1;33m\u001b[0m\u001b[0m\n\u001b[0;32m    456\u001b[0m             \u001b[1;32mif\u001b[0m \u001b[0mself\u001b[0m\u001b[1;33m.\u001b[0m\u001b[0m__detoning\u001b[0m\u001b[1;33m==\u001b[0m\u001b[1;32mTrue\u001b[0m\u001b[1;33m:\u001b[0m\u001b[1;33m\u001b[0m\u001b[1;33m\u001b[0m\u001b[0m\n\u001b[1;32m--> 457\u001b[1;33m                 \u001b[0mself\u001b[0m\u001b[1;33m.\u001b[0m\u001b[0m__corr1\u001b[0m\u001b[1;33m=\u001b[0m\u001b[0mself\u001b[0m\u001b[1;33m.\u001b[0m\u001b[0mdetoned_corr\u001b[0m\u001b[1;33m(\u001b[0m\u001b[0mself\u001b[0m\u001b[1;33m.\u001b[0m\u001b[0m__corr1\u001b[0m\u001b[1;33m,\u001b[0m\u001b[0mself\u001b[0m\u001b[1;33m.\u001b[0m\u001b[0m__eVal1\u001b[0m\u001b[1;33m,\u001b[0m\u001b[0mself\u001b[0m\u001b[1;33m.\u001b[0m\u001b[0m__eVec1\u001b[0m\u001b[1;33m,\u001b[0m\u001b[0mself\u001b[0m\u001b[1;33m.\u001b[0m\u001b[0m__market_component\u001b[0m\u001b[1;33m)\u001b[0m\u001b[1;33m\u001b[0m\u001b[1;33m\u001b[0m\u001b[0m\n\u001b[0m\u001b[0;32m    458\u001b[0m \u001b[1;33m\u001b[0m\u001b[0m\n\u001b[0;32m    459\u001b[0m         \u001b[1;32melse\u001b[0m\u001b[1;33m:\u001b[0m\u001b[1;33m\u001b[0m\u001b[1;33m\u001b[0m\u001b[0m\n",
      "\u001b[1;32mc:\\Users\\Ramiscan\\Desktop\\master\\3third_semester\\ML in Finance\\github\\ML-in-Finance\\notebooks\\..\\src\\finance_ml\\denoising\\denoising.py\u001b[0m in \u001b[0;36mdetoned_corr\u001b[1;34m(self, corr1, eVal, eVec, market_component)\u001b[0m\n\u001b[0;32m    386\u001b[0m \u001b[1;33m\u001b[0m\u001b[0m\n\u001b[0;32m    387\u001b[0m         \u001b[1;32mif\u001b[0m \u001b[1;33m(\u001b[0m\u001b[0mmarket_component\u001b[0m\u001b[1;33m>\u001b[0m\u001b[0mcorr1\u001b[0m\u001b[1;33m.\u001b[0m\u001b[0mshape\u001b[0m\u001b[1;33m[\u001b[0m\u001b[1;36m1\u001b[0m\u001b[1;33m]\u001b[0m\u001b[1;33m)\u001b[0m\u001b[1;33m:\u001b[0m\u001b[1;33m\u001b[0m\u001b[1;33m\u001b[0m\u001b[0m\n\u001b[1;32m--> 388\u001b[1;33m             \u001b[1;32mraise\u001b[0m \u001b[0mValueError\u001b[0m\u001b[1;33m(\u001b[0m\u001b[1;34m'Parameter market_component must less than number of features in denoised correlation matrix'\u001b[0m\u001b[1;33m)\u001b[0m\u001b[1;33m\u001b[0m\u001b[1;33m\u001b[0m\u001b[0m\n\u001b[0m\u001b[0;32m    389\u001b[0m \u001b[1;33m\u001b[0m\u001b[0m\n\u001b[0;32m    390\u001b[0m         \u001b[0meigenvalues_market\u001b[0m \u001b[1;33m=\u001b[0m \u001b[0meVal\u001b[0m\u001b[1;33m[\u001b[0m\u001b[1;33m:\u001b[0m\u001b[0mmarket_component\u001b[0m\u001b[1;33m,\u001b[0m \u001b[1;33m:\u001b[0m\u001b[0mmarket_component\u001b[0m\u001b[1;33m]\u001b[0m\u001b[1;33m\u001b[0m\u001b[1;33m\u001b[0m\u001b[0m\n",
      "\u001b[1;31mValueError\u001b[0m: Parameter market_component must less than number of features in denoised correlation matrix"
     ]
    }
   ],
   "source": [
    "#giving market component value greater than number of features in correlation matrix, algorithm must be give an error\n",
    "denoise_processor = Denoising(detoning=True,market_component=7)\n",
    "\n",
    "denoised_obj = denoise_processor.run_denoising(data)"
   ]
  },
  {
   "cell_type": "code",
   "execution_count": null,
   "metadata": {},
   "outputs": [
    {
     "ename": "ValueError",
     "evalue": "Denoising Class - Parameter market_component must be int and greater than 1",
     "output_type": "error",
     "traceback": [
      "\u001b[1;31m---------------------------------------------------------------------------\u001b[0m",
      "\u001b[1;31mValueError\u001b[0m                                Traceback (most recent call last)",
      "\u001b[1;32m~\\AppData\\Local\\Temp/ipykernel_13132/87673754.py\u001b[0m in \u001b[0;36m<module>\u001b[1;34m\u001b[0m\n\u001b[0;32m      1\u001b[0m \u001b[1;31m#giving market component value decimal value, algorithm must be give an error\u001b[0m\u001b[1;33m\u001b[0m\u001b[1;33m\u001b[0m\u001b[0m\n\u001b[1;32m----> 2\u001b[1;33m \u001b[0mdenoise_processor\u001b[0m \u001b[1;33m=\u001b[0m \u001b[0mDenoising\u001b[0m\u001b[1;33m(\u001b[0m\u001b[0mdetoning\u001b[0m\u001b[1;33m=\u001b[0m\u001b[1;32mTrue\u001b[0m\u001b[1;33m,\u001b[0m\u001b[0mmarket_component\u001b[0m\u001b[1;33m=\u001b[0m\u001b[1;36m2.5\u001b[0m\u001b[1;33m)\u001b[0m\u001b[1;33m\u001b[0m\u001b[1;33m\u001b[0m\u001b[0m\n\u001b[0m\u001b[0;32m      3\u001b[0m \u001b[1;33m\u001b[0m\u001b[0m\n\u001b[0;32m      4\u001b[0m \u001b[0mdenoised_obj\u001b[0m \u001b[1;33m=\u001b[0m \u001b[0mdenoise_processor\u001b[0m\u001b[1;33m.\u001b[0m\u001b[0mrun_denoising\u001b[0m\u001b[1;33m(\u001b[0m\u001b[0mdata\u001b[0m\u001b[1;33m)\u001b[0m\u001b[1;33m\u001b[0m\u001b[1;33m\u001b[0m\u001b[0m\n",
      "\u001b[1;32mc:\\Users\\Ramiscan\\Desktop\\master\\3third_semester\\ML in Finance\\github\\ML-in-Finance\\notebooks\\..\\src\\finance_ml\\denoising\\denoising.py\u001b[0m in \u001b[0;36m__init__\u001b[1;34m(self, alpha, pts, nFacts, q, method, bWidth, detoning, market_component)\u001b[0m\n\u001b[0;32m     76\u001b[0m \u001b[1;33m\u001b[0m\u001b[0m\n\u001b[0;32m     77\u001b[0m         \u001b[1;32mif\u001b[0m  \u001b[1;33m(\u001b[0m\u001b[0mtype\u001b[0m\u001b[1;33m(\u001b[0m\u001b[0mmarket_component\u001b[0m\u001b[1;33m)\u001b[0m \u001b[1;33m!=\u001b[0m \u001b[0mint\u001b[0m\u001b[1;33m)\u001b[0m \u001b[1;33m|\u001b[0m \u001b[1;33m(\u001b[0m\u001b[0mq\u001b[0m \u001b[1;33m<\u001b[0m \u001b[1;36m1\u001b[0m\u001b[1;33m)\u001b[0m \u001b[1;33m:\u001b[0m\u001b[1;33m\u001b[0m\u001b[1;33m\u001b[0m\u001b[0m\n\u001b[1;32m---> 78\u001b[1;33m             \u001b[1;32mraise\u001b[0m \u001b[0mValueError\u001b[0m\u001b[1;33m(\u001b[0m\u001b[1;34m'Denoising Class - Parameter market_component must be int and greater than 1'\u001b[0m\u001b[1;33m)\u001b[0m\u001b[1;33m\u001b[0m\u001b[1;33m\u001b[0m\u001b[0m\n\u001b[0m\u001b[0;32m     79\u001b[0m \u001b[1;33m\u001b[0m\u001b[0m\n\u001b[0;32m     80\u001b[0m         \u001b[0mself\u001b[0m\u001b[1;33m.\u001b[0m\u001b[0m__alpha\u001b[0m \u001b[1;33m=\u001b[0m \u001b[0malpha\u001b[0m\u001b[1;33m\u001b[0m\u001b[1;33m\u001b[0m\u001b[0m\n",
      "\u001b[1;31mValueError\u001b[0m: Denoising Class - Parameter market_component must be int and greater than 1"
     ]
    }
   ],
   "source": [
    "#giving market component value decimal value, algorithm must be give an error\n",
    "denoise_processor = Denoising(detoning=True,market_component=2.5)\n",
    "\n",
    "denoised_obj = denoise_processor.run_denoising(data)"
   ]
  },
  {
   "cell_type": "code",
   "execution_count": null,
   "metadata": {},
   "outputs": [
    {
     "data": {
      "text/plain": [
       "array([[1.000000, 0.191322, 0.372534, 0.477484, -0.300662, 0.195673],\n",
       "       [0.191322, 1.000000, -0.280185, 0.080697, -0.300584, -0.468665],\n",
       "       [0.372534, -0.280185, 1.000000, -0.192411, -0.005850, -0.351107],\n",
       "       [0.477484, 0.080697, -0.192411, 1.000000, 0.551992, 0.077088],\n",
       "       [-0.300662, -0.300584, -0.005850, 0.551992, 1.000000, -0.347528],\n",
       "       [0.195673, -0.468665, -0.351107, 0.077088, -0.347528, 1.000000]])"
      ]
     },
     "execution_count": 17,
     "metadata": {},
     "output_type": "execute_result"
    }
   ],
   "source": [
    "detoned_and_denoised_corr1"
   ]
  },
  {
   "cell_type": "code",
   "execution_count": null,
   "metadata": {},
   "outputs": [
    {
     "data": {
      "text/plain": [
       "array([[1.000000, -0.229161, -0.356559, -0.313743, 0.148056, -0.184552],\n",
       "       [-0.229161, 1.000000, 0.475365, 0.020840, 0.281415, 0.421666],\n",
       "       [-0.356559, 0.475365, 1.000000, 0.284961, 0.013227, 0.375243],\n",
       "       [-0.313743, 0.020840, 0.284961, 1.000000, -0.446713, 0.027045],\n",
       "       [0.148056, 0.281415, 0.013227, -0.446713, 1.000000, 0.209381],\n",
       "       [-0.184552, 0.421666, 0.375243, 0.027045, 0.209381, 1.000000]])"
      ]
     },
     "execution_count": 18,
     "metadata": {},
     "output_type": "execute_result"
    }
   ],
   "source": [
    "corr1"
   ]
  }
 ],
 "metadata": {
  "kernelspec": {
   "display_name": "Python 3",
   "language": "python",
   "name": "python3"
  },
  "language_info": {
   "codemirror_mode": {
    "name": "ipython",
    "version": 3
   },
   "file_extension": ".py",
   "mimetype": "text/x-python",
   "name": "python",
   "nbconvert_exporter": "python",
   "pygments_lexer": "ipython3",
   "version": "3.10.0"
  }
 },
 "nbformat": 4,
 "nbformat_minor": 2
}
