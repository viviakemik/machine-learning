{
 "cells": [
  {
   "cell_type": "code",
   "execution_count": 1,
   "metadata": {},
   "outputs": [],
   "source": [
    "import sys\n",
    "import importlib\n",
    "sys.path.append('../')\n",
    "\n",
    "from IPython.display import display, Math, Latex\n",
    "\n",
    "# From data_preparation classes\n",
    "from src.finance_ml.data_preparation.data_preparation import DataLoader\n",
    "\n",
    "from src.finance_ml.denoising.denoising import Denoising\n",
    "from src.finance_ml.indicators.indicators import Indicators\n",
    "from src.finance_ml.volatility.volatility import Volatility\n",
    "\n",
    "# Import required packages\n",
    "import pandas as pd\n",
    "import numpy as np\n",
    "\n",
    "import matplotlib.pyplot as plt\n",
    "import seaborn as sns\n",
    "\n",
    "import math"
   ]
  },
  {
   "cell_type": "code",
   "execution_count": 2,
   "metadata": {},
   "outputs": [],
   "source": [
    "data=np.random.normal(0, 1, size=(6,6))"
   ]
  },
  {
   "cell_type": "code",
   "execution_count": 3,
   "metadata": {},
   "outputs": [
    {
     "data": {
      "text/plain": [
       "array([[ 1.62193678,  1.45788498, -0.92748884,  1.08301399, -0.22002977,\n",
       "        -1.01225953],\n",
       "       [-0.1193862 , -1.13001051,  1.02256465,  0.30373064,  0.75113836,\n",
       "         0.81874208],\n",
       "       [-0.57623543,  0.30806414,  0.53093642, -1.5775822 ,  0.46733018,\n",
       "         1.99004151],\n",
       "       [-0.76738872, -0.47010582,  0.1253657 ,  0.17572943,  0.67310587,\n",
       "        -0.28084103],\n",
       "       [ 0.22741268,  0.71238576, -0.50682599,  1.37415361,  0.52285345,\n",
       "         0.5315758 ],\n",
       "       [-1.03906297, -2.1822949 ,  1.00254024, -0.00412916,  0.28095681,\n",
       "        -0.10751553]])"
      ]
     },
     "execution_count": 3,
     "metadata": {},
     "output_type": "execute_result"
    }
   ],
   "source": [
    "data"
   ]
  },
  {
   "cell_type": "code",
   "execution_count": 4,
   "metadata": {},
   "outputs": [],
   "source": [
    "# Instanciate the Denoising transformer\n",
    "# 'fit_transform()' calculates Correlation, Covariance, EigenValues and \n",
    "#     EigenVectors of denoised covariance matrix\n",
    "denoise_processor = Denoising(detoning=False)\n",
    "\n",
    "denoised_obj = denoise_processor.run_denoising(data)"
   ]
  },
  {
   "cell_type": "code",
   "execution_count": 5,
   "metadata": {},
   "outputs": [],
   "source": [
    "# Retrieves non-denoised Covariance and Correlation Matrices\n",
    "cov0 = denoised_obj.get_cov_original\n",
    "corr0 = denoised_obj.get_corr_original\n",
    "corr1 = denoised_obj.get_corr_denoised\n",
    "np.set_printoptions(formatter={'float_kind':'{:f}'.format})"
   ]
  },
  {
   "cell_type": "code",
   "execution_count": 6,
   "metadata": {},
   "outputs": [
    {
     "data": {
      "text/plain": [
       "array([[0.925245, 0.994084, -0.609970, 0.591743, -0.227223, -0.445433],\n",
       "       [0.994084, 1.740945, -0.936179, 0.389901, -0.208937, -0.124189],\n",
       "       [-0.609970, -0.936179, 0.641247, -0.498336, 0.161369, 0.403415],\n",
       "       [0.591743, 0.389901, -0.498336, 1.073433, -0.094156, -0.748708],\n",
       "       [-0.227223, -0.208937, 0.161369, -0.094156, 0.123035, 0.205231],\n",
       "       [-0.445433, -0.124189, 0.403415, -0.748708, 0.205231, 1.080235]])"
      ]
     },
     "execution_count": 6,
     "metadata": {},
     "output_type": "execute_result"
    }
   ],
   "source": [
    "cov0"
   ]
  },
  {
   "cell_type": "code",
   "execution_count": 7,
   "metadata": {},
   "outputs": [
    {
     "data": {
      "text/plain": [
       "array([[1.000000, 0.783254, -0.791894, 0.593768, -0.673459, -0.445548],\n",
       "       [0.783254, 1.000000, -0.886041, 0.285217, -0.451449, -0.090559],\n",
       "       [-0.791894, -0.886041, 1.000000, -0.600650, 0.574505, 0.484708],\n",
       "       [0.593768, 0.285217, -0.600650, 1.000000, -0.259088, -0.695290],\n",
       "       [-0.673459, -0.451449, 0.574505, -0.259088, 1.000000, 0.562951],\n",
       "       [-0.445548, -0.090559, 0.484708, -0.695290, 0.562951, 1.000000]])"
      ]
     },
     "execution_count": 7,
     "metadata": {},
     "output_type": "execute_result"
    }
   ],
   "source": [
    "corr0"
   ]
  },
  {
   "cell_type": "code",
   "execution_count": 8,
   "metadata": {},
   "outputs": [
    {
     "data": {
      "text/plain": [
       "array([[1.000000, 0.581350, -0.628439, 0.559467, -0.570679, -0.539324],\n",
       "       [0.581350, 1.000000, -0.583758, 0.519690, -0.530105, -0.500979],\n",
       "       [-0.628439, -0.583758, 1.000000, -0.561785, 0.573043, 0.541557],\n",
       "       [0.559467, 0.519690, -0.561785, 1.000000, -0.510151, -0.482121],\n",
       "       [-0.570679, -0.530105, 0.573043, -0.510151, 1.000000, 0.491783],\n",
       "       [-0.539324, -0.500979, 0.541557, -0.482121, 0.491783, 1.000000]])"
      ]
     },
     "execution_count": 8,
     "metadata": {},
     "output_type": "execute_result"
    }
   ],
   "source": [
    "corr1"
   ]
  },
  {
   "cell_type": "code",
   "execution_count": 9,
   "metadata": {},
   "outputs": [],
   "source": [
    "# Instanciate the Denoising transformer\n",
    "# 'fit_transform()' calculates Correlation, Covariance, EigenValues and \n",
    "#     EigenVectors of denoised covariance matrix\n",
    "denoise_processor = Denoising(detoning=True,market_component=2)\n",
    "\n",
    "detoned_and_denoised_obj = denoise_processor.run_denoising(data)"
   ]
  },
  {
   "cell_type": "code",
   "execution_count": 10,
   "metadata": {},
   "outputs": [],
   "source": [
    "# Retrieves non-denoised Covariance and Correlation Matrices\n",
    "detoned_and_denoised_cov0 = detoned_and_denoised_obj.get_cov_original\n",
    "detoned_and_denoised_corr0 = detoned_and_denoised_obj.get_corr_original\n",
    "detoned_and_denoised_corr1 = detoned_and_denoised_obj.get_corr_denoised\n",
    "np.set_printoptions(formatter={'float_kind':'{:f}'.format})"
   ]
  },
  {
   "cell_type": "code",
   "execution_count": 11,
   "metadata": {},
   "outputs": [
    {
     "data": {
      "text/plain": [
       "array([[0.925245, 0.994084, -0.609970, 0.591743, -0.227223, -0.445433],\n",
       "       [0.994084, 1.740945, -0.936179, 0.389901, -0.208937, -0.124189],\n",
       "       [-0.609970, -0.936179, 0.641247, -0.498336, 0.161369, 0.403415],\n",
       "       [0.591743, 0.389901, -0.498336, 1.073433, -0.094156, -0.748708],\n",
       "       [-0.227223, -0.208937, 0.161369, -0.094156, 0.123035, 0.205231],\n",
       "       [-0.445433, -0.124189, 0.403415, -0.748708, 0.205231, 1.080235]])"
      ]
     },
     "execution_count": 11,
     "metadata": {},
     "output_type": "execute_result"
    }
   ],
   "source": [
    "detoned_and_denoised_cov0"
   ]
  },
  {
   "cell_type": "code",
   "execution_count": 12,
   "metadata": {},
   "outputs": [
    {
     "data": {
      "text/plain": [
       "array([[1.000000, 0.783254, -0.791894, 0.593768, -0.673459, -0.445548],\n",
       "       [0.783254, 1.000000, -0.886041, 0.285217, -0.451449, -0.090559],\n",
       "       [-0.791894, -0.886041, 1.000000, -0.600650, 0.574505, 0.484708],\n",
       "       [0.593768, 0.285217, -0.600650, 1.000000, -0.259088, -0.695290],\n",
       "       [-0.673459, -0.451449, 0.574505, -0.259088, 1.000000, 0.562951],\n",
       "       [-0.445548, -0.090559, 0.484708, -0.695290, 0.562951, 1.000000]])"
      ]
     },
     "execution_count": 12,
     "metadata": {},
     "output_type": "execute_result"
    }
   ],
   "source": [
    "detoned_and_denoised_corr0"
   ]
  },
  {
   "cell_type": "code",
   "execution_count": 13,
   "metadata": {},
   "outputs": [
    {
     "data": {
      "text/plain": [
       "array([[1.000000, -0.211187, 0.177321, -0.258462, 0.223756, 0.496663],\n",
       "       [-0.211187, 1.000000, 0.209734, -0.310026, 0.258548, 0.178198],\n",
       "       [0.177321, 0.209734, 1.000000, 0.256618, -0.222272, -0.502660],\n",
       "       [-0.258462, -0.310026, 0.256618, 1.000000, 0.345607, -0.863649],\n",
       "       [0.223756, 0.258548, -0.222272, 0.345607, 1.000000, 0.089115],\n",
       "       [0.496663, 0.178198, -0.502660, -0.863649, 0.089115, 1.000000]])"
      ]
     },
     "execution_count": 13,
     "metadata": {},
     "output_type": "execute_result"
    }
   ],
   "source": [
    "detoned_and_denoised_corr1"
   ]
  },
  {
   "cell_type": "code",
   "execution_count": 14,
   "metadata": {},
   "outputs": [
    {
     "ename": "ValueError",
     "evalue": "Parameter market_component must less than the number of features in denoised correlation matrix: 6",
     "output_type": "error",
     "traceback": [
      "\u001b[1;31m---------------------------------------------------------------------------\u001b[0m",
      "\u001b[1;31mValueError\u001b[0m                                Traceback (most recent call last)",
      "\u001b[1;32m~\\AppData\\Local\\Temp/ipykernel_17532/4018879819.py\u001b[0m in \u001b[0;36m<module>\u001b[1;34m\u001b[0m\n\u001b[0;32m      2\u001b[0m \u001b[0mdenoise_processor\u001b[0m \u001b[1;33m=\u001b[0m \u001b[0mDenoising\u001b[0m\u001b[1;33m(\u001b[0m\u001b[0mdetoning\u001b[0m\u001b[1;33m=\u001b[0m\u001b[1;32mTrue\u001b[0m\u001b[1;33m,\u001b[0m\u001b[0mmarket_component\u001b[0m\u001b[1;33m=\u001b[0m\u001b[1;36m7\u001b[0m\u001b[1;33m)\u001b[0m\u001b[1;33m\u001b[0m\u001b[1;33m\u001b[0m\u001b[0m\n\u001b[0;32m      3\u001b[0m \u001b[1;33m\u001b[0m\u001b[0m\n\u001b[1;32m----> 4\u001b[1;33m \u001b[0mdenoised_obj\u001b[0m \u001b[1;33m=\u001b[0m \u001b[0mdenoise_processor\u001b[0m\u001b[1;33m.\u001b[0m\u001b[0mrun_denoising\u001b[0m\u001b[1;33m(\u001b[0m\u001b[0mdata\u001b[0m\u001b[1;33m)\u001b[0m\u001b[1;33m\u001b[0m\u001b[1;33m\u001b[0m\u001b[0m\n\u001b[0m",
      "\u001b[1;32mc:\\Users\\Ramiscan\\Desktop\\master\\3third_semester\\ML in Finance\\github\\ML-in-Finance\\notebooks\\..\\src\\finance_ml\\denoising\\denoising.py\u001b[0m in \u001b[0;36mrun_denoising\u001b[1;34m(self, X)\u001b[0m\n\u001b[0;32m    455\u001b[0m             \u001b[0mself\u001b[0m\u001b[1;33m.\u001b[0m\u001b[0m__eVal1\u001b[0m\u001b[1;33m,\u001b[0m \u001b[0mself\u001b[0m\u001b[1;33m.\u001b[0m\u001b[0m__eVec1\u001b[0m \u001b[1;33m=\u001b[0m \u001b[0mself\u001b[0m\u001b[1;33m.\u001b[0m\u001b[0mcalc_PCA\u001b[0m\u001b[1;33m(\u001b[0m\u001b[0mself\u001b[0m\u001b[1;33m.\u001b[0m\u001b[0m__corr1\u001b[0m\u001b[1;33m)\u001b[0m\u001b[1;33m\u001b[0m\u001b[1;33m\u001b[0m\u001b[0m\n\u001b[0;32m    456\u001b[0m             \u001b[1;32mif\u001b[0m \u001b[0mself\u001b[0m\u001b[1;33m.\u001b[0m\u001b[0m__detoning\u001b[0m\u001b[1;33m==\u001b[0m\u001b[1;32mTrue\u001b[0m\u001b[1;33m:\u001b[0m\u001b[1;33m\u001b[0m\u001b[1;33m\u001b[0m\u001b[0m\n\u001b[1;32m--> 457\u001b[1;33m                 \u001b[0mself\u001b[0m\u001b[1;33m.\u001b[0m\u001b[0m__corr1\u001b[0m\u001b[1;33m=\u001b[0m\u001b[0mself\u001b[0m\u001b[1;33m.\u001b[0m\u001b[0mdetoned_corr\u001b[0m\u001b[1;33m(\u001b[0m\u001b[0mself\u001b[0m\u001b[1;33m.\u001b[0m\u001b[0m__corr1\u001b[0m\u001b[1;33m,\u001b[0m\u001b[0mself\u001b[0m\u001b[1;33m.\u001b[0m\u001b[0m__eVal1\u001b[0m\u001b[1;33m,\u001b[0m\u001b[0mself\u001b[0m\u001b[1;33m.\u001b[0m\u001b[0m__eVec1\u001b[0m\u001b[1;33m,\u001b[0m\u001b[0mself\u001b[0m\u001b[1;33m.\u001b[0m\u001b[0m__market_component\u001b[0m\u001b[1;33m)\u001b[0m\u001b[1;33m\u001b[0m\u001b[1;33m\u001b[0m\u001b[0m\n\u001b[0m\u001b[0;32m    458\u001b[0m \u001b[1;33m\u001b[0m\u001b[0m\n\u001b[0;32m    459\u001b[0m         \u001b[1;32melse\u001b[0m\u001b[1;33m:\u001b[0m\u001b[1;33m\u001b[0m\u001b[1;33m\u001b[0m\u001b[0m\n",
      "\u001b[1;32mc:\\Users\\Ramiscan\\Desktop\\master\\3third_semester\\ML in Finance\\github\\ML-in-Finance\\notebooks\\..\\src\\finance_ml\\denoising\\denoising.py\u001b[0m in \u001b[0;36mdetoned_corr\u001b[1;34m(self, corr1, eVal, eVec, market_component)\u001b[0m\n\u001b[0;32m    386\u001b[0m \u001b[1;33m\u001b[0m\u001b[0m\n\u001b[0;32m    387\u001b[0m         \u001b[1;32mif\u001b[0m \u001b[1;33m(\u001b[0m\u001b[0mmarket_component\u001b[0m\u001b[1;33m>\u001b[0m\u001b[0mcorr1\u001b[0m\u001b[1;33m.\u001b[0m\u001b[0mshape\u001b[0m\u001b[1;33m[\u001b[0m\u001b[1;36m1\u001b[0m\u001b[1;33m]\u001b[0m\u001b[1;33m)\u001b[0m\u001b[1;33m:\u001b[0m\u001b[1;33m\u001b[0m\u001b[1;33m\u001b[0m\u001b[0m\n\u001b[1;32m--> 388\u001b[1;33m             \u001b[1;32mraise\u001b[0m \u001b[0mValueError\u001b[0m\u001b[1;33m(\u001b[0m\u001b[1;34mf'Parameter market_component must less than the number of features in denoised correlation matrix: {corr1.shape[1]}'\u001b[0m\u001b[1;33m)\u001b[0m\u001b[1;33m\u001b[0m\u001b[1;33m\u001b[0m\u001b[0m\n\u001b[0m\u001b[0;32m    389\u001b[0m \u001b[1;33m\u001b[0m\u001b[0m\n\u001b[0;32m    390\u001b[0m         \u001b[0meigenvalues_market\u001b[0m \u001b[1;33m=\u001b[0m \u001b[0meVal\u001b[0m\u001b[1;33m[\u001b[0m\u001b[1;33m:\u001b[0m\u001b[0mmarket_component\u001b[0m\u001b[1;33m,\u001b[0m \u001b[1;33m:\u001b[0m\u001b[0mmarket_component\u001b[0m\u001b[1;33m]\u001b[0m\u001b[1;33m\u001b[0m\u001b[1;33m\u001b[0m\u001b[0m\n",
      "\u001b[1;31mValueError\u001b[0m: Parameter market_component must less than the number of features in denoised correlation matrix: 6"
     ]
    }
   ],
   "source": [
    "#giving market component value greater than number of features in correlation matrix, algorithm must be give an error\n",
    "denoise_processor = Denoising(detoning=True,market_component=7)\n",
    "\n",
    "denoised_obj = denoise_processor.run_denoising(data)"
   ]
  },
  {
   "cell_type": "code",
   "execution_count": null,
   "metadata": {},
   "outputs": [
    {
     "ename": "ValueError",
     "evalue": "Denoising Class - Parameter market_component must be int and greater than 1",
     "output_type": "error",
     "traceback": [
      "\u001b[1;31m---------------------------------------------------------------------------\u001b[0m",
      "\u001b[1;31mValueError\u001b[0m                                Traceback (most recent call last)",
      "\u001b[1;32m~\\AppData\\Local\\Temp/ipykernel_13132/87673754.py\u001b[0m in \u001b[0;36m<module>\u001b[1;34m\u001b[0m\n\u001b[0;32m      1\u001b[0m \u001b[1;31m#giving market component value decimal value, algorithm must be give an error\u001b[0m\u001b[1;33m\u001b[0m\u001b[1;33m\u001b[0m\u001b[0m\n\u001b[1;32m----> 2\u001b[1;33m \u001b[0mdenoise_processor\u001b[0m \u001b[1;33m=\u001b[0m \u001b[0mDenoising\u001b[0m\u001b[1;33m(\u001b[0m\u001b[0mdetoning\u001b[0m\u001b[1;33m=\u001b[0m\u001b[1;32mTrue\u001b[0m\u001b[1;33m,\u001b[0m\u001b[0mmarket_component\u001b[0m\u001b[1;33m=\u001b[0m\u001b[1;36m2.5\u001b[0m\u001b[1;33m)\u001b[0m\u001b[1;33m\u001b[0m\u001b[1;33m\u001b[0m\u001b[0m\n\u001b[0m\u001b[0;32m      3\u001b[0m \u001b[1;33m\u001b[0m\u001b[0m\n\u001b[0;32m      4\u001b[0m \u001b[0mdenoised_obj\u001b[0m \u001b[1;33m=\u001b[0m \u001b[0mdenoise_processor\u001b[0m\u001b[1;33m.\u001b[0m\u001b[0mrun_denoising\u001b[0m\u001b[1;33m(\u001b[0m\u001b[0mdata\u001b[0m\u001b[1;33m)\u001b[0m\u001b[1;33m\u001b[0m\u001b[1;33m\u001b[0m\u001b[0m\n",
      "\u001b[1;32mc:\\Users\\Ramiscan\\Desktop\\master\\3third_semester\\ML in Finance\\github\\ML-in-Finance\\notebooks\\..\\src\\finance_ml\\denoising\\denoising.py\u001b[0m in \u001b[0;36m__init__\u001b[1;34m(self, alpha, pts, nFacts, q, method, bWidth, detoning, market_component)\u001b[0m\n\u001b[0;32m     76\u001b[0m \u001b[1;33m\u001b[0m\u001b[0m\n\u001b[0;32m     77\u001b[0m         \u001b[1;32mif\u001b[0m  \u001b[1;33m(\u001b[0m\u001b[0mtype\u001b[0m\u001b[1;33m(\u001b[0m\u001b[0mmarket_component\u001b[0m\u001b[1;33m)\u001b[0m \u001b[1;33m!=\u001b[0m \u001b[0mint\u001b[0m\u001b[1;33m)\u001b[0m \u001b[1;33m|\u001b[0m \u001b[1;33m(\u001b[0m\u001b[0mq\u001b[0m \u001b[1;33m<\u001b[0m \u001b[1;36m1\u001b[0m\u001b[1;33m)\u001b[0m \u001b[1;33m:\u001b[0m\u001b[1;33m\u001b[0m\u001b[1;33m\u001b[0m\u001b[0m\n\u001b[1;32m---> 78\u001b[1;33m             \u001b[1;32mraise\u001b[0m \u001b[0mValueError\u001b[0m\u001b[1;33m(\u001b[0m\u001b[1;34m'Denoising Class - Parameter market_component must be int and greater than 1'\u001b[0m\u001b[1;33m)\u001b[0m\u001b[1;33m\u001b[0m\u001b[1;33m\u001b[0m\u001b[0m\n\u001b[0m\u001b[0;32m     79\u001b[0m \u001b[1;33m\u001b[0m\u001b[0m\n\u001b[0;32m     80\u001b[0m         \u001b[0mself\u001b[0m\u001b[1;33m.\u001b[0m\u001b[0m__alpha\u001b[0m \u001b[1;33m=\u001b[0m \u001b[0malpha\u001b[0m\u001b[1;33m\u001b[0m\u001b[1;33m\u001b[0m\u001b[0m\n",
      "\u001b[1;31mValueError\u001b[0m: Denoising Class - Parameter market_component must be int and greater than 1"
     ]
    }
   ],
   "source": [
    "#giving market component value decimal value, algorithm must be give an error\n",
    "denoise_processor = Denoising(detoning=True,market_component=2.5)\n",
    "\n",
    "denoised_obj = denoise_processor.run_denoising(data)"
   ]
  },
  {
   "cell_type": "code",
   "execution_count": null,
   "metadata": {},
   "outputs": [],
   "source": []
  }
 ],
 "metadata": {
  "kernelspec": {
   "display_name": "Python 3",
   "language": "python",
   "name": "python3"
  },
  "language_info": {
   "codemirror_mode": {
    "name": "ipython",
    "version": 3
   },
   "file_extension": ".py",
   "mimetype": "text/x-python",
   "name": "python",
   "nbconvert_exporter": "python",
   "pygments_lexer": "ipython3",
   "version": "3.10.0"
  }
 },
 "nbformat": 4,
 "nbformat_minor": 2
}
