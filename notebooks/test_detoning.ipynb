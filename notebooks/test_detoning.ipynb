{
 "cells": [
  {
   "cell_type": "code",
   "execution_count": 1,
   "metadata": {},
   "outputs": [],
   "source": [
    "import sys\n",
    "import importlib\n",
    "sys.path.append('../')\n",
    "\n",
    "from IPython.display import display, Math, Latex\n",
    "\n",
    "# From data_preparation classes\n",
    "from src.finance_ml.data_preparation.data_preparation import DataLoader\n",
    "\n",
    "from src.finance_ml.denoising.denoising import Denoising\n",
    "from src.finance_ml.indicators.indicators import Indicators\n",
    "from src.finance_ml.volatility.volatility import Volatility\n",
    "\n",
    "# Import required packages\n",
    "import pandas as pd\n",
    "import numpy as np\n",
    "\n",
    "import matplotlib.pyplot as plt\n",
    "import seaborn as sns\n",
    "\n",
    "import math"
   ]
  },
  {
   "cell_type": "code",
   "execution_count": 2,
   "metadata": {},
   "outputs": [],
   "source": [
    "data=np.random.normal(0, 1, size=(6,6))"
   ]
  },
  {
   "cell_type": "code",
   "execution_count": 3,
   "metadata": {},
   "outputs": [
    {
     "data": {
      "text/plain": [
       "array([[ 1.98047486,  0.25352827,  0.31135052,  0.28426903, -0.28906795,\n",
       "        -1.94964951],\n",
       "       [ 1.05775512,  1.06618689,  0.77720686,  1.49616676, -0.25186409,\n",
       "        -0.25372497],\n",
       "       [-0.23096608, -1.82591719, -1.15421273,  1.03336066,  1.59250056,\n",
       "         0.07034285],\n",
       "       [ 0.46598494, -0.65340986, -0.71835426, -1.90281923,  1.40891275,\n",
       "        -0.53263571],\n",
       "       [ 0.25266527, -0.32920236, -0.71530303, -1.93518178,  0.39977796,\n",
       "         0.31323073],\n",
       "       [ 0.05565749, -0.80193969,  0.83375937,  0.37389877, -0.3063599 ,\n",
       "         1.22296876]])"
      ]
     },
     "execution_count": 3,
     "metadata": {},
     "output_type": "execute_result"
    }
   ],
   "source": [
    "data"
   ]
  },
  {
   "cell_type": "code",
   "execution_count": 4,
   "metadata": {},
   "outputs": [],
   "source": [
    "# Instanciate the Denoising transformer\n",
    "# 'fit_transform()' calculates Correlation, Covariance, EigenValues and \n",
    "#     EigenVectors of denoised covariance matrix\n",
    "denoise_processor = Denoising(detoning=False)\n",
    "\n",
    "denoised_obj = denoise_processor.run_denoising(data)"
   ]
  },
  {
   "cell_type": "code",
   "execution_count": 5,
   "metadata": {},
   "outputs": [],
   "source": [
    "# Retrieves non-denoised Covariance and Correlation Matrices\n",
    "cov0 = denoised_obj.get_cov_original\n",
    "corr0 = denoised_obj.get_corr_original\n",
    "corr1 = denoised_obj.get_corr_denoised\n",
    "np.set_printoptions(formatter={'float_kind':'{:f}'.format})"
   ]
  },
  {
   "cell_type": "code",
   "execution_count": 6,
   "metadata": {},
   "outputs": [
    {
     "data": {
      "text/plain": [
       "array([[0.648122, 0.597344, 0.326704, 0.188051, -0.398144, -0.714527],\n",
       "       [0.597344, 0.967768, 0.559442, 0.222539, -0.616212, -0.412061],\n",
       "       [0.326704, 0.559442, 0.736443, 0.609873, -0.678807, 0.033506],\n",
       "       [0.188051, 0.222539, 0.609873, 2.164425, -0.421134, -0.023790],\n",
       "       [-0.398144, -0.616212, -0.678807, -0.421134, 0.766940, 0.044076],\n",
       "       [-0.714527, -0.412061, 0.033506, -0.023790, 0.044076, 1.107062]])"
      ]
     },
     "execution_count": 6,
     "metadata": {},
     "output_type": "execute_result"
    }
   ],
   "source": [
    "cov0"
   ]
  },
  {
   "cell_type": "code",
   "execution_count": 7,
   "metadata": {},
   "outputs": [
    {
     "data": {
      "text/plain": [
       "array([[1.000000, 0.754242, 0.472886, 0.158772, -0.564718, -0.843538],\n",
       "       [0.754242, 1.000000, 0.662674, 0.153762, -0.715260, -0.398098],\n",
       "       [0.472886, 0.662674, 1.000000, 0.483057, -0.903225, 0.037108],\n",
       "       [0.158772, 0.153762, 0.483057, 1.000000, -0.326865, -0.015369],\n",
       "       [-0.564718, -0.715260, -0.903225, -0.326865, 1.000000, 0.047834],\n",
       "       [-0.843538, -0.398098, 0.037108, -0.015369, 0.047834, 1.000000]])"
      ]
     },
     "execution_count": 7,
     "metadata": {},
     "output_type": "execute_result"
    }
   ],
   "source": [
    "corr0"
   ]
  },
  {
   "cell_type": "code",
   "execution_count": 8,
   "metadata": {},
   "outputs": [
    {
     "data": {
      "text/plain": [
       "array([[1.000000, 0.544465, 0.530427, 0.337057, -0.539527, -0.370468],\n",
       "       [0.544465, 1.000000, 0.537554, 0.341586, -0.546777, -0.375446],\n",
       "       [0.530427, 0.537554, 1.000000, 0.332778, -0.532678, -0.365765],\n",
       "       [0.337057, 0.341586, 0.332778, 1.000000, -0.338488, -0.232424],\n",
       "       [-0.539527, -0.546777, -0.532678, -0.338488, 1.000000, 0.372041],\n",
       "       [-0.370468, -0.375446, -0.365765, -0.232424, 0.372041, 1.000000]])"
      ]
     },
     "execution_count": 8,
     "metadata": {},
     "output_type": "execute_result"
    }
   ],
   "source": [
    "corr1"
   ]
  },
  {
   "cell_type": "code",
   "execution_count": 9,
   "metadata": {},
   "outputs": [],
   "source": [
    "# Instanciate the Denoising transformer\n",
    "# 'fit_transform()' calculates Correlation, Covariance, EigenValues and \n",
    "#     EigenVectors of denoised covariance matrix\n",
    "denoise_processor = Denoising(detoning=True,market_component=2)\n",
    "\n",
    "detoned_and_denoised_obj = denoise_processor.run_denoising(data)"
   ]
  },
  {
   "cell_type": "code",
   "execution_count": 10,
   "metadata": {},
   "outputs": [],
   "source": [
    "# Retrieves non-denoised Covariance and Correlation Matrices\n",
    "detoned_and_denoised_cov0 = detoned_and_denoised_obj.get_cov_original\n",
    "detoned_and_denoised_corr0 = detoned_and_denoised_obj.get_corr_original\n",
    "detoned_and_denoised_corr1 = detoned_and_denoised_obj.get_corr_denoised\n",
    "np.set_printoptions(formatter={'float_kind':'{:f}'.format})"
   ]
  },
  {
   "cell_type": "code",
   "execution_count": 11,
   "metadata": {},
   "outputs": [
    {
     "data": {
      "text/plain": [
       "array([[0.648122, 0.597344, 0.326704, 0.188051, -0.398144, -0.714527],\n",
       "       [0.597344, 0.967768, 0.559442, 0.222539, -0.616212, -0.412061],\n",
       "       [0.326704, 0.559442, 0.736443, 0.609873, -0.678807, 0.033506],\n",
       "       [0.188051, 0.222539, 0.609873, 2.164425, -0.421134, -0.023790],\n",
       "       [-0.398144, -0.616212, -0.678807, -0.421134, 0.766940, 0.044076],\n",
       "       [-0.714527, -0.412061, 0.033506, -0.023790, 0.044076, 1.107062]])"
      ]
     },
     "execution_count": 11,
     "metadata": {},
     "output_type": "execute_result"
    }
   ],
   "source": [
    "detoned_and_denoised_cov0"
   ]
  },
  {
   "cell_type": "code",
   "execution_count": 12,
   "metadata": {},
   "outputs": [
    {
     "data": {
      "text/plain": [
       "array([[1.000000, 0.754242, 0.472886, 0.158772, -0.564718, -0.843538],\n",
       "       [0.754242, 1.000000, 0.662674, 0.153762, -0.715260, -0.398098],\n",
       "       [0.472886, 0.662674, 1.000000, 0.483057, -0.903225, 0.037108],\n",
       "       [0.158772, 0.153762, 0.483057, 1.000000, -0.326865, -0.015369],\n",
       "       [-0.564718, -0.715260, -0.903225, -0.326865, 1.000000, 0.047834],\n",
       "       [-0.843538, -0.398098, 0.037108, -0.015369, 0.047834, 1.000000]])"
      ]
     },
     "execution_count": 12,
     "metadata": {},
     "output_type": "execute_result"
    }
   ],
   "source": [
    "detoned_and_denoised_corr0"
   ]
  },
  {
   "cell_type": "code",
   "execution_count": 13,
   "metadata": {},
   "outputs": [
    {
     "data": {
      "text/plain": [
       "array([[1.000000, -0.208379, -0.215275, -0.302144, 0.210942, 0.302605],\n",
       "       [-0.208379, 1.000000, -0.211829, -0.307928, 0.207160, 0.301786],\n",
       "       [-0.215275, -0.211829, 1.000000, -0.295996, 0.214220, 0.303332],\n",
       "       [-0.302144, -0.307928, -0.295996, 1.000000, 0.304051, -0.999961],\n",
       "       [0.210942, 0.207160, 0.214220, 0.304051, 1.000000, -0.302352],\n",
       "       [0.302605, 0.301786, 0.303332, -0.999961, -0.302352, 1.000000]])"
      ]
     },
     "execution_count": 13,
     "metadata": {},
     "output_type": "execute_result"
    }
   ],
   "source": [
    "detoned_and_denoised_corr1"
   ]
  },
  {
   "cell_type": "code",
   "execution_count": 14,
   "metadata": {},
   "outputs": [
    {
     "ename": "ValueError",
     "evalue": "Parameter market_component must less than number of features in denoised correlation matrix",
     "output_type": "error",
     "traceback": [
      "\u001b[1;31m---------------------------------------------------------------------------\u001b[0m",
      "\u001b[1;31mValueError\u001b[0m                                Traceback (most recent call last)",
      "\u001b[1;32m~\\AppData\\Local\\Temp/ipykernel_11420/4018879819.py\u001b[0m in \u001b[0;36m<module>\u001b[1;34m\u001b[0m\n\u001b[0;32m      2\u001b[0m \u001b[0mdenoise_processor\u001b[0m \u001b[1;33m=\u001b[0m \u001b[0mDenoising\u001b[0m\u001b[1;33m(\u001b[0m\u001b[0mdetoning\u001b[0m\u001b[1;33m=\u001b[0m\u001b[1;32mTrue\u001b[0m\u001b[1;33m,\u001b[0m\u001b[0mmarket_component\u001b[0m\u001b[1;33m=\u001b[0m\u001b[1;36m7\u001b[0m\u001b[1;33m)\u001b[0m\u001b[1;33m\u001b[0m\u001b[1;33m\u001b[0m\u001b[0m\n\u001b[0;32m      3\u001b[0m \u001b[1;33m\u001b[0m\u001b[0m\n\u001b[1;32m----> 4\u001b[1;33m \u001b[0mdenoised_obj\u001b[0m \u001b[1;33m=\u001b[0m \u001b[0mdenoise_processor\u001b[0m\u001b[1;33m.\u001b[0m\u001b[0mrun_denoising\u001b[0m\u001b[1;33m(\u001b[0m\u001b[0mdata\u001b[0m\u001b[1;33m)\u001b[0m\u001b[1;33m\u001b[0m\u001b[1;33m\u001b[0m\u001b[0m\n\u001b[0m",
      "\u001b[1;32mc:\\Users\\Ramiscan\\Desktop\\master\\3third_semester\\ML in Finance\\github\\ML-in-Finance\\notebooks\\..\\src\\finance_ml\\denoising\\denoising.py\u001b[0m in \u001b[0;36mrun_denoising\u001b[1;34m(self, X)\u001b[0m\n\u001b[0;32m    455\u001b[0m             \u001b[0mself\u001b[0m\u001b[1;33m.\u001b[0m\u001b[0m__eVal1\u001b[0m\u001b[1;33m,\u001b[0m \u001b[0mself\u001b[0m\u001b[1;33m.\u001b[0m\u001b[0m__eVec1\u001b[0m \u001b[1;33m=\u001b[0m \u001b[0mself\u001b[0m\u001b[1;33m.\u001b[0m\u001b[0mcalc_PCA\u001b[0m\u001b[1;33m(\u001b[0m\u001b[0mself\u001b[0m\u001b[1;33m.\u001b[0m\u001b[0m__corr1\u001b[0m\u001b[1;33m)\u001b[0m\u001b[1;33m\u001b[0m\u001b[1;33m\u001b[0m\u001b[0m\n\u001b[0;32m    456\u001b[0m             \u001b[1;32mif\u001b[0m \u001b[0mself\u001b[0m\u001b[1;33m.\u001b[0m\u001b[0m__detoning\u001b[0m\u001b[1;33m==\u001b[0m\u001b[1;32mTrue\u001b[0m\u001b[1;33m:\u001b[0m\u001b[1;33m\u001b[0m\u001b[1;33m\u001b[0m\u001b[0m\n\u001b[1;32m--> 457\u001b[1;33m                 \u001b[0mself\u001b[0m\u001b[1;33m.\u001b[0m\u001b[0m__corr1\u001b[0m\u001b[1;33m=\u001b[0m\u001b[0mself\u001b[0m\u001b[1;33m.\u001b[0m\u001b[0mdetoned_corr\u001b[0m\u001b[1;33m(\u001b[0m\u001b[0mself\u001b[0m\u001b[1;33m.\u001b[0m\u001b[0m__corr1\u001b[0m\u001b[1;33m,\u001b[0m\u001b[0mself\u001b[0m\u001b[1;33m.\u001b[0m\u001b[0m__eVal1\u001b[0m\u001b[1;33m,\u001b[0m\u001b[0mself\u001b[0m\u001b[1;33m.\u001b[0m\u001b[0m__eVec1\u001b[0m\u001b[1;33m,\u001b[0m\u001b[0mself\u001b[0m\u001b[1;33m.\u001b[0m\u001b[0m__market_component\u001b[0m\u001b[1;33m)\u001b[0m\u001b[1;33m\u001b[0m\u001b[1;33m\u001b[0m\u001b[0m\n\u001b[0m\u001b[0;32m    458\u001b[0m \u001b[1;33m\u001b[0m\u001b[0m\n\u001b[0;32m    459\u001b[0m         \u001b[1;32melse\u001b[0m\u001b[1;33m:\u001b[0m\u001b[1;33m\u001b[0m\u001b[1;33m\u001b[0m\u001b[0m\n",
      "\u001b[1;32mc:\\Users\\Ramiscan\\Desktop\\master\\3third_semester\\ML in Finance\\github\\ML-in-Finance\\notebooks\\..\\src\\finance_ml\\denoising\\denoising.py\u001b[0m in \u001b[0;36mdetoned_corr\u001b[1;34m(self, corr1, eVal, eVec, market_component)\u001b[0m\n\u001b[0;32m    386\u001b[0m \u001b[1;33m\u001b[0m\u001b[0m\n\u001b[0;32m    387\u001b[0m         \u001b[1;32mif\u001b[0m \u001b[1;33m(\u001b[0m\u001b[0mmarket_component\u001b[0m\u001b[1;33m>\u001b[0m\u001b[0mcorr1\u001b[0m\u001b[1;33m.\u001b[0m\u001b[0mshape\u001b[0m\u001b[1;33m[\u001b[0m\u001b[1;36m1\u001b[0m\u001b[1;33m]\u001b[0m\u001b[1;33m)\u001b[0m\u001b[1;33m:\u001b[0m\u001b[1;33m\u001b[0m\u001b[1;33m\u001b[0m\u001b[0m\n\u001b[1;32m--> 388\u001b[1;33m             \u001b[1;32mraise\u001b[0m \u001b[0mValueError\u001b[0m\u001b[1;33m(\u001b[0m\u001b[1;34m'Parameter market_component must less than number of features in denoised correlation matrix'\u001b[0m\u001b[1;33m)\u001b[0m\u001b[1;33m\u001b[0m\u001b[1;33m\u001b[0m\u001b[0m\n\u001b[0m\u001b[0;32m    389\u001b[0m \u001b[1;33m\u001b[0m\u001b[0m\n\u001b[0;32m    390\u001b[0m         \u001b[0meigenvalues_market\u001b[0m \u001b[1;33m=\u001b[0m \u001b[0meVal\u001b[0m\u001b[1;33m[\u001b[0m\u001b[1;33m:\u001b[0m\u001b[0mmarket_component\u001b[0m\u001b[1;33m,\u001b[0m \u001b[1;33m:\u001b[0m\u001b[0mmarket_component\u001b[0m\u001b[1;33m]\u001b[0m\u001b[1;33m\u001b[0m\u001b[1;33m\u001b[0m\u001b[0m\n",
      "\u001b[1;31mValueError\u001b[0m: Parameter market_component must less than number of features in denoised correlation matrix"
     ]
    }
   ],
   "source": [
    "#giving market component value greater than number of features in correlation matrix, algorithm must be give an error\n",
    "denoise_processor = Denoising(detoning=True,market_component=7)\n",
    "\n",
    "denoised_obj = denoise_processor.run_denoising(data)"
   ]
  },
  {
   "cell_type": "code",
   "execution_count": null,
   "metadata": {},
   "outputs": [
    {
     "ename": "ValueError",
     "evalue": "Denoising Class - Parameter market_component must be int and greater than 1",
     "output_type": "error",
     "traceback": [
      "\u001b[1;31m---------------------------------------------------------------------------\u001b[0m",
      "\u001b[1;31mValueError\u001b[0m                                Traceback (most recent call last)",
      "\u001b[1;32m~\\AppData\\Local\\Temp/ipykernel_13132/87673754.py\u001b[0m in \u001b[0;36m<module>\u001b[1;34m\u001b[0m\n\u001b[0;32m      1\u001b[0m \u001b[1;31m#giving market component value decimal value, algorithm must be give an error\u001b[0m\u001b[1;33m\u001b[0m\u001b[1;33m\u001b[0m\u001b[0m\n\u001b[1;32m----> 2\u001b[1;33m \u001b[0mdenoise_processor\u001b[0m \u001b[1;33m=\u001b[0m \u001b[0mDenoising\u001b[0m\u001b[1;33m(\u001b[0m\u001b[0mdetoning\u001b[0m\u001b[1;33m=\u001b[0m\u001b[1;32mTrue\u001b[0m\u001b[1;33m,\u001b[0m\u001b[0mmarket_component\u001b[0m\u001b[1;33m=\u001b[0m\u001b[1;36m2.5\u001b[0m\u001b[1;33m)\u001b[0m\u001b[1;33m\u001b[0m\u001b[1;33m\u001b[0m\u001b[0m\n\u001b[0m\u001b[0;32m      3\u001b[0m \u001b[1;33m\u001b[0m\u001b[0m\n\u001b[0;32m      4\u001b[0m \u001b[0mdenoised_obj\u001b[0m \u001b[1;33m=\u001b[0m \u001b[0mdenoise_processor\u001b[0m\u001b[1;33m.\u001b[0m\u001b[0mrun_denoising\u001b[0m\u001b[1;33m(\u001b[0m\u001b[0mdata\u001b[0m\u001b[1;33m)\u001b[0m\u001b[1;33m\u001b[0m\u001b[1;33m\u001b[0m\u001b[0m\n",
      "\u001b[1;32mc:\\Users\\Ramiscan\\Desktop\\master\\3third_semester\\ML in Finance\\github\\ML-in-Finance\\notebooks\\..\\src\\finance_ml\\denoising\\denoising.py\u001b[0m in \u001b[0;36m__init__\u001b[1;34m(self, alpha, pts, nFacts, q, method, bWidth, detoning, market_component)\u001b[0m\n\u001b[0;32m     76\u001b[0m \u001b[1;33m\u001b[0m\u001b[0m\n\u001b[0;32m     77\u001b[0m         \u001b[1;32mif\u001b[0m  \u001b[1;33m(\u001b[0m\u001b[0mtype\u001b[0m\u001b[1;33m(\u001b[0m\u001b[0mmarket_component\u001b[0m\u001b[1;33m)\u001b[0m \u001b[1;33m!=\u001b[0m \u001b[0mint\u001b[0m\u001b[1;33m)\u001b[0m \u001b[1;33m|\u001b[0m \u001b[1;33m(\u001b[0m\u001b[0mq\u001b[0m \u001b[1;33m<\u001b[0m \u001b[1;36m1\u001b[0m\u001b[1;33m)\u001b[0m \u001b[1;33m:\u001b[0m\u001b[1;33m\u001b[0m\u001b[1;33m\u001b[0m\u001b[0m\n\u001b[1;32m---> 78\u001b[1;33m             \u001b[1;32mraise\u001b[0m \u001b[0mValueError\u001b[0m\u001b[1;33m(\u001b[0m\u001b[1;34m'Denoising Class - Parameter market_component must be int and greater than 1'\u001b[0m\u001b[1;33m)\u001b[0m\u001b[1;33m\u001b[0m\u001b[1;33m\u001b[0m\u001b[0m\n\u001b[0m\u001b[0;32m     79\u001b[0m \u001b[1;33m\u001b[0m\u001b[0m\n\u001b[0;32m     80\u001b[0m         \u001b[0mself\u001b[0m\u001b[1;33m.\u001b[0m\u001b[0m__alpha\u001b[0m \u001b[1;33m=\u001b[0m \u001b[0malpha\u001b[0m\u001b[1;33m\u001b[0m\u001b[1;33m\u001b[0m\u001b[0m\n",
      "\u001b[1;31mValueError\u001b[0m: Denoising Class - Parameter market_component must be int and greater than 1"
     ]
    }
   ],
   "source": [
    "#giving market component value decimal value, algorithm must be give an error\n",
    "denoise_processor = Denoising(detoning=True,market_component=2.5)\n",
    "\n",
    "denoised_obj = denoise_processor.run_denoising(data)"
   ]
  },
  {
   "cell_type": "code",
   "execution_count": null,
   "metadata": {},
   "outputs": [
    {
     "data": {
      "text/plain": [
       "array([[1.000000, 0.191322, 0.372534, 0.477484, -0.300662, 0.195673],\n",
       "       [0.191322, 1.000000, -0.280185, 0.080697, -0.300584, -0.468665],\n",
       "       [0.372534, -0.280185, 1.000000, -0.192411, -0.005850, -0.351107],\n",
       "       [0.477484, 0.080697, -0.192411, 1.000000, 0.551992, 0.077088],\n",
       "       [-0.300662, -0.300584, -0.005850, 0.551992, 1.000000, -0.347528],\n",
       "       [0.195673, -0.468665, -0.351107, 0.077088, -0.347528, 1.000000]])"
      ]
     },
     "execution_count": 17,
     "metadata": {},
     "output_type": "execute_result"
    }
   ],
   "source": [
    "detoned_and_denoised_corr1"
   ]
  },
  {
   "cell_type": "code",
   "execution_count": null,
   "metadata": {},
   "outputs": [
    {
     "data": {
      "text/plain": [
       "array([[1.000000, -0.229161, -0.356559, -0.313743, 0.148056, -0.184552],\n",
       "       [-0.229161, 1.000000, 0.475365, 0.020840, 0.281415, 0.421666],\n",
       "       [-0.356559, 0.475365, 1.000000, 0.284961, 0.013227, 0.375243],\n",
       "       [-0.313743, 0.020840, 0.284961, 1.000000, -0.446713, 0.027045],\n",
       "       [0.148056, 0.281415, 0.013227, -0.446713, 1.000000, 0.209381],\n",
       "       [-0.184552, 0.421666, 0.375243, 0.027045, 0.209381, 1.000000]])"
      ]
     },
     "execution_count": 18,
     "metadata": {},
     "output_type": "execute_result"
    }
   ],
   "source": [
    "corr1"
   ]
  },
  {
   "cell_type": "code",
   "execution_count": null,
   "metadata": {},
   "outputs": [],
   "source": []
  }
 ],
 "metadata": {
  "kernelspec": {
   "display_name": "Python 3",
   "language": "python",
   "name": "python3"
  },
  "language_info": {
   "codemirror_mode": {
    "name": "ipython",
    "version": 3
   },
   "file_extension": ".py",
   "mimetype": "text/x-python",
   "name": "python",
   "nbconvert_exporter": "python",
   "pygments_lexer": "ipython3",
   "version": "3.10.0"
  }
 },
 "nbformat": 4,
 "nbformat_minor": 2
}
