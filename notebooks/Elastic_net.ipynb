{
 "cells": [
  {
   "cell_type": "markdown",
   "id": "5f7268d6",
   "metadata": {},
   "source": [
    "# Elastic Net"
   ]
  },
  {
   "cell_type": "raw",
   "id": "3f51ded8",
   "metadata": {},
   "source": [
    "Contributors:\n",
    "1. Nilay Khare \n",
    "2. Vipul Tank \n",
    "3. Anmol Tiwari"
   ]
  },
  {
   "cell_type": "markdown",
   "id": "f651b5b0",
   "metadata": {},
   "source": [
    "In this notebook we will explain the effect of Lasso, ridge and Elastic net on coefficents"
   ]
  },
  {
   "cell_type": "code",
   "execution_count": 13,
   "id": "9257cad7",
   "metadata": {},
   "outputs": [],
   "source": [
    "import sys\n",
    "#sys.path.append('../') #if unable to import, uncomment line before this and try again.\n",
    "from IPython.display import display, Math, Latex\n",
    "from src.finance_ml.data_preparation.data_preparation import DataLoader\n",
    "from src.finance_ml.indicators.indicators import Indicators\n",
    "from src.finance_ml.Elastic_Net.Elastic_net import RegressionAnalysis\n",
    "\n",
    "import pandas as pd\n",
    "import numpy as np\n",
    "from sklearn.preprocessing import PolynomialFeatures\n",
    "from sklearn.model_selection import train_test_split\n",
    "from sklearn.preprocessing import StandardScaler\n",
    "from sklearn.linear_model import Ridge, RidgeCV, LassoCV, ElasticNetCV\n",
    "from sklearn.metrics import mean_absolute_error, mean_squared_error\n",
    "import matplotlib.pyplot as plt\n",
    "import seaborn as sns\n",
    "%matplotlib inline"
   ]
  },
  {
   "cell_type": "code",
   "execution_count": 3,
   "id": "8a618d4c",
   "metadata": {},
   "outputs": [],
   "source": [
    "fname_USDBRL = 'FX/USDBRL_2020-04-07_2022-04-06.parquet'\n",
    "N = 40000\n",
    "ticker = 'USDBRL'\n",
    "keep_cols = ['VOLUME', 'VW', 'OPEN', 'CLOSE', 'HIGHT', 'LOW', 't', 'TRANSACTIONS']\n",
    "\n",
    "regression_analysis = RegressionAnalysis(data_file=fname_USDBRL, ticker=ticker, keep_cols=keep_cols)\n",
    "regression_analysis.load_data()\n",
    "regression_analysis.prepare_features()"
   ]
  },
  {
   "cell_type": "code",
   "execution_count": 4,
   "id": "6004333c",
   "metadata": {},
   "outputs": [
    {
     "name": "stdout",
     "output_type": "stream",
     "text": [
      "After Ridge, we have only 7 non-zero coefficients.\n"
     ]
    },
    {
     "data": {
      "text/html": [
       "<div>\n",
       "<style scoped>\n",
       "    .dataframe tbody tr th:only-of-type {\n",
       "        vertical-align: middle;\n",
       "    }\n",
       "\n",
       "    .dataframe tbody tr th {\n",
       "        vertical-align: top;\n",
       "    }\n",
       "\n",
       "    .dataframe thead th {\n",
       "        text-align: right;\n",
       "    }\n",
       "</style>\n",
       "<table border=\"1\" class=\"dataframe\">\n",
       "  <thead>\n",
       "    <tr style=\"text-align: right;\">\n",
       "      <th></th>\n",
       "      <th>metrics</th>\n",
       "    </tr>\n",
       "  </thead>\n",
       "  <tbody>\n",
       "    <tr>\n",
       "      <th>MAE</th>\n",
       "      <td>0.000649</td>\n",
       "    </tr>\n",
       "    <tr>\n",
       "      <th>MSE</th>\n",
       "      <td>0.000001</td>\n",
       "    </tr>\n",
       "    <tr>\n",
       "      <th>RMSE</th>\n",
       "      <td>0.001196</td>\n",
       "    </tr>\n",
       "  </tbody>\n",
       "</table>\n",
       "</div>"
      ],
      "text/plain": [
       "       metrics\n",
       "MAE   0.000649\n",
       "MSE   0.000001\n",
       "RMSE  0.001196"
      ]
     },
     "metadata": {},
     "output_type": "display_data"
    }
   ],
   "source": [
    "# Ridge Regression\n",
    "ridge_model = regression_analysis.train_ridge(alpha=10)\n",
    "regression_analysis.display_results(ridge_model, \"Ridge\")"
   ]
  },
  {
   "cell_type": "code",
   "execution_count": 5,
   "id": "01dcb8d1",
   "metadata": {},
   "outputs": [
    {
     "data": {
      "text/plain": [
       "array([ 2.63603233e-05,  8.52179263e-02, -2.14090443e-02,  8.19645404e-02,\n",
       "        7.09543023e-02,  1.26596204e-04,  2.63603233e-05])"
      ]
     },
     "execution_count": 5,
     "metadata": {},
     "output_type": "execute_result"
    }
   ],
   "source": [
    "ridge_model.coef_"
   ]
  },
  {
   "cell_type": "markdown",
   "id": "16d528b2",
   "metadata": {},
   "source": [
    "Coefficents of Lasso model:"
   ]
  },
  {
   "cell_type": "code",
   "execution_count": 6,
   "id": "b6b07a26",
   "metadata": {},
   "outputs": [
    {
     "name": "stdout",
     "output_type": "stream",
     "text": [
      "After Lasso CV, we have only 3 non-zero coefficients.\n"
     ]
    },
    {
     "data": {
      "text/html": [
       "<div>\n",
       "<style scoped>\n",
       "    .dataframe tbody tr th:only-of-type {\n",
       "        vertical-align: middle;\n",
       "    }\n",
       "\n",
       "    .dataframe tbody tr th {\n",
       "        vertical-align: top;\n",
       "    }\n",
       "\n",
       "    .dataframe thead th {\n",
       "        text-align: right;\n",
       "    }\n",
       "</style>\n",
       "<table border=\"1\" class=\"dataframe\">\n",
       "  <thead>\n",
       "    <tr style=\"text-align: right;\">\n",
       "      <th></th>\n",
       "      <th>metrics</th>\n",
       "    </tr>\n",
       "  </thead>\n",
       "  <tbody>\n",
       "    <tr>\n",
       "      <th>MAE</th>\n",
       "      <td>0.001998</td>\n",
       "    </tr>\n",
       "    <tr>\n",
       "      <th>MSE</th>\n",
       "      <td>0.000006</td>\n",
       "    </tr>\n",
       "    <tr>\n",
       "      <th>RMSE</th>\n",
       "      <td>0.002528</td>\n",
       "    </tr>\n",
       "  </tbody>\n",
       "</table>\n",
       "</div>"
      ],
      "text/plain": [
       "       metrics\n",
       "MAE   0.001998\n",
       "MSE   0.000006\n",
       "RMSE  0.002528"
      ]
     },
     "metadata": {},
     "output_type": "display_data"
    }
   ],
   "source": [
    "# Lasso Regression\n",
    "lasso_cv_model = regression_analysis.train_lasso_cv(eps=0.01, n_alphas=100, cv=5)\n",
    "regression_analysis.display_results(lasso_cv_model, \"Lasso CV\")"
   ]
  },
  {
   "cell_type": "code",
   "execution_count": 7,
   "id": "e690b5fd",
   "metadata": {},
   "outputs": [
    {
     "data": {
      "text/plain": [
       "array([ 0.00000000e+00,  2.14544983e-01,  0.00000000e+00,  5.43432191e-07,\n",
       "        3.28541875e-06, -0.00000000e+00,  0.00000000e+00])"
      ]
     },
     "execution_count": 7,
     "metadata": {},
     "output_type": "execute_result"
    }
   ],
   "source": [
    "lasso_cv_model.coef_"
   ]
  },
  {
   "cell_type": "markdown",
   "id": "4ce935e1",
   "metadata": {},
   "source": [
    "Coefficents of Elastic net model: Case 1: Best L1 Ratio and Case 2: Different L1 Ratio"
   ]
  },
  {
   "cell_type": "code",
   "execution_count": 8,
   "id": "445a5fa3",
   "metadata": {},
   "outputs": [
    {
     "name": "stdout",
     "output_type": "stream",
     "text": [
      "After Elastic Net, we have only 3 non-zero coefficients.\n"
     ]
    },
    {
     "data": {
      "text/html": [
       "<div>\n",
       "<style scoped>\n",
       "    .dataframe tbody tr th:only-of-type {\n",
       "        vertical-align: middle;\n",
       "    }\n",
       "\n",
       "    .dataframe tbody tr th {\n",
       "        vertical-align: top;\n",
       "    }\n",
       "\n",
       "    .dataframe thead th {\n",
       "        text-align: right;\n",
       "    }\n",
       "</style>\n",
       "<table border=\"1\" class=\"dataframe\">\n",
       "  <thead>\n",
       "    <tr style=\"text-align: right;\">\n",
       "      <th></th>\n",
       "      <th>metrics</th>\n",
       "    </tr>\n",
       "  </thead>\n",
       "  <tbody>\n",
       "    <tr>\n",
       "      <th>MAE</th>\n",
       "      <td>0.000724</td>\n",
       "    </tr>\n",
       "    <tr>\n",
       "      <th>MSE</th>\n",
       "      <td>0.000002</td>\n",
       "    </tr>\n",
       "    <tr>\n",
       "      <th>RMSE</th>\n",
       "      <td>0.001301</td>\n",
       "    </tr>\n",
       "  </tbody>\n",
       "</table>\n",
       "</div>"
      ],
      "text/plain": [
       "       metrics\n",
       "MAE   0.000724\n",
       "MSE   0.000002\n",
       "RMSE  0.001301"
      ]
     },
     "metadata": {},
     "output_type": "display_data"
    }
   ],
   "source": [
    "# Elastic Net\n",
    "elastic_model = regression_analysis.train_elastic_net_cv(l1_ratios=[0.1, 0.5, 0.7, 0.9, 0.95, 0.99, 1], max_iter=100000)\n",
    "regression_analysis.display_results(elastic_model, \"Elastic Net\")"
   ]
  },
  {
   "cell_type": "code",
   "execution_count": 9,
   "id": "2b1fa305",
   "metadata": {},
   "outputs": [
    {
     "data": {
      "text/plain": [
       "array([-0.00000000e+00,  2.16490211e-01,  0.00000000e+00,  5.22591569e-06,\n",
       "        3.86878322e-06,  0.00000000e+00, -0.00000000e+00])"
      ]
     },
     "execution_count": 9,
     "metadata": {},
     "output_type": "execute_result"
    }
   ],
   "source": [
    "elastic_model.coef_"
   ]
  },
  {
   "cell_type": "code",
   "execution_count": 10,
   "id": "eff51162",
   "metadata": {},
   "outputs": [
    {
     "data": {
      "text/plain": [
       "1.0"
      ]
     },
     "execution_count": 10,
     "metadata": {},
     "output_type": "execute_result"
    }
   ],
   "source": [
    "elastic_model.l1_ratio_"
   ]
  },
  {
   "cell_type": "raw",
   "id": "fa195c67",
   "metadata": {},
   "source": [
    "Now case 2, where L1-ratio is 0.25"
   ]
  },
  {
   "cell_type": "code",
   "execution_count": 11,
   "id": "69152ec1",
   "metadata": {},
   "outputs": [
    {
     "name": "stdout",
     "output_type": "stream",
     "text": [
      "After Elastic Net, we have only 4 non-zero coefficients.\n"
     ]
    },
    {
     "data": {
      "text/html": [
       "<div>\n",
       "<style scoped>\n",
       "    .dataframe tbody tr th:only-of-type {\n",
       "        vertical-align: middle;\n",
       "    }\n",
       "\n",
       "    .dataframe tbody tr th {\n",
       "        vertical-align: top;\n",
       "    }\n",
       "\n",
       "    .dataframe thead th {\n",
       "        text-align: right;\n",
       "    }\n",
       "</style>\n",
       "<table border=\"1\" class=\"dataframe\">\n",
       "  <thead>\n",
       "    <tr style=\"text-align: right;\">\n",
       "      <th></th>\n",
       "      <th>metrics</th>\n",
       "    </tr>\n",
       "  </thead>\n",
       "  <tbody>\n",
       "    <tr>\n",
       "      <th>MAE</th>\n",
       "      <td>0.000857</td>\n",
       "    </tr>\n",
       "    <tr>\n",
       "      <th>MSE</th>\n",
       "      <td>0.000002</td>\n",
       "    </tr>\n",
       "    <tr>\n",
       "      <th>RMSE</th>\n",
       "      <td>0.001507</td>\n",
       "    </tr>\n",
       "  </tbody>\n",
       "</table>\n",
       "</div>"
      ],
      "text/plain": [
       "       metrics\n",
       "MAE   0.000857\n",
       "MSE   0.000002\n",
       "RMSE  0.001507"
      ]
     },
     "metadata": {},
     "output_type": "display_data"
    }
   ],
   "source": [
    "# Elastic Net\n",
    "elastic_model = regression_analysis.train_elastic_net_cv(l1_ratios=0.25, max_iter=100000)\n",
    "regression_analysis.display_results(elastic_model, \"Elastic Net\")\n"
   ]
  },
  {
   "cell_type": "code",
   "execution_count": 12,
   "id": "e5b55de5",
   "metadata": {},
   "outputs": [
    {
     "data": {
      "text/plain": [
       "array([0.        , 0.05054029, 0.04954104, 0.06322042, 0.05316552,\n",
       "       0.        , 0.        ])"
      ]
     },
     "execution_count": 12,
     "metadata": {},
     "output_type": "execute_result"
    }
   ],
   "source": [
    "elastic_model.coef_"
   ]
  },
  {
   "cell_type": "markdown",
   "id": "c585ca26",
   "metadata": {},
   "source": [
    "When L1-ratio = 1, then we had only 3 none-zero coefficients. Elastic net is completely working as Lasso.\n",
    "Now, L1-Ratio= 0.25, we have 4 none-zero Coefficents. Elastic net is more towards Ridge Regression."
   ]
  }
 ],
 "metadata": {
  "kernelspec": {
   "display_name": "Python 3",
   "language": "python",
   "name": "python3"
  },
  "language_info": {
   "codemirror_mode": {
    "name": "ipython",
    "version": 3
   },
   "file_extension": ".py",
   "mimetype": "text/x-python",
   "name": "python",
   "nbconvert_exporter": "python",
   "pygments_lexer": "ipython3",
   "version": "3.8.8"
  }
 },
 "nbformat": 4,
 "nbformat_minor": 5
}
