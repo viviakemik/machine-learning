{
 "cells": [
  {
   "cell_type": "code",
   "execution_count": 1,
   "metadata": {},
   "outputs": [],
   "source": [
    "import os\n",
    "import sys\n",
    "import warnings\n",
    "warnings.filterwarnings('ignore')\n",
    "sys.path.append('..')\n",
    "from src.finance_ml.statistical_analysis.statistical_analysis import StatisticalEvaluation"
   ]
  },
  {
   "cell_type": "code",
   "execution_count": 2,
   "metadata": {},
   "outputs": [],
   "source": [
    "eval = StatisticalEvaluation()"
   ]
  },
  {
   "cell_type": "code",
   "execution_count": 4,
   "metadata": {},
   "outputs": [
    {
     "name": "stdout",
     "output_type": "stream",
     "text": [
      "(32871,)\n",
      "Mean Squared Error: 1.8888014770986654\n",
      "R-squared: 0.35936085302500953\n",
      "          DATE     OPEN    HIGHT    LOW    CLOSE      VOLUME         VW  \\\n",
      "0   2020-04-07  55.2935  55.5000  55.21  55.2500   1181834.0  55.290144   \n",
      "1   2020-04-08  55.3500  55.9700  55.33  55.8600   1450054.0  55.722456   \n",
      "2   2020-04-09  56.4600  57.5538  53.82  57.5538  24143297.0  56.760171   \n",
      "3   2020-04-13  57.2600  57.5500  56.55  57.3401   4186936.0  57.307612   \n",
      "4   2020-04-14  57.8200  57.8400  57.26  57.3100   2357930.0  57.516740   \n",
      "..         ...      ...      ...    ...      ...         ...        ...   \n",
      "500 2022-03-31  54.7700  55.0550  54.77  54.8800   1611418.0  54.997317   \n",
      "501 2022-04-01  54.7200  55.1500  54.40  54.5500   1562744.0  54.677525   \n",
      "502 2022-04-04  54.7800  55.1400  54.47  55.0000   3256927.0  54.764063   \n",
      "503 2022-04-05  54.6600  54.6900  54.08  54.0800   2496161.0  54.279664   \n",
      "504 2022-04-06  53.8400  54.4600  53.74  54.4600   4845944.0  53.919496   \n",
      "\n",
      "     TRANSACTIONS    PNClose  \n",
      "0            2863  60.017020  \n",
      "1            4890  60.020469  \n",
      "2           52768  60.023919  \n",
      "3           15114  60.037716  \n",
      "4           11466  60.041166  \n",
      "..            ...        ...  \n",
      "500          5601  58.020307  \n",
      "501          5094  58.068405  \n",
      "502          9444  58.078753  \n",
      "503          8019  58.082203  \n",
      "504         18494  58.085652  \n",
      "\n",
      "[505 rows x 9 columns]\n",
      "Before Transcation costs:                      Statistic        Value\n",
      "0                 Mean return     0.040040\n",
      "1                     Minimum    -0.007581\n",
      "2                  Quartile 1     0.006485\n",
      "3                      Median     0.020552\n",
      "4                  Quartile 3     0.063850\n",
      "5                     Maximum     0.107149\n",
      "6          Standard deviation     0.059796\n",
      "7                    Skewness     0.535144\n",
      "8                    Kurtosis    -1.500000\n",
      "9    Historical 1-percent VaR    -0.007018\n",
      "10  Historical 1-percent CVaR    -0.007581\n",
      "11   Historical 5-percent VaR    -0.004768\n",
      "12  Historical 5-percent CVaR    -0.007581\n",
      "13      Share with return > 0     0.666667\n",
      "14           Maximum drawdown    -0.007581\n",
      "15               Calmar ratio  1330.993329\n",
      "After Transcation costs:                      Statistic        Value\n",
      "0                 Mean return     0.038290\n",
      "1                     Minimum    -0.009258\n",
      "2                  Quartile 1     0.004813\n",
      "3                      Median     0.018883\n",
      "4                  Quartile 3     0.062064\n",
      "5                     Maximum     0.105244\n",
      "6          Standard deviation     0.059667\n",
      "7                    Skewness     0.534313\n",
      "8                    Kurtosis    -1.500000\n",
      "9    Historical 1-percent VaR    -0.008695\n",
      "10  Historical 1-percent CVaR    -0.009258\n",
      "11   Historical 5-percent VaR    -0.006444\n",
      "12  Historical 5-percent CVaR    -0.009258\n",
      "13      Share with return > 0     0.666667\n",
      "14           Maximum drawdown    -0.009258\n",
      "15               Calmar ratio  1042.272575\n"
     ]
    }
   ],
   "source": [
    "fname = '../data/fixed_income/IGIB_2020-04-07_2022-04-06.parquet'\n",
    "PLSdata = eval.plsRegression(fname)\n",
    "print(PLSdata)\n",
    "history , data = eval.simulation(PLSdata)\n",
    "stats1, stats2 = eval.evaluate_Stats(history)\n",
    "print(\"Before Transcation costs: \", stats1)\n",
    "print(\"After Transcation costs: \",stats2)"
   ]
  },
  {
   "cell_type": "code",
   "execution_count": 5,
   "metadata": {},
   "outputs": [
    {
     "name": "stdout",
     "output_type": "stream",
     "text": [
      "Random Forest Mean Squared Error: 0.0024488622692489938\n",
      "Random Forest R-squared: 0.9991694007791434\n",
      "Before Transcation costs:                      Statistic      Value\n",
      "0                 Mean return   0.009960\n",
      "1                     Minimum  -0.037834\n",
      "2                  Quartile 1   0.006878\n",
      "3                      Median   0.012569\n",
      "4                  Quartile 3   0.018808\n",
      "5                     Maximum   0.046589\n",
      "6          Standard deviation   0.027507\n",
      "7                    Skewness  -0.619747\n",
      "8                    Kurtosis  -0.053315\n",
      "9    Historical 1-percent VaR  -0.035615\n",
      "10  Historical 1-percent CVaR  -0.037834\n",
      "11   Historical 5-percent VaR  -0.026738\n",
      "12  Historical 5-percent CVaR  -0.037834\n",
      "13      Share with return > 0   0.833333\n",
      "14           Maximum drawdown  -0.037834\n",
      "15               Calmar ratio  66.342076\n",
      "After Transcation costs:                      Statistic      Value\n",
      "0                 Mean return   0.008257\n",
      "1                     Minimum  -0.039535\n",
      "2                  Quartile 1   0.005196\n",
      "3                      Median   0.010885\n",
      "4                  Quartile 3   0.017125\n",
      "5                     Maximum   0.044805\n",
      "6          Standard deviation   0.027486\n",
      "7                    Skewness  -0.624380\n",
      "8                    Kurtosis  -0.051330\n",
      "9    Historical 1-percent VaR  -0.037315\n",
      "10  Historical 1-percent CVaR  -0.039535\n",
      "11   Historical 5-percent VaR  -0.028435\n",
      "12  Historical 5-percent CVaR  -0.039535\n",
      "13      Share with return > 0   0.833333\n",
      "14           Maximum drawdown  -0.039535\n",
      "15               Calmar ratio  52.633301\n"
     ]
    }
   ],
   "source": [
    "RFdata = eval.randomForest('../data/fixed_income/IGIB_2020-04-07_2022-04-06.parquet')\n",
    "history , data = eval.simulation(RFdata)\n",
    "stats1, stats2 = eval.evaluate_Stats(history)\n",
    "print(\"Before Transcation costs: \", stats1)\n",
    "print(\"After Transcation costs: \",stats2)"
   ]
  },
  {
   "cell_type": "code",
   "execution_count": 6,
   "metadata": {},
   "outputs": [
    {
     "name": "stdout",
     "output_type": "stream",
     "text": [
      "Gradient Boosted Regression Mean Squared Error: 0.04215383739391052\n",
      "Gradient Boosted Regression R-squared: 0.9857023627113848\n",
      "Before Transcation costs:                      Statistic      Value\n",
      "0                 Mean return   0.005108\n",
      "1                     Minimum  -0.014001\n",
      "2                  Quartile 1   0.003172\n",
      "3                      Median   0.004753\n",
      "4                  Quartile 3   0.006416\n",
      "5                     Maximum   0.041698\n",
      "6          Standard deviation   0.008058\n",
      "7                    Skewness   2.061553\n",
      "8                    Kurtosis   9.504769\n",
      "9    Historical 1-percent VaR  -0.011142\n",
      "10  Historical 1-percent CVaR  -0.014001\n",
      "11   Historical 5-percent VaR  -0.005541\n",
      "12  Historical 5-percent CVaR  -0.010335\n",
      "13      Share with return > 0   0.825000\n",
      "14           Maximum drawdown  -0.019699\n",
      "15               Calmar ratio  65.340902\n",
      "After Transcation costs:                      Statistic      Value\n",
      "0                 Mean return   0.003405\n",
      "1                     Minimum  -0.015675\n",
      "2                  Quartile 1   0.001471\n",
      "3                      Median   0.003083\n",
      "4                  Quartile 3   0.004696\n",
      "5                     Maximum   0.039852\n",
      "6          Standard deviation   0.008039\n",
      "7                    Skewness   2.047488\n",
      "8                    Kurtosis   9.446311\n",
      "9    Historical 1-percent VaR  -0.012844\n",
      "10  Historical 1-percent CVaR  -0.015675\n",
      "11   Historical 5-percent VaR  -0.007276\n",
      "12  Historical 5-percent CVaR  -0.012046\n",
      "13      Share with return > 0   0.825000\n",
      "14           Maximum drawdown  -0.028154\n",
      "15               Calmar ratio  30.476402\n"
     ]
    }
   ],
   "source": [
    "GBdata = eval.gradientBoosting('../data/fixed_income/IGIB_2020-04-07_2022-04-06.parquet')\n",
    "history , data = eval.simulation(GBdata)\n",
    "stats1, stats2 = eval.evaluate_Stats(history)\n",
    "print(\"Before Transcation costs: \", stats1)\n",
    "print(\"After Transcation costs: \",stats2)"
   ]
  },
  {
   "cell_type": "code",
   "execution_count": null,
   "metadata": {},
   "outputs": [],
   "source": []
  }
 ],
 "metadata": {
  "kernelspec": {
   "display_name": "Python 3 (ipykernel)",
   "language": "python",
   "name": "python3"
  },
  "language_info": {
   "codemirror_mode": {
    "name": "ipython",
    "version": 3
   },
   "file_extension": ".py",
   "mimetype": "text/x-python",
   "name": "python",
   "nbconvert_exporter": "python",
   "pygments_lexer": "ipython3",
   "version": "3.11.7"
  }
 },
 "nbformat": 4,
 "nbformat_minor": 4
}
