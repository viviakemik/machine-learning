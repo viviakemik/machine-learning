{
 "cells": [
  {
   "cell_type": "code",
   "execution_count": 10,
   "metadata": {},
   "outputs": [],
   "source": [
    "import os\n",
    "import sys\n",
    "import warnings\n",
    "warnings.filterwarnings('ignore')\n",
    "sys.path.append('..')\n",
    "from src.finance_ml.statistical_analysis.statistical_analysis import StatisticalEvaluation"
   ]
  },
  {
   "cell_type": "code",
   "execution_count": 2,
   "metadata": {},
   "outputs": [],
   "source": [
    "eval = StatisticalEvaluation()"
   ]
  },
  {
   "cell_type": "code",
   "execution_count": null,
   "metadata": {},
   "outputs": [],
   "source": [
    "fname = 'data/fixed_income/IGIB_2020-04-07_2022-04-06.parquet'\n",
    "PLSdata = eval.plsRegression(fname)\n",
    "print(PLSdata)\n",
    "history , data = eval.simulation(PLSdata)\n",
    "stats1, stats2 = eval.evaluate_Stats(history)\n",
    "print(\"Before Transcation costs: \", stats1)\n",
    "print(\"After Transcation costs: \",stats2)"
   ]
  },
  {
   "cell_type": "code",
   "execution_count": null,
   "metadata": {},
   "outputs": [],
   "source": [
    "RFdata = eval.randomForest('data/fixed_income/IGIB_2020-04-07_2022-04-06.parquet')\n",
    "history , data = eval.simulation(RFdata)\n",
    "stats1, stats2 = eval.evaluate_Stats(history)\n",
    "print(\"Before Transcation costs: \", stats1)\n",
    "print(\"After Transcation costs: \",stats2)"
   ]
  },
  {
   "cell_type": "code",
   "execution_count": null,
   "metadata": {},
   "outputs": [],
   "source": [
    "GBdata = eval.gradientBoosting('data/fixed_income/IGIB_2020-04-07_2022-04-06.parquet')\n",
    "history , data = eval.simulation(GBdata)\n",
    "stats1, stats2 = eval.evaluate_Stats(history)\n",
    "print(\"Before Transcation costs: \", stats1)\n",
    "print(\"After Transcation costs: \",stats2)"
   ]
  }
 ],
 "metadata": {
  "kernelspec": {
   "display_name": "Python 3 (ipykernel)",
   "language": "python",
   "name": "python3"
  },
  "language_info": {
   "codemirror_mode": {
    "name": "ipython",
    "version": 3
   },
   "file_extension": ".py",
   "mimetype": "text/x-python",
   "name": "python",
   "nbconvert_exporter": "python",
   "pygments_lexer": "ipython3",
   "version": "3.10.9"
  }
 },
 "nbformat": 4,
 "nbformat_minor": 4
}
