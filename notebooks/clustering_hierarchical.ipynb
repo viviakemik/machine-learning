{
 "cells": [
  {
   "cell_type": "markdown",
   "source": [
    "#0 Imports"
   ],
   "metadata": {
    "collapsed": false
   },
   "id": "68268686311c0e87"
  },
  {
   "cell_type": "code",
   "execution_count": 78,
   "outputs": [
    {
     "data": {
      "text/plain": "<module 'src.finance_ml.clustering.Hierarchical' from 'C:\\\\Users\\\\mishr\\\\Desktop\\\\Projects\\\\ML-in-Finance\\\\src\\\\finance_ml\\\\clustering\\\\Hierarchical.py'>"
     },
     "execution_count": 78,
     "metadata": {},
     "output_type": "execute_result"
    }
   ],
   "source": [
    "# Imports\n",
    "import sys\n",
    "import importlib\n",
    "\n",
    "import src.finance_ml.clustering.Hierarchical\n",
    "\n",
    "sys.path.append('../')\n",
    "\n",
    "from src.finance_ml.data_preparation.data_preparation import DataLoader\n",
    "from src.finance_ml.data_preparation.asset_class import Asset\n",
    "from src.finance_ml.data_preparation.portfolio_class import Portfolio\n",
    "from src.finance_ml.clustering.Hierarchical import Hierarchical\n",
    "\n",
    "\n",
    "import importlib # importlib is a module from the standard library\n",
    "importlib.reload(src.finance_ml.clustering.Hierarchical)"
   ],
   "metadata": {
    "collapsed": false,
    "ExecuteTime": {
     "end_time": "2023-12-20T17:07:26.896753Z",
     "start_time": "2023-12-20T17:07:26.875213100Z"
    }
   },
   "id": "516d126388ed4dd6"
  },
  {
   "cell_type": "markdown",
   "source": [
    "#1 Reading all the assets for processing and create Dataloader"
   ],
   "metadata": {
    "collapsed": false
   },
   "id": "732987cc0a676c16"
  },
  {
   "cell_type": "code",
   "execution_count": 35,
   "outputs": [
    {
     "name": "stdout",
     "output_type": "stream",
     "text": [
      "List of all the file under the different types of stock folder\n",
      "{'commodities': ['GLD_2020-04-07_2022-04-06.parquet', 'PDBC_2020-04-07_2022-04-06.parquet', 'SLV_2020-04-07_2022-04-06.parquet'], 'cryptos': ['BTCUSD_2020-04-07_2022-04-06.parquet', 'DOGEUSD_2020-04-07_2022-04-06.parquet', 'ETHUSD_2020-04-07_2022-04-06.parquet'], 'equities': ['AAPL_2020-04-07_2022-04-06.parquet', 'FB_2020-04-07_2022-04-06.parquet', 'TSLA_2020-04-07_2022-04-06.parquet'], 'fixed_income': ['IGIB_2020-04-07_2022-04-06.parquet', 'USIG_2020-04-07_2022-04-06.parquet', 'VCIT_2020-04-07_2022-04-06.parquet'], 'FX': ['RUBEUR_2020-04-07_2022-04-06.parquet', 'USDBRL_2020-04-07_2022-04-06.parquet', 'USDEUR_2020-04-07_2022-04-06.parquet'], 'indices': ['IWM_2020-04-07_2022-04-06.parquet', 'QQQ_2020-04-07_2022-04-06.parquet', 'RNRG_2020-04-07_2022-04-06.parquet', 'SPY_2020-04-07_2022-04-06.parquet'], 'real_estate': ['KBWY_2020-04-07_2022-04-06.parquet', 'SRET_2020-04-07_2022-04-06.parquet', 'VNQI_2020-04-07_2022-04-06.parquet']}\n",
      "\n",
      "\n",
      " Dictionary created as required by the dataloader class\n",
      "{'GLD': '../data/commodities/GLD_2020-04-07_2022-04-06.parquet', 'PDBC': '../data/commodities/PDBC_2020-04-07_2022-04-06.parquet', 'SLV': '../data/commodities/SLV_2020-04-07_2022-04-06.parquet', 'BTCUSD': '../data/cryptos/BTCUSD_2020-04-07_2022-04-06.parquet', 'DOGEUSD': '../data/cryptos/DOGEUSD_2020-04-07_2022-04-06.parquet', 'ETHUSD': '../data/cryptos/ETHUSD_2020-04-07_2022-04-06.parquet', 'AAPL': '../data/equities/AAPL_2020-04-07_2022-04-06.parquet', 'FB': '../data/equities/FB_2020-04-07_2022-04-06.parquet', 'TSLA': '../data/equities/TSLA_2020-04-07_2022-04-06.parquet', 'IGIB': '../data/fixed_income/IGIB_2020-04-07_2022-04-06.parquet', 'USIG': '../data/fixed_income/USIG_2020-04-07_2022-04-06.parquet', 'VCIT': '../data/fixed_income/VCIT_2020-04-07_2022-04-06.parquet', 'RUBEUR': '../data/FX/RUBEUR_2020-04-07_2022-04-06.parquet', 'USDBRL': '../data/FX/USDBRL_2020-04-07_2022-04-06.parquet', 'USDEUR': '../data/FX/USDEUR_2020-04-07_2022-04-06.parquet', 'IWM': '../data/indices/IWM_2020-04-07_2022-04-06.parquet', 'QQQ': '../data/indices/QQQ_2020-04-07_2022-04-06.parquet', 'RNRG': '../data/indices/RNRG_2020-04-07_2022-04-06.parquet', 'SPY': '../data/indices/SPY_2020-04-07_2022-04-06.parquet', 'KBWY': '../data/real_estate/KBWY_2020-04-07_2022-04-06.parquet', 'SRET': '../data/real_estate/SRET_2020-04-07_2022-04-06.parquet', 'VNQI': '../data/real_estate/VNQI_2020-04-07_2022-04-06.parquet'}\n"
     ]
    }
   ],
   "source": [
    "import os\n",
    "\n",
    "def list_files_and_folders_with_subdirectories(directory):\n",
    "    \"\"\"\n",
    "    List all files and folders in the specified directory and its immediate subdirectories.\n",
    "\n",
    "    Args:\n",
    "    directory (str): The path of the directory to list contents of.\n",
    "\n",
    "    Returns:\n",
    "    dict: Dictionary with each item in the directory as keys and their contents (if any) as values.\n",
    "    \"\"\"\n",
    "    contents = {}\n",
    "    try:\n",
    "        # Iterate over all items in the directory\n",
    "        for item in os.listdir(directory):\n",
    "            item_path = os.path.join(directory, item)\n",
    "\n",
    "            # Check if the item is a directory\n",
    "            if os.path.isdir(item_path):\n",
    "                # List contents of the subdirectory\n",
    "                contents[item] = os.listdir(item_path)\n",
    "            else:\n",
    "                # If it's a file, just list the file\n",
    "                contents[item] = None\n",
    "    except FileNotFoundError:\n",
    "        return f\"No such directory: {directory}\"\n",
    "    except PermissionError:\n",
    "        return f\"Permission denied to access: {directory}\"\n",
    "    except Exception as e:\n",
    "        return f\"An error occurred: {e}\"\n",
    "\n",
    "    return contents\n",
    "\n",
    "# Replace 'your_directory_path' with the path of your directory\n",
    "directory_path = \"../data\"\n",
    "directory_file_dictionary = list_files_and_folders_with_subdirectories(directory_path)\n",
    "print('List of all the file under the different types of stock folder')\n",
    "print(directory_file_dictionary)\n",
    "\n",
    "directory_file_dictionary.keys()\n",
    "dataloader_path_dictionary: dict = {}\n",
    "for folder in directory_file_dictionary.keys():\n",
    "    for filename in directory_file_dictionary[folder]:\n",
    "        stock_name = filename.split('_')[0]\n",
    "        dataloader_path_dictionary[stock_name]= '{base}/{folder}/{filename}'.format(base=directory_path,folder=folder,filename=filename)\n",
    "print('\\n\\n Dictionary created as required by the dataloader class')\n",
    "print(dataloader_path_dictionary)\n",
    "\n",
    "# multiples columns can be read. But for the hierarchical clustering we can restrict ourselves with just open column to demonstrate\n",
    "# dataloader = DataLoader(time_index_col= 'DATE', keep_cols = ['VOLUME','OPEN', 'CLOSE', 'LOW', 'TRANSACTIONS'])\n",
    "dataloader = DataLoader(time_index_col= 'DATE', keep_cols = ['OPEN'])\n",
    "\n",
    "dataset = dataloader.load_dataset(dataloader_path_dictionary)"
   ],
   "metadata": {
    "collapsed": false,
    "ExecuteTime": {
     "end_time": "2023-12-20T15:59:18.496342900Z",
     "start_time": "2023-12-20T15:59:03.819742600Z"
    }
   },
   "id": "940e9b3b82c08fa9"
  },
  {
   "cell_type": "markdown",
   "source": [
    "#2 Create Hierarchical class object"
   ],
   "metadata": {
    "collapsed": false
   },
   "id": "727b6c8fbfe6038e"
  },
  {
   "cell_type": "code",
   "execution_count": 79,
   "outputs": [],
   "source": [
    "# Creating the hierarchical object with a copy of original dataset \n",
    "df = dataset.copy()\n",
    "labels = list(dataloader_path_dictionary.keys())\n",
    "hierarchical = Hierarchical(df,labels,24)\n"
   ],
   "metadata": {
    "collapsed": false,
    "ExecuteTime": {
     "end_time": "2023-12-20T17:07:33.090884300Z",
     "start_time": "2023-12-20T17:07:32.617274Z"
    }
   },
   "id": "c843b47e877a7ed8"
  },
  {
   "cell_type": "markdown",
   "source": [
    "#3 Create pipeline"
   ],
   "metadata": {
    "collapsed": false
   },
   "id": "c0ae5b6bb2fa038f"
  },
  {
   "cell_type": "code",
   "execution_count": 80,
   "outputs": [
    {
     "ename": "TypeError",
     "evalue": "preprocessing() got an unexpected keyword argument 'fillna_method'",
     "output_type": "error",
     "traceback": [
      "\u001B[1;31m---------------------------------------------------------------------------\u001B[0m",
      "\u001B[1;31mTypeError\u001B[0m                                 Traceback (most recent call last)",
      "\u001B[1;32m~\\AppData\\Local\\Temp\\ipykernel_20884\\2503130963.py\u001B[0m in \u001B[0;36m<module>\u001B[1;34m\u001B[0m\n\u001B[0;32m      1\u001B[0m \u001B[1;31m# preprocessing can be skipped if user wish to apply their own\u001B[0m\u001B[1;33m\u001B[0m\u001B[1;33m\u001B[0m\u001B[1;33m\u001B[0m\u001B[0m\n\u001B[1;32m----> 2\u001B[1;33m \u001B[0mhierarchical\u001B[0m\u001B[1;33m.\u001B[0m\u001B[0mpreprocessing\u001B[0m\u001B[1;33m(\u001B[0m\u001B[0mfillna_method\u001B[0m\u001B[1;33m=\u001B[0m\u001B[1;34m'dropna'\u001B[0m\u001B[1;33m)\u001B[0m\u001B[1;33m\u001B[0m\u001B[1;33m\u001B[0m\u001B[0m\n\u001B[0m\u001B[0;32m      3\u001B[0m \u001B[1;31m# find_linkage can be provided with different values per stock as dataframe\u001B[0m\u001B[1;33m\u001B[0m\u001B[1;33m\u001B[0m\u001B[1;33m\u001B[0m\u001B[0m\n\u001B[0;32m      4\u001B[0m \u001B[0mhierarchical\u001B[0m\u001B[1;33m.\u001B[0m\u001B[0mfind_linkage\u001B[0m\u001B[1;33m(\u001B[0m\u001B[0mhierarchical\u001B[0m\u001B[1;33m.\u001B[0m\u001B[0mreturns_df\u001B[0m\u001B[1;33m)\u001B[0m\u001B[1;33m\u001B[0m\u001B[1;33m\u001B[0m\u001B[0m\n",
      "\u001B[1;31mTypeError\u001B[0m: preprocessing() got an unexpected keyword argument 'fillna_method'"
     ]
    }
   ],
   "source": [
    "# preprocessing can be skipped if user wish to apply their own\n",
    "hierarchical.preprocessing(fillna_method='dropna')\n",
    "# find_linkage can be provided with different values per stock as dataframe\n",
    "hierarchical.find_linkage(hierarchical.returns_df)"
   ],
   "metadata": {
    "collapsed": false,
    "ExecuteTime": {
     "end_time": "2023-12-20T17:07:34.266757100Z",
     "start_time": "2023-12-20T17:07:34.208810600Z"
    }
   },
   "id": "8660dcaf04e1a120"
  },
  {
   "cell_type": "markdown",
   "source": [
    "Visualize"
   ],
   "metadata": {
    "collapsed": false
   },
   "id": "99b2a8cdf886bed"
  },
  {
   "cell_type": "code",
   "execution_count": 81,
   "outputs": [
    {
     "ename": "AttributeError",
     "evalue": "'NoneType' object has no attribute 'copy'",
     "output_type": "error",
     "traceback": [
      "\u001B[1;31m---------------------------------------------------------------------------\u001B[0m",
      "\u001B[1;31mAttributeError\u001B[0m                            Traceback (most recent call last)",
      "\u001B[1;32m~\\AppData\\Local\\Temp\\ipykernel_20884\\4074628251.py\u001B[0m in \u001B[0;36m<module>\u001B[1;34m\u001B[0m\n\u001B[1;32m----> 1\u001B[1;33m \u001B[0mhierarchical\u001B[0m\u001B[1;33m.\u001B[0m\u001B[0mplot_stocks_timeline\u001B[0m\u001B[1;33m(\u001B[0m\u001B[0mhierarchical\u001B[0m\u001B[1;33m.\u001B[0m\u001B[0mreturns_df\u001B[0m\u001B[1;33m,\u001B[0m\u001B[0my_label\u001B[0m\u001B[1;33m=\u001B[0m\u001B[1;34m'Returns'\u001B[0m\u001B[1;33m)\u001B[0m\u001B[1;33m\u001B[0m\u001B[1;33m\u001B[0m\u001B[0m\n\u001B[0m\u001B[0;32m      2\u001B[0m \u001B[0mhierarchical\u001B[0m\u001B[1;33m.\u001B[0m\u001B[0mplot_stocks_risk_bar_plot\u001B[0m\u001B[1;33m(\u001B[0m\u001B[1;33m)\u001B[0m\u001B[1;33m\u001B[0m\u001B[1;33m\u001B[0m\u001B[0m\n\u001B[0;32m      3\u001B[0m \u001B[0mhierarchical\u001B[0m\u001B[1;33m.\u001B[0m\u001B[0mplot_stocks_risk_vs_return_plot\u001B[0m\u001B[1;33m(\u001B[0m\u001B[1;33m)\u001B[0m\u001B[1;33m\u001B[0m\u001B[1;33m\u001B[0m\u001B[0m\n\u001B[0;32m      4\u001B[0m \u001B[0mhierarchical\u001B[0m\u001B[1;33m.\u001B[0m\u001B[0mplot_stocks_sherpe_ratio\u001B[0m\u001B[1;33m(\u001B[0m\u001B[1;33m)\u001B[0m\u001B[1;33m\u001B[0m\u001B[1;33m\u001B[0m\u001B[0m\n",
      "\u001B[1;32m~\\Desktop\\Projects\\ML-in-Finance\\src\\finance_ml\\clustering\\Hierarchical.py\u001B[0m in \u001B[0;36mplot_stocks_timeline\u001B[1;34m(self, dataset, y_label, show_legends)\u001B[0m\n\u001B[0;32m    113\u001B[0m         \u001B[0mArgs\u001B[0m\u001B[1;33m:\u001B[0m\u001B[1;33m\u001B[0m\u001B[1;33m\u001B[0m\u001B[0m\n\u001B[0;32m    114\u001B[0m         \u001B[1;33m-\u001B[0m\u001B[1;33m-\u001B[0m\u001B[1;33m-\u001B[0m\u001B[1;33m-\u001B[0m\u001B[1;33m-\u001B[0m\u001B[1;33m\u001B[0m\u001B[1;33m\u001B[0m\u001B[0m\n\u001B[1;32m--> 115\u001B[1;33m         \u001B[0mdataset\u001B[0m \u001B[1;33m:\u001B[0m \u001B[0mpandas\u001B[0m\u001B[1;33m.\u001B[0m\u001B[0mDataFrame\u001B[0m\u001B[1;33m\u001B[0m\u001B[1;33m\u001B[0m\u001B[0m\n\u001B[0m\u001B[0;32m    116\u001B[0m             \u001B[0mThe\u001B[0m \u001B[0mdataset\u001B[0m \u001B[0mto\u001B[0m \u001B[0mbe\u001B[0m \u001B[0mstandardized\u001B[0m\u001B[1;33m.\u001B[0m\u001B[1;33m\u001B[0m\u001B[1;33m\u001B[0m\u001B[0m\n\u001B[0;32m    117\u001B[0m \u001B[1;33m\u001B[0m\u001B[0m\n",
      "\u001B[1;31mAttributeError\u001B[0m: 'NoneType' object has no attribute 'copy'"
     ]
    }
   ],
   "source": [
    "hierarchical.plot_stocks_timeline(hierarchical.returns_df,y_label='Returns')\n",
    "hierarchical.plot_stocks_risk_bar_plot()\n",
    "hierarchical.plot_stocks_risk_vs_return_plot()\n",
    "hierarchical.plot_stocks_sherpe_ratio()"
   ],
   "metadata": {
    "collapsed": false,
    "ExecuteTime": {
     "end_time": "2023-12-20T17:07:44.600445300Z",
     "start_time": "2023-12-20T17:07:44.548716Z"
    }
   },
   "id": "2016424702710664"
  },
  {
   "cell_type": "code",
   "execution_count": 62,
   "outputs": [],
   "source": [],
   "metadata": {
    "collapsed": false,
    "ExecuteTime": {
     "end_time": "2023-12-20T16:10:04.995919900Z",
     "start_time": "2023-12-20T16:10:04.972918500Z"
    }
   },
   "id": "d5ac7b86ea15239"
  }
 ],
 "metadata": {
  "kernelspec": {
   "display_name": "Python 3",
   "language": "python",
   "name": "python3"
  },
  "language_info": {
   "codemirror_mode": {
    "name": "ipython",
    "version": 2
   },
   "file_extension": ".py",
   "mimetype": "text/x-python",
   "name": "python",
   "nbconvert_exporter": "python",
   "pygments_lexer": "ipython2",
   "version": "2.7.6"
  }
 },
 "nbformat": 4,
 "nbformat_minor": 5
}
