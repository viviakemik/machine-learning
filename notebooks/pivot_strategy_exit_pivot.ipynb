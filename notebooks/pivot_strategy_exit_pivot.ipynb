{
 "cells": [
  {
   "cell_type": "code",
   "execution_count": 1,
   "id": "initial_id",
   "metadata": {
    "ExecuteTime": {
     "end_time": "2023-12-05T19:14:40.197190500Z",
     "start_time": "2023-12-05T19:14:40.140891900Z"
    }
   },
   "outputs": [],
   "source": [
    "import sys\n",
    "sys.path.append('../')\n",
    "\n",
    "from src.finance_ml.data_preparation.data_preparation import DataLoader\n",
    "from src.finance_ml.trading_strategy.pivot_strategy import *\n",
    "from src.finance_ml.indicators.indicators import Indicators"
   ]
  },
  {
   "cell_type": "markdown",
   "id": "2e3a4e4f",
   "metadata": {},
   "source": [
    "## Load Data"
   ]
  },
  {
   "cell_type": "code",
   "execution_count": 2,
   "id": "b60e9e48215bde28",
   "metadata": {
    "ExecuteTime": {
     "end_time": "2023-12-05T19:14:40.844152300Z",
     "start_time": "2023-12-05T19:14:40.372231600Z"
    }
   },
   "outputs": [],
   "source": [
    "file_time = '1h'\n",
    "dataloader = DataLoader(time_index_col= 'DATE', \n",
    "                    keep_cols = ['VOLUME','OPEN', 'CLOSE', 'LOW', 'TRANSACTIONS','HIGHT'])\n",
    "ticker_name = 'BTCUSD'\n",
    "data = dataloader.load_dataset({ticker_name:'../data/cryptos/BTCUSD_2020-04-07_2022-04-06.parquet'})\n"
   ]
  },
  {
   "cell_type": "markdown",
   "id": "99c209e2",
   "metadata": {},
   "source": [
    "## Resample OHLC Data into different timeframe"
   ]
  },
  {
   "cell_type": "code",
   "execution_count": 3,
   "id": "5ad56beb98350483",
   "metadata": {},
   "outputs": [
    {
     "name": "stderr",
     "output_type": "stream",
     "text": [
      "D:\\FAU\\Ml in finance_ex\\github_repo\\notebooks\\..\\src\\finance_ml\\trading_strategy\\pivot_strategy.py:85: PerformanceWarning: Non-vectorized DateOffset being applied to Series or DatetimeIndex.\n",
      "  resampled_data.index = resampled_data.index + pd.DateOffset(weekday=0)\n"
     ]
    }
   ],
   "source": [
    "open_col = f'{ticker_name}_OPEN'\n",
    "high_col = f'{ticker_name}_HIGHT'\n",
    "low_col = f'{ticker_name}_LOW'\n",
    "close_col = f'{ticker_name}_CLOSE'\n",
    "\n",
    "resampled_data_5min = resample_ohlc(data,[open_col, high_col, low_col, close_col],'5min')\n",
    "resampled_data_15min = resample_ohlc(data,[open_col, high_col, low_col, close_col],'15min')\n",
    "resampled_data_30min = resample_ohlc(data,[open_col, high_col, low_col, close_col],'30min')\n",
    "resampled_data_1hr = resample_ohlc(data,[open_col, high_col, low_col, close_col],'1h')\n",
    "resampled_data_1d = resample_ohlc(data,[open_col, high_col, low_col, close_col],'1d')\n",
    "resampled_data_1wk = resample_ohlc(data,[open_col, high_col, low_col, close_col],'1W')"
   ]
  },
  {
   "cell_type": "markdown",
   "id": "2fc91c52",
   "metadata": {},
   "source": [
    "## Calculating Pivot Points"
   ]
  },
  {
   "cell_type": "code",
   "execution_count": 4,
   "id": "e7141eb3",
   "metadata": {},
   "outputs": [],
   "source": [
    "woodie_pivot_1d = woodie_pivot(resampled_data_1d,high_col,low_col,close_col)\n",
    "woodie_pivot_1wk = woodie_pivot(resampled_data_1wk,high_col,low_col,close_col)"
   ]
  },
  {
   "cell_type": "code",
   "execution_count": 5,
   "id": "8164302f",
   "metadata": {},
   "outputs": [
    {
     "data": {
      "text/html": [
       "<div>\n",
       "<style scoped>\n",
       "    .dataframe tbody tr th:only-of-type {\n",
       "        vertical-align: middle;\n",
       "    }\n",
       "\n",
       "    .dataframe tbody tr th {\n",
       "        vertical-align: top;\n",
       "    }\n",
       "\n",
       "    .dataframe thead th {\n",
       "        text-align: right;\n",
       "    }\n",
       "</style>\n",
       "<table border=\"1\" class=\"dataframe\">\n",
       "  <thead>\n",
       "    <tr style=\"text-align: right;\">\n",
       "      <th></th>\n",
       "      <th>DATE</th>\n",
       "      <th>Pivot</th>\n",
       "      <th>S1</th>\n",
       "      <th>S2</th>\n",
       "      <th>S3</th>\n",
       "      <th>R1</th>\n",
       "      <th>R2</th>\n",
       "      <th>R3</th>\n",
       "    </tr>\n",
       "  </thead>\n",
       "  <tbody>\n",
       "    <tr>\n",
       "      <th>1</th>\n",
       "      <td>2020-04-08</td>\n",
       "      <td>7325.911228</td>\n",
       "      <td>7047.930000</td>\n",
       "      <td>6911.265000</td>\n",
       "      <td>6749.530000</td>\n",
       "      <td>7346.330000</td>\n",
       "      <td>7508.065000</td>\n",
       "      <td>7644.730000</td>\n",
       "    </tr>\n",
       "    <tr>\n",
       "      <th>2</th>\n",
       "      <td>2020-04-09</td>\n",
       "      <td>7264.550000</td>\n",
       "      <td>7221.822456</td>\n",
       "      <td>7047.556140</td>\n",
       "      <td>6943.467368</td>\n",
       "      <td>7500.177544</td>\n",
       "      <td>7604.266316</td>\n",
       "      <td>7778.532632</td>\n",
       "    </tr>\n",
       "    <tr>\n",
       "      <th>3</th>\n",
       "      <td>2020-04-10</td>\n",
       "      <td>6948.672500</td>\n",
       "      <td>7151.000000</td>\n",
       "      <td>6978.350000</td>\n",
       "      <td>6864.800000</td>\n",
       "      <td>7437.200000</td>\n",
       "      <td>7550.750000</td>\n",
       "      <td>7723.400000</td>\n",
       "    </tr>\n",
       "    <tr>\n",
       "      <th>4</th>\n",
       "      <td>2020-04-11</td>\n",
       "      <td>6874.980000</td>\n",
       "      <td>6591.245000</td>\n",
       "      <td>6383.562500</td>\n",
       "      <td>6026.135000</td>\n",
       "      <td>7156.355000</td>\n",
       "      <td>7513.782500</td>\n",
       "      <td>7721.465000</td>\n",
       "    </tr>\n",
       "    <tr>\n",
       "      <th>5</th>\n",
       "      <td>2020-04-12</td>\n",
       "      <td>6958.122500</td>\n",
       "      <td>6789.960000</td>\n",
       "      <td>6675.700000</td>\n",
       "      <td>6590.680000</td>\n",
       "      <td>6989.240000</td>\n",
       "      <td>7074.260000</td>\n",
       "      <td>7188.520000</td>\n",
       "    </tr>\n",
       "    <tr>\n",
       "      <th>...</th>\n",
       "      <td>...</td>\n",
       "      <td>...</td>\n",
       "      <td>...</td>\n",
       "      <td>...</td>\n",
       "      <td>...</td>\n",
       "      <td>...</td>\n",
       "      <td>...</td>\n",
       "      <td>...</td>\n",
       "    </tr>\n",
       "    <tr>\n",
       "      <th>725</th>\n",
       "      <td>2022-04-02</td>\n",
       "      <td>46132.135000</td>\n",
       "      <td>45042.417375</td>\n",
       "      <td>43383.716062</td>\n",
       "      <td>42534.572125</td>\n",
       "      <td>47550.262625</td>\n",
       "      <td>48399.406563</td>\n",
       "      <td>50058.107875</td>\n",
       "    </tr>\n",
       "    <tr>\n",
       "      <th>726</th>\n",
       "      <td>2022-04-03</td>\n",
       "      <td>46487.330000</td>\n",
       "      <td>45024.270000</td>\n",
       "      <td>44528.135000</td>\n",
       "      <td>43420.270000</td>\n",
       "      <td>46628.270000</td>\n",
       "      <td>47736.135000</td>\n",
       "      <td>48232.270000</td>\n",
       "    </tr>\n",
       "    <tr>\n",
       "      <th>727</th>\n",
       "      <td>2022-04-04</td>\n",
       "      <td>46301.165000</td>\n",
       "      <td>45374.660000</td>\n",
       "      <td>44392.330000</td>\n",
       "      <td>43279.660000</td>\n",
       "      <td>47469.660000</td>\n",
       "      <td>48582.330000</td>\n",
       "      <td>49564.660000</td>\n",
       "    </tr>\n",
       "    <tr>\n",
       "      <th>728</th>\n",
       "      <td>2022-04-05</td>\n",
       "      <td>45883.477500</td>\n",
       "      <td>45702.330000</td>\n",
       "      <td>44512.165000</td>\n",
       "      <td>43913.330000</td>\n",
       "      <td>47491.330000</td>\n",
       "      <td>48090.165000</td>\n",
       "      <td>49280.330000</td>\n",
       "    </tr>\n",
       "    <tr>\n",
       "      <th>729</th>\n",
       "      <td>2022-04-06</td>\n",
       "      <td>43745.872500</td>\n",
       "      <td>44565.955000</td>\n",
       "      <td>44024.807500</td>\n",
       "      <td>42707.285000</td>\n",
       "      <td>46424.625000</td>\n",
       "      <td>47742.147500</td>\n",
       "      <td>48283.295000</td>\n",
       "    </tr>\n",
       "  </tbody>\n",
       "</table>\n",
       "<p>728 rows × 8 columns</p>\n",
       "</div>"
      ],
      "text/plain": [
       "          DATE         Pivot            S1            S2            S3  \\\n",
       "1   2020-04-08   7325.911228   7047.930000   6911.265000   6749.530000   \n",
       "2   2020-04-09   7264.550000   7221.822456   7047.556140   6943.467368   \n",
       "3   2020-04-10   6948.672500   7151.000000   6978.350000   6864.800000   \n",
       "4   2020-04-11   6874.980000   6591.245000   6383.562500   6026.135000   \n",
       "5   2020-04-12   6958.122500   6789.960000   6675.700000   6590.680000   \n",
       "..         ...           ...           ...           ...           ...   \n",
       "725 2022-04-02  46132.135000  45042.417375  43383.716062  42534.572125   \n",
       "726 2022-04-03  46487.330000  45024.270000  44528.135000  43420.270000   \n",
       "727 2022-04-04  46301.165000  45374.660000  44392.330000  43279.660000   \n",
       "728 2022-04-05  45883.477500  45702.330000  44512.165000  43913.330000   \n",
       "729 2022-04-06  43745.872500  44565.955000  44024.807500  42707.285000   \n",
       "\n",
       "               R1            R2            R3  \n",
       "1     7346.330000   7508.065000   7644.730000  \n",
       "2     7500.177544   7604.266316   7778.532632  \n",
       "3     7437.200000   7550.750000   7723.400000  \n",
       "4     7156.355000   7513.782500   7721.465000  \n",
       "5     6989.240000   7074.260000   7188.520000  \n",
       "..            ...           ...           ...  \n",
       "725  47550.262625  48399.406563  50058.107875  \n",
       "726  46628.270000  47736.135000  48232.270000  \n",
       "727  47469.660000  48582.330000  49564.660000  \n",
       "728  47491.330000  48090.165000  49280.330000  \n",
       "729  46424.625000  47742.147500  48283.295000  \n",
       "\n",
       "[728 rows x 8 columns]"
      ]
     },
     "execution_count": 5,
     "metadata": {},
     "output_type": "execute_result"
    }
   ],
   "source": [
    "woodie_pivot_1d"
   ]
  },
  {
   "cell_type": "markdown",
   "id": "9a51ac4e",
   "metadata": {},
   "source": [
    "## Merging Ohlc with Pivot data"
   ]
  },
  {
   "cell_type": "code",
   "execution_count": 6,
   "id": "0b4a1080",
   "metadata": {},
   "outputs": [],
   "source": [
    "mereged_data = merge_ohlc_pivot(resampled_data_1hr,woodie_pivot_1d)"
   ]
  },
  {
   "cell_type": "markdown",
   "id": "c6304ea1",
   "metadata": {},
   "source": [
    "### Generating Buy Signals"
   ]
  },
  {
   "cell_type": "code",
   "execution_count": 7,
   "id": "bcfe19d7",
   "metadata": {},
   "outputs": [],
   "source": [
    "traded_buy = generate_buy_pivot_exit(mereged_data,close_col,open_col)"
   ]
  },
  {
   "cell_type": "markdown",
   "id": "9cba8e98",
   "metadata": {},
   "source": [
    "### Generating Sell Signal"
   ]
  },
  {
   "cell_type": "code",
   "execution_count": 8,
   "id": "4f52c54f",
   "metadata": {},
   "outputs": [],
   "source": [
    "traded_sell = generate_sell_pivot_exit(mereged_data,close_col,open_col)"
   ]
  },
  {
   "cell_type": "markdown",
   "id": "6765c662",
   "metadata": {},
   "source": [
    "### Calculating Profit and Loss"
   ]
  },
  {
   "cell_type": "code",
   "execution_count": 9,
   "id": "90487bc8",
   "metadata": {},
   "outputs": [],
   "source": [
    "pnl_buy = get_pnl(traded_buy,close_col)"
   ]
  },
  {
   "cell_type": "code",
   "execution_count": 10,
   "id": "57b70e68",
   "metadata": {},
   "outputs": [],
   "source": [
    "pnl_sell = get_pnl(traded_sell,close_col)"
   ]
  },
  {
   "cell_type": "code",
   "execution_count": 11,
   "id": "d84bfbd5",
   "metadata": {},
   "outputs": [],
   "source": [
    "traded_buy.to_excel(f'woodie_pivot_buy_{file_time}.xlsx', index=False)"
   ]
  },
  {
   "cell_type": "code",
   "execution_count": 12,
   "id": "a89e3d18",
   "metadata": {},
   "outputs": [],
   "source": [
    "traded_sell.to_excel(f'woodie_pivot_sell_{file_time}.xlsx', index=False)"
   ]
  },
  {
   "cell_type": "code",
   "execution_count": 13,
   "id": "5f75d9bf",
   "metadata": {},
   "outputs": [],
   "source": [
    "m1 = pd.concat([traded_buy,traded_sell], axis=0)"
   ]
  },
  {
   "cell_type": "code",
   "execution_count": 14,
   "id": "6688122c",
   "metadata": {},
   "outputs": [],
   "source": [
    "m1.to_excel(f'./All_trades/woodie_merge_{file_time}.xlsx')"
   ]
  },
  {
   "cell_type": "code",
   "execution_count": 15,
   "id": "06377671",
   "metadata": {},
   "outputs": [],
   "source": [
    "m1 = m1.dropna(subset=['PNL'])"
   ]
  },
  {
   "cell_type": "code",
   "execution_count": 16,
   "id": "26d02e0d",
   "metadata": {},
   "outputs": [],
   "source": [
    "m1.to_excel(f'./report/woodie_merge_{file_time}.xlsx')"
   ]
  }
 ],
 "metadata": {
  "kernelspec": {
   "display_name": "Python 3 (ipykernel)",
   "language": "python",
   "name": "python3"
  },
  "language_info": {
   "codemirror_mode": {
    "name": "ipython",
    "version": 3
   },
   "file_extension": ".py",
   "mimetype": "text/x-python",
   "name": "python",
   "nbconvert_exporter": "python",
   "pygments_lexer": "ipython3",
   "version": "3.11.4"
  }
 },
 "nbformat": 4,
 "nbformat_minor": 5
}
