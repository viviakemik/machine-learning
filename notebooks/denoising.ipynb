{
 "cells": [
  {
   "cell_type": "markdown",
   "id": "748df61a",
   "metadata": {},
   "source": [
    "$\\textbf{*** This version uses the }\\texttt{Dataloader, Asset, Portfolio}\\textbf{ classes to load data}$"
   ]
  },
  {
   "cell_type": "code",
   "execution_count": 1,
   "id": "3a538614",
   "metadata": {},
   "outputs": [],
   "source": [
    "import sys\n",
    "import importlib\n",
    "sys.path.append('../')\n",
    "\n",
    "from IPython.display import display, Math, Latex\n",
    "\n",
    "# From data_preparation classes\n",
    "from src.finance_ml.data_preparation.data_preparation import DataLoader\n",
    "\n",
    "from src.finance_ml.denoising.denoising_v1 import Denoising\n",
    "from src.finance_ml.volatility.volatility import Volatility"
   ]
  },
  {
   "cell_type": "code",
   "execution_count": 2,
   "id": "b165e28b",
   "metadata": {},
   "outputs": [],
   "source": [
    "%load_ext autoreload\n",
    "%autoreload 2\n",
    "\n",
    "from src.finance_ml.indicators.indicators_v1 import Indicators"
   ]
  },
  {
   "cell_type": "code",
   "execution_count": 3,
   "id": "c016e88a",
   "metadata": {
    "scrolled": true
   },
   "outputs": [],
   "source": [
    "# Import required packages\n",
    "import pandas as pd\n",
    "import numpy as np\n",
    "\n",
    "import matplotlib.pyplot as plt\n",
    "import seaborn as sns\n",
    "\n",
    "import math"
   ]
  },
  {
   "cell_type": "markdown",
   "id": "dda17b5f",
   "metadata": {},
   "source": [
    "## Reading the Data File"
   ]
  },
  {
   "cell_type": "code",
   "execution_count": 4,
   "id": "3894b0a2",
   "metadata": {},
   "outputs": [],
   "source": [
    "# Defining time_index_col (must be the same column in all inputs) and keep_cols refering to the columns that will remain in the dataset\n",
    "dataloader = DataLoader(time_index_col= 'DATE', \n",
    "                    keep_cols = ['VOLUME','OPEN', 'HIGHT', 'LOW', 'CLOSE', 'VW','TRANSACTIONS'])"
   ]
  },
  {
   "cell_type": "markdown",
   "id": "7e252d2c",
   "metadata": {},
   "source": [
    "Here we will select $N=10,000$ ticks from our database for simplicity. We also select the equity $\\textbf{AAPL}-Apple$ from  the data available."
   ]
  },
  {
   "cell_type": "code",
   "execution_count": 5,
   "id": "69ed8a17",
   "metadata": {},
   "outputs": [],
   "source": [
    "# Example Files\n",
    "fname_RUBEUR = 'FX/RUBEUR_2020-04-07_2022-04-06.parquet'\n",
    "fname_USDBRL = 'FX/USDBRL_2020-04-07_2022-04-06.parquet'\n",
    "fname_AAPL = 'equities/AAPL_2020-04-07_2022-04-06.parquet'\n",
    "\n",
    "# No. of Records from example dataset\n",
    "N = 10000"
   ]
  },
  {
   "cell_type": "code",
   "execution_count": 6,
   "id": "7bfab5c2",
   "metadata": {},
   "outputs": [],
   "source": [
    "# Dataset chosen in this simulation\n",
    "ticker = 'AAPL'\n",
    "fname = fname_AAPL"
   ]
  },
  {
   "cell_type": "code",
   "execution_count": 7,
   "id": "c04a64dd",
   "metadata": {},
   "outputs": [
    {
     "data": {
      "text/html": [
       "<div>\n",
       "<style scoped>\n",
       "    .dataframe tbody tr th:only-of-type {\n",
       "        vertical-align: middle;\n",
       "    }\n",
       "\n",
       "    .dataframe tbody tr th {\n",
       "        vertical-align: top;\n",
       "    }\n",
       "\n",
       "    .dataframe thead th {\n",
       "        text-align: right;\n",
       "    }\n",
       "</style>\n",
       "<table border=\"1\" class=\"dataframe\">\n",
       "  <thead>\n",
       "    <tr style=\"text-align: right;\">\n",
       "      <th></th>\n",
       "      <th>AAPL_VOLUME</th>\n",
       "      <th>AAPL_OPEN</th>\n",
       "      <th>AAPL_HIGHT</th>\n",
       "      <th>AAPL_LOW</th>\n",
       "      <th>AAPL_CLOSE</th>\n",
       "      <th>AAPL_VW</th>\n",
       "      <th>AAPL_TRANSACTIONS</th>\n",
       "    </tr>\n",
       "    <tr>\n",
       "      <th>DATE</th>\n",
       "      <th></th>\n",
       "      <th></th>\n",
       "      <th></th>\n",
       "      <th></th>\n",
       "      <th></th>\n",
       "      <th></th>\n",
       "      <th></th>\n",
       "    </tr>\n",
       "  </thead>\n",
       "  <tbody>\n",
       "    <tr>\n",
       "      <th>2020-04-07 12:17:00</th>\n",
       "      <td>14256.0</td>\n",
       "      <td>67.3500</td>\n",
       "      <td>67.3625</td>\n",
       "      <td>67.3275</td>\n",
       "      <td>67.3375</td>\n",
       "      <td>67.3454</td>\n",
       "      <td>45</td>\n",
       "    </tr>\n",
       "    <tr>\n",
       "      <th>2020-04-07 12:18:00</th>\n",
       "      <td>16552.0</td>\n",
       "      <td>67.3501</td>\n",
       "      <td>67.3625</td>\n",
       "      <td>67.3250</td>\n",
       "      <td>67.3250</td>\n",
       "      <td>67.3407</td>\n",
       "      <td>57</td>\n",
       "    </tr>\n",
       "    <tr>\n",
       "      <th>2020-04-07 12:19:00</th>\n",
       "      <td>80172.0</td>\n",
       "      <td>67.3250</td>\n",
       "      <td>67.4475</td>\n",
       "      <td>67.3250</td>\n",
       "      <td>67.4225</td>\n",
       "      <td>67.3937</td>\n",
       "      <td>149</td>\n",
       "    </tr>\n",
       "    <tr>\n",
       "      <th>2020-04-07 12:20:00</th>\n",
       "      <td>183740.0</td>\n",
       "      <td>67.4475</td>\n",
       "      <td>67.4700</td>\n",
       "      <td>67.3125</td>\n",
       "      <td>67.3700</td>\n",
       "      <td>67.3671</td>\n",
       "      <td>159</td>\n",
       "    </tr>\n",
       "    <tr>\n",
       "      <th>2020-04-07 12:21:00</th>\n",
       "      <td>35372.0</td>\n",
       "      <td>67.3500</td>\n",
       "      <td>67.3850</td>\n",
       "      <td>67.2975</td>\n",
       "      <td>67.2975</td>\n",
       "      <td>67.3469</td>\n",
       "      <td>102</td>\n",
       "    </tr>\n",
       "    <tr>\n",
       "      <th>...</th>\n",
       "      <td>...</td>\n",
       "      <td>...</td>\n",
       "      <td>...</td>\n",
       "      <td>...</td>\n",
       "      <td>...</td>\n",
       "      <td>...</td>\n",
       "      <td>...</td>\n",
       "    </tr>\n",
       "    <tr>\n",
       "      <th>2020-04-27 14:22:00</th>\n",
       "      <td>255044.0</td>\n",
       "      <td>70.7875</td>\n",
       "      <td>70.8256</td>\n",
       "      <td>70.7673</td>\n",
       "      <td>70.7700</td>\n",
       "      <td>70.7960</td>\n",
       "      <td>851</td>\n",
       "    </tr>\n",
       "    <tr>\n",
       "      <th>2020-04-27 14:23:00</th>\n",
       "      <td>412688.0</td>\n",
       "      <td>70.7675</td>\n",
       "      <td>70.8221</td>\n",
       "      <td>70.7500</td>\n",
       "      <td>70.7899</td>\n",
       "      <td>70.7800</td>\n",
       "      <td>1204</td>\n",
       "    </tr>\n",
       "    <tr>\n",
       "      <th>2020-04-27 14:24:00</th>\n",
       "      <td>268616.0</td>\n",
       "      <td>70.7925</td>\n",
       "      <td>70.8063</td>\n",
       "      <td>70.7550</td>\n",
       "      <td>70.7625</td>\n",
       "      <td>70.7815</td>\n",
       "      <td>652</td>\n",
       "    </tr>\n",
       "    <tr>\n",
       "      <th>2020-04-27 14:25:00</th>\n",
       "      <td>336820.0</td>\n",
       "      <td>70.7625</td>\n",
       "      <td>70.7675</td>\n",
       "      <td>70.7225</td>\n",
       "      <td>70.7475</td>\n",
       "      <td>70.7436</td>\n",
       "      <td>1015</td>\n",
       "    </tr>\n",
       "    <tr>\n",
       "      <th>2020-04-27 14:26:00</th>\n",
       "      <td>347168.0</td>\n",
       "      <td>70.7475</td>\n",
       "      <td>70.8288</td>\n",
       "      <td>70.7412</td>\n",
       "      <td>70.7763</td>\n",
       "      <td>70.7924</td>\n",
       "      <td>944</td>\n",
       "    </tr>\n",
       "  </tbody>\n",
       "</table>\n",
       "<p>10000 rows × 7 columns</p>\n",
       "</div>"
      ],
      "text/plain": [
       "                     AAPL_VOLUME  AAPL_OPEN  AAPL_HIGHT  AAPL_LOW  AAPL_CLOSE  \\\n",
       "DATE                                                                            \n",
       "2020-04-07 12:17:00      14256.0    67.3500     67.3625   67.3275     67.3375   \n",
       "2020-04-07 12:18:00      16552.0    67.3501     67.3625   67.3250     67.3250   \n",
       "2020-04-07 12:19:00      80172.0    67.3250     67.4475   67.3250     67.4225   \n",
       "2020-04-07 12:20:00     183740.0    67.4475     67.4700   67.3125     67.3700   \n",
       "2020-04-07 12:21:00      35372.0    67.3500     67.3850   67.2975     67.2975   \n",
       "...                          ...        ...         ...       ...         ...   \n",
       "2020-04-27 14:22:00     255044.0    70.7875     70.8256   70.7673     70.7700   \n",
       "2020-04-27 14:23:00     412688.0    70.7675     70.8221   70.7500     70.7899   \n",
       "2020-04-27 14:24:00     268616.0    70.7925     70.8063   70.7550     70.7625   \n",
       "2020-04-27 14:25:00     336820.0    70.7625     70.7675   70.7225     70.7475   \n",
       "2020-04-27 14:26:00     347168.0    70.7475     70.8288   70.7412     70.7763   \n",
       "\n",
       "                     AAPL_VW  AAPL_TRANSACTIONS  \n",
       "DATE                                             \n",
       "2020-04-07 12:17:00  67.3454                 45  \n",
       "2020-04-07 12:18:00  67.3407                 57  \n",
       "2020-04-07 12:19:00  67.3937                149  \n",
       "2020-04-07 12:20:00  67.3671                159  \n",
       "2020-04-07 12:21:00  67.3469                102  \n",
       "...                      ...                ...  \n",
       "2020-04-27 14:22:00  70.7960                851  \n",
       "2020-04-27 14:23:00  70.7800               1204  \n",
       "2020-04-27 14:24:00  70.7815                652  \n",
       "2020-04-27 14:25:00  70.7436               1015  \n",
       "2020-04-27 14:26:00  70.7924                944  \n",
       "\n",
       "[10000 rows x 7 columns]"
      ]
     },
     "metadata": {},
     "output_type": "display_data"
    }
   ],
   "source": [
    "# loading assets into to an unique df\n",
    "df = dataloader.load_dataset({ticker:'../data/'+fname}).iloc[:N]\n",
    "display(df)"
   ]
  },
  {
   "cell_type": "markdown",
   "id": "a195e40e",
   "metadata": {},
   "source": [
    "The work columns are divided in $04$ groups:\n",
    "\n",
    "> $\\texttt{data_cols}$ - Contains the primary data from the dataframe\n",
    "\n",
    "> $\\texttt{var_cols}$ - Indicators calculated with class $\\texttt{Indicators}$\n",
    "\n",
    "> $\\texttt{normvar_cols}$ - Normalized indicators calculated with class $\\texttt{Indicators}$\n",
    "\n",
    "> $\\texttt{vol_cols}$ - Volatility indexes calculated with class $\\texttt{Volatility}$"
   ]
  },
  {
   "cell_type": "code",
   "execution_count": 8,
   "id": "bd3b54ed",
   "metadata": {},
   "outputs": [],
   "source": [
    "data_cols = ['DATE', 'OPEN', 'HIGHT', 'LOW', 'CLOSE', 'VW', 'VOLUME']\n",
    "\n",
    "var_cols = ['OPEN', 'HIGHT', 'LOW', 'CLOSE', 'VW', 'VOLUME', 'CLOSE_returns', \n",
    "            'CLOSE_log_returns', 'CLOSE_price_change','CLOSE_pct_change', \n",
    "            'RA_5', 'RA_10', 'AMPL', 'OPNCLS', 'MA_5', 'MA_10','V_MA_5', \n",
    "            'V_MA_10', 'V_MA_20']\n",
    "\n",
    "normvar_cols = ['N_OPEN', 'N_HIGHT', 'N_LOW', 'N_CLOSE', 'N_VW', 'N_VOLUME',\n",
    "                'N_CLOSE_returns', 'N_CLOSE_log_returns', 'N_CLOSE_price_change',\n",
    "                'N_CLOSE_pct_change', 'N_RA_5', 'N_RA_10', 'N_AMPL', 'N_OPNCLS', \n",
    "                'N_MA_5', 'N_MA_10','N_V_MA_5', 'N_V_MA_10', 'N_V_MA_20']\n",
    "\n",
    "vol_cols = ['CorwinSchultz', 'HodgesTompkins', 'YangZhang', 'RogersSatchell', 'GarmanKlass']"
   ]
  },
  {
   "cell_type": "markdown",
   "id": "919d279b",
   "metadata": {},
   "source": [
    "For each of calculated column, we add the $\\textit{ticker}$ code, as standardized by class $\\texttt{DataLoader}$"
   ]
  },
  {
   "cell_type": "code",
   "execution_count": 9,
   "id": "609d5ecd",
   "metadata": {},
   "outputs": [],
   "source": [
    "var_cols = [ticker+'_'+col for col in var_cols]\n",
    "normvar_cols = [ticker+'_'+col for col in normvar_cols]\n",
    "vol_cols = [ticker+'_'+col for col in vol_cols]"
   ]
  },
  {
   "cell_type": "markdown",
   "id": "83facc0f",
   "metadata": {},
   "source": [
    "# Data Augmentation"
   ]
  },
  {
   "cell_type": "markdown",
   "id": "e084dc64",
   "metadata": {},
   "source": [
    "In order to increase the number of variables considered in the covariance matrix, this module introduced some sample $\\textit{indicators}$ and $\\textit{volatility}$ indexes calculated over the asset's data.\n",
    "\n",
    "After $\\textbf{Volatility}$ and $\\textbf{Data Generation}$ groups introduced the appropriate classes, we can eliminate this portion of code and dependencies."
   ]
  },
  {
   "cell_type": "markdown",
   "id": "3e3d424e",
   "metadata": {},
   "source": [
    "## Calculate Indicators"
   ]
  },
  {
   "cell_type": "code",
   "execution_count": 10,
   "id": "c79b75dc",
   "metadata": {},
   "outputs": [
    {
     "data": {
      "text/html": [
       "<div>\n",
       "<style scoped>\n",
       "    .dataframe tbody tr th:only-of-type {\n",
       "        vertical-align: middle;\n",
       "    }\n",
       "\n",
       "    .dataframe tbody tr th {\n",
       "        vertical-align: top;\n",
       "    }\n",
       "\n",
       "    .dataframe thead th {\n",
       "        text-align: right;\n",
       "    }\n",
       "</style>\n",
       "<table border=\"1\" class=\"dataframe\">\n",
       "  <thead>\n",
       "    <tr style=\"text-align: right;\">\n",
       "      <th></th>\n",
       "      <th>AAPL_OPEN</th>\n",
       "      <th>AAPL_HIGHT</th>\n",
       "      <th>AAPL_LOW</th>\n",
       "      <th>AAPL_CLOSE</th>\n",
       "      <th>AAPL_VW</th>\n",
       "      <th>AAPL_VOLUME</th>\n",
       "      <th>AAPL_CLOSE_returns</th>\n",
       "      <th>AAPL_CLOSE_log_returns</th>\n",
       "      <th>AAPL_CLOSE_price_change</th>\n",
       "      <th>AAPL_CLOSE_pct_change</th>\n",
       "      <th>...</th>\n",
       "      <th>AAPL_N_CLOSE_pct_change</th>\n",
       "      <th>AAPL_N_RA_5</th>\n",
       "      <th>AAPL_N_RA_10</th>\n",
       "      <th>AAPL_N_AMPL</th>\n",
       "      <th>AAPL_N_OPNCLS</th>\n",
       "      <th>AAPL_N_MA_5</th>\n",
       "      <th>AAPL_N_MA_10</th>\n",
       "      <th>AAPL_N_V_MA_5</th>\n",
       "      <th>AAPL_N_V_MA_10</th>\n",
       "      <th>AAPL_N_V_MA_20</th>\n",
       "    </tr>\n",
       "    <tr>\n",
       "      <th>DATE</th>\n",
       "      <th></th>\n",
       "      <th></th>\n",
       "      <th></th>\n",
       "      <th></th>\n",
       "      <th></th>\n",
       "      <th></th>\n",
       "      <th></th>\n",
       "      <th></th>\n",
       "      <th></th>\n",
       "      <th></th>\n",
       "      <th></th>\n",
       "      <th></th>\n",
       "      <th></th>\n",
       "      <th></th>\n",
       "      <th></th>\n",
       "      <th></th>\n",
       "      <th></th>\n",
       "      <th></th>\n",
       "      <th></th>\n",
       "      <th></th>\n",
       "      <th></th>\n",
       "    </tr>\n",
       "  </thead>\n",
       "  <tbody>\n",
       "    <tr>\n",
       "      <th>2020-04-07 12:17:00</th>\n",
       "      <td>67.3500</td>\n",
       "      <td>67.3625</td>\n",
       "      <td>67.3275</td>\n",
       "      <td>67.3375</td>\n",
       "      <td>67.3454</td>\n",
       "      <td>14256.0</td>\n",
       "      <td>0.000000</td>\n",
       "      <td>0.000000</td>\n",
       "      <td>NaN</td>\n",
       "      <td>NaN</td>\n",
       "      <td>...</td>\n",
       "      <td>NaN</td>\n",
       "      <td>NaN</td>\n",
       "      <td>NaN</td>\n",
       "      <td>-0.955200</td>\n",
       "      <td>0.448370</td>\n",
       "      <td>-0.402877</td>\n",
       "      <td>-0.403680</td>\n",
       "      <td>-0.990748</td>\n",
       "      <td>-0.986876</td>\n",
       "      <td>-0.981787</td>\n",
       "    </tr>\n",
       "    <tr>\n",
       "      <th>2020-04-07 12:18:00</th>\n",
       "      <td>67.3501</td>\n",
       "      <td>67.3625</td>\n",
       "      <td>67.3250</td>\n",
       "      <td>67.3250</td>\n",
       "      <td>67.3407</td>\n",
       "      <td>16552.0</td>\n",
       "      <td>0.999814</td>\n",
       "      <td>-0.000186</td>\n",
       "      <td>-0.0125</td>\n",
       "      <td>-0.000186</td>\n",
       "      <td>...</td>\n",
       "      <td>0.052788</td>\n",
       "      <td>NaN</td>\n",
       "      <td>NaN</td>\n",
       "      <td>-0.952000</td>\n",
       "      <td>0.434674</td>\n",
       "      <td>-0.404166</td>\n",
       "      <td>-0.404980</td>\n",
       "      <td>-0.989972</td>\n",
       "      <td>-0.985744</td>\n",
       "      <td>-0.980171</td>\n",
       "    </tr>\n",
       "    <tr>\n",
       "      <th>2020-04-07 12:19:00</th>\n",
       "      <td>67.3250</td>\n",
       "      <td>67.4475</td>\n",
       "      <td>67.3250</td>\n",
       "      <td>67.4225</td>\n",
       "      <td>67.3937</td>\n",
       "      <td>80172.0</td>\n",
       "      <td>1.001448</td>\n",
       "      <td>0.001447</td>\n",
       "      <td>0.0975</td>\n",
       "      <td>0.001448</td>\n",
       "      <td>...</td>\n",
       "      <td>0.133112</td>\n",
       "      <td>NaN</td>\n",
       "      <td>NaN</td>\n",
       "      <td>-0.843200</td>\n",
       "      <td>0.567935</td>\n",
       "      <td>-0.397893</td>\n",
       "      <td>-0.398655</td>\n",
       "      <td>-0.975374</td>\n",
       "      <td>-0.964448</td>\n",
       "      <td>-0.949776</td>\n",
       "    </tr>\n",
       "    <tr>\n",
       "      <th>2020-04-07 12:20:00</th>\n",
       "      <td>67.4475</td>\n",
       "      <td>67.4700</td>\n",
       "      <td>67.3125</td>\n",
       "      <td>67.3700</td>\n",
       "      <td>67.3671</td>\n",
       "      <td>183740.0</td>\n",
       "      <td>0.999221</td>\n",
       "      <td>-0.000779</td>\n",
       "      <td>-0.0525</td>\n",
       "      <td>-0.000779</td>\n",
       "      <td>...</td>\n",
       "      <td>0.023633</td>\n",
       "      <td>NaN</td>\n",
       "      <td>NaN</td>\n",
       "      <td>-0.798400</td>\n",
       "      <td>0.377717</td>\n",
       "      <td>-0.397463</td>\n",
       "      <td>-0.398222</td>\n",
       "      <td>-0.950568</td>\n",
       "      <td>-0.928261</td>\n",
       "      <td>-0.898125</td>\n",
       "    </tr>\n",
       "    <tr>\n",
       "      <th>2020-04-07 12:21:00</th>\n",
       "      <td>67.3500</td>\n",
       "      <td>67.3850</td>\n",
       "      <td>67.2975</td>\n",
       "      <td>67.2975</td>\n",
       "      <td>67.3469</td>\n",
       "      <td>35372.0</td>\n",
       "      <td>0.998924</td>\n",
       "      <td>-0.001077</td>\n",
       "      <td>-0.0725</td>\n",
       "      <td>-0.001076</td>\n",
       "      <td>...</td>\n",
       "      <td>0.009008</td>\n",
       "      <td>-0.895969</td>\n",
       "      <td>NaN</td>\n",
       "      <td>-0.888000</td>\n",
       "      <td>0.404891</td>\n",
       "      <td>-0.400196</td>\n",
       "      <td>-0.400977</td>\n",
       "      <td>-0.955748</td>\n",
       "      <td>-0.935818</td>\n",
       "      <td>-0.908912</td>\n",
       "    </tr>\n",
       "    <tr>\n",
       "      <th>...</th>\n",
       "      <td>...</td>\n",
       "      <td>...</td>\n",
       "      <td>...</td>\n",
       "      <td>...</td>\n",
       "      <td>...</td>\n",
       "      <td>...</td>\n",
       "      <td>...</td>\n",
       "      <td>...</td>\n",
       "      <td>...</td>\n",
       "      <td>...</td>\n",
       "      <td>...</td>\n",
       "      <td>...</td>\n",
       "      <td>...</td>\n",
       "      <td>...</td>\n",
       "      <td>...</td>\n",
       "      <td>...</td>\n",
       "      <td>...</td>\n",
       "      <td>...</td>\n",
       "      <td>...</td>\n",
       "      <td>...</td>\n",
       "      <td>...</td>\n",
       "    </tr>\n",
       "    <tr>\n",
       "      <th>2020-04-27 14:22:00</th>\n",
       "      <td>70.7875</td>\n",
       "      <td>70.8256</td>\n",
       "      <td>70.7673</td>\n",
       "      <td>70.7700</td>\n",
       "      <td>70.7960</td>\n",
       "      <td>255044.0</td>\n",
       "      <td>0.999753</td>\n",
       "      <td>-0.000247</td>\n",
       "      <td>-0.0175</td>\n",
       "      <td>-0.000247</td>\n",
       "      <td>...</td>\n",
       "      <td>0.049760</td>\n",
       "      <td>-0.853382</td>\n",
       "      <td>-0.882482</td>\n",
       "      <td>-0.925376</td>\n",
       "      <td>0.442935</td>\n",
       "      <td>0.321871</td>\n",
       "      <td>0.330506</td>\n",
       "      <td>-0.779435</td>\n",
       "      <td>-0.688084</td>\n",
       "      <td>-0.467131</td>\n",
       "    </tr>\n",
       "    <tr>\n",
       "      <th>2020-04-27 14:23:00</th>\n",
       "      <td>70.7675</td>\n",
       "      <td>70.8221</td>\n",
       "      <td>70.7500</td>\n",
       "      <td>70.7899</td>\n",
       "      <td>70.7800</td>\n",
       "      <td>412688.0</td>\n",
       "      <td>1.000281</td>\n",
       "      <td>0.000281</td>\n",
       "      <td>0.0199</td>\n",
       "      <td>0.000281</td>\n",
       "      <td>...</td>\n",
       "      <td>0.075738</td>\n",
       "      <td>-0.859099</td>\n",
       "      <td>-0.874211</td>\n",
       "      <td>-0.907712</td>\n",
       "      <td>0.486304</td>\n",
       "      <td>0.317226</td>\n",
       "      <td>0.328126</td>\n",
       "      <td>-0.759667</td>\n",
       "      <td>-0.682613</td>\n",
       "      <td>-0.479664</td>\n",
       "    </tr>\n",
       "    <tr>\n",
       "      <th>2020-04-27 14:24:00</th>\n",
       "      <td>70.7925</td>\n",
       "      <td>70.8063</td>\n",
       "      <td>70.7550</td>\n",
       "      <td>70.7625</td>\n",
       "      <td>70.7815</td>\n",
       "      <td>268616.0</td>\n",
       "      <td>0.999613</td>\n",
       "      <td>-0.000387</td>\n",
       "      <td>-0.0274</td>\n",
       "      <td>-0.000387</td>\n",
       "      <td>...</td>\n",
       "      <td>0.042885</td>\n",
       "      <td>-0.864194</td>\n",
       "      <td>-0.863633</td>\n",
       "      <td>-0.934336</td>\n",
       "      <td>0.429348</td>\n",
       "      <td>0.312325</td>\n",
       "      <td>0.325215</td>\n",
       "      <td>-0.761712</td>\n",
       "      <td>-0.690905</td>\n",
       "      <td>-0.499406</td>\n",
       "    </tr>\n",
       "    <tr>\n",
       "      <th>2020-04-27 14:25:00</th>\n",
       "      <td>70.7625</td>\n",
       "      <td>70.7675</td>\n",
       "      <td>70.7225</td>\n",
       "      <td>70.7475</td>\n",
       "      <td>70.7436</td>\n",
       "      <td>336820.0</td>\n",
       "      <td>0.999788</td>\n",
       "      <td>-0.000212</td>\n",
       "      <td>-0.0150</td>\n",
       "      <td>-0.000212</td>\n",
       "      <td>...</td>\n",
       "      <td>0.051493</td>\n",
       "      <td>-0.961580</td>\n",
       "      <td>-0.847886</td>\n",
       "      <td>-0.942400</td>\n",
       "      <td>0.445652</td>\n",
       "      <td>0.305415</td>\n",
       "      <td>0.323083</td>\n",
       "      <td>-0.764809</td>\n",
       "      <td>-0.687118</td>\n",
       "      <td>-0.504024</td>\n",
       "    </tr>\n",
       "    <tr>\n",
       "      <th>2020-04-27 14:26:00</th>\n",
       "      <td>70.7475</td>\n",
       "      <td>70.8288</td>\n",
       "      <td>70.7412</td>\n",
       "      <td>70.7763</td>\n",
       "      <td>70.7924</td>\n",
       "      <td>347168.0</td>\n",
       "      <td>1.000407</td>\n",
       "      <td>0.000407</td>\n",
       "      <td>0.0288</td>\n",
       "      <td>0.000407</td>\n",
       "      <td>...</td>\n",
       "      <td>0.081928</td>\n",
       "      <td>-0.965769</td>\n",
       "      <td>-0.843339</td>\n",
       "      <td>-0.887872</td>\n",
       "      <td>0.493261</td>\n",
       "      <td>0.304953</td>\n",
       "      <td>0.321603</td>\n",
       "      <td>-0.781265</td>\n",
       "      <td>-0.679995</td>\n",
       "      <td>-0.512038</td>\n",
       "    </tr>\n",
       "  </tbody>\n",
       "</table>\n",
       "<p>10000 rows × 38 columns</p>\n",
       "</div>"
      ],
      "text/plain": [
       "                     AAPL_OPEN  AAPL_HIGHT  AAPL_LOW  AAPL_CLOSE  AAPL_VW  \\\n",
       "DATE                                                                        \n",
       "2020-04-07 12:17:00    67.3500     67.3625   67.3275     67.3375  67.3454   \n",
       "2020-04-07 12:18:00    67.3501     67.3625   67.3250     67.3250  67.3407   \n",
       "2020-04-07 12:19:00    67.3250     67.4475   67.3250     67.4225  67.3937   \n",
       "2020-04-07 12:20:00    67.4475     67.4700   67.3125     67.3700  67.3671   \n",
       "2020-04-07 12:21:00    67.3500     67.3850   67.2975     67.2975  67.3469   \n",
       "...                        ...         ...       ...         ...      ...   \n",
       "2020-04-27 14:22:00    70.7875     70.8256   70.7673     70.7700  70.7960   \n",
       "2020-04-27 14:23:00    70.7675     70.8221   70.7500     70.7899  70.7800   \n",
       "2020-04-27 14:24:00    70.7925     70.8063   70.7550     70.7625  70.7815   \n",
       "2020-04-27 14:25:00    70.7625     70.7675   70.7225     70.7475  70.7436   \n",
       "2020-04-27 14:26:00    70.7475     70.8288   70.7412     70.7763  70.7924   \n",
       "\n",
       "                     AAPL_VOLUME  AAPL_CLOSE_returns  AAPL_CLOSE_log_returns  \\\n",
       "DATE                                                                           \n",
       "2020-04-07 12:17:00      14256.0            0.000000                0.000000   \n",
       "2020-04-07 12:18:00      16552.0            0.999814               -0.000186   \n",
       "2020-04-07 12:19:00      80172.0            1.001448                0.001447   \n",
       "2020-04-07 12:20:00     183740.0            0.999221               -0.000779   \n",
       "2020-04-07 12:21:00      35372.0            0.998924               -0.001077   \n",
       "...                          ...                 ...                     ...   \n",
       "2020-04-27 14:22:00     255044.0            0.999753               -0.000247   \n",
       "2020-04-27 14:23:00     412688.0            1.000281                0.000281   \n",
       "2020-04-27 14:24:00     268616.0            0.999613               -0.000387   \n",
       "2020-04-27 14:25:00     336820.0            0.999788               -0.000212   \n",
       "2020-04-27 14:26:00     347168.0            1.000407                0.000407   \n",
       "\n",
       "                     AAPL_CLOSE_price_change  AAPL_CLOSE_pct_change  ...  \\\n",
       "DATE                                                                 ...   \n",
       "2020-04-07 12:17:00                      NaN                    NaN  ...   \n",
       "2020-04-07 12:18:00                  -0.0125              -0.000186  ...   \n",
       "2020-04-07 12:19:00                   0.0975               0.001448  ...   \n",
       "2020-04-07 12:20:00                  -0.0525              -0.000779  ...   \n",
       "2020-04-07 12:21:00                  -0.0725              -0.001076  ...   \n",
       "...                                      ...                    ...  ...   \n",
       "2020-04-27 14:22:00                  -0.0175              -0.000247  ...   \n",
       "2020-04-27 14:23:00                   0.0199               0.000281  ...   \n",
       "2020-04-27 14:24:00                  -0.0274              -0.000387  ...   \n",
       "2020-04-27 14:25:00                  -0.0150              -0.000212  ...   \n",
       "2020-04-27 14:26:00                   0.0288               0.000407  ...   \n",
       "\n",
       "                     AAPL_N_CLOSE_pct_change  AAPL_N_RA_5  AAPL_N_RA_10  \\\n",
       "DATE                                                                      \n",
       "2020-04-07 12:17:00                      NaN          NaN           NaN   \n",
       "2020-04-07 12:18:00                 0.052788          NaN           NaN   \n",
       "2020-04-07 12:19:00                 0.133112          NaN           NaN   \n",
       "2020-04-07 12:20:00                 0.023633          NaN           NaN   \n",
       "2020-04-07 12:21:00                 0.009008    -0.895969           NaN   \n",
       "...                                      ...          ...           ...   \n",
       "2020-04-27 14:22:00                 0.049760    -0.853382     -0.882482   \n",
       "2020-04-27 14:23:00                 0.075738    -0.859099     -0.874211   \n",
       "2020-04-27 14:24:00                 0.042885    -0.864194     -0.863633   \n",
       "2020-04-27 14:25:00                 0.051493    -0.961580     -0.847886   \n",
       "2020-04-27 14:26:00                 0.081928    -0.965769     -0.843339   \n",
       "\n",
       "                     AAPL_N_AMPL  AAPL_N_OPNCLS  AAPL_N_MA_5  AAPL_N_MA_10  \\\n",
       "DATE                                                                         \n",
       "2020-04-07 12:17:00    -0.955200       0.448370    -0.402877     -0.403680   \n",
       "2020-04-07 12:18:00    -0.952000       0.434674    -0.404166     -0.404980   \n",
       "2020-04-07 12:19:00    -0.843200       0.567935    -0.397893     -0.398655   \n",
       "2020-04-07 12:20:00    -0.798400       0.377717    -0.397463     -0.398222   \n",
       "2020-04-07 12:21:00    -0.888000       0.404891    -0.400196     -0.400977   \n",
       "...                          ...            ...          ...           ...   \n",
       "2020-04-27 14:22:00    -0.925376       0.442935     0.321871      0.330506   \n",
       "2020-04-27 14:23:00    -0.907712       0.486304     0.317226      0.328126   \n",
       "2020-04-27 14:24:00    -0.934336       0.429348     0.312325      0.325215   \n",
       "2020-04-27 14:25:00    -0.942400       0.445652     0.305415      0.323083   \n",
       "2020-04-27 14:26:00    -0.887872       0.493261     0.304953      0.321603   \n",
       "\n",
       "                     AAPL_N_V_MA_5  AAPL_N_V_MA_10  AAPL_N_V_MA_20  \n",
       "DATE                                                                \n",
       "2020-04-07 12:17:00      -0.990748       -0.986876       -0.981787  \n",
       "2020-04-07 12:18:00      -0.989972       -0.985744       -0.980171  \n",
       "2020-04-07 12:19:00      -0.975374       -0.964448       -0.949776  \n",
       "2020-04-07 12:20:00      -0.950568       -0.928261       -0.898125  \n",
       "2020-04-07 12:21:00      -0.955748       -0.935818       -0.908912  \n",
       "...                            ...             ...             ...  \n",
       "2020-04-27 14:22:00      -0.779435       -0.688084       -0.467131  \n",
       "2020-04-27 14:23:00      -0.759667       -0.682613       -0.479664  \n",
       "2020-04-27 14:24:00      -0.761712       -0.690905       -0.499406  \n",
       "2020-04-27 14:25:00      -0.764809       -0.687118       -0.504024  \n",
       "2020-04-27 14:26:00      -0.781265       -0.679995       -0.512038  \n",
       "\n",
       "[10000 rows x 38 columns]"
      ]
     },
     "metadata": {},
     "output_type": "display_data"
    }
   ],
   "source": [
    "# Process data normalization\n",
    "norm_data = True\n",
    "\n",
    "# Select Indicator transformer\n",
    "ind_processor = Indicators(df, ticker = ticker, norm_data = norm_data)\n",
    "\n",
    "# Calculate Indicators over input dataframe\n",
    "df = ind_processor.transform(df)\n",
    "\n",
    "# Display output dataframe\n",
    "display(df[var_cols+normvar_cols if norm_data else var_cols])"
   ]
  },
  {
   "cell_type": "markdown",
   "id": "ea50b6c0",
   "metadata": {},
   "source": [
    "## Calculate Volatility Indicators"
   ]
  },
  {
   "cell_type": "code",
   "execution_count": 11,
   "id": "a0a732a2",
   "metadata": {},
   "outputs": [
    {
     "data": {
      "text/html": [
       "<div>\n",
       "<style scoped>\n",
       "    .dataframe tbody tr th:only-of-type {\n",
       "        vertical-align: middle;\n",
       "    }\n",
       "\n",
       "    .dataframe tbody tr th {\n",
       "        vertical-align: top;\n",
       "    }\n",
       "\n",
       "    .dataframe thead th {\n",
       "        text-align: right;\n",
       "    }\n",
       "</style>\n",
       "<table border=\"1\" class=\"dataframe\">\n",
       "  <thead>\n",
       "    <tr style=\"text-align: right;\">\n",
       "      <th></th>\n",
       "      <th>AAPL_CorwinSchultz</th>\n",
       "      <th>AAPL_HodgesTompkins</th>\n",
       "      <th>AAPL_YangZhang</th>\n",
       "      <th>AAPL_RogersSatchell</th>\n",
       "      <th>AAPL_GarmanKlass</th>\n",
       "    </tr>\n",
       "    <tr>\n",
       "      <th>DATE</th>\n",
       "      <th></th>\n",
       "      <th></th>\n",
       "      <th></th>\n",
       "      <th></th>\n",
       "      <th></th>\n",
       "    </tr>\n",
       "  </thead>\n",
       "  <tbody>\n",
       "    <tr>\n",
       "      <th>2020-04-07 12:17:00</th>\n",
       "      <td>NaN</td>\n",
       "      <td>NaN</td>\n",
       "      <td>NaN</td>\n",
       "      <td>NaN</td>\n",
       "      <td>NaN</td>\n",
       "    </tr>\n",
       "    <tr>\n",
       "      <th>2020-04-07 12:18:00</th>\n",
       "      <td>0.000495</td>\n",
       "      <td>NaN</td>\n",
       "      <td>NaN</td>\n",
       "      <td>NaN</td>\n",
       "      <td>NaN</td>\n",
       "    </tr>\n",
       "    <tr>\n",
       "      <th>2020-04-07 12:19:00</th>\n",
       "      <td>0.000201</td>\n",
       "      <td>NaN</td>\n",
       "      <td>NaN</td>\n",
       "      <td>NaN</td>\n",
       "      <td>NaN</td>\n",
       "    </tr>\n",
       "    <tr>\n",
       "      <th>2020-04-07 12:20:00</th>\n",
       "      <td>0.001506</td>\n",
       "      <td>NaN</td>\n",
       "      <td>NaN</td>\n",
       "      <td>NaN</td>\n",
       "      <td>NaN</td>\n",
       "    </tr>\n",
       "    <tr>\n",
       "      <th>2020-04-07 12:21:00</th>\n",
       "      <td>0.000275</td>\n",
       "      <td>NaN</td>\n",
       "      <td>NaN</td>\n",
       "      <td>NaN</td>\n",
       "      <td>NaN</td>\n",
       "    </tr>\n",
       "    <tr>\n",
       "      <th>...</th>\n",
       "      <td>...</td>\n",
       "      <td>...</td>\n",
       "      <td>...</td>\n",
       "      <td>...</td>\n",
       "      <td>...</td>\n",
       "    </tr>\n",
       "    <tr>\n",
       "      <th>2020-04-27 14:22:00</th>\n",
       "      <td>0.000050</td>\n",
       "      <td>0.013090</td>\n",
       "      <td>0.014687</td>\n",
       "      <td>0.232834</td>\n",
       "      <td>0.014276</td>\n",
       "    </tr>\n",
       "    <tr>\n",
       "      <th>2020-04-27 14:23:00</th>\n",
       "      <td>0.000584</td>\n",
       "      <td>0.012940</td>\n",
       "      <td>0.014686</td>\n",
       "      <td>0.233239</td>\n",
       "      <td>0.014284</td>\n",
       "    </tr>\n",
       "    <tr>\n",
       "      <th>2020-04-27 14:24:00</th>\n",
       "      <td>0.000559</td>\n",
       "      <td>0.012048</td>\n",
       "      <td>0.013874</td>\n",
       "      <td>0.220619</td>\n",
       "      <td>0.013481</td>\n",
       "    </tr>\n",
       "    <tr>\n",
       "      <th>2020-04-27 14:25:00</th>\n",
       "      <td>0.000000</td>\n",
       "      <td>0.012024</td>\n",
       "      <td>0.013609</td>\n",
       "      <td>0.215887</td>\n",
       "      <td>0.013167</td>\n",
       "    </tr>\n",
       "    <tr>\n",
       "      <th>2020-04-27 14:26:00</th>\n",
       "      <td>0.000000</td>\n",
       "      <td>0.012077</td>\n",
       "      <td>0.013550</td>\n",
       "      <td>0.214686</td>\n",
       "      <td>0.013025</td>\n",
       "    </tr>\n",
       "  </tbody>\n",
       "</table>\n",
       "<p>10000 rows × 5 columns</p>\n",
       "</div>"
      ],
      "text/plain": [
       "                     AAPL_CorwinSchultz  AAPL_HodgesTompkins  AAPL_YangZhang  \\\n",
       "DATE                                                                           \n",
       "2020-04-07 12:17:00                 NaN                  NaN             NaN   \n",
       "2020-04-07 12:18:00            0.000495                  NaN             NaN   \n",
       "2020-04-07 12:19:00            0.000201                  NaN             NaN   \n",
       "2020-04-07 12:20:00            0.001506                  NaN             NaN   \n",
       "2020-04-07 12:21:00            0.000275                  NaN             NaN   \n",
       "...                                 ...                  ...             ...   \n",
       "2020-04-27 14:22:00            0.000050             0.013090        0.014687   \n",
       "2020-04-27 14:23:00            0.000584             0.012940        0.014686   \n",
       "2020-04-27 14:24:00            0.000559             0.012048        0.013874   \n",
       "2020-04-27 14:25:00            0.000000             0.012024        0.013609   \n",
       "2020-04-27 14:26:00            0.000000             0.012077        0.013550   \n",
       "\n",
       "                     AAPL_RogersSatchell  AAPL_GarmanKlass  \n",
       "DATE                                                        \n",
       "2020-04-07 12:17:00                  NaN               NaN  \n",
       "2020-04-07 12:18:00                  NaN               NaN  \n",
       "2020-04-07 12:19:00                  NaN               NaN  \n",
       "2020-04-07 12:20:00                  NaN               NaN  \n",
       "2020-04-07 12:21:00                  NaN               NaN  \n",
       "...                                  ...               ...  \n",
       "2020-04-27 14:22:00             0.232834          0.014276  \n",
       "2020-04-27 14:23:00             0.233239          0.014284  \n",
       "2020-04-27 14:24:00             0.220619          0.013481  \n",
       "2020-04-27 14:25:00             0.215887          0.013167  \n",
       "2020-04-27 14:26:00             0.214686          0.013025  \n",
       "\n",
       "[10000 rows x 5 columns]"
      ]
     },
     "metadata": {},
     "output_type": "display_data"
    }
   ],
   "source": [
    "# Select Volatility transformer\n",
    "vol_processor = Volatility(df, ticker = ticker)\n",
    "\n",
    "# Calculate Volatility over input dataframe\n",
    "df = vol_processor.transform(df)\n",
    "\n",
    "# Display output dataframe\n",
    "display(df[vol_cols])"
   ]
  },
  {
   "cell_type": "markdown",
   "id": "71fb3ca2",
   "metadata": {},
   "source": [
    "## Data Preparation"
   ]
  },
  {
   "cell_type": "markdown",
   "id": "4686d7f1",
   "metadata": {},
   "source": [
    "Here we will prepare the $\\texttt{np.array}$ coontaining the data over which we'll calculate our $\\textit{covariance}$ and $\\textit{correlation}$ matrices.\n",
    "\n",
    "We eliminate the $\\texttt{NaN}$'s by selecting rows starting at position $30$."
   ]
  },
  {
   "cell_type": "code",
   "execution_count": 12,
   "id": "cd0f4a9d",
   "metadata": {},
   "outputs": [],
   "source": [
    "X = np.array(df[normvar_cols+vol_cols if norm_data else var_cols+vol_cols])[30:]"
   ]
  },
  {
   "cell_type": "markdown",
   "id": "ef459244",
   "metadata": {},
   "source": [
    "## Denoising the Covariance Matrix"
   ]
  },
  {
   "cell_type": "code",
   "execution_count": 13,
   "id": "70ebf2e1",
   "metadata": {},
   "outputs": [],
   "source": [
    "# Instanciate the Denoising transformer\n",
    "# 'fit_transform()' calculates Correlation, Covariance, EigenValues and \n",
    "#     EigenVectors of denoised covariance matrix\n",
    "denoise_processor = Denoising().fit_transform(X)\n"
   ]
  },
  {
   "cell_type": "markdown",
   "id": "e555b2a8",
   "metadata": {},
   "source": [
    "## Visualization or results"
   ]
  },
  {
   "cell_type": "code",
   "execution_count": 14,
   "id": "407e9b03",
   "metadata": {},
   "outputs": [],
   "source": [
    "#----- Comparison between Non-Denoised and Denoised Cov Matrices\n",
    "def plotHeatMaps (corr0, corr1, txt: str):\n",
    "    plt.rcParams[\"figure.figsize\"] = [7.50, 3.50]\n",
    "    plt.rcParams[\"figure.autolayout\"] = True\n",
    "\n",
    "    fig, (ax1, ax2) = plt.subplots(ncols=2)\n",
    "    fig.subplots_adjust(wspace=1)\n",
    "\n",
    "    sns.set(font_scale=0.6)\n",
    "\n",
    "    sns.heatmap(corr0, cmap=\"plasma\", ax=ax1, cbar=True)\n",
    "    sns.heatmap(corr1, cmap=\"plasma\", ax=ax2, cbar=True)\n",
    "\n",
    "    # ax2.yaxis.tick_right()\n",
    "\n",
    "    ax1.set_title('non-denoised', fontsize=12)\n",
    "    ax2.set_title('denoised '+txt, fontsize=12)\n",
    "\n",
    "    fig.subplots_adjust(wspace=0.001)\n",
    "    plt.show()\n"
   ]
  },
  {
   "cell_type": "code",
   "execution_count": 16,
   "id": "055e0460",
   "metadata": {
    "scrolled": false
   },
   "outputs": [
    {
     "data": {
      "image/png": "[encoded data removed]",
      "text/plain": [
       "<Figure size 750x350 with 4 Axes>"
      ]
     },
     "metadata": {},
     "output_type": "display_data"
    }
   ],
   "source": [
    "# Retrieves non-denoised Covariance and Correlation Matrices\n",
    "cov0 = denoise_processor.get_covOriginal\n",
    "corr0 = denoise_processor.get_corrOriginal\n",
    "corr1 = denoise_processor.get_corrDenoised\n",
    "\n",
    "# Compare the correlation matrix before and after denoising\n",
    "plotHeatMaps(corr0, corr1, 'Residual Eigenvalue')"
   ]
  },
  {
   "cell_type": "markdown",
   "id": "5c33f988",
   "metadata": {},
   "source": [
    "The correlation matrices, we can see the granular aspect of the correlation of some variables in the denoised matrix (left) that was corrected by the $\\textit{denoising process}$ in the denoised matrix (right)."
   ]
  },
  {
   "cell_type": "markdown",
   "id": "6cc6e0f4",
   "metadata": {},
   "source": [
    "# Calculate Marchenko-Pastur Density"
   ]
  },
  {
   "cell_type": "markdown",
   "id": "95288c41",
   "metadata": {},
   "source": [
    "The objective of the fit is to find the value of $\\sigma^2$ that minimizes the sum of the squared differences between the analytical PDF and the kernel density estimate (KDE) of the observed eigenvalues."
   ]
  },
  {
   "cell_type": "code",
   "execution_count": 17,
   "id": "e3d00388",
   "metadata": {},
   "outputs": [],
   "source": [
    "# Instanciate Marcenko Pastur processor\n",
    "marcpastur_processor = Denoising(q=X.shape[0]/float(X.shape[1]))"
   ]
  },
  {
   "cell_type": "code",
   "execution_count": 18,
   "id": "2ad2636f",
   "metadata": {},
   "outputs": [],
   "source": [
    "def plotMPDensity(corr, denoising_transf):\n",
    "    # Getting eigenvalues and eigenvectors\n",
    "    eVal, eVec = denoising_transf.calcPCA(corr)\n",
    "\n",
    "    # Marchenko-Pastur pdf\n",
    "    pdf0 = denoising_transf.calcPDF(1.)\n",
    "\n",
    "    # Empirical pdf\n",
    "    pdf1= denoising_transf.fitKDE(np.diag(eVal))\n",
    "\n",
    "    # Plotting results\n",
    "    ax = pdf0.plot(title=\"Marchenko-Pastur Theorem\", label=\"Marchenko-Pastur\", color=\"deepskyblue\")\n",
    "    pdf1.plot(label=\"Empirical Value\", color=\"mediumspringgreen\")\n",
    "    ax.set(xlabel=\"λ\", ylabel=\"prob[λ]\")\n",
    "    ax.set_yscale('log')\n",
    "    ax.legend(loc=\"upper right\")"
   ]
  },
  {
   "cell_type": "code",
   "execution_count": 19,
   "id": "5875d757",
   "metadata": {},
   "outputs": [
    {
     "data": {
      "image/png": "[encoded data removed]",
      "text/plain": [
       "<Figure size 750x350 with 1 Axes>"
      ]
     },
     "metadata": {},
     "output_type": "display_data"
    }
   ],
   "source": [
    "plotMPDensity(corr0, marcpastur_processor)"
   ]
  },
  {
   "cell_type": "markdown",
   "id": "e8febbec",
   "metadata": {},
   "source": [
    "## Eigen Values compared with Marcenko Pastur distribution"
   ]
  },
  {
   "cell_type": "code",
   "execution_count": 20,
   "id": "8af14df6",
   "metadata": {},
   "outputs": [],
   "source": [
    "def plotMPDistribution(corr, denoising_transf, nbins, y_scale = 'log'):\n",
    "    # Getting Eigenvalues and Eigenvectors\n",
    "    eVal, eVec = denoising_transf.calcPCA(corr)\n",
    "\n",
    "    # Getting Max Eigenvalues and calculating variance attributed to noise\n",
    "    eMax, var = denoising_transf.findMaxEval(np.diag(eVal))\n",
    "    nFacts0 = eVal.shape[0] - np.diag(eVal)[::-1].searchsorted(eMax)\n",
    "\n",
    "    # Getting PDFs and plotting it\n",
    "    pdf0 = denoising_transf.calcPDF(var)\n",
    "\n",
    "    # Plotting PDFs\n",
    "    ax = pdf0.plot(title=\"Marchenko-Pastur Theorem\", label=\"Marchenko-Pastur\", color=\"deepskyblue\", figsize=(12,7.5))\n",
    "    ax.hist(pd.Series(np.diag(eVal)), density=\"norm\", bins=nbins, label=\"Empirical Value\", color=\"orange\")\n",
    "    ax.set(xlabel=\"λ\", ylabel=\"prob[λ]\")\n",
    "    if (y_scale=='log'):\n",
    "        ax.set_yscale('log')\n",
    "    ax.legend(loc=\"upper right\")\n",
    "    print(f'(Eigenvalues:\\n{np.diag(eVal)[:50]}')"
   ]
  },
  {
   "cell_type": "markdown",
   "id": "eff4730b",
   "metadata": {},
   "source": [
    "Eigenvalues to the right of the fitted Marcenko–Pastur distribution cannot be associated with noise, thus they are\n",
    "related to signal."
   ]
  },
  {
   "cell_type": "code",
   "execution_count": 21,
   "id": "867bc61a",
   "metadata": {
    "scrolled": false
   },
   "outputs": [
    {
     "name": "stdout",
     "output_type": "stream",
     "text": [
      "(Eigenvalues:\n",
      "[ 7.28532629e+00  5.43989329e+00  4.63807446e+00  2.04094571e+00\n",
      "  1.27173520e+00  8.53616777e-01  7.10108144e-01  4.97432064e-01\n",
      "  3.72831340e-01  3.21785335e-01  2.64608733e-01  1.49280829e-01\n",
      "  9.63722117e-02  3.54818085e-02  1.94869417e-02  1.73876312e-03\n",
      "  8.21137809e-04  2.42487005e-04  1.38908182e-04  7.19890724e-05\n",
      "  7.59120739e-06  1.83758447e-16  3.25281130e-17 -1.20197052e-15]\n"
     ]
    },
    {
     "data": {
      "image/png": "[encoded data removed]",
      "text/plain": [
       "<Figure size 1200x750 with 1 Axes>"
      ]
     },
     "metadata": {},
     "output_type": "display_data"
    }
   ],
   "source": [
    "plotMPDistribution(corr0, marcpastur_processor, X.shape[1], y_scale = 'normal')"
   ]
  },
  {
   "cell_type": "markdown",
   "id": "96cb7129",
   "metadata": {},
   "source": [
    "## Using Marcenko Pastur with Syhthetic Data"
   ]
  },
  {
   "cell_type": "markdown",
   "id": "dff690d9",
   "metadata": {},
   "source": [
    "This example was reproduced from $\\textbf{Chap. 2}$ of  $\\textit{Machine Learning for Asset Managers}$, by Marcos M. Lopez de Prado - 1st. edition.\n",
    "\n",
    "Here the author creates a correlation matrix, not all eigenvectors may be random by building a covariance matrix that is not perfectly random, and hence its eigenvalues will only $\\textit{approximately}$ follow the Marcenko–Pastur PDF."
   ]
  },
  {
   "cell_type": "code",
   "execution_count": 22,
   "id": "05af2407",
   "metadata": {},
   "outputs": [],
   "source": [
    "# Adapted from SNIPPET 2.3 ADD SIGNAL TO A RANDOM COVARIANCE MATRIX (Lopez)\n",
    "def getRndCov(nCols,nFacts):\n",
    "    w=np.random.normal(size=(nCols,nFacts))\n",
    "    cov=np.dot(w,w.T) # random cov matrix, however not full rank\n",
    "    cov+=np.diag(np.random.uniform(size=nCols)) # full rank cov\n",
    "    return cov\n",
    "#---------------------------------------------------\n",
    "def cov2corr(cov):\n",
    "    # Derive the correlation matrix from a covariance matrix\n",
    "    std=np.sqrt(np.diag(cov))\n",
    "    corr=cov/np.outer(std,std)\n",
    "    corr[corr<-1],corr[corr>1]=-1,1 # numerical error\n",
    "    return corr\n",
    "#---------------------------------------------------\n",
    "alpha,nCols,nFact,q=.99,1000,100,10.0\n",
    "mp_f_processor = Denoising(alpha=alpha, q = q) \n",
    "cov=np.cov(np.random.normal(size=(10000,1000)),rowvar=0)\n",
    "cov=alpha*cov+(1-alpha)*getRndCov(nCols,nFact) # noise+signal\n",
    "corr0_f=cov2corr(cov)\n",
    "eVal0_f,eVec0_f=mp_f_processor.calcPCA(corr0_f)"
   ]
  },
  {
   "cell_type": "code",
   "execution_count": 23,
   "id": "23ba6bb5",
   "metadata": {
    "scrolled": false
   },
   "outputs": [
    {
     "name": "stdout",
     "output_type": "stream",
     "text": [
      "(Eigenvalues:\n",
      "[8.86930008 8.74623543 8.5994259  8.45134642 8.3902461  8.27164122\n",
      " 8.15491131 8.07746748 7.91091221 7.79284415 7.69695825 7.62014522\n",
      " 7.57934398 7.44393246 7.41866213 7.36282752 7.27240998 7.24695293\n",
      " 7.17364963 7.09943183 7.04688631 7.00402248 6.90700973 6.80290538\n",
      " 6.70853734 6.68335032 6.61118262 6.55974163 6.50685399 6.45290137\n",
      " 6.35872614 6.29353567 6.28426389 6.17611224 6.12587064 6.08670302\n",
      " 6.04481445 6.00188984 5.97058664 5.87464209 5.81922658 5.78713758\n",
      " 5.69848153 5.6849485  5.59540952 5.55775486 5.51379871 5.48752457\n",
      " 5.42016873 5.38987911]\n"
     ]
    },
    {
     "data": {
      "image/png": "[encoded data removed]",
      "text/plain": [
       "<Figure size 1200x750 with 1 Axes>"
      ]
     },
     "metadata": {},
     "output_type": "display_data"
    }
   ],
   "source": [
    "# Plot the distribution with Synthetic Data\n",
    "plotMPDistribution(corr0_f, mp_f_processor, 200)"
   ]
  },
  {
   "cell_type": "markdown",
   "id": "be1fa636",
   "metadata": {},
   "source": [
    "# Monte Carlo Simulation"
   ]
  },
  {
   "cell_type": "markdown",
   "id": "235b9164",
   "metadata": {},
   "source": [
    "Adapted from Chap. 2 of $\\textit{Machine Learning for Asset Managers}$, by Marcos M. Lopez de Prado - 1st. edition\n"
   ]
  },
  {
   "cell_type": "markdown",
   "id": "39158088",
   "metadata": {},
   "source": [
    "This block of code reproduces the example to compute the errors with estimating a minimum variance portfolio with and without noising."
   ]
  },
  {
   "cell_type": "markdown",
   "id": "189bb419",
   "metadata": {},
   "source": [
    "## Generating Block Diagonal Matrix"
   ]
  },
  {
   "cell_type": "markdown",
   "id": "5888d99e",
   "metadata": {},
   "source": [
    "I this block we generate a vector of means and a covariance matrix out of ten blocks of size fifty each, where offdiagonal\n",
    "elements within each block have a correlation of 0.5. This covariance matrix is a stylized representation of a true (nonempirical) detoned correlation matrix of the $\\textbf{S&P 500}$, where each block is associated with an economic sector. \n",
    "\n",
    "Variances are drawn from uniform distribution bounded $[.05, .2]$ and the means sampled from a Standard Normal distribution. This is consistent with the notion that in an efficient market all securities have the same expected Sharpe ratio."
   ]
  },
  {
   "cell_type": "code",
   "execution_count": 24,
   "id": "d136b8d4",
   "metadata": {},
   "outputs": [],
   "source": [
    "from scipy.linalg import block_diag\n",
    "\n",
    "# SNIPPET 2.7 GENERATING A BLOCK-DIAGONAL COVARIANCE MATRIX AND A VECTOR OF MEANS (Lopez)\n",
    "def formBlockMatrix(nBlocks,bSize,bCorr): \n",
    "    block=np.ones((bSize,bSize))*bCorr \n",
    "    block[range(bSize),range(bSize)]=1 \n",
    "    corr=block_diag(*([block]*nBlocks)) \n",
    "    return corr\n",
    "#--------------------------------------------------- \n",
    "def formTrueMatrix(nBlocks,bSize,bCorr):\n",
    "    corr0=formBlockMatrix(nBlocks,bSize,bCorr) \n",
    "    corr0=pd.DataFrame(corr0)\n",
    "    cols=corr0.columns.tolist()\n",
    "    np.random.shuffle(cols) \n",
    "    corr0=corr0[cols].loc[cols].copy(deep=True) \n",
    "    std0=np.random.uniform(.05,.2,corr0.shape[0]) \n",
    "    cov0=Denoising.corr2cov(corr0,std0) \n",
    "    mu0=np.random.normal(std0,std0,cov0.shape[0]).reshape(-1,1) \n",
    "    return mu0,cov0"
   ]
  },
  {
   "cell_type": "markdown",
   "id": "c66076d1",
   "metadata": {},
   "source": [
    "## Generating Empirical Covariance Matrix"
   ]
  },
  {
   "cell_type": "markdown",
   "id": "1be1ba08",
   "metadata": {},
   "source": [
    "Now, $\\textbf{Lopez}$ uses the true (nonempirical) covariance matrix to draw a random matrix $\\tilde{X}$ of size $T\\times N$, and it derives the associated empirical covariance matrix and vector of means."
   ]
  },
  {
   "cell_type": "code",
   "execution_count": 25,
   "id": "adc46d41",
   "metadata": {},
   "outputs": [],
   "source": [
    "from sklearn.covariance import LedoitWolf\n",
    "\n",
    "# SNIPPET 2.8 GENERATING THE EMPIRICAL COVARIANCE MATRIX\n",
    "def simCovMu(mu0, cov0, nObs, shrink=False): \n",
    "    x=np.random.multivariate_normal(mu0.flatten(),cov0,size=nObs) \n",
    "    mu1=x.mean(axis=0).reshape(-1,1)\n",
    "    if shrink:\n",
    "        cov1=LedoitWolf().fit(x).covariance_ \n",
    "    else:\n",
    "        cov1=np.cov(x,rowvar=0)\n",
    "    return mu1,cov1"
   ]
  },
  {
   "cell_type": "markdown",
   "id": "a35301a0",
   "metadata": {},
   "source": [
    "### Denoising the Empirical Cov Matrix"
   ]
  },
  {
   "cell_type": "markdown",
   "id": "b41ad9dd",
   "metadata": {},
   "source": [
    "Here, Lopez applies the denoising routine to denoise the empirical covariance matrix. In this particular experiment, we denoise through the $\\textit{constant residual eigenvalue}$ method."
   ]
  },
  {
   "cell_type": "code",
   "execution_count": 26,
   "id": "f4fb0416",
   "metadata": {},
   "outputs": [],
   "source": [
    "# SNIPPET 2.9 DENOISING OF THE EMPIRICAL COVARIANCE MATRIX\n",
    "#--------------------------------------------------- \n",
    "def deNoiseCov(cov0,d_transf):\n",
    "    corr0=Denoising.cov2corr(cov0)\n",
    "    eVal0,eVec0=d_transf.calcPCA(corr0) \n",
    "    eMax0,var0=d_transf.findMaxEval(np.diag(eVal0)) \n",
    "    nFacts0=eVal0.shape[0]-np.diag(eVal0)[::-1].searchsorted(eMax0) \n",
    "    corr1=d_transf.denoisedCorr(eVal0,eVec0,nFacts0) \n",
    "    cov1=Denoising.corr2cov(corr1,np.diag(cov0)**.5)\n",
    "    return cov1"
   ]
  },
  {
   "cell_type": "code",
   "execution_count": 27,
   "id": "73f1da06",
   "metadata": {},
   "outputs": [],
   "source": [
    "#----- Generating Block Diagonal Cov Matrix and Vector of Means\n",
    "nBlocks,bSize,bCorr=10,50,.5\n",
    "np.random.seed(0)\n",
    "mu0,cov0=formTrueMatrix(nBlocks,bSize,bCorr)"
   ]
  },
  {
   "cell_type": "code",
   "execution_count": 28,
   "id": "cb3f1011",
   "metadata": {},
   "outputs": [],
   "source": [
    "#----- Generating Empirical Cov Matrix\n",
    "mu1, cov1 = simCovMu(mu0,cov0,1000,shrink=True)"
   ]
  },
  {
   "cell_type": "code",
   "execution_count": 29,
   "id": "803047ba",
   "metadata": {},
   "outputs": [
    {
     "data": {
      "image/png": "[encoded data removed]",
      "text/plain": [
       "<Figure size 750x350 with 4 Axes>"
      ]
     },
     "metadata": {},
     "output_type": "display_data"
    }
   ],
   "source": [
    "# Compare the correlation matrix before and after denoising\n",
    "plotHeatMaps(corr0, corr1, 'Residual Eigenvalue')"
   ]
  },
  {
   "cell_type": "markdown",
   "id": "c22bbb0c",
   "metadata": {},
   "source": [
    "### Simulation"
   ]
  },
  {
   "cell_type": "markdown",
   "id": "c610e027",
   "metadata": {},
   "source": [
    "This runs the following $\\textit{Monte Carlo experiment}$ with $1,000$ iterations: (1) draw a random empirical covariance matrix (shrinkage optional) with $T=1,000$; (2) denoise the empirical covariance matrix (optional); (3) derive the minimum variance portfolio, using the function $\\texttt{optPort}$. When we pass the argument shrink=True to function $\\texttt{simCovMu}$, the covariance matrix is shrunk."
   ]
  },
  {
   "cell_type": "code",
   "execution_count": 30,
   "id": "2d669191",
   "metadata": {},
   "outputs": [],
   "source": [
    "def optPort(cov,mu=None):\n",
    "    inv = np.linalg.inv(cov)\n",
    "    ones = np.ones(shape=(inv.shape[0],1))\n",
    "    if mu is None:\n",
    "        mu = ones\n",
    "    w = np.dot(inv,mu)\n",
    "    w /= np.dot(ones.T,w)\n",
    "    return w\n",
    "#---------------------------------------------------\n",
    "nObs,nTrials,bWidth,shrink,minVarPortf=1000,100,.01,False,True\n",
    "\n",
    "mc_processor = Denoising(q=nObs*1./cov1.shape[1])\n",
    "\n",
    "w1=pd.DataFrame(columns=range(cov0.shape[0]),\n",
    "        index=range(nTrials),dtype=float)\n",
    "w1_d=w1.copy(deep=True)\n",
    "np.random.seed(0)\n",
    "for i in range(nTrials):\n",
    "    mu1,cov1=simCovMu(mu0,cov0,nObs,shrink=shrink)\n",
    "    if minVarPortf: \n",
    "        mu1=None\n",
    "    cov1_d=deNoiseCov(cov1,mc_processor)\n",
    "    w1.loc[i]=optPort(cov1,mu1).flatten()\n",
    "    w1_d.loc[i]=optPort(cov1_d,mu1).flatten()"
   ]
  },
  {
   "cell_type": "markdown",
   "id": "bfaab9a2",
   "metadata": {},
   "source": [
    "Following the simulation, Lopez computes the true minimum variance portfolio, derived from the true covariance matrix. Using those allocations as benchmark, it then computes the root-mean-square errors (RMSE) across all weights, with and\n",
    "without denoising."
   ]
  },
  {
   "cell_type": "code",
   "execution_count": 31,
   "id": "8c9bcfe0",
   "metadata": {
    "scrolled": true
   },
   "outputs": [
    {
     "name": "stdout",
     "output_type": "stream",
     "text": [
      "Total RSME:\n",
      "-----------\n",
      "\n",
      "Non-Denoised 0.4993% | Denoised 0.1138%\n",
      "Ratio: 0.2278\n"
     ]
    }
   ],
   "source": [
    "#----- Root Mean Errors\n",
    "w0=optPort(cov0,None if minVarPortf else mu0)\n",
    "w0=np.repeat(w0.T,w1.shape[0],axis=0)\n",
    "rmsd=np.mean((w1-w0).values.flatten()**2)**.5 # RMSE\n",
    "rmsd_d=np.mean((w1_d-w0).values.flatten()**2)**.5 # RMSE\n",
    "print(f\"Total RSME:\")\n",
    "print(\"-----------\\n\")\n",
    "print(f\"Non-Denoised {rmsd*100:.4f}% | Denoised {rmsd_d*100:.4f}%\")\n",
    "print(f\"Ratio: {rmsd_d/rmsd:.4f}\")"
   ]
  },
  {
   "cell_type": "code",
   "execution_count": null,
   "id": "27a19c06",
   "metadata": {},
   "outputs": [],
   "source": []
  }
 ],
 "metadata": {
  "kernelspec": {
   "display_name": "Python 3 (ipykernel)",
   "language": "python",
   "name": "python3"
  },
  "language_info": {
   "codemirror_mode": {
    "name": "ipython",
    "version": 3
   },
   "file_extension": ".py",
   "mimetype": "text/x-python",
   "name": "python",
   "nbconvert_exporter": "python",
   "pygments_lexer": "ipython3",
   "version": "3.9.12"
  }
 },
 "nbformat": 4,
 "nbformat_minor": 5
}
