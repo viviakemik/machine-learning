{
 "cells": [
  {
   "cell_type": "markdown",
   "id": "748df61a",
   "metadata": {},
   "source": [
    "$\\textbf{*** This version uses the }\\texttt{Dataloader, Asset, Portfolio}\\textbf{ classes to load data}$"
   ]
  },
  {
   "cell_type": "code",
   "execution_count": 1,
   "id": "3a538614",
   "metadata": {},
   "outputs": [],
   "source": [
    "import sys\n",
    "import importlib\n",
    "sys.path.append('../')\n",
    "\n",
    "from IPython.display import display, Math, Latex\n",
    "\n",
    "# From data_preparation classes\n",
    "from src.finance_ml.data_preparation.data_preparation import DataLoader\n",
    "\n",
    "from src.finance_ml.indicators.indicators import Indicators"
   ]
  },
  {
   "cell_type": "code",
   "execution_count": 2,
   "id": "c016e88a",
   "metadata": {
    "scrolled": true
   },
   "outputs": [],
   "source": [
    "# Import required packages\n",
    "import pandas as pd\n",
    "import numpy as np"
   ]
  },
  {
   "cell_type": "markdown",
   "id": "dda17b5f",
   "metadata": {},
   "source": [
    "## Reading the Data File"
   ]
  },
  {
   "cell_type": "code",
   "execution_count": 3,
   "id": "3894b0a2",
   "metadata": {},
   "outputs": [],
   "source": [
    "# Defining time_index_col (must be the same column in all inputs) and keep_cols refering to the columns that will remain in the dataset\n",
    "dataloader = DataLoader(time_index_col= 'DATE', \n",
    "                    keep_cols = ['VOLUME','OPEN', 'HIGHT', 'LOW', 'CLOSE', 'VW','TRANSACTIONS'])"
   ]
  },
  {
   "cell_type": "markdown",
   "id": "7e252d2c",
   "metadata": {},
   "source": [
    "Here we will select $N=10,000$ ticks from our database for simplicity. We also select the equity $\\textbf{USDBRL}$ from  the data available."
   ]
  },
  {
   "cell_type": "code",
   "execution_count": 4,
   "id": "69ed8a17",
   "metadata": {},
   "outputs": [],
   "source": [
    "# Example Files\n",
    "fname_RUBEUR = 'FX/RUBEUR_2020-04-07_2022-04-06.parquet'\n",
    "fname_USDBRL = 'FX/USDBRL_2020-04-07_2022-04-06.parquet'\n",
    "fname_AAPL = 'equities/AAPL_2020-04-07_2022-04-06.parquet'\n",
    "\n",
    "# No. of Records from example dataset\n",
    "N = 10000"
   ]
  },
  {
   "cell_type": "code",
   "execution_count": 5,
   "id": "7bfab5c2",
   "metadata": {},
   "outputs": [],
   "source": [
    "# Dataset chosen in this simulation\n",
    "ticker = 'USDBRL'\n",
    "fname = fname_USDBRL"
   ]
  },
  {
   "cell_type": "code",
   "execution_count": 6,
   "id": "c04a64dd",
   "metadata": {
    "scrolled": true
   },
   "outputs": [
    {
     "data": {
      "text/plain": "                     USDBRL_VOLUME  USDBRL_OPEN  USDBRL_HIGHT  USDBRL_LOW  \\\nDATE                                                                        \n2020-04-07 18:54:00              2      5.22120       5.22125     5.22120   \n2020-04-07 18:55:00              3      5.22115       5.22125     5.22115   \n2020-04-07 18:59:00              2      5.22110       5.22115     5.22110   \n2020-04-07 19:02:00              1      5.22120       5.22120     5.22120   \n2020-04-07 19:03:00              3      5.22135       5.22135     5.22105   \n...                            ...          ...           ...         ...   \n2020-04-27 14:14:00             10      5.69465       5.69465     5.69190   \n2020-04-27 14:15:00              9      5.69065       5.70145     5.69065   \n2020-04-27 14:16:00             10      5.70066       5.70295     5.70066   \n2020-04-27 14:17:00              9      5.70255       5.70255     5.69845   \n2020-04-27 14:18:00              8      5.69845       5.69980     5.69845   \n\n                     USDBRL_CLOSE  USDBRL_VW  USDBRL_TRANSACTIONS  \nDATE                                                               \n2020-04-07 18:54:00       5.22125     5.2212                    2  \n2020-04-07 18:55:00       5.22125     5.2212                    3  \n2020-04-07 18:59:00       5.22115     5.2211                    2  \n2020-04-07 19:02:00       5.22120     5.2212                    1  \n2020-04-07 19:03:00       5.22105     5.2212                    3  \n...                           ...        ...                  ...  \n2020-04-27 14:14:00       5.69190     5.6937                   10  \n2020-04-27 14:15:00       5.70081     5.6986                    9  \n2020-04-27 14:16:00       5.70270     5.7019                   10  \n2020-04-27 14:17:00       5.69845     5.7003                    9  \n2020-04-27 14:18:00       5.69980     5.6992                    8  \n\n[10000 rows x 7 columns]",
      "text/html": "<div>\n<style scoped>\n    .dataframe tbody tr th:only-of-type {\n        vertical-align: middle;\n    }\n\n    .dataframe tbody tr th {\n        vertical-align: top;\n    }\n\n    .dataframe thead th {\n        text-align: right;\n    }\n</style>\n<table border=\"1\" class=\"dataframe\">\n  <thead>\n    <tr style=\"text-align: right;\">\n      <th></th>\n      <th>USDBRL_VOLUME</th>\n      <th>USDBRL_OPEN</th>\n      <th>USDBRL_HIGHT</th>\n      <th>USDBRL_LOW</th>\n      <th>USDBRL_CLOSE</th>\n      <th>USDBRL_VW</th>\n      <th>USDBRL_TRANSACTIONS</th>\n    </tr>\n    <tr>\n      <th>DATE</th>\n      <th></th>\n      <th></th>\n      <th></th>\n      <th></th>\n      <th></th>\n      <th></th>\n      <th></th>\n    </tr>\n  </thead>\n  <tbody>\n    <tr>\n      <th>2020-04-07 18:54:00</th>\n      <td>2</td>\n      <td>5.22120</td>\n      <td>5.22125</td>\n      <td>5.22120</td>\n      <td>5.22125</td>\n      <td>5.2212</td>\n      <td>2</td>\n    </tr>\n    <tr>\n      <th>2020-04-07 18:55:00</th>\n      <td>3</td>\n      <td>5.22115</td>\n      <td>5.22125</td>\n      <td>5.22115</td>\n      <td>5.22125</td>\n      <td>5.2212</td>\n      <td>3</td>\n    </tr>\n    <tr>\n      <th>2020-04-07 18:59:00</th>\n      <td>2</td>\n      <td>5.22110</td>\n      <td>5.22115</td>\n      <td>5.22110</td>\n      <td>5.22115</td>\n      <td>5.2211</td>\n      <td>2</td>\n    </tr>\n    <tr>\n      <th>2020-04-07 19:02:00</th>\n      <td>1</td>\n      <td>5.22120</td>\n      <td>5.22120</td>\n      <td>5.22120</td>\n      <td>5.22120</td>\n      <td>5.2212</td>\n      <td>1</td>\n    </tr>\n    <tr>\n      <th>2020-04-07 19:03:00</th>\n      <td>3</td>\n      <td>5.22135</td>\n      <td>5.22135</td>\n      <td>5.22105</td>\n      <td>5.22105</td>\n      <td>5.2212</td>\n      <td>3</td>\n    </tr>\n    <tr>\n      <th>...</th>\n      <td>...</td>\n      <td>...</td>\n      <td>...</td>\n      <td>...</td>\n      <td>...</td>\n      <td>...</td>\n      <td>...</td>\n    </tr>\n    <tr>\n      <th>2020-04-27 14:14:00</th>\n      <td>10</td>\n      <td>5.69465</td>\n      <td>5.69465</td>\n      <td>5.69190</td>\n      <td>5.69190</td>\n      <td>5.6937</td>\n      <td>10</td>\n    </tr>\n    <tr>\n      <th>2020-04-27 14:15:00</th>\n      <td>9</td>\n      <td>5.69065</td>\n      <td>5.70145</td>\n      <td>5.69065</td>\n      <td>5.70081</td>\n      <td>5.6986</td>\n      <td>9</td>\n    </tr>\n    <tr>\n      <th>2020-04-27 14:16:00</th>\n      <td>10</td>\n      <td>5.70066</td>\n      <td>5.70295</td>\n      <td>5.70066</td>\n      <td>5.70270</td>\n      <td>5.7019</td>\n      <td>10</td>\n    </tr>\n    <tr>\n      <th>2020-04-27 14:17:00</th>\n      <td>9</td>\n      <td>5.70255</td>\n      <td>5.70255</td>\n      <td>5.69845</td>\n      <td>5.69845</td>\n      <td>5.7003</td>\n      <td>9</td>\n    </tr>\n    <tr>\n      <th>2020-04-27 14:18:00</th>\n      <td>8</td>\n      <td>5.69845</td>\n      <td>5.69980</td>\n      <td>5.69845</td>\n      <td>5.69980</td>\n      <td>5.6992</td>\n      <td>8</td>\n    </tr>\n  </tbody>\n</table>\n<p>10000 rows × 7 columns</p>\n</div>"
     },
     "metadata": {},
     "output_type": "display_data"
    }
   ],
   "source": [
    "# loading assets into to an unique df\n",
    "df = dataloader.load_dataset({ticker:'../data/'+fname}).iloc[:N]\n",
    "display(df)"
   ]
  },
  {
   "cell_type": "code",
   "execution_count": 7,
   "id": "bd3b54ed",
   "metadata": {},
   "outputs": [],
   "source": [
    "data_cols = ['DATE', 'OPEN', 'HIGHT', 'LOW', 'CLOSE', 'VW', 'VOLUME']\n",
    "\n",
    "# Columns of indicators with default parameters\n",
    "var_cols = ['CLOSE_returns',\n",
    "       'CLOSE_log_returns', 'CLOSE_price_change',\n",
    "       'CLOSE_pct_change', 'RA_5', 'RA_10', 'AMPL',\n",
    "       'OPNCLS', 'MA_5', 'MA_10', 'V_MA_5', 'V_MA_10',\n",
    "       'V_MA_20', 'KAMA_w10p(02,30)', 'PPO_w(26,12)',\n",
    "       'PVO_w(26,12)s09', 'PVOH_w(26,12)s09',\n",
    "       'PVOsgn_w(26,12)s09', 'ROC_w12', 'RSI_w14',\n",
    "       'StRSI_w14s(03,03)', 'StRSId_w14s(03,03)',\n",
    "       'StRSIk_w14s(03,03)', 'SO_w14s03', 'SOsgn_w14s03',\n",
    "       'AOI_w(05,34)', 'TSI_w(25,13)',\n",
    "       'UO_wi(07,14,28)wg(4.0,2.0,1.0)', 'WRI_14', 'ADI',\n",
    "       'CMF_w20', 'EOM_w14', 'EMV_w14', 'FI_w13',\n",
    "       'MFI_w14', 'NVI', 'OBV', 'VPT', 'VWAP_w14',\n",
    "       'ADXP_w14', 'ADXN_w14', 'AROOND_w25', 'AROON_w25',\n",
    "       'AROONU_w25', 'CCI_w20', 'DPO_w20', 'EMA_w14','SMA_w14',\n",
    "       'ICHIA_w(09,26,52)', 'ICHIB_w(09,26,52)',\n",
    "       'ICHIBL_w(09,26,52)', 'ICHICL_w(09,26,52)',\n",
    "       'KST_r(10,15,20,30)_w(10,10,10,15)',\n",
    "       'KSTD_r(10,15,20,30)_w(10,10,10,15)',\n",
    "       'KSTS_r(10,15,20,30)_w(10,10,10,15)', 'MACD_w(26,12,09)',\n",
    "       'MACDD_w(26,12,09)', 'MACDS_w(26,12,09)', 'MI_w(09,25)',\n",
    "       'PSAR_s(0.02,0.2)', 'PSARD_s(0.02,0.2)',\n",
    "       'PSARDI_s(0.02,0.2)', 'PSARU_s(0.02,0.2)',\n",
    "       'PSARUI_s(0.02,0.2)', 'STC_w(50,23)c10s(03,03)',\n",
    "       'TRIX_w15', 'VI_w14', 'VIN_w14', 'VIP_w14',\n",
    "       'WMA_w09']\n",
    "\n",
    "# For each of calculated column, we add the ticker code, as standardized by class 𝙳𝚊𝚝𝚊𝙻𝚘𝚊𝚍𝚎𝚛\n",
    "var_cols = [ticker+'_'+col for col in var_cols]\n",
    "norm_cols = [col + '_norm' for col in var_cols]"
   ]
  },
  {
   "cell_type": "markdown",
   "id": "83facc0f",
   "metadata": {},
   "source": [
    "# Indicators"
   ]
  },
  {
   "cell_type": "markdown",
   "id": "3e3d424e",
   "metadata": {},
   "source": [
    "## Calculate Indicators"
   ]
  },
  {
   "cell_type": "code",
   "execution_count": 8,
   "id": "c79b75dc",
   "metadata": {
    "scrolled": true
   },
   "outputs": [],
   "source": [
    "# Process data normalization\n",
    "norm_data = True\n",
    "\n",
    "# Select Indicator transformer\n",
    "ind_processor = Indicators(ticker = ticker, norm_data = True)\n",
    "\n",
    "# Calculate Indicators over input dataframe\n",
    "df = ind_processor.fit_transform(df)\n",
    "\n",
    "if (norm_data):\n",
    "    df_norm = ind_processor.data_norm"
   ]
  },
  {
   "cell_type": "code",
   "execution_count": 9,
   "id": "af74f1b1",
   "metadata": {},
   "outputs": [
    {
     "data": {
      "text/plain": "                     USDBRL_CLOSE_returns  USDBRL_CLOSE_log_returns  \\\nDATE                                                                  \n2020-04-07 22:24:00              0.999981                 -0.000019   \n2020-04-07 22:29:00              0.999952                 -0.000048   \n2020-04-07 22:32:00              1.000010                  0.000010   \n2020-04-07 22:34:00              0.999981                 -0.000019   \n2020-04-07 22:39:00              1.000019                  0.000019   \n...                                   ...                       ...   \n2020-04-27 14:14:00              0.999447                 -0.000553   \n2020-04-27 14:15:00              1.001565                  0.001564   \n2020-04-27 14:16:00              1.000332                  0.000331   \n2020-04-27 14:17:00              0.999255                 -0.000746   \n2020-04-27 14:18:00              1.000237                  0.000237   \n\n                     USDBRL_CLOSE_price_change  USDBRL_CLOSE_pct_change  \\\nDATE                                                                      \n2020-04-07 22:24:00                   -0.00010                -0.000019   \n2020-04-07 22:29:00                   -0.00025                -0.000048   \n2020-04-07 22:32:00                    0.00005                 0.000010   \n2020-04-07 22:34:00                   -0.00010                -0.000019   \n2020-04-07 22:39:00                    0.00010                 0.000019   \n...                                        ...                      ...   \n2020-04-27 14:14:00                   -0.00315                -0.000553   \n2020-04-27 14:15:00                    0.00891                 0.001565   \n2020-04-27 14:16:00                    0.00189                 0.000332   \n2020-04-27 14:17:00                   -0.00425                -0.000745   \n2020-04-27 14:18:00                    0.00135                 0.000237   \n\n                     USDBRL_RA_5  USDBRL_RA_10  USDBRL_AMPL  USDBRL_OPNCLS  \\\nDATE                                                                         \n2020-04-07 22:24:00     0.000067      0.000091      0.00005        0.00000   \n2020-04-07 22:29:00     0.000160      0.000118      0.00015        0.00010   \n2020-04-07 22:32:00     0.000178      0.000130      0.00010       -0.00010   \n2020-04-07 22:34:00     0.000172      0.000156      0.00005        0.00005   \n2020-04-07 22:39:00     0.000114      0.000163      0.00005       -0.00005   \n...                          ...           ...          ...            ...   \n2020-04-27 14:14:00     0.001382      0.001399      0.00275       -0.00275   \n2020-04-27 14:15:00     0.003239      0.002403      0.01080        0.01016   \n2020-04-27 14:16:00     0.004477      0.003341      0.00229        0.00204   \n2020-04-27 14:17:00     0.004355      0.003434      0.00410       -0.00410   \n2020-04-27 14:18:00     0.004122      0.003614      0.00135        0.00135   \n\n                     USDBRL_MA_5  USDBRL_MA_10  ...  USDBRL_PSARD_s(0.02,0.2)  \\\nDATE                                            ...                             \n2020-04-07 22:24:00     5.221720      5.221650  ...                  5.221724   \n2020-04-07 22:29:00     5.221670      5.221635  ...                  5.221900   \n2020-04-07 22:32:00     5.221610      5.221625  ...                  5.221888   \n2020-04-07 22:34:00     5.221520      5.221600  ...                  5.221876   \n2020-04-07 22:39:00     5.221460      5.221590  ...                  5.221865   \n...                          ...           ...  ...                       ...   \n2020-04-27 14:14:00     5.694090      5.694032  ...                  5.695328   \n2020-04-27 14:15:00     5.695542      5.694908  ...                  5.696850   \n2020-04-27 14:16:00     5.697122      5.695863  ...                  5.696850   \n2020-04-27 14:17:00     5.697782      5.696158  ...                  5.696850   \n2020-04-27 14:18:00     5.698732      5.696568  ...                  5.696850   \n\n                     USDBRL_PSARDI_s(0.02,0.2)  USDBRL_PSARU_s(0.02,0.2)  \\\nDATE                                                                       \n2020-04-07 22:24:00                        0.0                  5.221347   \n2020-04-07 22:29:00                        1.0                  5.221347   \n2020-04-07 22:32:00                        0.0                  5.221347   \n2020-04-07 22:34:00                        0.0                  5.221347   \n2020-04-07 22:39:00                        0.0                  5.221347   \n...                                        ...                       ...   \n2020-04-27 14:14:00                        0.0                  5.691505   \n2020-04-27 14:15:00                        1.0                  5.691505   \n2020-04-27 14:16:00                        0.0                  5.690650   \n2020-04-27 14:17:00                        0.0                  5.690650   \n2020-04-27 14:18:00                        0.0                  5.690896   \n\n                     USDBRL_PSARUI_s(0.02,0.2)  \\\nDATE                                             \n2020-04-07 22:24:00                        0.0   \n2020-04-07 22:29:00                        0.0   \n2020-04-07 22:32:00                        0.0   \n2020-04-07 22:34:00                        0.0   \n2020-04-07 22:39:00                        0.0   \n...                                        ...   \n2020-04-27 14:14:00                        0.0   \n2020-04-27 14:15:00                        0.0   \n2020-04-27 14:16:00                        1.0   \n2020-04-27 14:17:00                        0.0   \n2020-04-27 14:18:00                        0.0   \n\n                     USDBRL_STC_w(50,23)c10s(03,03)  USDBRL_TRIX_w15  \\\nDATE                                                                   \n2020-04-07 22:24:00                       98.743281         0.000123   \n2020-04-07 22:29:00                       55.106291         0.000120   \n2020-04-07 22:32:00                       27.553145         0.000110   \n2020-04-07 22:34:00                       13.776573         0.000092   \n2020-04-07 22:39:00                        6.888286         0.000073   \n...                                             ...              ...   \n2020-04-27 14:14:00                       86.086922         0.003425   \n2020-04-27 14:15:00                       87.884251         0.003517   \n2020-04-27 14:16:00                       91.773046         0.003819   \n2020-04-27 14:17:00                       95.619386         0.004094   \n2020-04-27 14:18:00                       97.809693         0.004377   \n\n                     USDBRL_VI_w14  USDBRL_VIN_w14  USDBRL_VIP_w14  \\\nDATE                                                                 \n2020-04-07 22:24:00  -1.719069e-12        0.935484        0.935484   \n2020-04-07 22:29:00  -5.405405e-02        0.918919        0.864865   \n2020-04-07 22:32:00   2.631579e-02        0.868421        0.894737   \n2020-04-07 22:34:00  -2.564103e-02        0.923077        0.897436   \n2020-04-07 22:39:00  -5.263158e-02        0.921053        0.868421   \n...                            ...             ...             ...   \n2020-04-27 14:14:00   4.681230e-02        0.948729        0.995542   \n2020-04-27 14:15:00   2.865738e-01        0.703927        0.990500   \n2020-04-27 14:16:00   6.319056e-01        0.666356        1.298262   \n2020-04-27 14:17:00   4.819960e-01        0.706549        1.188546   \n2020-04-27 14:18:00   3.626652e-01        0.803205        1.165870   \n\n                     USDBRL_WMA_w09  \nDATE                                 \n2020-04-07 22:24:00        5.221693  \n2020-04-07 22:29:00        5.221641  \n2020-04-07 22:32:00        5.221602  \n2020-04-07 22:34:00        5.221547  \n2020-04-07 22:39:00        5.221516  \n...                             ...  \n2020-04-27 14:14:00        5.694116  \n2020-04-27 14:15:00        5.695428  \n2020-04-27 14:16:00        5.696947  \n2020-04-27 14:17:00        5.697456  \n2020-04-27 14:18:00        5.698175  \n\n[9929 rows x 70 columns]",
      "text/html": "<div>\n<style scoped>\n    .dataframe tbody tr th:only-of-type {\n        vertical-align: middle;\n    }\n\n    .dataframe tbody tr th {\n        vertical-align: top;\n    }\n\n    .dataframe thead th {\n        text-align: right;\n    }\n</style>\n<table border=\"1\" class=\"dataframe\">\n  <thead>\n    <tr style=\"text-align: right;\">\n      <th></th>\n      <th>USDBRL_CLOSE_returns</th>\n      <th>USDBRL_CLOSE_log_returns</th>\n      <th>USDBRL_CLOSE_price_change</th>\n      <th>USDBRL_CLOSE_pct_change</th>\n      <th>USDBRL_RA_5</th>\n      <th>USDBRL_RA_10</th>\n      <th>USDBRL_AMPL</th>\n      <th>USDBRL_OPNCLS</th>\n      <th>USDBRL_MA_5</th>\n      <th>USDBRL_MA_10</th>\n      <th>...</th>\n      <th>USDBRL_PSARD_s(0.02,0.2)</th>\n      <th>USDBRL_PSARDI_s(0.02,0.2)</th>\n      <th>USDBRL_PSARU_s(0.02,0.2)</th>\n      <th>USDBRL_PSARUI_s(0.02,0.2)</th>\n      <th>USDBRL_STC_w(50,23)c10s(03,03)</th>\n      <th>USDBRL_TRIX_w15</th>\n      <th>USDBRL_VI_w14</th>\n      <th>USDBRL_VIN_w14</th>\n      <th>USDBRL_VIP_w14</th>\n      <th>USDBRL_WMA_w09</th>\n    </tr>\n    <tr>\n      <th>DATE</th>\n      <th></th>\n      <th></th>\n      <th></th>\n      <th></th>\n      <th></th>\n      <th></th>\n      <th></th>\n      <th></th>\n      <th></th>\n      <th></th>\n      <th></th>\n      <th></th>\n      <th></th>\n      <th></th>\n      <th></th>\n      <th></th>\n      <th></th>\n      <th></th>\n      <th></th>\n      <th></th>\n      <th></th>\n    </tr>\n  </thead>\n  <tbody>\n    <tr>\n      <th>2020-04-07 22:24:00</th>\n      <td>0.999981</td>\n      <td>-0.000019</td>\n      <td>-0.00010</td>\n      <td>-0.000019</td>\n      <td>0.000067</td>\n      <td>0.000091</td>\n      <td>0.00005</td>\n      <td>0.00000</td>\n      <td>5.221720</td>\n      <td>5.221650</td>\n      <td>...</td>\n      <td>5.221724</td>\n      <td>0.0</td>\n      <td>5.221347</td>\n      <td>0.0</td>\n      <td>98.743281</td>\n      <td>0.000123</td>\n      <td>-1.719069e-12</td>\n      <td>0.935484</td>\n      <td>0.935484</td>\n      <td>5.221693</td>\n    </tr>\n    <tr>\n      <th>2020-04-07 22:29:00</th>\n      <td>0.999952</td>\n      <td>-0.000048</td>\n      <td>-0.00025</td>\n      <td>-0.000048</td>\n      <td>0.000160</td>\n      <td>0.000118</td>\n      <td>0.00015</td>\n      <td>0.00010</td>\n      <td>5.221670</td>\n      <td>5.221635</td>\n      <td>...</td>\n      <td>5.221900</td>\n      <td>1.0</td>\n      <td>5.221347</td>\n      <td>0.0</td>\n      <td>55.106291</td>\n      <td>0.000120</td>\n      <td>-5.405405e-02</td>\n      <td>0.918919</td>\n      <td>0.864865</td>\n      <td>5.221641</td>\n    </tr>\n    <tr>\n      <th>2020-04-07 22:32:00</th>\n      <td>1.000010</td>\n      <td>0.000010</td>\n      <td>0.00005</td>\n      <td>0.000010</td>\n      <td>0.000178</td>\n      <td>0.000130</td>\n      <td>0.00010</td>\n      <td>-0.00010</td>\n      <td>5.221610</td>\n      <td>5.221625</td>\n      <td>...</td>\n      <td>5.221888</td>\n      <td>0.0</td>\n      <td>5.221347</td>\n      <td>0.0</td>\n      <td>27.553145</td>\n      <td>0.000110</td>\n      <td>2.631579e-02</td>\n      <td>0.868421</td>\n      <td>0.894737</td>\n      <td>5.221602</td>\n    </tr>\n    <tr>\n      <th>2020-04-07 22:34:00</th>\n      <td>0.999981</td>\n      <td>-0.000019</td>\n      <td>-0.00010</td>\n      <td>-0.000019</td>\n      <td>0.000172</td>\n      <td>0.000156</td>\n      <td>0.00005</td>\n      <td>0.00005</td>\n      <td>5.221520</td>\n      <td>5.221600</td>\n      <td>...</td>\n      <td>5.221876</td>\n      <td>0.0</td>\n      <td>5.221347</td>\n      <td>0.0</td>\n      <td>13.776573</td>\n      <td>0.000092</td>\n      <td>-2.564103e-02</td>\n      <td>0.923077</td>\n      <td>0.897436</td>\n      <td>5.221547</td>\n    </tr>\n    <tr>\n      <th>2020-04-07 22:39:00</th>\n      <td>1.000019</td>\n      <td>0.000019</td>\n      <td>0.00010</td>\n      <td>0.000019</td>\n      <td>0.000114</td>\n      <td>0.000163</td>\n      <td>0.00005</td>\n      <td>-0.00005</td>\n      <td>5.221460</td>\n      <td>5.221590</td>\n      <td>...</td>\n      <td>5.221865</td>\n      <td>0.0</td>\n      <td>5.221347</td>\n      <td>0.0</td>\n      <td>6.888286</td>\n      <td>0.000073</td>\n      <td>-5.263158e-02</td>\n      <td>0.921053</td>\n      <td>0.868421</td>\n      <td>5.221516</td>\n    </tr>\n    <tr>\n      <th>...</th>\n      <td>...</td>\n      <td>...</td>\n      <td>...</td>\n      <td>...</td>\n      <td>...</td>\n      <td>...</td>\n      <td>...</td>\n      <td>...</td>\n      <td>...</td>\n      <td>...</td>\n      <td>...</td>\n      <td>...</td>\n      <td>...</td>\n      <td>...</td>\n      <td>...</td>\n      <td>...</td>\n      <td>...</td>\n      <td>...</td>\n      <td>...</td>\n      <td>...</td>\n      <td>...</td>\n    </tr>\n    <tr>\n      <th>2020-04-27 14:14:00</th>\n      <td>0.999447</td>\n      <td>-0.000553</td>\n      <td>-0.00315</td>\n      <td>-0.000553</td>\n      <td>0.001382</td>\n      <td>0.001399</td>\n      <td>0.00275</td>\n      <td>-0.00275</td>\n      <td>5.694090</td>\n      <td>5.694032</td>\n      <td>...</td>\n      <td>5.695328</td>\n      <td>0.0</td>\n      <td>5.691505</td>\n      <td>0.0</td>\n      <td>86.086922</td>\n      <td>0.003425</td>\n      <td>4.681230e-02</td>\n      <td>0.948729</td>\n      <td>0.995542</td>\n      <td>5.694116</td>\n    </tr>\n    <tr>\n      <th>2020-04-27 14:15:00</th>\n      <td>1.001565</td>\n      <td>0.001564</td>\n      <td>0.00891</td>\n      <td>0.001565</td>\n      <td>0.003239</td>\n      <td>0.002403</td>\n      <td>0.01080</td>\n      <td>0.01016</td>\n      <td>5.695542</td>\n      <td>5.694908</td>\n      <td>...</td>\n      <td>5.696850</td>\n      <td>1.0</td>\n      <td>5.691505</td>\n      <td>0.0</td>\n      <td>87.884251</td>\n      <td>0.003517</td>\n      <td>2.865738e-01</td>\n      <td>0.703927</td>\n      <td>0.990500</td>\n      <td>5.695428</td>\n    </tr>\n    <tr>\n      <th>2020-04-27 14:16:00</th>\n      <td>1.000332</td>\n      <td>0.000331</td>\n      <td>0.00189</td>\n      <td>0.000332</td>\n      <td>0.004477</td>\n      <td>0.003341</td>\n      <td>0.00229</td>\n      <td>0.00204</td>\n      <td>5.697122</td>\n      <td>5.695863</td>\n      <td>...</td>\n      <td>5.696850</td>\n      <td>0.0</td>\n      <td>5.690650</td>\n      <td>1.0</td>\n      <td>91.773046</td>\n      <td>0.003819</td>\n      <td>6.319056e-01</td>\n      <td>0.666356</td>\n      <td>1.298262</td>\n      <td>5.696947</td>\n    </tr>\n    <tr>\n      <th>2020-04-27 14:17:00</th>\n      <td>0.999255</td>\n      <td>-0.000746</td>\n      <td>-0.00425</td>\n      <td>-0.000745</td>\n      <td>0.004355</td>\n      <td>0.003434</td>\n      <td>0.00410</td>\n      <td>-0.00410</td>\n      <td>5.697782</td>\n      <td>5.696158</td>\n      <td>...</td>\n      <td>5.696850</td>\n      <td>0.0</td>\n      <td>5.690650</td>\n      <td>0.0</td>\n      <td>95.619386</td>\n      <td>0.004094</td>\n      <td>4.819960e-01</td>\n      <td>0.706549</td>\n      <td>1.188546</td>\n      <td>5.697456</td>\n    </tr>\n    <tr>\n      <th>2020-04-27 14:18:00</th>\n      <td>1.000237</td>\n      <td>0.000237</td>\n      <td>0.00135</td>\n      <td>0.000237</td>\n      <td>0.004122</td>\n      <td>0.003614</td>\n      <td>0.00135</td>\n      <td>0.00135</td>\n      <td>5.698732</td>\n      <td>5.696568</td>\n      <td>...</td>\n      <td>5.696850</td>\n      <td>0.0</td>\n      <td>5.690896</td>\n      <td>0.0</td>\n      <td>97.809693</td>\n      <td>0.004377</td>\n      <td>3.626652e-01</td>\n      <td>0.803205</td>\n      <td>1.165870</td>\n      <td>5.698175</td>\n    </tr>\n  </tbody>\n</table>\n<p>9929 rows × 70 columns</p>\n</div>"
     },
     "metadata": {},
     "output_type": "display_data"
    }
   ],
   "source": [
    "# Display dataframe with Indicators\n",
    "display(df[var_cols].dropna(axis=0))"
   ]
  },
  {
   "cell_type": "code",
   "execution_count": 10,
   "id": "94e42a45",
   "metadata": {
    "scrolled": true
   },
   "outputs": [
    {
     "data": {
      "text/plain": "                     USDBRL_CLOSE_returns_norm  USDBRL_CLOSE_log_returns_norm  \\\nDATE                                                                            \n2020-04-07 22:24:00                   0.973025                      -0.272904   \n2020-04-07 22:29:00                   0.972969                      -0.275597   \n2020-04-07 22:32:00                   0.973082                      -0.270211   \n2020-04-07 22:34:00                   0.973025                      -0.272904   \n2020-04-07 22:39:00                   0.973101                      -0.269313   \n...                                        ...                            ...   \n2020-04-27 14:14:00                   0.971972                      -0.322972   \n2020-04-27 14:15:00                   0.976152                      -0.124485   \n2020-04-27 14:16:00                   0.973717                      -0.240036   \n2020-04-27 14:17:00                   0.971593                      -0.340995   \n2020-04-27 14:18:00                   0.973531                      -0.248904   \n\n                     USDBRL_CLOSE_price_change_norm  \\\nDATE                                                  \n2020-04-07 22:24:00                       -0.240658   \n2020-04-07 22:29:00                       -0.243296   \n2020-04-07 22:32:00                       -0.238020   \n2020-04-07 22:34:00                       -0.240658   \n2020-04-07 22:39:00                       -0.237141   \n...                                             ...   \n2020-04-27 14:14:00                       -0.294294   \n2020-04-27 14:15:00                       -0.082212   \n2020-04-27 14:16:00                       -0.205663   \n2020-04-27 14:17:00                       -0.313638   \n2020-04-27 14:18:00                       -0.215159   \n\n                     USDBRL_CLOSE_pct_change_norm  USDBRL_RA_5_norm  \\\nDATE                                                                  \n2020-04-07 22:24:00                     -0.277836         -0.996515   \n2020-04-07 22:29:00                     -0.280521         -0.991663   \n2020-04-07 22:32:00                     -0.275151         -0.990743   \n2020-04-07 22:34:00                     -0.277836         -0.991077   \n2020-04-07 22:39:00                     -0.274256         -0.994076   \n...                                           ...               ...   \n2020-04-27 14:14:00                     -0.327744         -0.928213   \n2020-04-27 14:15:00                     -0.129733         -0.831727   \n2020-04-27 14:16:00                     -0.245058         -0.767415   \n2020-04-27 14:17:00                     -0.345703         -0.773743   \n2020-04-27 14:18:00                     -0.253903         -0.785854   \n\n                     USDBRL_RA_10_norm  USDBRL_AMPL_norm  USDBRL_OPNCLS_norm  \\\nDATE                                                                           \n2020-04-07 22:24:00          -0.996279         -0.998575           -0.355998   \n2020-04-07 22:29:00          -0.994800         -0.995726           -0.354066   \n2020-04-07 22:32:00          -0.994154         -0.997151           -0.357929   \n2020-04-07 22:34:00          -0.992673         -0.998575           -0.355032   \n2020-04-07 22:39:00          -0.992307         -0.998575           -0.356963   \n...                                ...               ...                 ...   \n2020-04-27 14:14:00          -0.923805         -0.921652           -0.409117   \n2020-04-27 14:15:00          -0.868179         -0.692308           -0.159745   \n2020-04-27 14:16:00          -0.816173         -0.934758           -0.316593   \n2020-04-27 14:17:00          -0.811001         -0.883191           -0.435194   \n2020-04-27 14:18:00          -0.801063         -0.961538           -0.329921   \n\n                     USDBRL_MA_5_norm  USDBRL_MA_10_norm  ...  \\\nDATE                                                      ...   \n2020-04-07 22:24:00         -0.505602          -0.504227  ...   \n2020-04-07 22:29:00         -0.505747          -0.504271  ...   \n2020-04-07 22:32:00         -0.505921          -0.504300  ...   \n2020-04-07 22:34:00         -0.506182          -0.504373  ...   \n2020-04-07 22:39:00         -0.506356          -0.504403  ...   \n...                               ...                ...  ...   \n2020-04-27 14:14:00          0.863804           0.877409  ...   \n2020-04-27 14:15:00          0.868014           0.879971  ...   \n2020-04-27 14:16:00          0.872594           0.882764  ...   \n2020-04-27 14:17:00          0.874508           0.883627  ...   \n2020-04-27 14:18:00          0.877262           0.884826  ...   \n\n                     USDBRL_PSARD_s(0.02,0.2)_norm  \\\nDATE                                                 \n2020-04-07 22:24:00                      -0.521042   \n2020-04-07 22:29:00                      -0.520529   \n2020-04-07 22:32:00                      -0.520563   \n2020-04-07 22:34:00                      -0.520598   \n2020-04-07 22:39:00                      -0.520631   \n...                                            ...   \n2020-04-27 14:14:00                       0.857327   \n2020-04-27 14:15:00                       0.861757   \n2020-04-27 14:16:00                       0.861757   \n2020-04-27 14:17:00                       0.861757   \n2020-04-27 14:18:00                       0.861757   \n\n                     USDBRL_PSARDI_s(0.02,0.2)_norm  \\\nDATE                                                  \n2020-04-07 22:24:00                            -1.0   \n2020-04-07 22:29:00                             1.0   \n2020-04-07 22:32:00                            -1.0   \n2020-04-07 22:34:00                            -1.0   \n2020-04-07 22:39:00                            -1.0   \n...                                             ...   \n2020-04-27 14:14:00                            -1.0   \n2020-04-27 14:15:00                             1.0   \n2020-04-27 14:16:00                            -1.0   \n2020-04-27 14:17:00                            -1.0   \n2020-04-27 14:18:00                            -1.0   \n\n                     USDBRL_PSARU_s(0.02,0.2)_norm  \\\nDATE                                                 \n2020-04-07 22:24:00                      -0.497732   \n2020-04-07 22:29:00                      -0.497732   \n2020-04-07 22:32:00                      -0.497732   \n2020-04-07 22:34:00                      -0.497732   \n2020-04-07 22:39:00                      -0.497732   \n...                                            ...   \n2020-04-27 14:14:00                       0.876832   \n2020-04-27 14:15:00                       0.876832   \n2020-04-27 14:16:00                       0.874333   \n2020-04-27 14:17:00                       0.874333   \n2020-04-27 14:18:00                       0.875052   \n\n                     USDBRL_PSARUI_s(0.02,0.2)_norm  \\\nDATE                                                  \n2020-04-07 22:24:00                            -1.0   \n2020-04-07 22:29:00                            -1.0   \n2020-04-07 22:32:00                            -1.0   \n2020-04-07 22:34:00                            -1.0   \n2020-04-07 22:39:00                            -1.0   \n...                                             ...   \n2020-04-27 14:14:00                            -1.0   \n2020-04-27 14:15:00                            -1.0   \n2020-04-27 14:16:00                             1.0   \n2020-04-27 14:17:00                            -1.0   \n2020-04-27 14:18:00                            -1.0   \n\n                     USDBRL_STC_w(50,23)c10s(03,03)_norm  \\\nDATE                                                       \n2020-04-07 22:24:00                             0.974866   \n2020-04-07 22:29:00                             0.102126   \n2020-04-07 22:32:00                            -0.448937   \n2020-04-07 22:34:00                            -0.724469   \n2020-04-07 22:39:00                            -0.862234   \n...                                                  ...   \n2020-04-27 14:14:00                             0.721738   \n2020-04-27 14:15:00                             0.757685   \n2020-04-27 14:16:00                             0.835461   \n2020-04-27 14:17:00                             0.912388   \n2020-04-27 14:18:00                             0.956194   \n\n                     USDBRL_TRIX_w15_norm  USDBRL_VI_w14_norm  \\\nDATE                                                            \n2020-04-07 22:24:00             -0.045720           -0.238125   \n2020-04-07 22:29:00             -0.045782           -0.266820   \n2020-04-07 22:32:00             -0.045988           -0.224154   \n2020-04-07 22:34:00             -0.046363           -0.251737   \n2020-04-07 22:39:00             -0.046762           -0.266065   \n...                                   ...                 ...   \n2020-04-27 14:14:00              0.022060           -0.213273   \n2020-04-27 14:15:00              0.023967           -0.085992   \n2020-04-27 14:16:00              0.030157            0.097334   \n2020-04-27 14:17:00              0.035801            0.017752   \n2020-04-27 14:18:00              0.041624           -0.045597   \n\n                     USDBRL_VIN_w14_norm  USDBRL_VIP_w14_norm  \\\nDATE                                                            \n2020-04-07 22:24:00            -0.118972            -0.468332   \n2020-04-07 22:29:00            -0.136003            -0.518898   \n2020-04-07 22:32:00            -0.187923            -0.497509   \n2020-04-07 22:34:00            -0.131728            -0.495576   \n2020-04-07 22:39:00            -0.133810            -0.516352   \n...                                  ...                  ...   \n2020-04-27 14:14:00            -0.105354            -0.425328   \n2020-04-27 14:15:00            -0.357050            -0.428938   \n2020-04-27 14:16:00            -0.395678            -0.208567   \n2020-04-27 14:17:00            -0.354353            -0.287129   \n2020-04-27 14:18:00            -0.254976            -0.303365   \n\n                     USDBRL_WMA_w09_norm  \nDATE                                      \n2020-04-07 22:24:00            -0.504733  \n2020-04-07 22:29:00            -0.504885  \n2020-04-07 22:32:00            -0.504998  \n2020-04-07 22:34:00            -0.505159  \n2020-04-07 22:39:00            -0.505250  \n...                                  ...  \n2020-04-27 14:14:00             0.869304  \n2020-04-27 14:15:00             0.873118  \n2020-04-27 14:16:00             0.877537  \n2020-04-27 14:17:00             0.879019  \n2020-04-27 14:18:00             0.881107  \n\n[9929 rows x 70 columns]",
      "text/html": "<div>\n<style scoped>\n    .dataframe tbody tr th:only-of-type {\n        vertical-align: middle;\n    }\n\n    .dataframe tbody tr th {\n        vertical-align: top;\n    }\n\n    .dataframe thead th {\n        text-align: right;\n    }\n</style>\n<table border=\"1\" class=\"dataframe\">\n  <thead>\n    <tr style=\"text-align: right;\">\n      <th></th>\n      <th>USDBRL_CLOSE_returns_norm</th>\n      <th>USDBRL_CLOSE_log_returns_norm</th>\n      <th>USDBRL_CLOSE_price_change_norm</th>\n      <th>USDBRL_CLOSE_pct_change_norm</th>\n      <th>USDBRL_RA_5_norm</th>\n      <th>USDBRL_RA_10_norm</th>\n      <th>USDBRL_AMPL_norm</th>\n      <th>USDBRL_OPNCLS_norm</th>\n      <th>USDBRL_MA_5_norm</th>\n      <th>USDBRL_MA_10_norm</th>\n      <th>...</th>\n      <th>USDBRL_PSARD_s(0.02,0.2)_norm</th>\n      <th>USDBRL_PSARDI_s(0.02,0.2)_norm</th>\n      <th>USDBRL_PSARU_s(0.02,0.2)_norm</th>\n      <th>USDBRL_PSARUI_s(0.02,0.2)_norm</th>\n      <th>USDBRL_STC_w(50,23)c10s(03,03)_norm</th>\n      <th>USDBRL_TRIX_w15_norm</th>\n      <th>USDBRL_VI_w14_norm</th>\n      <th>USDBRL_VIN_w14_norm</th>\n      <th>USDBRL_VIP_w14_norm</th>\n      <th>USDBRL_WMA_w09_norm</th>\n    </tr>\n    <tr>\n      <th>DATE</th>\n      <th></th>\n      <th></th>\n      <th></th>\n      <th></th>\n      <th></th>\n      <th></th>\n      <th></th>\n      <th></th>\n      <th></th>\n      <th></th>\n      <th></th>\n      <th></th>\n      <th></th>\n      <th></th>\n      <th></th>\n      <th></th>\n      <th></th>\n      <th></th>\n      <th></th>\n      <th></th>\n      <th></th>\n    </tr>\n  </thead>\n  <tbody>\n    <tr>\n      <th>2020-04-07 22:24:00</th>\n      <td>0.973025</td>\n      <td>-0.272904</td>\n      <td>-0.240658</td>\n      <td>-0.277836</td>\n      <td>-0.996515</td>\n      <td>-0.996279</td>\n      <td>-0.998575</td>\n      <td>-0.355998</td>\n      <td>-0.505602</td>\n      <td>-0.504227</td>\n      <td>...</td>\n      <td>-0.521042</td>\n      <td>-1.0</td>\n      <td>-0.497732</td>\n      <td>-1.0</td>\n      <td>0.974866</td>\n      <td>-0.045720</td>\n      <td>-0.238125</td>\n      <td>-0.118972</td>\n      <td>-0.468332</td>\n      <td>-0.504733</td>\n    </tr>\n    <tr>\n      <th>2020-04-07 22:29:00</th>\n      <td>0.972969</td>\n      <td>-0.275597</td>\n      <td>-0.243296</td>\n      <td>-0.280521</td>\n      <td>-0.991663</td>\n      <td>-0.994800</td>\n      <td>-0.995726</td>\n      <td>-0.354066</td>\n      <td>-0.505747</td>\n      <td>-0.504271</td>\n      <td>...</td>\n      <td>-0.520529</td>\n      <td>1.0</td>\n      <td>-0.497732</td>\n      <td>-1.0</td>\n      <td>0.102126</td>\n      <td>-0.045782</td>\n      <td>-0.266820</td>\n      <td>-0.136003</td>\n      <td>-0.518898</td>\n      <td>-0.504885</td>\n    </tr>\n    <tr>\n      <th>2020-04-07 22:32:00</th>\n      <td>0.973082</td>\n      <td>-0.270211</td>\n      <td>-0.238020</td>\n      <td>-0.275151</td>\n      <td>-0.990743</td>\n      <td>-0.994154</td>\n      <td>-0.997151</td>\n      <td>-0.357929</td>\n      <td>-0.505921</td>\n      <td>-0.504300</td>\n      <td>...</td>\n      <td>-0.520563</td>\n      <td>-1.0</td>\n      <td>-0.497732</td>\n      <td>-1.0</td>\n      <td>-0.448937</td>\n      <td>-0.045988</td>\n      <td>-0.224154</td>\n      <td>-0.187923</td>\n      <td>-0.497509</td>\n      <td>-0.504998</td>\n    </tr>\n    <tr>\n      <th>2020-04-07 22:34:00</th>\n      <td>0.973025</td>\n      <td>-0.272904</td>\n      <td>-0.240658</td>\n      <td>-0.277836</td>\n      <td>-0.991077</td>\n      <td>-0.992673</td>\n      <td>-0.998575</td>\n      <td>-0.355032</td>\n      <td>-0.506182</td>\n      <td>-0.504373</td>\n      <td>...</td>\n      <td>-0.520598</td>\n      <td>-1.0</td>\n      <td>-0.497732</td>\n      <td>-1.0</td>\n      <td>-0.724469</td>\n      <td>-0.046363</td>\n      <td>-0.251737</td>\n      <td>-0.131728</td>\n      <td>-0.495576</td>\n      <td>-0.505159</td>\n    </tr>\n    <tr>\n      <th>2020-04-07 22:39:00</th>\n      <td>0.973101</td>\n      <td>-0.269313</td>\n      <td>-0.237141</td>\n      <td>-0.274256</td>\n      <td>-0.994076</td>\n      <td>-0.992307</td>\n      <td>-0.998575</td>\n      <td>-0.356963</td>\n      <td>-0.506356</td>\n      <td>-0.504403</td>\n      <td>...</td>\n      <td>-0.520631</td>\n      <td>-1.0</td>\n      <td>-0.497732</td>\n      <td>-1.0</td>\n      <td>-0.862234</td>\n      <td>-0.046762</td>\n      <td>-0.266065</td>\n      <td>-0.133810</td>\n      <td>-0.516352</td>\n      <td>-0.505250</td>\n    </tr>\n    <tr>\n      <th>...</th>\n      <td>...</td>\n      <td>...</td>\n      <td>...</td>\n      <td>...</td>\n      <td>...</td>\n      <td>...</td>\n      <td>...</td>\n      <td>...</td>\n      <td>...</td>\n      <td>...</td>\n      <td>...</td>\n      <td>...</td>\n      <td>...</td>\n      <td>...</td>\n      <td>...</td>\n      <td>...</td>\n      <td>...</td>\n      <td>...</td>\n      <td>...</td>\n      <td>...</td>\n      <td>...</td>\n    </tr>\n    <tr>\n      <th>2020-04-27 14:14:00</th>\n      <td>0.971972</td>\n      <td>-0.322972</td>\n      <td>-0.294294</td>\n      <td>-0.327744</td>\n      <td>-0.928213</td>\n      <td>-0.923805</td>\n      <td>-0.921652</td>\n      <td>-0.409117</td>\n      <td>0.863804</td>\n      <td>0.877409</td>\n      <td>...</td>\n      <td>0.857327</td>\n      <td>-1.0</td>\n      <td>0.876832</td>\n      <td>-1.0</td>\n      <td>0.721738</td>\n      <td>0.022060</td>\n      <td>-0.213273</td>\n      <td>-0.105354</td>\n      <td>-0.425328</td>\n      <td>0.869304</td>\n    </tr>\n    <tr>\n      <th>2020-04-27 14:15:00</th>\n      <td>0.976152</td>\n      <td>-0.124485</td>\n      <td>-0.082212</td>\n      <td>-0.129733</td>\n      <td>-0.831727</td>\n      <td>-0.868179</td>\n      <td>-0.692308</td>\n      <td>-0.159745</td>\n      <td>0.868014</td>\n      <td>0.879971</td>\n      <td>...</td>\n      <td>0.861757</td>\n      <td>1.0</td>\n      <td>0.876832</td>\n      <td>-1.0</td>\n      <td>0.757685</td>\n      <td>0.023967</td>\n      <td>-0.085992</td>\n      <td>-0.357050</td>\n      <td>-0.428938</td>\n      <td>0.873118</td>\n    </tr>\n    <tr>\n      <th>2020-04-27 14:16:00</th>\n      <td>0.973717</td>\n      <td>-0.240036</td>\n      <td>-0.205663</td>\n      <td>-0.245058</td>\n      <td>-0.767415</td>\n      <td>-0.816173</td>\n      <td>-0.934758</td>\n      <td>-0.316593</td>\n      <td>0.872594</td>\n      <td>0.882764</td>\n      <td>...</td>\n      <td>0.861757</td>\n      <td>-1.0</td>\n      <td>0.874333</td>\n      <td>1.0</td>\n      <td>0.835461</td>\n      <td>0.030157</td>\n      <td>0.097334</td>\n      <td>-0.395678</td>\n      <td>-0.208567</td>\n      <td>0.877537</td>\n    </tr>\n    <tr>\n      <th>2020-04-27 14:17:00</th>\n      <td>0.971593</td>\n      <td>-0.340995</td>\n      <td>-0.313638</td>\n      <td>-0.345703</td>\n      <td>-0.773743</td>\n      <td>-0.811001</td>\n      <td>-0.883191</td>\n      <td>-0.435194</td>\n      <td>0.874508</td>\n      <td>0.883627</td>\n      <td>...</td>\n      <td>0.861757</td>\n      <td>-1.0</td>\n      <td>0.874333</td>\n      <td>-1.0</td>\n      <td>0.912388</td>\n      <td>0.035801</td>\n      <td>0.017752</td>\n      <td>-0.354353</td>\n      <td>-0.287129</td>\n      <td>0.879019</td>\n    </tr>\n    <tr>\n      <th>2020-04-27 14:18:00</th>\n      <td>0.973531</td>\n      <td>-0.248904</td>\n      <td>-0.215159</td>\n      <td>-0.253903</td>\n      <td>-0.785854</td>\n      <td>-0.801063</td>\n      <td>-0.961538</td>\n      <td>-0.329921</td>\n      <td>0.877262</td>\n      <td>0.884826</td>\n      <td>...</td>\n      <td>0.861757</td>\n      <td>-1.0</td>\n      <td>0.875052</td>\n      <td>-1.0</td>\n      <td>0.956194</td>\n      <td>0.041624</td>\n      <td>-0.045597</td>\n      <td>-0.254976</td>\n      <td>-0.303365</td>\n      <td>0.881107</td>\n    </tr>\n  </tbody>\n</table>\n<p>9929 rows × 70 columns</p>\n</div>"
     },
     "metadata": {},
     "output_type": "display_data"
    }
   ],
   "source": [
    "# Display dataframe with Indicators of normalized data\n",
    "if (norm_data):\n",
    "    display(df_norm[norm_cols].dropna(axis=0))"
   ]
  },
  {
   "cell_type": "code",
   "execution_count": 10,
   "id": "36b30678",
   "metadata": {},
   "outputs": [],
   "source": []
  }
 ],
 "metadata": {
  "kernelspec": {
   "display_name": "Python 3 (ipykernel)",
   "language": "python",
   "name": "python3"
  },
  "language_info": {
   "codemirror_mode": {
    "name": "ipython",
    "version": 3
   },
   "file_extension": ".py",
   "mimetype": "text/x-python",
   "name": "python",
   "nbconvert_exporter": "python",
   "pygments_lexer": "ipython3",
   "version": "3.9.12"
  }
 },
 "nbformat": 4,
 "nbformat_minor": 5
}
