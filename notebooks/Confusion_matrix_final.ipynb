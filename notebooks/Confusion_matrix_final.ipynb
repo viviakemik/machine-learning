{
 "cells": [
  {
   "cell_type": "code",
   "execution_count": 1,
   "id": "bd605d85",
   "metadata": {},
   "outputs": [],
   "source": [
    "import pandas as pd\n",
    "import numpy as np\n",
    "import seaborn as sns\n",
    "from sklearn.model_selection import train_test_split\n",
    "from sklearn.linear_model import LinearRegression, LogisticRegression\n",
    "from sklearn.ensemble import RandomForestClassifier\n",
    "from sklearn.preprocessing import StandardScaler\n",
    "from sklearn.metrics import mean_squared_error, roc_curve, auc\n",
    "\n",
    "import matplotlib.pyplot as plt\n",
    "\n",
    "#Load your finance data\n",
    "file_path = 'fixed_income/IGIB_2020-04-07_2022-04-06.parquet'\n",
    "print(file_path)\n",
    "finance_data = pd.read_parquet(file_path)\n",
    "print(finance_data)"
   ]
  },
  {
   "cell_type": "code",
   "execution_count": 4,
   "id": "84ec76b9",
   "metadata": {},
   "outputs": [
    {
     "name": "stdout",
     "output_type": "stream",
     "text": [
      "        VOLUME       VW     OPEN    CLOSE    HIGHT     LOW              t  \\\n",
      "0        492.0  55.2914  55.2935  55.2900  55.2935  55.290  1586280780000   \n",
      "1       5939.0  55.2968  55.3050  55.2902  55.3050  55.290  1586280840000   \n",
      "2       6469.0  55.2896  55.2915  55.2850  55.3000  55.280  1586280900000   \n",
      "3       3131.0  55.2881  55.2900  55.2900  55.2900  55.280  1586280960000   \n",
      "4       1023.0  55.2956  55.2900  55.3000  55.3000  55.290  1586281020000   \n",
      "...        ...      ...      ...      ...      ...     ...            ...   \n",
      "164350  1557.0  53.9538  53.9500  53.9650  53.9650  53.950  1649274960000   \n",
      "164351   237.0  53.9650  53.9650  53.9650  53.9650  53.965  1649275020000   \n",
      "164352  1016.0  53.9656  53.9650  53.9700  53.9700  53.965  1649275080000   \n",
      "164353  5304.0  53.9714  53.9700  53.9600  53.9800  53.960  1649275140000   \n",
      "164354  1186.0  54.0063  54.4600  54.4600  54.4600  54.460  1649275800000   \n",
      "\n",
      "        TRANSACTIONS        a     op                DATE  CLOSE_CA  \n",
      "0                  4      NaN    NaN 2020-04-07 17:33:00         0  \n",
      "1                 40      NaN    NaN 2020-04-07 17:34:00         0  \n",
      "2                 66      NaN    NaN 2020-04-07 17:35:00         0  \n",
      "3                  9      NaN    NaN 2020-04-07 17:36:00         0  \n",
      "4                  8      NaN    NaN 2020-04-07 17:37:00         0  \n",
      "...              ...      ...    ...                 ...       ...  \n",
      "164350            17  53.9151  53.84 2022-04-06 19:56:00         0  \n",
      "164351             4  53.9151  53.84 2022-04-06 19:57:00         0  \n",
      "164352            11  53.9151  53.84 2022-04-06 19:58:00         0  \n",
      "164353            34  53.9152  53.84 2022-04-06 19:59:00         0  \n",
      "164354            18  53.9154  53.84 2022-04-06 20:10:00         0  \n",
      "\n",
      "[164355 rows x 12 columns]\n"
     ]
    }
   ],
   "source": [
    "threshold = finance_data['CLOSE'].median()\n",
    "CLOSE_CA=np.where(finance_data['CLOSE'] > threshold, 1, 0)\n",
    "\n",
    "\n",
    "# Add the predicted_values column to finance_data\n",
    "finance_data['CLOSE_CA'] = CLOSE_CA\n",
    "print(finance_data)"
   ]
  },
  {
   "cell_type": "code",
   "execution_count": 5,
   "id": "a5c1639d",
   "metadata": {},
   "outputs": [
    {
     "data": {
      "image/png": "[encoded data removed]",
      "text/plain": [
       "<Figure size 720x432 with 1 Axes>"
      ]
     },
     "metadata": {
      "needs_background": "light"
     },
     "output_type": "display_data"
    }
   ],
   "source": [
    "close_values = finance_data['CLOSE']\n",
    "\n",
    "# Plotting a histogram to visualize the distribution\n",
    "plt.figure(figsize=(10, 6))\n",
    "plt.hist(close_values, bins=50, color='skyblue', edgecolor='black')\n",
    "plt.title('Distribution of Close Values')\n",
    "plt.xlabel('Close Values')\n",
    "plt.ylabel('Frequency')\n",
    "plt.show()"
   ]
  },
  {
   "cell_type": "code",
   "execution_count": 6,
   "id": "7f79b4b5",
   "metadata": {},
   "outputs": [
    {
     "data": {
      "text/html": [
       "<div>\n",
       "<style scoped>\n",
       "    .dataframe tbody tr th:only-of-type {\n",
       "        vertical-align: middle;\n",
       "    }\n",
       "\n",
       "    .dataframe tbody tr th {\n",
       "        vertical-align: top;\n",
       "    }\n",
       "\n",
       "    .dataframe thead th {\n",
       "        text-align: right;\n",
       "    }\n",
       "</style>\n",
       "<table border=\"1\" class=\"dataframe\">\n",
       "  <thead>\n",
       "    <tr style=\"text-align: right;\">\n",
       "      <th></th>\n",
       "      <th>VOLUME</th>\n",
       "      <th>VW</th>\n",
       "      <th>OPEN</th>\n",
       "      <th>CLOSE</th>\n",
       "      <th>HIGHT</th>\n",
       "      <th>LOW</th>\n",
       "      <th>t</th>\n",
       "      <th>TRANSACTIONS</th>\n",
       "      <th>a</th>\n",
       "      <th>op</th>\n",
       "      <th>DATE</th>\n",
       "      <th>CLOSE_CA</th>\n",
       "    </tr>\n",
       "  </thead>\n",
       "  <tbody>\n",
       "    <tr>\n",
       "      <th>0</th>\n",
       "      <td>492.0</td>\n",
       "      <td>55.2914</td>\n",
       "      <td>55.2935</td>\n",
       "      <td>55.2900</td>\n",
       "      <td>55.2935</td>\n",
       "      <td>55.290</td>\n",
       "      <td>1586280780000</td>\n",
       "      <td>4</td>\n",
       "      <td>0.0000</td>\n",
       "      <td>0.00</td>\n",
       "      <td>2020-04-07 17:33:00</td>\n",
       "      <td>0</td>\n",
       "    </tr>\n",
       "    <tr>\n",
       "      <th>1</th>\n",
       "      <td>5939.0</td>\n",
       "      <td>55.2968</td>\n",
       "      <td>55.3050</td>\n",
       "      <td>55.2902</td>\n",
       "      <td>55.3050</td>\n",
       "      <td>55.290</td>\n",
       "      <td>1586280840000</td>\n",
       "      <td>40</td>\n",
       "      <td>0.0000</td>\n",
       "      <td>0.00</td>\n",
       "      <td>2020-04-07 17:34:00</td>\n",
       "      <td>0</td>\n",
       "    </tr>\n",
       "    <tr>\n",
       "      <th>2</th>\n",
       "      <td>6469.0</td>\n",
       "      <td>55.2896</td>\n",
       "      <td>55.2915</td>\n",
       "      <td>55.2850</td>\n",
       "      <td>55.3000</td>\n",
       "      <td>55.280</td>\n",
       "      <td>1586280900000</td>\n",
       "      <td>66</td>\n",
       "      <td>0.0000</td>\n",
       "      <td>0.00</td>\n",
       "      <td>2020-04-07 17:35:00</td>\n",
       "      <td>0</td>\n",
       "    </tr>\n",
       "    <tr>\n",
       "      <th>3</th>\n",
       "      <td>3131.0</td>\n",
       "      <td>55.2881</td>\n",
       "      <td>55.2900</td>\n",
       "      <td>55.2900</td>\n",
       "      <td>55.2900</td>\n",
       "      <td>55.280</td>\n",
       "      <td>1586280960000</td>\n",
       "      <td>9</td>\n",
       "      <td>0.0000</td>\n",
       "      <td>0.00</td>\n",
       "      <td>2020-04-07 17:36:00</td>\n",
       "      <td>0</td>\n",
       "    </tr>\n",
       "    <tr>\n",
       "      <th>4</th>\n",
       "      <td>1023.0</td>\n",
       "      <td>55.2956</td>\n",
       "      <td>55.2900</td>\n",
       "      <td>55.3000</td>\n",
       "      <td>55.3000</td>\n",
       "      <td>55.290</td>\n",
       "      <td>1586281020000</td>\n",
       "      <td>8</td>\n",
       "      <td>0.0000</td>\n",
       "      <td>0.00</td>\n",
       "      <td>2020-04-07 17:37:00</td>\n",
       "      <td>0</td>\n",
       "    </tr>\n",
       "    <tr>\n",
       "      <th>...</th>\n",
       "      <td>...</td>\n",
       "      <td>...</td>\n",
       "      <td>...</td>\n",
       "      <td>...</td>\n",
       "      <td>...</td>\n",
       "      <td>...</td>\n",
       "      <td>...</td>\n",
       "      <td>...</td>\n",
       "      <td>...</td>\n",
       "      <td>...</td>\n",
       "      <td>...</td>\n",
       "      <td>...</td>\n",
       "    </tr>\n",
       "    <tr>\n",
       "      <th>164350</th>\n",
       "      <td>1557.0</td>\n",
       "      <td>53.9538</td>\n",
       "      <td>53.9500</td>\n",
       "      <td>53.9650</td>\n",
       "      <td>53.9650</td>\n",
       "      <td>53.950</td>\n",
       "      <td>1649274960000</td>\n",
       "      <td>17</td>\n",
       "      <td>53.9151</td>\n",
       "      <td>53.84</td>\n",
       "      <td>2022-04-06 19:56:00</td>\n",
       "      <td>0</td>\n",
       "    </tr>\n",
       "    <tr>\n",
       "      <th>164351</th>\n",
       "      <td>237.0</td>\n",
       "      <td>53.9650</td>\n",
       "      <td>53.9650</td>\n",
       "      <td>53.9650</td>\n",
       "      <td>53.9650</td>\n",
       "      <td>53.965</td>\n",
       "      <td>1649275020000</td>\n",
       "      <td>4</td>\n",
       "      <td>53.9151</td>\n",
       "      <td>53.84</td>\n",
       "      <td>2022-04-06 19:57:00</td>\n",
       "      <td>0</td>\n",
       "    </tr>\n",
       "    <tr>\n",
       "      <th>164352</th>\n",
       "      <td>1016.0</td>\n",
       "      <td>53.9656</td>\n",
       "      <td>53.9650</td>\n",
       "      <td>53.9700</td>\n",
       "      <td>53.9700</td>\n",
       "      <td>53.965</td>\n",
       "      <td>1649275080000</td>\n",
       "      <td>11</td>\n",
       "      <td>53.9151</td>\n",
       "      <td>53.84</td>\n",
       "      <td>2022-04-06 19:58:00</td>\n",
       "      <td>0</td>\n",
       "    </tr>\n",
       "    <tr>\n",
       "      <th>164353</th>\n",
       "      <td>5304.0</td>\n",
       "      <td>53.9714</td>\n",
       "      <td>53.9700</td>\n",
       "      <td>53.9600</td>\n",
       "      <td>53.9800</td>\n",
       "      <td>53.960</td>\n",
       "      <td>1649275140000</td>\n",
       "      <td>34</td>\n",
       "      <td>53.9152</td>\n",
       "      <td>53.84</td>\n",
       "      <td>2022-04-06 19:59:00</td>\n",
       "      <td>0</td>\n",
       "    </tr>\n",
       "    <tr>\n",
       "      <th>164354</th>\n",
       "      <td>1186.0</td>\n",
       "      <td>54.0063</td>\n",
       "      <td>54.4600</td>\n",
       "      <td>54.4600</td>\n",
       "      <td>54.4600</td>\n",
       "      <td>54.460</td>\n",
       "      <td>1649275800000</td>\n",
       "      <td>18</td>\n",
       "      <td>53.9154</td>\n",
       "      <td>53.84</td>\n",
       "      <td>2022-04-06 20:10:00</td>\n",
       "      <td>0</td>\n",
       "    </tr>\n",
       "  </tbody>\n",
       "</table>\n",
       "<p>164355 rows × 12 columns</p>\n",
       "</div>"
      ],
      "text/plain": [
       "        VOLUME       VW     OPEN    CLOSE    HIGHT     LOW              t  \\\n",
       "0        492.0  55.2914  55.2935  55.2900  55.2935  55.290  1586280780000   \n",
       "1       5939.0  55.2968  55.3050  55.2902  55.3050  55.290  1586280840000   \n",
       "2       6469.0  55.2896  55.2915  55.2850  55.3000  55.280  1586280900000   \n",
       "3       3131.0  55.2881  55.2900  55.2900  55.2900  55.280  1586280960000   \n",
       "4       1023.0  55.2956  55.2900  55.3000  55.3000  55.290  1586281020000   \n",
       "...        ...      ...      ...      ...      ...     ...            ...   \n",
       "164350  1557.0  53.9538  53.9500  53.9650  53.9650  53.950  1649274960000   \n",
       "164351   237.0  53.9650  53.9650  53.9650  53.9650  53.965  1649275020000   \n",
       "164352  1016.0  53.9656  53.9650  53.9700  53.9700  53.965  1649275080000   \n",
       "164353  5304.0  53.9714  53.9700  53.9600  53.9800  53.960  1649275140000   \n",
       "164354  1186.0  54.0063  54.4600  54.4600  54.4600  54.460  1649275800000   \n",
       "\n",
       "        TRANSACTIONS        a     op                DATE  CLOSE_CA  \n",
       "0                  4   0.0000   0.00 2020-04-07 17:33:00         0  \n",
       "1                 40   0.0000   0.00 2020-04-07 17:34:00         0  \n",
       "2                 66   0.0000   0.00 2020-04-07 17:35:00         0  \n",
       "3                  9   0.0000   0.00 2020-04-07 17:36:00         0  \n",
       "4                  8   0.0000   0.00 2020-04-07 17:37:00         0  \n",
       "...              ...      ...    ...                 ...       ...  \n",
       "164350            17  53.9151  53.84 2022-04-06 19:56:00         0  \n",
       "164351             4  53.9151  53.84 2022-04-06 19:57:00         0  \n",
       "164352            11  53.9151  53.84 2022-04-06 19:58:00         0  \n",
       "164353            34  53.9152  53.84 2022-04-06 19:59:00         0  \n",
       "164354            18  53.9154  53.84 2022-04-06 20:10:00         0  \n",
       "\n",
       "[164355 rows x 12 columns]"
      ]
     },
     "execution_count": 6,
     "metadata": {},
     "output_type": "execute_result"
    }
   ],
   "source": [
    "finance_data.fillna(0)"
   ]
  },
  {
   "cell_type": "code",
   "execution_count": 7,
   "id": "1eab9887",
   "metadata": {},
   "outputs": [
    {
     "name": "stdout",
     "output_type": "stream",
     "text": [
      "163232\n"
     ]
    }
   ],
   "source": [
    "print(finance_data['a'].isnull().sum())\n",
    "finance_data['a'].fillna(finance_data['a'].mean(), inplace=True)\n",
    "finance_data['op'].fillna(finance_data['op'].mean(), inplace=True)\n",
    "\n"
   ]
  },
  {
   "cell_type": "code",
   "execution_count": null,
   "id": "0e7a3b21",
   "metadata": {},
   "outputs": [],
   "source": [
    "# Assuming 'close' is the target variable\n",
    "target_column = 'CLOSE_CA'\n",
    "\n",
    "# Features\n",
    "features = ['VOLUME', 'VW', 'OPEN', 'HIGHT','LOW', 'TRANSACTIONS','a','op']\n",
    "\n",
    "# Split the data into features (X) and target variable (y)\n",
    "X = finance_data[features]\n",
    "y = finance_data[target_column]\n",
    "\n",
    "# Split the data into training and testing sets\n",
    "X_train, X_test, y_train, y_test = train_test_split(X, y, test_size=0.3, random_state=42)\n",
    "\n",
    "# Scale features\n",
    "scaler = StandardScaler()\n",
    "X_train_scaled = scaler.fit_transform(X_train)\n",
    "X_test_scaled = scaler.transform(X_test)\n",
    "\n",
    "# Initialize the model\n",
    "model = LogisticRegression(class_weight='balanced', random_state=42)\n",
    "\n",
    "# Train the model\n",
    "model.fit(X_train, y_train)\n",
    "\n",
    "# Get feature importance (coefficients) from the trained model\n",
    "feature_importance = model.coef_[0]\n",
    "print(\"Feature Importance:\")\n",
    "for feature, importance in zip(features, feature_importance):\n",
    "    print(f\"{feature}: {importance}\")\n",
    "\n",
    "# Make predictions on the testing set\n",
    "predictions = model.predict(X_test)\n",
    "\n",
    "print(pd.Series(predictions).value_counts())\n",
    "y_test_reset_index = y_test.reset_index(drop=True)\n",
    "\n",
    "# Evaluate the model\n",
    "mse = mean_squared_error(y_test, predictions)\n",
    "print(f'Mean Squared Error: {mse}')\n",
    "\n",
    "# Plot predictions against actual values\n",
    "plt.scatter(y_test, predictions)\n",
    "plt.xlabel('y_test')\n",
    "plt.ylabel('Predictions')\n",
    "plt.show()\n"
   ]
  },
  {
   "cell_type": "code",
   "execution_count": 8,
   "id": "26d04b50",
   "metadata": {},
   "outputs": [
    {
     "data": {
      "text/plain": [
       "array([0, 1])"
      ]
     },
     "execution_count": 8,
     "metadata": {},
     "output_type": "execute_result"
    }
   ],
   "source": [
    "column_data_type = finance_data['CLOSE_CA'].dtype\n",
    "finance_data.CLOSE_CA.unique()"
   ]
  },
  {
   "cell_type": "code",
   "execution_count": 14,
   "id": "b995facc",
   "metadata": {},
   "outputs": [
    {
     "name": "stdout",
     "output_type": "stream",
     "text": [
      "Unique Values: [0 1]\n"
     ]
    }
   ],
   "source": [
    "unique_values = np.unique(predictions)\n",
    "\n",
    "print(\"Unique Values:\", unique_values)"
   ]
  },
  {
   "cell_type": "code",
   "execution_count": 15,
   "id": "5f4de6e2",
   "metadata": {},
   "outputs": [],
   "source": [
    "Finance_data= pd.concat([X_test,y_test], axis=1) "
   ]
  },
  {
   "cell_type": "code",
   "execution_count": 16,
   "id": "9f674925",
   "metadata": {},
   "outputs": [],
   "source": [
    "def calculate_confusion_matrix(actual, predicted):\n",
    "    classes = np.unique(actual)\n",
    "    num_classes = len(classes)\n",
    "    confusion_matrix = np.zeros((num_classes, num_classes), dtype=int)\n",
    "\n",
    "    for i in range(num_classes):\n",
    "        for j in range(num_classes):\n",
    "            confusion_matrix[i, j] = np.sum((actual == classes[i]) & (predicted == classes[j]))\n",
    "\n",
    "    return confusion_matrix, classes"
   ]
  },
  {
   "cell_type": "code",
   "execution_count": 17,
   "id": "4d7254fa",
   "metadata": {},
   "outputs": [],
   "source": [
    "# Assuming you have a function to calculate accuracy, precision, recall, and F1-score\n",
    "def calculate_metrics(conf_matrix):\n",
    "    num_classes = len(conf_matrix)\n",
    "    metrics = {}\n",
    "\n",
    "    for i in range(num_classes):\n",
    "        true_positive = conf_matrix[i, i]\n",
    "        false_positive = np.sum(conf_matrix[:, i]) - true_positive\n",
    "        false_negative = np.sum(conf_matrix[i, :]) - true_positive\n",
    "\n",
    "        accuracy = np.sum(np.diag(conf_matrix)) / np.sum(conf_matrix)\n",
    "        precision = true_positive / (true_positive + false_positive)\n",
    "        recall = true_positive / (true_positive + false_negative)\n",
    "        f1_score = 2 * (precision * recall) / (precision + recall)\n",
    "\n",
    "        metrics[classes[i]] = {\n",
    "            'Accuracy': accuracy,\n",
    "            'Precision': precision,\n",
    "            'Recall': recall,\n",
    "            'F1-Score': f1_score\n",
    "        }\n",
    "\n",
    "    return metrics"
   ]
  },
  {
   "cell_type": "code",
   "execution_count": 18,
   "id": "7c150192",
   "metadata": {},
   "outputs": [],
   "source": [
    "result_df = pd.DataFrame({'VOLUME': X_test['VOLUME'], 'VW': X_test['VW'],'OPEN': X_test['OPEN'], 'Actual_Label': y_test, 'Predicted_Label': predictions})"
   ]
  },
  {
   "cell_type": "code",
   "execution_count": 19,
   "id": "874a56a8",
   "metadata": {},
   "outputs": [
    {
     "name": "stdout",
     "output_type": "stream",
     "text": [
      "         VOLUME       VW     OPEN  Actual_Label  Predicted_Label\n",
      "122601   5568.0  59.8343  59.8350             0                0\n",
      "159001   1543.0  55.2754  55.2800             0                0\n",
      "95115   25096.0  60.0437  60.0500             0                0\n",
      "63837     995.0  61.4006  61.4066             1                1\n",
      "161174   6794.0  54.4547  54.4600             0                0\n",
      "...         ...      ...      ...           ...              ...\n",
      "30526     403.0  60.9300  60.9300             1                1\n",
      "162231    526.0  55.0052  55.0050             0                0\n",
      "147395   1522.0  57.7749  57.7750             0                0\n",
      "26792    2950.0  61.4702  61.4750             1                1\n",
      "122466   2415.0  59.8595  59.8600             0                0\n",
      "\n",
      "[49307 rows x 5 columns]\n"
     ]
    }
   ],
   "source": [
    "finance_data=result_df\n",
    "\n",
    "print(finance_data)\n"
   ]
  },
  {
   "cell_type": "code",
   "execution_count": 20,
   "id": "2070a86b",
   "metadata": {},
   "outputs": [
    {
     "name": "stdout",
     "output_type": "stream",
     "text": [
      "Instances with Mismatched Predictions:\n",
      "       Actual  Predicted  Index\n",
      "233         0          1    233\n",
      "3337        0          1   3337\n",
      "4007        0          1   4007\n",
      "4723        0          1   4723\n",
      "4838        0          1   4838\n",
      "...       ...        ...    ...\n",
      "47582       0          1  47582\n",
      "47610       0          1  47610\n",
      "48468       0          1  48468\n",
      "48584       0          1  48584\n",
      "48962       0          1  48962\n",
      "\n",
      "[69 rows x 3 columns]\n"
     ]
    }
   ],
   "source": [
    "# Print instances where predicted and actual values differ\n",
    "mismatch_indices = y_test_reset_index.index[y_test_reset_index != predictions]\n",
    "if len(mismatch_indices) > 0:\n",
    "    mismatch_df = pd.DataFrame({'Actual': y_test_reset_index.loc[mismatch_indices], 'Predicted': predictions[mismatch_indices], 'Index': mismatch_indices})\n",
    "    print(\"Instances with Mismatched Predictions:\")\n",
    "    print(mismatch_df)\n",
    "    \n",
    "else:\n",
    "    print(\"No Mismatched Predictions\")\n"
   ]
  },
  {
   "cell_type": "code",
   "execution_count": 21,
   "id": "520dafd9",
   "metadata": {},
   "outputs": [],
   "source": [
    "column_data_type = finance_data['Actual_Label'].dtype\n"
   ]
  },
  {
   "cell_type": "code",
   "execution_count": 22,
   "id": "c4127886",
   "metadata": {},
   "outputs": [],
   "source": [
    "column_data_type = finance_data['Predicted_Label'].dtype\n"
   ]
  },
  {
   "cell_type": "code",
   "execution_count": 23,
   "id": "75ee233a",
   "metadata": {},
   "outputs": [
    {
     "name": "stdout",
     "output_type": "stream",
     "text": [
      "Confusion Matrix:\n",
      "[[24479    69]\n",
      " [    0 24759]]\n"
     ]
    }
   ],
   "source": [
    "# Assuming you have a function to preprocess the data and obtain actual and predicted values\n",
    "actual_values = finance_data['Actual_Label']\n",
    "predicted_values = finance_data['Predicted_Label']\n",
    "\n",
    "# Calculate the confusion matrix\n",
    "conf_matrix, classes = calculate_confusion_matrix(actual_values, predicted_values)\n",
    "\n",
    "# Display the confusion matrix\n",
    "print(\"Confusion Matrix:\")\n",
    "print(conf_matrix)\n",
    "\n"
   ]
  },
  {
   "cell_type": "code",
   "execution_count": 24,
   "id": "b68780ca",
   "metadata": {},
   "outputs": [
    {
     "name": "stdout",
     "output_type": "stream",
     "text": [
      "\n",
      "Metrics:\n",
      "\n",
      "Class: 0\n",
      "Accuracy: 0.9986006043766605\n",
      "Precision: 1.0\n",
      "Recall: 0.9971891803812938\n",
      "F1-Score: 0.9985926122340751\n",
      "\n",
      "Class: 1\n",
      "Accuracy: 0.9986006043766605\n",
      "Precision: 0.9972208796520058\n",
      "Recall: 1.0\n",
      "F1-Score: 0.9986085062617217\n"
     ]
    },
    {
     "data": {
      "image/png": "[encoded data removed]",
      "text/plain": [
       "<Figure size 432x288 with 2 Axes>"
      ]
     },
     "metadata": {
      "needs_background": "light"
     },
     "output_type": "display_data"
    }
   ],
   "source": [
    "# Calculate and display metrics\n",
    "metrics = calculate_metrics(conf_matrix)\n",
    "print(\"\\nMetrics:\")\n",
    "for class_name, metrics_dict in metrics.items():\n",
    "    print(f\"\\nClass: {class_name}\")\n",
    "    for metric_name, value in metrics_dict.items():\n",
    "        print(f\"{metric_name}: {value}\")\n",
    "\n",
    "# Plot the confusion matrix\n",
    "plt.imshow(conf_matrix, interpolation='nearest', cmap=plt.cm.Blues)\n",
    "plt.title('Confusion Matrix')\n",
    "plt.colorbar()\n",
    "\n",
    "tick_marks = np.arange(len(classes))\n",
    "plt.xticks(tick_marks, classes, rotation=45)\n",
    "plt.yticks(tick_marks, classes)\n",
    "\n",
    "plt.xlabel('Predicted')\n",
    "plt.ylabel('True')\n",
    "plt.show()"
   ]
  },
  {
   "cell_type": "code",
   "execution_count": 25,
   "id": "b56ec057",
   "metadata": {},
   "outputs": [
    {
     "name": "stderr",
     "output_type": "stream",
     "text": [
      "C:\\Users\\HARSHIT\\anaconda3\\lib\\site-packages\\sklearn\\base.py:450: UserWarning: X does not have valid feature names, but LogisticRegression was fitted with feature names\n",
      "  warnings.warn(\n"
     ]
    },
    {
     "data": {
      "image/png": "[encoded data removed]",
      "text/plain": [
       "<Figure size 576x432 with 2 Axes>"
      ]
     },
     "metadata": {
      "needs_background": "light"
     },
     "output_type": "display_data"
    }
   ],
   "source": [
    "# Evaluate the model\n",
    "fpr, tpr, thresholds = roc_curve(y_test, model.predict_proba(X_test_scaled)[:, 1])\n",
    "roc_auc = auc(fpr, tpr)\n",
    "\n",
    "# Plot ROC curve with points\n",
    "plt.figure(figsize=(8, 6))\n",
    "plt.plot(fpr, tpr, color='darkorange', lw=2, label='ROC curve (area = {:.2f})'.format(roc_auc))\n",
    "plt.scatter(fpr, tpr, c=thresholds, cmap='viridis', label='Threshold Points', s=50)\n",
    "plt.colorbar(label='Threshold')\n",
    "plt.plot([0, 1], [0, 1], color='navy', lw=2, linestyle='--')\n",
    "plt.xlabel('False Positive Rate')\n",
    "plt.ylabel('True Positive Rate')\n",
    "plt.title('ROC Curve with Points')\n",
    "plt.legend()\n",
    "plt.show()"
   ]
  },
  {
   "cell_type": "code",
   "execution_count": null,
   "id": "e16b4cbd",
   "metadata": {},
   "outputs": [],
   "source": []
  },
  {
   "cell_type": "code",
   "execution_count": null,
   "id": "9479dfba",
   "metadata": {},
   "outputs": [],
   "source": []
  },
  {
   "cell_type": "code",
   "execution_count": null,
   "id": "69500037",
   "metadata": {},
   "outputs": [],
   "source": []
  }
 ],
 "metadata": {
  "kernelspec": {
   "display_name": "Python 3 (ipykernel)",
   "language": "python",
   "name": "python3"
  },
  "language_info": {
   "codemirror_mode": {
    "name": "ipython",
    "version": 3
   },
   "file_extension": ".py",
   "mimetype": "text/x-python",
   "name": "python",
   "nbconvert_exporter": "python",
   "pygments_lexer": "ipython3",
   "version": "3.11.7"
  }
 },
 "nbformat": 4,
 "nbformat_minor": 5
}
