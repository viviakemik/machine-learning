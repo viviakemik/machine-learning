{
 "cells": [
  {
   "cell_type": "markdown",
   "id": "bc83c2c7",
   "metadata": {},
   "source": [
    "# Fraction Differentiation - frac_diff_transf.py"
   ]
  },
  {
   "cell_type": "markdown",
   "id": "73cd304b",
   "metadata": {},
   "source": [
    "## Importing Libraries"
   ]
  },
  {
   "cell_type": "code",
   "execution_count": 1,
   "id": "9ef119e2",
   "metadata": {},
   "outputs": [],
   "source": [
    "import pandas as pd\n",
    "import numpy as np\n",
    "import sys\n",
    "sys.path.append('../src/finance_ml')\n",
    "from fractional_differentiation import frac_diff_transf"
   ]
  },
  {
   "cell_type": "markdown",
   "id": "75a63021",
   "metadata": {},
   "source": [
    "## Creating the DataFrame"
   ]
  },
  {
   "cell_type": "code",
   "execution_count": 2,
   "id": "b2f294ee",
   "metadata": {},
   "outputs": [],
   "source": [
    "lenght = int(1e3)\n",
    "# creating series from a Normal distribution for the returns\n",
    "df_ret1 = pd.Series(np.random.normal(0.0, 0.01,lenght))\n",
    "df_ret2 = pd.Series(np.random.normal(0.0, 0.02,lenght))\n",
    "df_ret3 = pd.Series(np.random.normal(0.0, 0.04,lenght))\n",
    "# creating the price series\n",
    "df_price1 = (1 + df_ret1).cumprod()\n",
    "df_price2 = (1 + df_ret2).cumprod()\n",
    "df_price3 = (1 + df_ret3).cumprod()\n",
    "# concatenating the series into a DataFrame\n",
    "X = pd.concat([df_price1, df_price2, df_price3],axis = 1)\n",
    "X = X.rename(columns={0:'X1', 1:'X2', 2:'X3'})"
   ]
  },
  {
   "cell_type": "code",
   "execution_count": 3,
   "id": "e51a6410",
   "metadata": {},
   "outputs": [
    {
     "data": {
      "text/plain": [
       "[<matplotlib.lines.Line2D at 0x1db29c85b80>]"
      ]
     },
     "execution_count": 3,
     "metadata": {},
     "output_type": "execute_result"
    },
    {
     "data": {
      "image/png": "[encoded data removed]",
      "text/plain": [
       "<Figure size 432x288 with 1 Axes>"
      ]
     },
     "metadata": {
      "needs_background": "light"
     },
     "output_type": "display_data"
    }
   ],
   "source": [
    "import matplotlib.pyplot as plt\n",
    "\n",
    "plt.plot(df_price1)\n",
    "plt.plot(df_price2)\n",
    "plt.plot(df_price3)"
   ]
  },
  {
   "cell_type": "markdown",
   "id": "8791e56f",
   "metadata": {},
   "source": [
    "## Fractional Differentiating"
   ]
  },
  {
   "cell_type": "code",
   "execution_count": 4,
   "id": "05ef5765",
   "metadata": {},
   "outputs": [
    {
     "name": "stderr",
     "output_type": "stream",
     "text": [
      "w array redimensioned to (n, 1).\n"
     ]
    },
    {
     "data": {
      "text/html": [
       "<div>\n",
       "<style scoped>\n",
       "    .dataframe tbody tr th:only-of-type {\n",
       "        vertical-align: middle;\n",
       "    }\n",
       "\n",
       "    .dataframe tbody tr th {\n",
       "        vertical-align: top;\n",
       "    }\n",
       "\n",
       "    .dataframe thead th {\n",
       "        text-align: right;\n",
       "    }\n",
       "</style>\n",
       "<table border=\"1\" class=\"dataframe\">\n",
       "  <thead>\n",
       "    <tr style=\"text-align: right;\">\n",
       "      <th></th>\n",
       "      <th>X1_fd</th>\n",
       "      <th>X2_fd</th>\n",
       "      <th>X3_fd</th>\n",
       "    </tr>\n",
       "  </thead>\n",
       "  <tbody>\n",
       "    <tr>\n",
       "      <th>980</th>\n",
       "      <td>0.800327</td>\n",
       "      <td>0.111362</td>\n",
       "      <td>1.208261</td>\n",
       "    </tr>\n",
       "    <tr>\n",
       "      <th>981</th>\n",
       "      <td>0.812609</td>\n",
       "      <td>0.112757</td>\n",
       "      <td>1.225090</td>\n",
       "    </tr>\n",
       "    <tr>\n",
       "      <th>982</th>\n",
       "      <td>0.818051</td>\n",
       "      <td>0.122424</td>\n",
       "      <td>1.373661</td>\n",
       "    </tr>\n",
       "    <tr>\n",
       "      <th>983</th>\n",
       "      <td>0.798462</td>\n",
       "      <td>0.122864</td>\n",
       "      <td>1.185727</td>\n",
       "    </tr>\n",
       "    <tr>\n",
       "      <th>984</th>\n",
       "      <td>0.795367</td>\n",
       "      <td>0.146197</td>\n",
       "      <td>1.064915</td>\n",
       "    </tr>\n",
       "    <tr>\n",
       "      <th>985</th>\n",
       "      <td>0.796463</td>\n",
       "      <td>0.140712</td>\n",
       "      <td>1.132240</td>\n",
       "    </tr>\n",
       "    <tr>\n",
       "      <th>986</th>\n",
       "      <td>0.808029</td>\n",
       "      <td>0.136669</td>\n",
       "      <td>0.955970</td>\n",
       "    </tr>\n",
       "    <tr>\n",
       "      <th>987</th>\n",
       "      <td>0.804044</td>\n",
       "      <td>0.130476</td>\n",
       "      <td>1.053031</td>\n",
       "    </tr>\n",
       "    <tr>\n",
       "      <th>988</th>\n",
       "      <td>0.789035</td>\n",
       "      <td>0.137232</td>\n",
       "      <td>0.994867</td>\n",
       "    </tr>\n",
       "    <tr>\n",
       "      <th>989</th>\n",
       "      <td>0.791485</td>\n",
       "      <td>0.141267</td>\n",
       "      <td>1.099545</td>\n",
       "    </tr>\n",
       "    <tr>\n",
       "      <th>990</th>\n",
       "      <td>0.807806</td>\n",
       "      <td>0.137006</td>\n",
       "      <td>0.986192</td>\n",
       "    </tr>\n",
       "    <tr>\n",
       "      <th>991</th>\n",
       "      <td>0.797379</td>\n",
       "      <td>0.122884</td>\n",
       "      <td>0.908639</td>\n",
       "    </tr>\n",
       "    <tr>\n",
       "      <th>992</th>\n",
       "      <td>0.811679</td>\n",
       "      <td>0.105699</td>\n",
       "      <td>0.967201</td>\n",
       "    </tr>\n",
       "    <tr>\n",
       "      <th>993</th>\n",
       "      <td>0.803310</td>\n",
       "      <td>0.104613</td>\n",
       "      <td>0.710889</td>\n",
       "    </tr>\n",
       "    <tr>\n",
       "      <th>994</th>\n",
       "      <td>0.798741</td>\n",
       "      <td>0.120753</td>\n",
       "      <td>0.618428</td>\n",
       "    </tr>\n",
       "    <tr>\n",
       "      <th>995</th>\n",
       "      <td>0.787829</td>\n",
       "      <td>0.119567</td>\n",
       "      <td>0.921220</td>\n",
       "    </tr>\n",
       "    <tr>\n",
       "      <th>996</th>\n",
       "      <td>0.798501</td>\n",
       "      <td>0.113530</td>\n",
       "      <td>0.957783</td>\n",
       "    </tr>\n",
       "    <tr>\n",
       "      <th>997</th>\n",
       "      <td>0.797046</td>\n",
       "      <td>0.124808</td>\n",
       "      <td>0.927461</td>\n",
       "    </tr>\n",
       "    <tr>\n",
       "      <th>998</th>\n",
       "      <td>0.787141</td>\n",
       "      <td>0.113850</td>\n",
       "      <td>0.889662</td>\n",
       "    </tr>\n",
       "    <tr>\n",
       "      <th>999</th>\n",
       "      <td>0.779538</td>\n",
       "      <td>0.126276</td>\n",
       "      <td>0.783954</td>\n",
       "    </tr>\n",
       "  </tbody>\n",
       "</table>\n",
       "</div>"
      ],
      "text/plain": [
       "        X1_fd     X2_fd     X3_fd\n",
       "980  0.800327  0.111362  1.208261\n",
       "981  0.812609  0.112757  1.225090\n",
       "982  0.818051  0.122424  1.373661\n",
       "983  0.798462  0.122864  1.185727\n",
       "984  0.795367  0.146197  1.064915\n",
       "985  0.796463  0.140712  1.132240\n",
       "986  0.808029  0.136669  0.955970\n",
       "987  0.804044  0.130476  1.053031\n",
       "988  0.789035  0.137232  0.994867\n",
       "989  0.791485  0.141267  1.099545\n",
       "990  0.807806  0.137006  0.986192\n",
       "991  0.797379  0.122884  0.908639\n",
       "992  0.811679  0.105699  0.967201\n",
       "993  0.803310  0.104613  0.710889\n",
       "994  0.798741  0.120753  0.618428\n",
       "995  0.787829  0.119567  0.921220\n",
       "996  0.798501  0.113530  0.957783\n",
       "997  0.797046  0.124808  0.927461\n",
       "998  0.787141  0.113850  0.889662\n",
       "999  0.779538  0.126276  0.783954"
      ]
     },
     "execution_count": 4,
     "metadata": {},
     "output_type": "execute_result"
    }
   ],
   "source": [
    "# instantiating the FracDiff transformer\n",
    "data_processor = frac_diff_transf.FracDiff(minimum=True)\n",
    "# transforming the Data\n",
    "X_transf = data_processor.transform(X)\n",
    "X_transf.tail(20)"
   ]
  },
  {
   "cell_type": "code",
   "execution_count": 5,
   "id": "dc44e0fb",
   "metadata": {},
   "outputs": [
    {
     "data": {
      "text/plain": [
       "[<matplotlib.lines.Line2D at 0x1db29dfae50>]"
      ]
     },
     "execution_count": 5,
     "metadata": {},
     "output_type": "execute_result"
    },
    {
     "data": {
      "image/png": "[encoded data removed]",
      "text/plain": [
       "<Figure size 432x288 with 1 Axes>"
      ]
     },
     "metadata": {
      "needs_background": "light"
     },
     "output_type": "display_data"
    }
   ],
   "source": [
    "plt.plot(X_transf['X1_fd'])\n",
    "plt.plot(X_transf['X2_fd'])\n",
    "plt.plot(X_transf['X3_fd'])"
   ]
  },
  {
   "cell_type": "markdown",
   "id": "3dcc5624",
   "metadata": {},
   "source": [
    "#  Scikit-learn Pipeline for ColumnTransformer Using frac_diff_transf"
   ]
  },
  {
   "cell_type": "markdown",
   "id": "e37a0aa7",
   "metadata": {},
   "source": [
    "## Importing Additional Libraries"
   ]
  },
  {
   "cell_type": "code",
   "execution_count": 6,
   "id": "77de9701",
   "metadata": {},
   "outputs": [],
   "source": [
    "from sklearn.compose import ColumnTransformer\n",
    "from sklearn.pipeline import Pipeline\n",
    "from sklearn.model_selection import train_test_split"
   ]
  },
  {
   "cell_type": "markdown",
   "id": "7564f182",
   "metadata": {},
   "source": [
    "## Creating and Running Pipeline"
   ]
  },
  {
   "cell_type": "markdown",
   "id": "377c3124",
   "metadata": {},
   "source": [
    "### Creating Pipeline"
   ]
  },
  {
   "cell_type": "code",
   "execution_count": 7,
   "id": "62a30d98",
   "metadata": {},
   "outputs": [
    {
     "name": "stderr",
     "output_type": "stream",
     "text": [
      "w array redimensioned to (n, 1).\n"
     ]
    }
   ],
   "source": [
    "features = ['X1', 'X2', 'X3']\n",
    "\n",
    "X_train, X_test = train_test_split(X, test_size=0.2, shuffle = False)\n",
    "\n",
    "\n",
    "# instantiating the transformer\n",
    "transformer = frac_diff_transf.FracDiff(d=[1., 1.], \n",
    "                                        method='fww', \n",
    "                                        thres=1e-2,\n",
    "                                        minimum=True,\n",
    "                                        min_dict={'interv': [0., 1.], \n",
    "                                                  'step': 1e-1, \n",
    "                                                  'c_val_idx': int(1)})\n",
    "\n",
    "# pipeline for the transformer\n",
    "pipe_frac_diff = Pipeline([(\"frac_diff\", transformer)])\n",
    "                           \n",
    "# column transformer using the pipeline transformer\n",
    "pre_processor = ColumnTransformer([(\"frac_diff\", pipe_frac_diff, features)], remainder='passthrough')\n",
    "\n",
    "# instantiating the pipeline of ColumnTransformer\n",
    "pipe = Pipeline([(\"pp\", pre_processor)])"
   ]
  },
  {
   "cell_type": "markdown",
   "id": "55d741f9",
   "metadata": {},
   "source": [
    "### Estimating Parameters from Train Data Set and Transforming Train Data Set"
   ]
  },
  {
   "cell_type": "code",
   "execution_count": 8,
   "id": "7d0907ee",
   "metadata": {},
   "outputs": [
    {
     "data": {
      "text/html": [
       "<div>\n",
       "<style scoped>\n",
       "    .dataframe tbody tr th:only-of-type {\n",
       "        vertical-align: middle;\n",
       "    }\n",
       "\n",
       "    .dataframe tbody tr th {\n",
       "        vertical-align: top;\n",
       "    }\n",
       "\n",
       "    .dataframe thead th {\n",
       "        text-align: right;\n",
       "    }\n",
       "</style>\n",
       "<table border=\"1\" class=\"dataframe\">\n",
       "  <thead>\n",
       "    <tr style=\"text-align: right;\">\n",
       "      <th></th>\n",
       "      <th>frac_diff__X1_fd</th>\n",
       "      <th>frac_diff__X2_fd</th>\n",
       "      <th>frac_diff__X3_fd</th>\n",
       "    </tr>\n",
       "  </thead>\n",
       "  <tbody>\n",
       "    <tr>\n",
       "      <th>790</th>\n",
       "      <td>0.258585</td>\n",
       "      <td>0.170349</td>\n",
       "      <td>1.376771</td>\n",
       "    </tr>\n",
       "    <tr>\n",
       "      <th>791</th>\n",
       "      <td>0.248394</td>\n",
       "      <td>0.170288</td>\n",
       "      <td>1.218194</td>\n",
       "    </tr>\n",
       "    <tr>\n",
       "      <th>792</th>\n",
       "      <td>0.253835</td>\n",
       "      <td>0.167428</td>\n",
       "      <td>0.994277</td>\n",
       "    </tr>\n",
       "    <tr>\n",
       "      <th>793</th>\n",
       "      <td>0.249546</td>\n",
       "      <td>0.162555</td>\n",
       "      <td>0.818272</td>\n",
       "    </tr>\n",
       "    <tr>\n",
       "      <th>794</th>\n",
       "      <td>0.250245</td>\n",
       "      <td>0.173131</td>\n",
       "      <td>0.917893</td>\n",
       "    </tr>\n",
       "    <tr>\n",
       "      <th>795</th>\n",
       "      <td>0.252105</td>\n",
       "      <td>0.174496</td>\n",
       "      <td>1.003314</td>\n",
       "    </tr>\n",
       "    <tr>\n",
       "      <th>796</th>\n",
       "      <td>0.257055</td>\n",
       "      <td>0.154166</td>\n",
       "      <td>1.065042</td>\n",
       "    </tr>\n",
       "    <tr>\n",
       "      <th>797</th>\n",
       "      <td>0.249278</td>\n",
       "      <td>0.169845</td>\n",
       "      <td>0.913878</td>\n",
       "    </tr>\n",
       "    <tr>\n",
       "      <th>798</th>\n",
       "      <td>0.240403</td>\n",
       "      <td>0.169531</td>\n",
       "      <td>0.952928</td>\n",
       "    </tr>\n",
       "    <tr>\n",
       "      <th>799</th>\n",
       "      <td>0.250269</td>\n",
       "      <td>0.172757</td>\n",
       "      <td>1.020207</td>\n",
       "    </tr>\n",
       "  </tbody>\n",
       "</table>\n",
       "</div>"
      ],
      "text/plain": [
       "     frac_diff__X1_fd  frac_diff__X2_fd  frac_diff__X3_fd\n",
       "790          0.258585          0.170349          1.376771\n",
       "791          0.248394          0.170288          1.218194\n",
       "792          0.253835          0.167428          0.994277\n",
       "793          0.249546          0.162555          0.818272\n",
       "794          0.250245          0.173131          0.917893\n",
       "795          0.252105          0.174496          1.003314\n",
       "796          0.257055          0.154166          1.065042\n",
       "797          0.249278          0.169845          0.913878\n",
       "798          0.240403          0.169531          0.952928\n",
       "799          0.250269          0.172757          1.020207"
      ]
     },
     "execution_count": 8,
     "metadata": {},
     "output_type": "execute_result"
    }
   ],
   "source": [
    "# trasnforming the series\n",
    "X_train_transf = pipe.fit_transform(X_train)\n",
    "X_train_transf.tail(10)"
   ]
  },
  {
   "cell_type": "markdown",
   "id": "31b797c1",
   "metadata": {},
   "source": [
    "### Estimating  Paramenters from Train Data Set"
   ]
  },
  {
   "cell_type": "code",
   "execution_count": 9,
   "id": "729c86de",
   "metadata": {},
   "outputs": [
    {
     "name": "stderr",
     "output_type": "stream",
     "text": [
      "w array redimensioned to (n, 1).\n"
     ]
    },
    {
     "data": {
      "text/plain": [
       "{'d': [0.30000000000000004, 0.4, 0.30000000000000004],\n",
       " 'method': 'fww',\n",
       " 'min_dict': {'interv': [0.0, 1.0], 'step': 0.1, 'c_val_idx': 1},\n",
       " 'minimum': True,\n",
       " 'rem_nan': True,\n",
       " 'thres': 0.01,\n",
       " 'w':         X1_w      X2_w      X3_w\n",
       " 0  -0.010421 -0.011006 -0.010421\n",
       " 1  -0.011818 -0.012798 -0.011818\n",
       " 2  -0.013583 -0.015156 -0.013583\n",
       " 3  -0.015877 -0.018371 -0.015877\n",
       " 4  -0.018957 -0.022963 -0.018957\n",
       " 5  -0.023281 -0.029952 -0.023281\n",
       " 6  -0.029720 -0.041600 -0.029720\n",
       " 7  -0.040163 -0.064000 -0.040163\n",
       " 8  -0.059500 -0.120000 -0.059500\n",
       " 9  -0.105000 -0.400000 -0.105000\n",
       " 10 -0.300000  1.000000 -0.300000\n",
       " 11  1.000000       NaN  1.000000,\n",
       " 'weights': True}"
      ]
     },
     "execution_count": 9,
     "metadata": {},
     "output_type": "execute_result"
    }
   ],
   "source": [
    "# instantiating the FracDiff transformer\n",
    "data_processor = frac_diff_transf.FracDiff(minimum = True)\n",
    "# transforming the Data\n",
    "X_transf = data_processor.fit(X_train)\n",
    "X_transf.get_params()"
   ]
  },
  {
   "cell_type": "markdown",
   "id": "85b9334e",
   "metadata": {},
   "source": [
    "### Setting Parameters to Transform Test Data Set"
   ]
  },
  {
   "cell_type": "code",
   "execution_count": 10,
   "id": "918d62fa",
   "metadata": {},
   "outputs": [
    {
     "data": {
      "text/html": [
       "<style>#sk-container-id-1 {color: black;background-color: white;}#sk-container-id-1 pre{padding: 0;}#sk-container-id-1 div.sk-toggleable {background-color: white;}#sk-container-id-1 label.sk-toggleable__label {cursor: pointer;display: block;width: 100%;margin-bottom: 0;padding: 0.3em;box-sizing: border-box;text-align: center;}#sk-container-id-1 label.sk-toggleable__label-arrow:before {content: \"▸\";float: left;margin-right: 0.25em;color: #696969;}#sk-container-id-1 label.sk-toggleable__label-arrow:hover:before {color: black;}#sk-container-id-1 div.sk-estimator:hover label.sk-toggleable__label-arrow:before {color: black;}#sk-container-id-1 div.sk-toggleable__content {max-height: 0;max-width: 0;overflow: hidden;text-align: left;background-color: #f0f8ff;}#sk-container-id-1 div.sk-toggleable__content pre {margin: 0.2em;color: black;border-radius: 0.25em;background-color: #f0f8ff;}#sk-container-id-1 input.sk-toggleable__control:checked~div.sk-toggleable__content {max-height: 200px;max-width: 100%;overflow: auto;}#sk-container-id-1 input.sk-toggleable__control:checked~label.sk-toggleable__label-arrow:before {content: \"▾\";}#sk-container-id-1 div.sk-estimator input.sk-toggleable__control:checked~label.sk-toggleable__label {background-color: #d4ebff;}#sk-container-id-1 div.sk-label input.sk-toggleable__control:checked~label.sk-toggleable__label {background-color: #d4ebff;}#sk-container-id-1 input.sk-hidden--visually {border: 0;clip: rect(1px 1px 1px 1px);clip: rect(1px, 1px, 1px, 1px);height: 1px;margin: -1px;overflow: hidden;padding: 0;position: absolute;width: 1px;}#sk-container-id-1 div.sk-estimator {font-family: monospace;background-color: #f0f8ff;border: 1px dotted black;border-radius: 0.25em;box-sizing: border-box;margin-bottom: 0.5em;}#sk-container-id-1 div.sk-estimator:hover {background-color: #d4ebff;}#sk-container-id-1 div.sk-parallel-item::after {content: \"\";width: 100%;border-bottom: 1px solid gray;flex-grow: 1;}#sk-container-id-1 div.sk-label:hover label.sk-toggleable__label {background-color: #d4ebff;}#sk-container-id-1 div.sk-serial::before {content: \"\";position: absolute;border-left: 1px solid gray;box-sizing: border-box;top: 0;bottom: 0;left: 50%;z-index: 0;}#sk-container-id-1 div.sk-serial {display: flex;flex-direction: column;align-items: center;background-color: white;padding-right: 0.2em;padding-left: 0.2em;position: relative;}#sk-container-id-1 div.sk-item {position: relative;z-index: 1;}#sk-container-id-1 div.sk-parallel {display: flex;align-items: stretch;justify-content: center;background-color: white;position: relative;}#sk-container-id-1 div.sk-item::before, #sk-container-id-1 div.sk-parallel-item::before {content: \"\";position: absolute;border-left: 1px solid gray;box-sizing: border-box;top: 0;bottom: 0;left: 50%;z-index: -1;}#sk-container-id-1 div.sk-parallel-item {display: flex;flex-direction: column;z-index: 1;position: relative;background-color: white;}#sk-container-id-1 div.sk-parallel-item:first-child::after {align-self: flex-end;width: 50%;}#sk-container-id-1 div.sk-parallel-item:last-child::after {align-self: flex-start;width: 50%;}#sk-container-id-1 div.sk-parallel-item:only-child::after {width: 0;}#sk-container-id-1 div.sk-dashed-wrapped {border: 1px dashed gray;margin: 0 0.4em 0.5em 0.4em;box-sizing: border-box;padding-bottom: 0.4em;background-color: white;}#sk-container-id-1 div.sk-label label {font-family: monospace;font-weight: bold;display: inline-block;line-height: 1.2em;}#sk-container-id-1 div.sk-label-container {text-align: center;}#sk-container-id-1 div.sk-container {/* jupyter's `normalize.less` sets `[hidden] { display: none; }` but bootstrap.min.css set `[hidden] { display: none !important; }` so we also need the `!important` here to be able to override the default hidden behavior on the sphinx rendered scikit-learn.org. See: https://github.com/scikit-learn/scikit-learn/issues/21755 */display: inline-block !important;position: relative;}#sk-container-id-1 div.sk-text-repr-fallback {display: none;}</style><div id=\"sk-container-id-1\" class=\"sk-top-container\"><div class=\"sk-text-repr-fallback\"><pre>FracDiff(d=[0.30000000000000004, 0.4, 0.30000000000000004],\n",
       "         w=array([[-0.01042095, -0.01100641, -0.01042095],\n",
       "       [-0.01181757, -0.01279816, -0.01181757],\n",
       "       [-0.01358341, -0.01515571, -0.01358341],\n",
       "       [-0.01587672, -0.01837056, -0.01587672],\n",
       "       [-0.01895727, -0.0229632 , -0.01895727],\n",
       "       [-0.02328086, -0.029952  , -0.02328086],\n",
       "       [-0.02972025, -0.0416    , -0.02972025],\n",
       "       [-0.0401625 , -0.064     , -0.0401625 ],\n",
       "       [-0.0595    , -0.12      , -0.0595    ],\n",
       "       [-0.105     , -0.4       , -0.105     ],\n",
       "       [-0.3       ,  1.        , -0.3       ],\n",
       "       [ 1.        ,         nan,  1.        ]]),\n",
       "         weights=False)</pre><b>In a Jupyter environment, please rerun this cell to show the HTML representation or trust the notebook. <br />On GitHub, the HTML representation is unable to render, please try loading this page with nbviewer.org.</b></div><div class=\"sk-container\" hidden><div class=\"sk-item\"><div class=\"sk-estimator sk-toggleable\"><input class=\"sk-toggleable__control sk-hidden--visually\" id=\"sk-estimator-id-1\" type=\"checkbox\" checked><label for=\"sk-estimator-id-1\" class=\"sk-toggleable__label sk-toggleable__label-arrow\">FracDiff</label><div class=\"sk-toggleable__content\"><pre>FracDiff(d=[0.30000000000000004, 0.4, 0.30000000000000004],\n",
       "         w=array([[-0.01042095, -0.01100641, -0.01042095],\n",
       "       [-0.01181757, -0.01279816, -0.01181757],\n",
       "       [-0.01358341, -0.01515571, -0.01358341],\n",
       "       [-0.01587672, -0.01837056, -0.01587672],\n",
       "       [-0.01895727, -0.0229632 , -0.01895727],\n",
       "       [-0.02328086, -0.029952  , -0.02328086],\n",
       "       [-0.02972025, -0.0416    , -0.02972025],\n",
       "       [-0.0401625 , -0.064     , -0.0401625 ],\n",
       "       [-0.0595    , -0.12      , -0.0595    ],\n",
       "       [-0.105     , -0.4       , -0.105     ],\n",
       "       [-0.3       ,  1.        , -0.3       ],\n",
       "       [ 1.        ,         nan,  1.        ]]),\n",
       "         weights=False)</pre></div></div></div></div></div>"
      ],
      "text/plain": [
       "FracDiff(d=[0.30000000000000004, 0.4, 0.30000000000000004],\n",
       "         w=array([[-0.01042095, -0.01100641, -0.01042095],\n",
       "       [-0.01181757, -0.01279816, -0.01181757],\n",
       "       [-0.01358341, -0.01515571, -0.01358341],\n",
       "       [-0.01587672, -0.01837056, -0.01587672],\n",
       "       [-0.01895727, -0.0229632 , -0.01895727],\n",
       "       [-0.02328086, -0.029952  , -0.02328086],\n",
       "       [-0.02972025, -0.0416    , -0.02972025],\n",
       "       [-0.0401625 , -0.064     , -0.0401625 ],\n",
       "       [-0.0595    , -0.12      , -0.0595    ],\n",
       "       [-0.105     , -0.4       , -0.105     ],\n",
       "       [-0.3       ,  1.        , -0.3       ],\n",
       "       [ 1.        ,         nan,  1.        ]]),\n",
       "         weights=False)"
      ]
     },
     "execution_count": 10,
     "metadata": {},
     "output_type": "execute_result"
    }
   ],
   "source": [
    "model_params = X_transf.get_params()\n",
    "data_processor.set_params(**{'d': model_params['d'],\n",
    "                          'w': model_params['w'].to_numpy(dtype=float),\n",
    "                          'weights': False,\n",
    "                          'method': model_params['method'], \n",
    "                          'thres': model_params['thres'],\n",
    "                          'minimum': False,\n",
    "                          'min_dict': model_params['min_dict']})"
   ]
  },
  {
   "cell_type": "markdown",
   "id": "bce929d0",
   "metadata": {},
   "source": [
    "### Transforming Test Data Set"
   ]
  },
  {
   "cell_type": "code",
   "execution_count": 11,
   "id": "99611c07",
   "metadata": {},
   "outputs": [
    {
     "data": {
      "text/html": [
       "<div>\n",
       "<style scoped>\n",
       "    .dataframe tbody tr th:only-of-type {\n",
       "        vertical-align: middle;\n",
       "    }\n",
       "\n",
       "    .dataframe tbody tr th {\n",
       "        vertical-align: top;\n",
       "    }\n",
       "\n",
       "    .dataframe thead th {\n",
       "        text-align: right;\n",
       "    }\n",
       "</style>\n",
       "<table border=\"1\" class=\"dataframe\">\n",
       "  <thead>\n",
       "    <tr style=\"text-align: right;\">\n",
       "      <th></th>\n",
       "      <th>X1_fd</th>\n",
       "      <th>X2_fd</th>\n",
       "      <th>X3_fd</th>\n",
       "    </tr>\n",
       "  </thead>\n",
       "  <tbody>\n",
       "    <tr>\n",
       "      <th>812</th>\n",
       "      <td>0.266599</td>\n",
       "      <td>0.144919</td>\n",
       "      <td>1.027319</td>\n",
       "    </tr>\n",
       "    <tr>\n",
       "      <th>813</th>\n",
       "      <td>0.277552</td>\n",
       "      <td>0.164607</td>\n",
       "      <td>1.106215</td>\n",
       "    </tr>\n",
       "    <tr>\n",
       "      <th>814</th>\n",
       "      <td>0.272469</td>\n",
       "      <td>0.153274</td>\n",
       "      <td>1.214607</td>\n",
       "    </tr>\n",
       "    <tr>\n",
       "      <th>815</th>\n",
       "      <td>0.271826</td>\n",
       "      <td>0.157087</td>\n",
       "      <td>1.205678</td>\n",
       "    </tr>\n",
       "    <tr>\n",
       "      <th>816</th>\n",
       "      <td>0.274416</td>\n",
       "      <td>0.167552</td>\n",
       "      <td>1.226084</td>\n",
       "    </tr>\n",
       "    <tr>\n",
       "      <th>...</th>\n",
       "      <td>...</td>\n",
       "      <td>...</td>\n",
       "      <td>...</td>\n",
       "    </tr>\n",
       "    <tr>\n",
       "      <th>995</th>\n",
       "      <td>0.284704</td>\n",
       "      <td>0.119567</td>\n",
       "      <td>0.921220</td>\n",
       "    </tr>\n",
       "    <tr>\n",
       "      <th>996</th>\n",
       "      <td>0.299082</td>\n",
       "      <td>0.113530</td>\n",
       "      <td>0.957783</td>\n",
       "    </tr>\n",
       "    <tr>\n",
       "      <th>997</th>\n",
       "      <td>0.295778</td>\n",
       "      <td>0.124808</td>\n",
       "      <td>0.927461</td>\n",
       "    </tr>\n",
       "    <tr>\n",
       "      <th>998</th>\n",
       "      <td>0.286062</td>\n",
       "      <td>0.113850</td>\n",
       "      <td>0.889662</td>\n",
       "    </tr>\n",
       "    <tr>\n",
       "      <th>999</th>\n",
       "      <td>0.281517</td>\n",
       "      <td>0.126276</td>\n",
       "      <td>0.783954</td>\n",
       "    </tr>\n",
       "  </tbody>\n",
       "</table>\n",
       "<p>188 rows × 3 columns</p>\n",
       "</div>"
      ],
      "text/plain": [
       "        X1_fd     X2_fd     X3_fd\n",
       "812  0.266599  0.144919  1.027319\n",
       "813  0.277552  0.164607  1.106215\n",
       "814  0.272469  0.153274  1.214607\n",
       "815  0.271826  0.157087  1.205678\n",
       "816  0.274416  0.167552  1.226084\n",
       "..        ...       ...       ...\n",
       "995  0.284704  0.119567  0.921220\n",
       "996  0.299082  0.113530  0.957783\n",
       "997  0.295778  0.124808  0.927461\n",
       "998  0.286062  0.113850  0.889662\n",
       "999  0.281517  0.126276  0.783954\n",
       "\n",
       "[188 rows x 3 columns]"
      ]
     },
     "execution_count": 11,
     "metadata": {},
     "output_type": "execute_result"
    }
   ],
   "source": [
    "X_test_transf = data_processor.transform(X_test)\n",
    "X_test_transf"
   ]
  },
  {
   "cell_type": "markdown",
   "id": "91e21387",
   "metadata": {},
   "source": [
    "### All in One Cell"
   ]
  },
  {
   "cell_type": "code",
   "execution_count": 12,
   "id": "f16074b3",
   "metadata": {},
   "outputs": [
    {
     "name": "stderr",
     "output_type": "stream",
     "text": [
      "w array redimensioned to (n, 1).\n"
     ]
    },
    {
     "data": {
      "text/html": [
       "<div>\n",
       "<style scoped>\n",
       "    .dataframe tbody tr th:only-of-type {\n",
       "        vertical-align: middle;\n",
       "    }\n",
       "\n",
       "    .dataframe tbody tr th {\n",
       "        vertical-align: top;\n",
       "    }\n",
       "\n",
       "    .dataframe thead th {\n",
       "        text-align: right;\n",
       "    }\n",
       "</style>\n",
       "<table border=\"1\" class=\"dataframe\">\n",
       "  <thead>\n",
       "    <tr style=\"text-align: right;\">\n",
       "      <th></th>\n",
       "      <th>X1_fd</th>\n",
       "      <th>X2_fd</th>\n",
       "      <th>X3_fd</th>\n",
       "    </tr>\n",
       "  </thead>\n",
       "  <tbody>\n",
       "    <tr>\n",
       "      <th>812</th>\n",
       "      <td>0.188358</td>\n",
       "      <td>0.550168</td>\n",
       "      <td>1.027319</td>\n",
       "    </tr>\n",
       "    <tr>\n",
       "      <th>813</th>\n",
       "      <td>0.199615</td>\n",
       "      <td>0.570958</td>\n",
       "      <td>1.106215</td>\n",
       "    </tr>\n",
       "    <tr>\n",
       "      <th>814</th>\n",
       "      <td>0.193749</td>\n",
       "      <td>0.567497</td>\n",
       "      <td>1.214607</td>\n",
       "    </tr>\n",
       "    <tr>\n",
       "      <th>815</th>\n",
       "      <td>0.193200</td>\n",
       "      <td>0.571929</td>\n",
       "      <td>1.205678</td>\n",
       "    </tr>\n",
       "    <tr>\n",
       "      <th>816</th>\n",
       "      <td>0.195898</td>\n",
       "      <td>0.584722</td>\n",
       "      <td>1.226084</td>\n",
       "    </tr>\n",
       "    <tr>\n",
       "      <th>...</th>\n",
       "      <td>...</td>\n",
       "      <td>...</td>\n",
       "      <td>...</td>\n",
       "    </tr>\n",
       "    <tr>\n",
       "      <th>995</th>\n",
       "      <td>0.198658</td>\n",
       "      <td>0.461140</td>\n",
       "      <td>0.921220</td>\n",
       "    </tr>\n",
       "    <tr>\n",
       "      <th>996</th>\n",
       "      <td>0.214228</td>\n",
       "      <td>0.454811</td>\n",
       "      <td>0.957783</td>\n",
       "    </tr>\n",
       "    <tr>\n",
       "      <th>997</th>\n",
       "      <td>0.210164</td>\n",
       "      <td>0.463132</td>\n",
       "      <td>0.927461</td>\n",
       "    </tr>\n",
       "    <tr>\n",
       "      <th>998</th>\n",
       "      <td>0.200449</td>\n",
       "      <td>0.454390</td>\n",
       "      <td>0.889662</td>\n",
       "    </tr>\n",
       "    <tr>\n",
       "      <th>999</th>\n",
       "      <td>0.196742</td>\n",
       "      <td>0.463541</td>\n",
       "      <td>0.783954</td>\n",
       "    </tr>\n",
       "  </tbody>\n",
       "</table>\n",
       "<p>188 rows × 3 columns</p>\n",
       "</div>"
      ],
      "text/plain": [
       "        X1_fd     X2_fd     X3_fd\n",
       "812  0.188358  0.550168  1.027319\n",
       "813  0.199615  0.570958  1.106215\n",
       "814  0.193749  0.567497  1.214607\n",
       "815  0.193200  0.571929  1.205678\n",
       "816  0.195898  0.584722  1.226084\n",
       "..        ...       ...       ...\n",
       "995  0.198658  0.461140  0.921220\n",
       "996  0.214228  0.454811  0.957783\n",
       "997  0.210164  0.463132  0.927461\n",
       "998  0.200449  0.454390  0.889662\n",
       "999  0.196742  0.463541  0.783954\n",
       "\n",
       "[188 rows x 3 columns]"
      ]
     },
     "execution_count": 12,
     "metadata": {},
     "output_type": "execute_result"
    }
   ],
   "source": [
    "features = ['X1', 'X2']\n",
    "\n",
    "X_train, X_test = train_test_split(X, test_size=0.2, shuffle = False)\n",
    "\n",
    "\n",
    "# instantiating the transformer\n",
    "transformer = frac_diff_transf.FracDiff(d = [1., 1.], \n",
    "                                        method = 'fww', \n",
    "                                        thres = 1e-2,\n",
    "                                        minimum = True,\n",
    "                                        min_dict = {'interv': [0., 1.], \n",
    "                                                    'step': 1e-1, \n",
    "                                                    'c_val_idx': int(1)})\n",
    "\n",
    "# pipeline for the transformer\n",
    "pipe_frac_diff = Pipeline([(\"frac_diff\", transformer)])\n",
    "                           \n",
    "# column transformer using the pipeline transformer\n",
    "pre_processor = ColumnTransformer([(\"frac_diff\", pipe_frac_diff, features)], remainder ='passthrough')\n",
    "\n",
    "# instantiating the pipeline of ColumnTransformer\n",
    "pipe = Pipeline([(\"pp\", pre_processor)])\n",
    "\n",
    "# trasnforming train data series\n",
    "X_train_transf = pipe.fit_transform(X_train)\n",
    "\n",
    "# getting estimated parameters\n",
    "model_params = transformer.fit(X_train).get_params()\n",
    "\n",
    "# setting transformer with estimated parameters\n",
    "data_processor.set_params(**{'d': model_params['d'],\n",
    "                          'w': model_params['w'].to_numpy(dtype=float),\n",
    "                          'weights': False,\n",
    "                          'method': model_params['method'], \n",
    "                          'thres': model_params['thres'],\n",
    "                          'minimum': False,\n",
    "                          'min_dict':  model_params['min_dict']})\n",
    "\n",
    "# transforming test data series with the estimated parameters\n",
    "X_test_transf = transformer.transform(X_test)\n",
    "\n",
    "X_test_transf"
   ]
  }
 ],
 "metadata": {
  "kernelspec": {
   "display_name": "Python 3 (ipykernel)",
   "language": "python",
   "name": "python3"
  },
  "language_info": {
   "codemirror_mode": {
    "name": "ipython",
    "version": 3
   },
   "file_extension": ".py",
   "mimetype": "text/x-python",
   "name": "python",
   "nbconvert_exporter": "python",
   "pygments_lexer": "ipython3",
   "version": "3.9.6"
  },
  "toc": {
   "base_numbering": 1,
   "nav_menu": {},
   "number_sections": true,
   "sideBar": true,
   "skip_h1_title": false,
   "title_cell": "Table of Contents",
   "title_sidebar": "Contents",
   "toc_cell": false,
   "toc_position": {},
   "toc_section_display": true,
   "toc_window_display": false
  }
 },
 "nbformat": 4,
 "nbformat_minor": 5
}
