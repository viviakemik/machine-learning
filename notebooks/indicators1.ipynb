version https://git-lfs.github.com/spec/v1
oid sha256:ab3c6ef4a2b485f118fde1e2200be496a4e43f4d9b00a23fb45fa6def3785d20
size 253235
