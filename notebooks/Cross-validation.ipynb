{
 "cells": [
  {
   "cell_type": "markdown",
   "metadata": {},
   "source": [
    "# Cross Validation"
   ]
  },
  {
   "cell_type": "markdown",
   "metadata": {},
   "source": [
    "### Beatriz Loureiro \n",
    "### Giovanni Dalvi\n",
    "### Richard Sousa"
   ]
  },
  {
   "cell_type": "code",
   "execution_count": 2,
   "metadata": {},
   "outputs": [
    {
     "name": "stderr",
     "output_type": "stream",
     "text": [
      "C:\\Users\\Richa\\AppData\\Roaming\\Python\\Python38\\site-packages\\pandas\\core\\computation\\expressions.py:20: UserWarning: Pandas requires version '2.7.3' or newer of 'numexpr' (version '2.7.1' currently installed).\n",
      "  from pandas.core.computation.check import NUMEXPR_INSTALLED\n"
     ]
    }
   ],
   "source": [
    "import sys\n",
    "import importlib\n",
    "sys.path.append('../')\n",
    "import pandas as pd\n",
    "import numpy as np\n",
    "from sklearn.linear_model import LinearRegression, Lasso\n",
    "import math\n",
    "from sklearn.model_selection import cross_val_score, StratifiedKFold\n",
    "\n",
    "\n",
    "from src.finance_ml.data_preparation.data_preparation import DataLoader\n",
    "from src.finance_ml.cross_validation.cross_validation import CrossValidation"
   ]
  },
  {
   "cell_type": "code",
   "execution_count": 35,
   "metadata": {},
   "outputs": [],
   "source": [
    "# Defining time_index_col (must be the same column in all inputs) and keep_cols refering to the columns that will remain in the dataset\n",
    "dataloader = DataLoader(time_index_col= 'DATE', \n",
    "                    keep_cols = ['VOLUME','OPEN', 'HIGHT', 'LOW', 'CLOSE', 'VW','TRANSACTIONS'])"
   ]
  },
  {
   "cell_type": "code",
   "execution_count": 43,
   "metadata": {},
   "outputs": [],
   "source": [
    "# Example Files\n",
    "fname_AAPL = 'equities/AAPL_2020-04-07_2022-04-06.parquet'\n",
    "\n",
    "# No. of Records from example dataset\n",
    "N = 30000"
   ]
  },
  {
   "cell_type": "code",
   "execution_count": 44,
   "metadata": {},
   "outputs": [],
   "source": [
    "# Dataset chosen in this simulation\n",
    "ticker = 'AAPL'\n",
    "fname = fname_AAPL"
   ]
  },
  {
   "cell_type": "code",
   "execution_count": 45,
   "metadata": {},
   "outputs": [
    {
     "data": {
      "text/html": [
       "<div>\n",
       "<style scoped>\n",
       "    .dataframe tbody tr th:only-of-type {\n",
       "        vertical-align: middle;\n",
       "    }\n",
       "\n",
       "    .dataframe tbody tr th {\n",
       "        vertical-align: top;\n",
       "    }\n",
       "\n",
       "    .dataframe thead th {\n",
       "        text-align: right;\n",
       "    }\n",
       "</style>\n",
       "<table border=\"1\" class=\"dataframe\">\n",
       "  <thead>\n",
       "    <tr style=\"text-align: right;\">\n",
       "      <th></th>\n",
       "      <th>AAPL_VOLUME</th>\n",
       "      <th>AAPL_OPEN</th>\n",
       "      <th>AAPL_HIGHT</th>\n",
       "      <th>AAPL_LOW</th>\n",
       "      <th>AAPL_CLOSE</th>\n",
       "      <th>AAPL_VW</th>\n",
       "      <th>AAPL_TRANSACTIONS</th>\n",
       "    </tr>\n",
       "    <tr>\n",
       "      <th>DATE</th>\n",
       "      <th></th>\n",
       "      <th></th>\n",
       "      <th></th>\n",
       "      <th></th>\n",
       "      <th></th>\n",
       "      <th></th>\n",
       "      <th></th>\n",
       "    </tr>\n",
       "  </thead>\n",
       "  <tbody>\n",
       "    <tr>\n",
       "      <th>2020-04-07 12:17:00</th>\n",
       "      <td>14256.0</td>\n",
       "      <td>67.3500</td>\n",
       "      <td>67.3625</td>\n",
       "      <td>67.3275</td>\n",
       "      <td>67.3375</td>\n",
       "      <td>67.3454</td>\n",
       "      <td>45</td>\n",
       "    </tr>\n",
       "    <tr>\n",
       "      <th>2020-04-07 12:18:00</th>\n",
       "      <td>16552.0</td>\n",
       "      <td>67.3501</td>\n",
       "      <td>67.3625</td>\n",
       "      <td>67.3250</td>\n",
       "      <td>67.3250</td>\n",
       "      <td>67.3407</td>\n",
       "      <td>57</td>\n",
       "    </tr>\n",
       "    <tr>\n",
       "      <th>2020-04-07 12:19:00</th>\n",
       "      <td>80172.0</td>\n",
       "      <td>67.3250</td>\n",
       "      <td>67.4475</td>\n",
       "      <td>67.3250</td>\n",
       "      <td>67.4225</td>\n",
       "      <td>67.3937</td>\n",
       "      <td>149</td>\n",
       "    </tr>\n",
       "    <tr>\n",
       "      <th>2020-04-07 12:20:00</th>\n",
       "      <td>183740.0</td>\n",
       "      <td>67.4475</td>\n",
       "      <td>67.4700</td>\n",
       "      <td>67.3125</td>\n",
       "      <td>67.3700</td>\n",
       "      <td>67.3671</td>\n",
       "      <td>159</td>\n",
       "    </tr>\n",
       "    <tr>\n",
       "      <th>2020-04-07 12:21:00</th>\n",
       "      <td>35372.0</td>\n",
       "      <td>67.3500</td>\n",
       "      <td>67.3850</td>\n",
       "      <td>67.2975</td>\n",
       "      <td>67.2975</td>\n",
       "      <td>67.3469</td>\n",
       "      <td>102</td>\n",
       "    </tr>\n",
       "    <tr>\n",
       "      <th>...</th>\n",
       "      <td>...</td>\n",
       "      <td>...</td>\n",
       "      <td>...</td>\n",
       "      <td>...</td>\n",
       "      <td>...</td>\n",
       "      <td>...</td>\n",
       "      <td>...</td>\n",
       "    </tr>\n",
       "    <tr>\n",
       "      <th>2020-06-05 15:42:00</th>\n",
       "      <td>282372.0</td>\n",
       "      <td>82.1317</td>\n",
       "      <td>82.1725</td>\n",
       "      <td>82.0925</td>\n",
       "      <td>82.1168</td>\n",
       "      <td>82.1329</td>\n",
       "      <td>769</td>\n",
       "    </tr>\n",
       "    <tr>\n",
       "      <th>2020-06-05 15:43:00</th>\n",
       "      <td>195168.0</td>\n",
       "      <td>82.1125</td>\n",
       "      <td>82.1250</td>\n",
       "      <td>82.0925</td>\n",
       "      <td>82.1100</td>\n",
       "      <td>82.1059</td>\n",
       "      <td>533</td>\n",
       "    </tr>\n",
       "    <tr>\n",
       "      <th>2020-06-05 15:44:00</th>\n",
       "      <td>290188.0</td>\n",
       "      <td>82.1075</td>\n",
       "      <td>82.2450</td>\n",
       "      <td>82.1050</td>\n",
       "      <td>82.2400</td>\n",
       "      <td>82.1737</td>\n",
       "      <td>756</td>\n",
       "    </tr>\n",
       "    <tr>\n",
       "      <th>2020-06-05 15:45:00</th>\n",
       "      <td>417900.0</td>\n",
       "      <td>82.2375</td>\n",
       "      <td>82.3400</td>\n",
       "      <td>82.2375</td>\n",
       "      <td>82.3220</td>\n",
       "      <td>82.2835</td>\n",
       "      <td>1108</td>\n",
       "    </tr>\n",
       "    <tr>\n",
       "      <th>2020-06-05 15:46:00</th>\n",
       "      <td>304704.0</td>\n",
       "      <td>82.3200</td>\n",
       "      <td>82.3450</td>\n",
       "      <td>82.3050</td>\n",
       "      <td>82.3193</td>\n",
       "      <td>82.3234</td>\n",
       "      <td>801</td>\n",
       "    </tr>\n",
       "  </tbody>\n",
       "</table>\n",
       "<p>30000 rows × 7 columns</p>\n",
       "</div>"
      ],
      "text/plain": [
       "                     AAPL_VOLUME  AAPL_OPEN  AAPL_HIGHT  AAPL_LOW  AAPL_CLOSE  \\\n",
       "DATE                                                                            \n",
       "2020-04-07 12:17:00      14256.0    67.3500     67.3625   67.3275     67.3375   \n",
       "2020-04-07 12:18:00      16552.0    67.3501     67.3625   67.3250     67.3250   \n",
       "2020-04-07 12:19:00      80172.0    67.3250     67.4475   67.3250     67.4225   \n",
       "2020-04-07 12:20:00     183740.0    67.4475     67.4700   67.3125     67.3700   \n",
       "2020-04-07 12:21:00      35372.0    67.3500     67.3850   67.2975     67.2975   \n",
       "...                          ...        ...         ...       ...         ...   \n",
       "2020-06-05 15:42:00     282372.0    82.1317     82.1725   82.0925     82.1168   \n",
       "2020-06-05 15:43:00     195168.0    82.1125     82.1250   82.0925     82.1100   \n",
       "2020-06-05 15:44:00     290188.0    82.1075     82.2450   82.1050     82.2400   \n",
       "2020-06-05 15:45:00     417900.0    82.2375     82.3400   82.2375     82.3220   \n",
       "2020-06-05 15:46:00     304704.0    82.3200     82.3450   82.3050     82.3193   \n",
       "\n",
       "                     AAPL_VW  AAPL_TRANSACTIONS  \n",
       "DATE                                             \n",
       "2020-04-07 12:17:00  67.3454                 45  \n",
       "2020-04-07 12:18:00  67.3407                 57  \n",
       "2020-04-07 12:19:00  67.3937                149  \n",
       "2020-04-07 12:20:00  67.3671                159  \n",
       "2020-04-07 12:21:00  67.3469                102  \n",
       "...                      ...                ...  \n",
       "2020-06-05 15:42:00  82.1329                769  \n",
       "2020-06-05 15:43:00  82.1059                533  \n",
       "2020-06-05 15:44:00  82.1737                756  \n",
       "2020-06-05 15:45:00  82.2835               1108  \n",
       "2020-06-05 15:46:00  82.3234                801  \n",
       "\n",
       "[30000 rows x 7 columns]"
      ]
     },
     "metadata": {},
     "output_type": "display_data"
    }
   ],
   "source": [
    "# loading assets into to an unique df\n",
    "df = dataloader.load_dataset({ticker:'../data/'+fname}).iloc[:N]\n",
    "display(df)"
   ]
  },
  {
   "cell_type": "code",
   "execution_count": 7,
   "metadata": {},
   "outputs": [],
   "source": [
    "X = df.drop('AAPL_VW', axis=1)\n",
    "Y = df['AAPL_VW']"
   ]
  },
  {
   "cell_type": "code",
   "execution_count": 17,
   "metadata": {
    "scrolled": false
   },
   "outputs": [
    {
     "name": "stdout",
     "output_type": "stream",
     "text": [
      "\n",
      "Alpha:  0.1 \n",
      "lista_scores:  [0.04557962173132069, 0.034404094025028656, 0.024150088408072572, 0.033862093779789014, 0.002846443506758069] \n",
      "média score:  0.028168468290193798\n",
      "\n",
      "Cross-Validation normal do sklearn:  [0.04557962 0.03440409 0.02415009 0.03386209 0.04543752] \n",
      "média score:  0.03668668350519265\n",
      "\n",
      "Alpha:  0.2 \n",
      "lista_scores:  [0.07973677232870408, 0.05747970378464099, 0.02810419523200188, 0.04947069123644686, 0.00790305623013826] \n",
      "média score:  0.04453888376238642\n",
      "\n",
      "Cross-Validation normal do sklearn:  [0.07973677 0.0574797  0.0281042  0.04947069 0.08389876] \n",
      "média score:  0.05973802457579495\n",
      "\n",
      "Alpha:  0.3 \n",
      "lista_scores:  [0.11703186265072893, 0.08327156383442942, 0.03303163135784793, 0.06734967204673023, 0.016311252390461013] \n",
      "média score:  0.0633991964560395\n",
      "\n",
      "Cross-Validation normal do sklearn:  [0.11703186 0.08327156 0.03303163 0.06734967 0.12385532] \n",
      "média score:  0.0849080098343474\n"
     ]
    }
   ],
   "source": [
    "import warnings\n",
    "warnings.filterwarnings('ignore')\n",
    "\n",
    "CV = CrossValidation(overlap=0, embargo_rate = 0)\n",
    "\n",
    "for k in range(3):\n",
    "    alpha = (k+1)/10\n",
    "    scores = CV.cross_validation_score(X, Y, Lasso(alpha=alpha), 'mean_absolute_error')\n",
    "    print('\\nAlpha: ', alpha,'\\nlista_scores: ', scores, '\\nmédia score: ', np.mean(scores))\n",
    "    scores_classico = -cross_val_score(Lasso(alpha=alpha), X, Y, cv=5, scoring='neg_mean_absolute_error')\n",
    "    print('\\nCross-Validation normal do sklearn: ', scores_classico, '\\nmédia score: ', np.mean(scores_classico))"
   ]
  },
  {
   "cell_type": "code",
   "execution_count": null,
   "metadata": {},
   "outputs": [],
   "source": []
  },
  {
   "cell_type": "code",
   "execution_count": null,
   "metadata": {},
   "outputs": [],
   "source": []
  }
 ],
 "metadata": {
  "kernelspec": {
   "display_name": "Python 3",
   "language": "python",
   "name": "python3"
  },
  "language_info": {
   "codemirror_mode": {
    "name": "ipython",
    "version": 3
   },
   "file_extension": ".py",
   "mimetype": "text/x-python",
   "name": "python",
   "nbconvert_exporter": "python",
   "pygments_lexer": "ipython3",
   "version": "3.8.3"
  }
 },
 "nbformat": 4,
 "nbformat_minor": 4
}
