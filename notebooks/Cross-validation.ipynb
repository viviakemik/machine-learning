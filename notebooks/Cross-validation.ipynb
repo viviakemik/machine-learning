{
 "cells": [
  {
   "cell_type": "markdown",
   "metadata": {},
   "source": [
    "# Cross Validation"
   ]
  },
  {
   "cell_type": "markdown",
   "metadata": {},
   "source": [
    "### Beatriz Loureiro \n",
    "### Giovanni Dalvi\n",
    "### Richard Sousa Antunes"
   ]
  },
  {
   "cell_type": "code",
   "execution_count": null,
   "metadata": {},
   "outputs": [],
   "source": [
    "import sys\n",
    "import importlib\n",
    "sys.path.append('../')\n",
    "import pandas as pd\n",
    "import numpy as np\n",
    "from sklearn.linear_model import LinearRegression, Lasso\n",
    "from sklearn.model_selection import cross_val_score\n",
    "\n",
    "from src.finance_ml.data_preparation.data_preparation import DataLoader\n",
    "from src.finance_ml.cross_validation.cross_validation import CrossValidation"
   ]
  },
  {
   "cell_type": "code",
   "execution_count": null,
   "metadata": {},
   "outputs": [],
   "source": [
    "# Defining time_index_col (must be the same column in all inputs) and keep_cols refering to the columns that will remain in the dataset\n",
    "dataloader = DataLoader(time_index_col= 'DATE', \n",
    "                    keep_cols = ['VOLUME','OPEN', 'HIGHT', 'LOW', 'CLOSE', 'VW','TRANSACTIONS'])"
   ]
  },
  {
   "cell_type": "code",
   "execution_count": null,
   "metadata": {},
   "outputs": [],
   "source": [
    "# Example Files\n",
    "fname_AAPL = 'equities/AAPL_2020-04-07_2022-04-06.parquet'\n",
    "\n",
    "# No. of Records from example dataset\n",
    "N = 30000"
   ]
  },
  {
   "cell_type": "code",
   "execution_count": null,
   "metadata": {},
   "outputs": [],
   "source": [
    "# Dataset chosen in this simulation\n",
    "ticker = 'AAPL'\n",
    "fname = fname_AAPL"
   ]
  },
  {
   "cell_type": "code",
   "execution_count": null,
   "metadata": {},
   "outputs": [],
   "source": [
    "# loading assets into to an unique df\n",
    "df = dataloader.load_dataset({ticker:'../data/'+fname}).iloc[:N]\n",
    "display(df)"
   ]
  },
  {
   "cell_type": "code",
   "execution_count": null,
   "metadata": {},
   "outputs": [],
   "source": [
    "X = df.drop('AAPL_VW', axis=1)\n",
    "Y = df['AAPL_VW']"
   ]
  },
  {
   "cell_type": "code",
   "execution_count": null,
   "metadata": {
    "scrolled": false
   },
   "outputs": [],
   "source": [
    "import warnings\n",
    "warnings.filterwarnings('ignore')\n",
    "\n",
    "CV = CrossValidation(overlap=0.05, embargo_rate = 0.01)\n",
    "\n",
    "for k in range(3):\n",
    "    alpha = (k+1)/10\n",
    "    scores = CV.cross_validation_score(X, Y, Lasso(alpha=alpha), 'mean_squared_error')\n",
    "    print('\\nAlpha: ', alpha,'\\nlista_scores: ', scores, '\\nmédia score: ', np.mean(scores))\n",
    "    scores_classico = -cross_val_score(Lasso(alpha=alpha), X, Y, cv=5, scoring='neg_mean_squared_error')\n",
    "    print('\\nCross-Validation do sklearn: ', scores_classico, '\\nmédia score: ', np.mean(scores_classico))"
   ]
  },
  {
   "cell_type": "code",
   "execution_count": null,
   "metadata": {},
   "outputs": [],
   "source": []
  },
  {
   "cell_type": "code",
   "execution_count": null,
   "metadata": {},
   "outputs": [],
   "source": []
  }
 ],
 "metadata": {
  "kernelspec": {
   "display_name": "Python 3",
   "language": "python",
   "name": "python3"
  },
  "language_info": {
   "codemirror_mode": {
    "name": "ipython",
    "version": 3
   },
   "file_extension": ".py",
   "mimetype": "text/x-python",
   "name": "python",
   "nbconvert_exporter": "python",
   "pygments_lexer": "ipython3",
   "version": "3.8.3"
  }
 },
 "nbformat": 4,
 "nbformat_minor": 4
}
