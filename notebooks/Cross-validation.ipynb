{
 "cells": [
  {
   "cell_type": "code",
   "execution_count": 1,
   "metadata": {},
   "outputs": [],
   "source": [
    "# !pip install pyarrow\n",
    "# !pip install scikit-learn\n",
    "# !pip install numpy==1.23.0 --user"
   ]
  },
  {
   "cell_type": "code",
   "execution_count": 2,
   "metadata": {},
   "outputs": [
    {
     "name": "stderr",
     "output_type": "stream",
     "text": [
      "C:\\Users\\Richa\\AppData\\Roaming\\Python\\Python38\\site-packages\\pandas\\core\\computation\\expressions.py:20: UserWarning: Pandas requires version '2.7.3' or newer of 'numexpr' (version '2.7.1' currently installed).\n",
      "  from pandas.core.computation.check import NUMEXPR_INSTALLED\n"
     ]
    }
   ],
   "source": [
    "import sys\n",
    "import importlib\n",
    "sys.path.append('../')\n",
    "import pandas as pd\n",
    "import numpy as np\n",
    "from sklearn.linear_model import LinearRegression, Lasso\n",
    "import math\n",
    "\n",
    "from src.finance_ml.data_preparation.data_preparation import DataLoader\n",
    "from src.finance_ml.cross_validation.cross_validation import CrossValidation"
   ]
  },
  {
   "cell_type": "code",
   "execution_count": 3,
   "metadata": {},
   "outputs": [],
   "source": [
    "# Defining time_index_col (must be the same column in all inputs) and keep_cols refering to the columns that will remain in the dataset\n",
    "dataloader = DataLoader(time_index_col= 'DATE', \n",
    "                    keep_cols = ['VOLUME','OPEN', 'HIGHT', 'LOW', 'CLOSE', 'VW','TRANSACTIONS'])"
   ]
  },
  {
   "cell_type": "code",
   "execution_count": 4,
   "metadata": {},
   "outputs": [],
   "source": [
    "# Example Files\n",
    "fname_RUBEUR = 'FX/RUBEUR_2020-04-07_2022-04-06.parquet'\n",
    "fname_USDBRL = 'FX/USDBRL_2020-04-07_2022-04-06.parquet'\n",
    "fname_AAPL = 'equities/AAPL_2020-04-07_2022-04-06.parquet'\n",
    "\n",
    "# No. of Records from example dataset\n",
    "N = 15000"
   ]
  },
  {
   "cell_type": "code",
   "execution_count": 5,
   "metadata": {},
   "outputs": [],
   "source": [
    "# Dataset chosen in this simulation\n",
    "ticker = 'AAPL'\n",
    "fname = fname_AAPL"
   ]
  },
  {
   "cell_type": "code",
   "execution_count": 6,
   "metadata": {},
   "outputs": [
    {
     "data": {
      "text/html": [
       "<div>\n",
       "<style scoped>\n",
       "    .dataframe tbody tr th:only-of-type {\n",
       "        vertical-align: middle;\n",
       "    }\n",
       "\n",
       "    .dataframe tbody tr th {\n",
       "        vertical-align: top;\n",
       "    }\n",
       "\n",
       "    .dataframe thead th {\n",
       "        text-align: right;\n",
       "    }\n",
       "</style>\n",
       "<table border=\"1\" class=\"dataframe\">\n",
       "  <thead>\n",
       "    <tr style=\"text-align: right;\">\n",
       "      <th></th>\n",
       "      <th>AAPL_VOLUME</th>\n",
       "      <th>AAPL_OPEN</th>\n",
       "      <th>AAPL_HIGHT</th>\n",
       "      <th>AAPL_LOW</th>\n",
       "      <th>AAPL_CLOSE</th>\n",
       "      <th>AAPL_VW</th>\n",
       "      <th>AAPL_TRANSACTIONS</th>\n",
       "    </tr>\n",
       "    <tr>\n",
       "      <th>DATE</th>\n",
       "      <th></th>\n",
       "      <th></th>\n",
       "      <th></th>\n",
       "      <th></th>\n",
       "      <th></th>\n",
       "      <th></th>\n",
       "      <th></th>\n",
       "    </tr>\n",
       "  </thead>\n",
       "  <tbody>\n",
       "    <tr>\n",
       "      <th>2020-04-07 12:17:00</th>\n",
       "      <td>14256.0</td>\n",
       "      <td>67.3500</td>\n",
       "      <td>67.3625</td>\n",
       "      <td>67.3275</td>\n",
       "      <td>67.3375</td>\n",
       "      <td>67.3454</td>\n",
       "      <td>45</td>\n",
       "    </tr>\n",
       "    <tr>\n",
       "      <th>2020-04-07 12:18:00</th>\n",
       "      <td>16552.0</td>\n",
       "      <td>67.3501</td>\n",
       "      <td>67.3625</td>\n",
       "      <td>67.3250</td>\n",
       "      <td>67.3250</td>\n",
       "      <td>67.3407</td>\n",
       "      <td>57</td>\n",
       "    </tr>\n",
       "    <tr>\n",
       "      <th>2020-04-07 12:19:00</th>\n",
       "      <td>80172.0</td>\n",
       "      <td>67.3250</td>\n",
       "      <td>67.4475</td>\n",
       "      <td>67.3250</td>\n",
       "      <td>67.4225</td>\n",
       "      <td>67.3937</td>\n",
       "      <td>149</td>\n",
       "    </tr>\n",
       "    <tr>\n",
       "      <th>2020-04-07 12:20:00</th>\n",
       "      <td>183740.0</td>\n",
       "      <td>67.4475</td>\n",
       "      <td>67.4700</td>\n",
       "      <td>67.3125</td>\n",
       "      <td>67.3700</td>\n",
       "      <td>67.3671</td>\n",
       "      <td>159</td>\n",
       "    </tr>\n",
       "    <tr>\n",
       "      <th>2020-04-07 12:21:00</th>\n",
       "      <td>35372.0</td>\n",
       "      <td>67.3500</td>\n",
       "      <td>67.3850</td>\n",
       "      <td>67.2975</td>\n",
       "      <td>67.2975</td>\n",
       "      <td>67.3469</td>\n",
       "      <td>102</td>\n",
       "    </tr>\n",
       "    <tr>\n",
       "      <th>...</th>\n",
       "      <td>...</td>\n",
       "      <td>...</td>\n",
       "      <td>...</td>\n",
       "      <td>...</td>\n",
       "      <td>...</td>\n",
       "      <td>...</td>\n",
       "      <td>...</td>\n",
       "    </tr>\n",
       "    <tr>\n",
       "      <th>2020-05-06 10:37:00</th>\n",
       "      <td>3600.0</td>\n",
       "      <td>74.9575</td>\n",
       "      <td>74.9625</td>\n",
       "      <td>74.9575</td>\n",
       "      <td>74.9625</td>\n",
       "      <td>74.9582</td>\n",
       "      <td>16</td>\n",
       "    </tr>\n",
       "    <tr>\n",
       "      <th>2020-05-06 10:38:00</th>\n",
       "      <td>1144.0</td>\n",
       "      <td>74.9550</td>\n",
       "      <td>74.9550</td>\n",
       "      <td>74.9550</td>\n",
       "      <td>74.9550</td>\n",
       "      <td>74.9471</td>\n",
       "      <td>6</td>\n",
       "    </tr>\n",
       "    <tr>\n",
       "      <th>2020-05-06 10:43:00</th>\n",
       "      <td>3652.0</td>\n",
       "      <td>74.9425</td>\n",
       "      <td>74.9500</td>\n",
       "      <td>74.9425</td>\n",
       "      <td>74.9500</td>\n",
       "      <td>74.9466</td>\n",
       "      <td>15</td>\n",
       "    </tr>\n",
       "    <tr>\n",
       "      <th>2020-05-06 10:45:00</th>\n",
       "      <td>4800.0</td>\n",
       "      <td>74.9475</td>\n",
       "      <td>74.9475</td>\n",
       "      <td>74.9450</td>\n",
       "      <td>74.9450</td>\n",
       "      <td>74.9453</td>\n",
       "      <td>7</td>\n",
       "    </tr>\n",
       "    <tr>\n",
       "      <th>2020-05-06 10:46:00</th>\n",
       "      <td>3484.0</td>\n",
       "      <td>74.9450</td>\n",
       "      <td>74.9450</td>\n",
       "      <td>74.9450</td>\n",
       "      <td>74.9450</td>\n",
       "      <td>74.9462</td>\n",
       "      <td>9</td>\n",
       "    </tr>\n",
       "  </tbody>\n",
       "</table>\n",
       "<p>15000 rows × 7 columns</p>\n",
       "</div>"
      ],
      "text/plain": [
       "                     AAPL_VOLUME  AAPL_OPEN  AAPL_HIGHT  AAPL_LOW  AAPL_CLOSE  \\\n",
       "DATE                                                                            \n",
       "2020-04-07 12:17:00      14256.0    67.3500     67.3625   67.3275     67.3375   \n",
       "2020-04-07 12:18:00      16552.0    67.3501     67.3625   67.3250     67.3250   \n",
       "2020-04-07 12:19:00      80172.0    67.3250     67.4475   67.3250     67.4225   \n",
       "2020-04-07 12:20:00     183740.0    67.4475     67.4700   67.3125     67.3700   \n",
       "2020-04-07 12:21:00      35372.0    67.3500     67.3850   67.2975     67.2975   \n",
       "...                          ...        ...         ...       ...         ...   \n",
       "2020-05-06 10:37:00       3600.0    74.9575     74.9625   74.9575     74.9625   \n",
       "2020-05-06 10:38:00       1144.0    74.9550     74.9550   74.9550     74.9550   \n",
       "2020-05-06 10:43:00       3652.0    74.9425     74.9500   74.9425     74.9500   \n",
       "2020-05-06 10:45:00       4800.0    74.9475     74.9475   74.9450     74.9450   \n",
       "2020-05-06 10:46:00       3484.0    74.9450     74.9450   74.9450     74.9450   \n",
       "\n",
       "                     AAPL_VW  AAPL_TRANSACTIONS  \n",
       "DATE                                             \n",
       "2020-04-07 12:17:00  67.3454                 45  \n",
       "2020-04-07 12:18:00  67.3407                 57  \n",
       "2020-04-07 12:19:00  67.3937                149  \n",
       "2020-04-07 12:20:00  67.3671                159  \n",
       "2020-04-07 12:21:00  67.3469                102  \n",
       "...                      ...                ...  \n",
       "2020-05-06 10:37:00  74.9582                 16  \n",
       "2020-05-06 10:38:00  74.9471                  6  \n",
       "2020-05-06 10:43:00  74.9466                 15  \n",
       "2020-05-06 10:45:00  74.9453                  7  \n",
       "2020-05-06 10:46:00  74.9462                  9  \n",
       "\n",
       "[15000 rows x 7 columns]"
      ]
     },
     "metadata": {},
     "output_type": "display_data"
    }
   ],
   "source": [
    "# loading assets into to an unique df\n",
    "df = dataloader.load_dataset({ticker:'../data/'+fname}).iloc[:N]\n",
    "display(df)"
   ]
  },
  {
   "cell_type": "code",
   "execution_count": 7,
   "metadata": {},
   "outputs": [],
   "source": [
    "X = df.drop('AAPL_VW', axis=1)\n",
    "Y = df['AAPL_VW']"
   ]
  },
  {
   "cell_type": "code",
   "execution_count": 8,
   "metadata": {},
   "outputs": [
    {
     "data": {
      "text/plain": [
       "0.008653635099010678"
      ]
     },
     "metadata": {},
     "output_type": "display_data"
    }
   ],
   "source": [
    "import warnings\n",
    "warnings.filterwarnings('ignore')\n",
    "\n",
    "CV = CrossValidation()\n",
    "\n",
    "display(np.mean(CV.cross_validation_score(X, Y, Lasso(alpha=0.1))))\n",
    "# display(np.mean(CV.cross_validation_score(X, Y, Lasso(alpha=0.2))))\n",
    "# display(np.mean(CV.cross_validation_score(X, Y, Lasso(alpha=0.3))))\n",
    "# display(np.mean(CV.cross_validation_score(X, Y, Lasso(alpha=0.4))))\n",
    "# display(np.mean(CV.cross_validation_score(X, Y, Lasso(alpha=0.5))))\n",
    "# display(np.mean(CV.cross_validation_score(X, Y, Lasso(alpha=0.6))))\n",
    "# display(np.mean(CV.cross_validation_score(X, Y, Lasso(alpha=0.7))))\n",
    "# display(np.mean(CV.cross_validation_score(X, Y, Lasso(alpha=0.8))))\n",
    "# display(np.mean(CV.cross_validation_score(X, Y, Lasso(alpha=0.9))))\n",
    "# display(np.mean(CV.cross_validation_score(X, Y, Lasso(alpha=1))))"
   ]
  },
  {
   "cell_type": "code",
   "execution_count": null,
   "metadata": {},
   "outputs": [],
   "source": []
  }
 ],
 "metadata": {
  "kernelspec": {
   "display_name": "Python 3",
   "language": "python",
   "name": "python3"
  },
  "language_info": {
   "codemirror_mode": {
    "name": "ipython",
    "version": 3
   },
   "file_extension": ".py",
   "mimetype": "text/x-python",
   "name": "python",
   "nbconvert_exporter": "python",
   "pygments_lexer": "ipython3",
   "version": "3.8.3"
  }
 },
 "nbformat": 4,
 "nbformat_minor": 4
}
